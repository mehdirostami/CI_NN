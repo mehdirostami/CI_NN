{
 "cells": [
  {
   "cell_type": "code",
   "execution_count": 16,
   "metadata": {},
   "outputs": [
    {
     "name": "stderr",
     "output_type": "stream",
     "text": [
      "/home/mr/anaconda3/lib/python3.6/site-packages/ipykernel_launcher.py:21: FutureWarning:\n",
      "\n",
      "Passing a negative integer is deprecated in version 1.0 and will not be supported in future version. Instead, use None to not limit the column width.\n",
      "\n"
     ]
    }
   ],
   "source": [
    "import numpy as np \n",
    "import pandas as pd\n",
    "import csv\n",
    "from scipy.optimize import fsolve\n",
    "import seaborn as sns\n",
    "import matplotlib.pyplot as plt\n",
    "\n",
    "import os, random\n",
    "import plotly.express as px\n",
    "\n",
    "from rpy2.robjects.packages import importr\n",
    "import rpy2.robjects as ro\n",
    "import rpy2.robjects.numpy2ri\n",
    "rpy2.robjects.numpy2ri.activate()\n",
    "\n",
    "from sklearn.preprocessing import StandardScaler\n",
    "from IPython.display import display, HTML\n",
    "pd.set_option('display.max_rows', None)\n",
    "pd.set_option('display.max_columns', None)\n",
    "pd.set_option('display.width', None)\n",
    "pd.set_option('display.max_colwidth', -1)\n",
    "import re\n",
    "\n",
    "import cvxpy as cp"
   ]
  },
  {
   "cell_type": "code",
   "execution_count": 22,
   "metadata": {},
   "outputs": [
    {
     "data": {
      "text/html": [
       "<div>\n",
       "<style scoped>\n",
       "    .dataframe tbody tr th:only-of-type {\n",
       "        vertical-align: middle;\n",
       "    }\n",
       "\n",
       "    .dataframe tbody tr th {\n",
       "        vertical-align: top;\n",
       "    }\n",
       "\n",
       "    .dataframe thead th {\n",
       "        text-align: right;\n",
       "    }\n",
       "</style>\n",
       "<table border=\"1\" class=\"dataframe\">\n",
       "  <thead>\n",
       "    <tr style=\"text-align: right;\">\n",
       "      <th></th>\n",
       "      <th>zip</th>\n",
       "    </tr>\n",
       "  </thead>\n",
       "  <tbody>\n",
       "    <tr>\n",
       "      <th>0</th>\n",
       "      <td>3453</td>\n",
       "    </tr>\n",
       "    <tr>\n",
       "      <th>1</th>\n",
       "      <td>17459</td>\n",
       "    </tr>\n",
       "    <tr>\n",
       "      <th>2</th>\n",
       "      <td>5787</td>\n",
       "    </tr>\n",
       "    <tr>\n",
       "      <th>3</th>\n",
       "      <td>170481</td>\n",
       "    </tr>\n",
       "    <tr>\n",
       "      <th>4</th>\n",
       "      <td>20573</td>\n",
       "    </tr>\n",
       "  </tbody>\n",
       "</table>\n",
       "</div>"
      ],
      "text/plain": [
       "      zip\n",
       "0  3453  \n",
       "1  17459 \n",
       "2  5787  \n",
       "3  170481\n",
       "4  20573 "
      ]
     },
     "execution_count": 22,
     "metadata": {},
     "output_type": "execute_result"
    }
   ],
   "source": [
    "codes = pd.read_csv('/home/mr/Downloads/zip.csv')\n",
    "codes.head()"
   ]
  },
  {
   "cell_type": "code",
   "execution_count": 23,
   "metadata": {
    "scrolled": true
   },
   "outputs": [],
   "source": [
    "codes['zip'] = ((codes['zip'].astype(int)-11)/2).astype(str)"
   ]
  },
  {
   "cell_type": "code",
   "execution_count": null,
   "metadata": {},
   "outputs": [],
   "source": [
    "import requests\n",
    "import urllib.parse\n",
    "\n",
    "zip_geo = []\n",
    "for z in codes['zip'].values:\n",
    "    url = 'https://nominatim.openstreetmap.org/search/' + urllib.parse.quote(z) +'?format=json'\n",
    "\n",
    "    response = requests.get(url).json()\n",
    "    zip_geo += [z, response[0][\"lat\"], response[0][\"lon\"]]"
   ]
  },
  {
   "cell_type": "code",
   "execution_count": 39,
   "metadata": {},
   "outputs": [],
   "source": [
    "import requests\n",
    "import urllib.parse\n",
    "\n",
    "states = ['AL','AK','AZ','AR','CA','CO','CT','DE','FL','GA','HI','ID','IL','IN','IA','KS','KY','LA','ME','MD','MA','MI','MN','MS','MO','MT','NE','NV','NH','NJ','NM','NY','NC','ND','OH','OK','OR','PA','RI','SC','SD','TN','TX','UT','VT','VA','WA','WV','WI','WY',]\n",
    "for s in states:\n",
    "    address = f'{s} 170481 united states'\n",
    "    url = 'https://nominatim.openstreetmap.org/search/' + urllib.parse.quote(address) +'?format=json'\n",
    "\n",
    "    response = requests.get(url).json()\n",
    "    if len(response):\n",
    "        print(s, response)"
   ]
  },
  {
   "cell_type": "code",
   "execution_count": 40,
   "metadata": {},
   "outputs": [
    {
     "ename": "IndexError",
     "evalue": "list index out of range",
     "output_type": "error",
     "traceback": [
      "\u001b[0;31m---------------------------------------------------------------------------\u001b[0m",
      "\u001b[0;31mIndexError\u001b[0m                                Traceback (most recent call last)",
      "\u001b[0;32m<ipython-input-40-a73c4cb8a3c5>\u001b[0m in \u001b[0;36m<module>\u001b[0;34m\u001b[0m\n\u001b[0;32m----> 1\u001b[0;31m \u001b[0mresponse\u001b[0m\u001b[0;34m[\u001b[0m\u001b[0;36m0\u001b[0m\u001b[0;34m]\u001b[0m\u001b[0;34m\u001b[0m\u001b[0;34m\u001b[0m\u001b[0m\n\u001b[0m",
      "\u001b[0;31mIndexError\u001b[0m: list index out of range"
     ]
    }
   ],
   "source": [
    "response[0]"
   ]
  },
  {
   "cell_type": "code",
   "execution_count": 4,
   "metadata": {},
   "outputs": [],
   "source": [
    "from rpy2.robjects.packages import importr\n",
    "import rpy2.robjects as ro\n",
    "import rpy2.robjects.numpy2ri\n",
    "rpy2.robjects.numpy2ri.activate()\n"
   ]
  },
  {
   "cell_type": "code",
   "execution_count": 3,
   "metadata": {},
   "outputs": [],
   "source": [
    "def save_temporary_data_for_R(yhat1_df, yhat0_df, ps_df, A, y, file_name):\n",
    "    \n",
    "    n = A.shape[0]\n",
    "    \n",
    "    data = pd.DataFrame(columns=['A', 'y'], index=[c for c in range(n)])\n",
    "    \n",
    "    data['A'] = A\n",
    "    data['y'] = y\n",
    "    \n",
    "    data.to_csv('A_y-' + file_name + '.csv', index=False)\n",
    "    ps_df.to_csv('ps-' + file_name + '.csv', index=False)\n",
    "    yhat1_df.to_csv('yhat1-' + file_name + '.csv', index=False)\n",
    "    yhat0_df.to_csv('yhat0-' + file_name + '.csv', index=False)\n",
    "        \n",
    "    return\n",
    "\n",
    "def read_temporary_data_in_R(file_name):\n",
    "    \n",
    "    _ = ro.r(f\"A_y_data <- read.csv('A_y-{file_name}.csv')\")\n",
    "    _ = ro.r(f\"ps_data <- read.csv('ps-{file_name}.csv')\")\n",
    "    _ = ro.r(f\"yhat1_data <- read.csv('yhat1-{file_name}.csv')\")\n",
    "    _ = ro.r(f\"yhat0_data <- read.csv('yhat0-{file_name}.csv')\")\n",
    "\n",
    "    _ = ro.r('A = A_y_data[, 1]')\n",
    "    _ = ro.r('y = A_y_data[, 2]')\n",
    "    _ = ro.r('ps = ps_data')\n",
    "    _ = ro.r('yhat1 = yhat1_data')\n",
    "    _ = ro.r('yhat0 = yhat0_data')\n",
    "    \n",
    "    return\n"
   ]
  },
  {
   "cell_type": "code",
   "execution_count": 4,
   "metadata": {},
   "outputs": [],
   "source": [
    "# g.hat <- matrix(0, n, g.col)\n",
    "\n",
    "# Qs = do.call(cbind, Qs)\n",
    "# ps = do.call(cbind, ps)\n",
    "# g.hat = cbind(Qs, ps)\n",
    "\n",
    "def run_MR_in_R():\n",
    "    _ = ro.r(\"\"\"\n",
    "    MREst.mean <- function(y, T, Qs, ps)\n",
    "    {\n",
    "        ### Important Note: T and ps in the arguments can get values of the control group (that is,\n",
    "        ### if treatment=A, and its predictions are ps_t, we should set T=1-A, and ps=1-ps_t). Also,\n",
    "        ### Qs are the redictions of group A which can be the treated or untreated individuals.\n",
    "        \n",
    "        J <- NCOL(ps)\n",
    "        K <- NCOL(Qs)\n",
    "        g.col <- J + K \n",
    "        n <- length(y)\n",
    "\n",
    "        m <- sum(T) # number of observed subjects\n",
    "        \n",
    "        g.hat = cbind(Qs, ps)\n",
    "        g.hat <- scale(g.hat, center = TRUE, scale = FALSE)[T == 1, ]# Center the predictions\n",
    "        \n",
    "        # define the function to be minimized\n",
    "        Fn <- function(rho, ghat){ -sum(log(1 + ghat %*% rho)) }\n",
    "        Grd <- function(rho, ghat){ -colSums(ghat / c(1 + ghat %*% rho)) }\n",
    "        \n",
    "        # calculate the weights\n",
    "        rho.hat <- constrOptim(theta = rep(0, g.col), \n",
    "                             f = Fn, \n",
    "                             grad = Grd, \n",
    "                             ui = g.hat, \n",
    "                             ci = rep(1 / m - 1, m), \n",
    "                             ghat = g.hat\n",
    "                             )$par\n",
    "        wts <- c(1 / m / (1 + g.hat %*% rho.hat))\n",
    "        normalized_wts <- wts / sum(wts)\n",
    "        estimate <- sum(y[T == 1] * normalized_wts)\n",
    "        return(list(estimate = estimate, weights = normalized_wts))\n",
    "\n",
    "    }\n",
    "    \"\"\")\n",
    "    return\n",
    "    "
   ]
  },
  {
   "cell_type": "code",
   "execution_count": 5,
   "metadata": {},
   "outputs": [],
   "source": [
    "# def MR_var(y, T, normalized_wts, beta_j):\n",
    "#     var = ((T*normalized_wts*y-beta_j)**2).mean()\n",
    "#     return var\n",
    "def MR_var0(y, \n",
    "              T, \n",
    "              u, \n",
    "              v, \n",
    "              beta1,\n",
    "              beta0):\n",
    "    return ((y[T==1]-beta1)**2 * u**2).sum() + ((y[T==0]-beta0)**2 * v**2).sum()\n",
    "\n",
    "# def MR_var1(y, \n",
    "#               T, \n",
    "#               u, \n",
    "#               v, \n",
    "#               beta_hat):\n",
    "#     return (((T * u - (1-T) * v) * y - beta_hat)**2).mean()\n",
    "\n",
    "# def MR_var2(y, \n",
    "#               T, \n",
    "#               Q1,\n",
    "#               Q0,\n",
    "#               g,\n",
    "#               beta_hat):\n",
    "#     return (Q1 - Q0).var() + ((y[T==1]).var()/g[T==1]).mean() + ((y[T==0]).var()/(1-g[T==0])).mean()\n",
    "\n",
    "# def MR_var3(y, \n",
    "#               T, \n",
    "#               u, \n",
    "#               v, \n",
    "#               beta_hat):\n",
    "#     return (y[T==1]**2 * u).mean() + (y[T==0]**2 * v).mean() - beta_hat**2\n",
    "\n",
    "# def MR_var4(y, \n",
    "#               T, \n",
    "#               u, \n",
    "#               v, \n",
    "#               beta1,\n",
    "#               beta0):\n",
    "#     return ((y[T==1]-beta1)**2 * u).mean() + ((y[T==0]-beta0)**2 * v).mean()"
   ]
  },
  {
   "cell_type": "code",
   "execution_count": 6,
   "metadata": {},
   "outputs": [],
   "source": [
    "def MR(y, A, yhat1_df, yhat0_df, ps_df, temporary_csv_name):\n",
    "    \n",
    "    run_MR_in_R()\n",
    "    \n",
    "    save_temporary_data_for_R(yhat1_df, yhat0_df, ps_df, A, y, file_name=temporary_csv_name)\n",
    "    read_temporary_data_in_R(temporary_csv_name)\n",
    "    \n",
    "    uuu = importr(\"MultiRobust\")\n",
    "    ro.r('library(\"MultiRobust\")')\n",
    "\n",
    "    ro.r('result <- MREst.mean(y=y, T=A, Qs=yhat1, ps=ps)')\n",
    "    beta1 = np.array(ro.r(\"result$estimate\"))[0]\n",
    "    normalized_wts1 = np.array(ro.r(\"result$weights\"))[0]\n",
    "\n",
    "    ro.r('result_ <- MREst.mean(y=y, T=1-A, Qs=yhat0, ps=1-ps)')\n",
    "    beta0 = np.array(ro.r(\"result_$estimate\"))[0]\n",
    "    normalized_wts0 = np.array(ro.r(\"result_$weights\"))[0]\n",
    "              \n",
    "    var0 = MR_var0(y=y, \n",
    "                  T=A, \n",
    "                  u=normalized_wts1, \n",
    "                  v=normalized_wts0, \n",
    "                  beta1=beta1,\n",
    "                  beta0 = beta0\n",
    "                )\n",
    "    \n",
    "#     var1 = MR_var1(y=y, \n",
    "#                   T=A, \n",
    "#                   u=normalized_wts1, \n",
    "#                   v=normalized_wts0, \n",
    "#                   beta_hat=beta1 - beta0\n",
    "#                 )\n",
    "    \n",
    "#     var2 = MR_var2(y=y, \n",
    "#                   T=A,  \n",
    "#                   Q1=yhat1_df,\n",
    "#                   Q0=yhat0_df,\n",
    "#                   g=ps_df,\n",
    "#                   beta_hat=beta1 - beta0\n",
    "#                 )\n",
    "    \n",
    "#     var3 = MR_var3(y=y, \n",
    "#                   T=A, \n",
    "#                   u=normalized_wts1, \n",
    "#                   v=normalized_wts0, \n",
    "#                   beta_hat=beta1 - beta0\n",
    "#                 )\n",
    "    \n",
    "#     var4 = MR_var4(y=y, \n",
    "#                   T=A, \n",
    "#                   u=normalized_wts1, \n",
    "#                   v=normalized_wts0, \n",
    "#                   beta1=beta1,\n",
    "#                   beta0=beta0\n",
    "#                 )\n",
    "        \n",
    "#     return beta1 - beta0, np.sqrt(var0), np.sqrt(var1), np.sqrt(var2), np.sqrt(var3), np.sqrt(var4)\n",
    "    return beta1 - beta0, np.sqrt(var0)"
   ]
  },
  {
   "cell_type": "code",
   "execution_count": null,
   "metadata": {},
   "outputs": [],
   "source": []
  },
  {
   "cell_type": "code",
   "execution_count": 7,
   "metadata": {},
   "outputs": [],
   "source": [
    "def mr_bootstrap(y, A, yhat1_df, yhat0_df, ps_df, temporary_csv_name, b=1000):\n",
    "    \n",
    "    N = yhat1_df.shape[1]\n",
    "    estimates = []\n",
    "    \n",
    "    for i in range(b):\n",
    "        \n",
    "        random_cols_yhat1 = random.choices(list(yhat1_df.columns), k=N)\n",
    "        random_cols_yhat0 = random.choices(list(yhat0_df.columns), k=N)\n",
    "        random_cols_ps = random.choices(list(ps_df.columns), k=N)\n",
    "        \n",
    "        estimates += [MR(y=y, \n",
    "                         A=A, \n",
    "                         yhat1_df=yhat1_df[random_cols_yhat1],\n",
    "                         yhat0_df=yhat0_df[random_cols_yhat0], \n",
    "                         ps_df=ps_df[random_cols_ps], \n",
    "                         temporary_csv_name='temporary-MR-data')\n",
    "                     ]\n",
    "    estimates = pd.Series(estimates)\n",
    "    \n",
    "    return estimates.quantile(.025), estimates.quantile(.975), estimates.std()\n"
   ]
  },
  {
   "cell_type": "code",
   "execution_count": 8,
   "metadata": {},
   "outputs": [],
   "source": [
    "def nIPW_var(y, \n",
    "             T, \n",
    "             g, \n",
    "             beta1,\n",
    "             beta0):\n",
    "    n = y.shape[0]\n",
    "    var = ((((y[T==1]-beta1)/g[T==1])**2).sum() + (((y[T==0]-beta0)/(1-g[T==0]))**2).sum())/n**2\n",
    "    return var\n",
    "\n",
    "def IPW_var(y, \n",
    "             T, \n",
    "             g, \n",
    "             beta1,\n",
    "             beta0):\n",
    "    n = y.shape[0]\n",
    "    var = (((T * y/g) - ((1-T)*y/(1-g)) - (beta1 - beta0))**2).sum()/n**2\n",
    "#     var = (((T * y**2/g) - ((1-T) * y**2/(1-g)) - (beta1 - beta0)**2)).mean()/n\n",
    "    \n",
    "    return var"
   ]
  },
  {
   "cell_type": "code",
   "execution_count": 9,
   "metadata": {},
   "outputs": [],
   "source": [
    "def nIPW(y, \n",
    "          T, \n",
    "          g):\n",
    "    \n",
    "    beta1 = (y[T==1]/g[T==1]).sum()\n",
    "    w1 = (1/g[T==1]).sum()\n",
    "    beta1 = beta1/w1\n",
    "    \n",
    "    beta0 = (y[T==0]/g[T==0]).sum()\n",
    "    w0 = (1/g[T==0]).sum()\n",
    "    beta0 = beta0/w0\n",
    "    \n",
    "    est = beta1 - beta0\n",
    "    \n",
    "    var = nIPW_var(y, T, g, beta1, beta0)\n",
    "    \n",
    "    return est, np.sqrt(var)"
   ]
  },
  {
   "cell_type": "code",
   "execution_count": 10,
   "metadata": {},
   "outputs": [],
   "source": [
    "def naive(y, T):\n",
    "    return (y * T).mean() - (y * (1-T)).mean(), 0"
   ]
  },
  {
   "cell_type": "code",
   "execution_count": 11,
   "metadata": {},
   "outputs": [],
   "source": [
    "def IPW(y, \n",
    "          T, \n",
    "          g,):\n",
    "    \n",
    "    n = y.shape[0]\n",
    "    \n",
    "    beta1 = (T*y/g).mean()\n",
    "    beta0 = ((1-T)*y/(1-g)).mean()\n",
    "    \n",
    "    est = beta1 - beta0\n",
    "    \n",
    "    var = IPW_var(y, T, g, beta1, beta0)\n",
    "    \n",
    "    return est, np.sqrt(var)"
   ]
  },
  {
   "cell_type": "code",
   "execution_count": 12,
   "metadata": {},
   "outputs": [],
   "source": [
    "def AIPW(y, A, Q0, Q1, g):\n",
    "    n = y.shape[0]\n",
    "    \n",
    "    w1 = 1. / g \n",
    "    w0 = 1. / (1 - g)\n",
    "\n",
    "    r1 = (A * y - Q1 * (A - g)) * w1\n",
    "    r0 = ((1 - A) * y + Q0 * (A - g)) * w0\n",
    "    \n",
    "    est = np.mean(r1) - np.mean(r0)\n",
    "    \n",
    "    I = (((A * y - Q1 * (A-g)) * w1 - ((1-A) * y + Q0 * (A-g))* w0) - est)\n",
    "    \n",
    "    var = np.dot(I.T, I)/n**2\n",
    "    \n",
    "    return est, np.sqrt(var)"
   ]
  },
  {
   "cell_type": "code",
   "execution_count": 13,
   "metadata": {},
   "outputs": [],
   "source": [
    "def nAIPW(y, A, Q0, Q1, g):\n",
    "\n",
    "    n = y.shape[0]\n",
    "    w1 = 1. / g \n",
    "    w0 = 1. / (1 - g)\n",
    "\n",
    "    r1 = A * (y - Q1) * w1\n",
    "    r0 = (1 - A) * (y - Q0) * w0\n",
    "    \n",
    "    s1 = np.sum(r1)/np.sum(A * w1)\n",
    "    s0 = np.sum(r0)/np.sum((1-A) * w0)\n",
    "    \n",
    "    SR_est = Q1.mean() - Q0.mean()\n",
    "    nDR_est = (s1 - s0) + SR_est\n",
    "\n",
    "    # I = (((A * (y - Q1)) * w1/np.sum(A * w1) - ((1-A) * (y - Q0) )* w0/np.sum((1-A) * w0)) + (SR_est - nDR_est)/n).reshape(-1, 1)    \n",
    "    I = (((A * (y - Q1)) * w1/np.sum(A * w1) - ((1-A) * (y - Q0) )* w0/np.sum((1-A) * w0)) + (SR_est - nDR_est)/n)   \n",
    "    \n",
    "    var = np.dot(I.T, I)\n",
    "    \n",
    "    return nDR_est, np.sqrt(var)"
   ]
  },
  {
   "cell_type": "code",
   "execution_count": 14,
   "metadata": {
    "scrolled": true
   },
   "outputs": [
    {
     "data": {
      "text/html": [
       "<div>\n",
       "<style scoped>\n",
       "    .dataframe tbody tr th:only-of-type {\n",
       "        vertical-align: middle;\n",
       "    }\n",
       "\n",
       "    .dataframe tbody tr th {\n",
       "        vertical-align: top;\n",
       "    }\n",
       "\n",
       "    .dataframe thead th {\n",
       "        text-align: right;\n",
       "    }\n",
       "</style>\n",
       "<table border=\"1\" class=\"dataframe\">\n",
       "  <thead>\n",
       "    <tr style=\"text-align: right;\">\n",
       "      <th></th>\n",
       "      <th>n</th>\n",
       "      <th>p</th>\n",
       "      <th>r3</th>\n",
       "      <th>r4</th>\n",
       "      <th>niter</th>\n",
       "      <th>naive_oracle_only</th>\n",
       "      <th>se_naive_oracle_only</th>\n",
       "      <th>IPW_oracle_only</th>\n",
       "      <th>se_IPW_oracle_only</th>\n",
       "      <th>nIPW_oracle_only</th>\n",
       "      <th>se_nIPW_oracle_only</th>\n",
       "      <th>AIPW_oracle_only</th>\n",
       "      <th>se_AIPW_oracle_only</th>\n",
       "      <th>nAIPW_oracle_only</th>\n",
       "      <th>se_nAIPW_oracle_only</th>\n",
       "    </tr>\n",
       "  </thead>\n",
       "  <tbody>\n",
       "    <tr>\n",
       "      <th>0</th>\n",
       "      <td>750</td>\n",
       "      <td>32</td>\n",
       "      <td>0.01</td>\n",
       "      <td>0.01</td>\n",
       "      <td>1</td>\n",
       "      <td>0.597434</td>\n",
       "      <td>0</td>\n",
       "      <td>1.072028</td>\n",
       "      <td>0.132184</td>\n",
       "      <td>1.074442</td>\n",
       "      <td>0.071117</td>\n",
       "      <td>1.068384</td>\n",
       "      <td>0.071563</td>\n",
       "      <td>1.068422</td>\n",
       "      <td>0.071292</td>\n",
       "    </tr>\n",
       "    <tr>\n",
       "      <th>1</th>\n",
       "      <td>750</td>\n",
       "      <td>32</td>\n",
       "      <td>0.01</td>\n",
       "      <td>0.01</td>\n",
       "      <td>2</td>\n",
       "      <td>0.504450</td>\n",
       "      <td>0</td>\n",
       "      <td>1.130182</td>\n",
       "      <td>0.131143</td>\n",
       "      <td>1.113204</td>\n",
       "      <td>0.073111</td>\n",
       "      <td>1.105327</td>\n",
       "      <td>0.074091</td>\n",
       "      <td>1.105530</td>\n",
       "      <td>0.073609</td>\n",
       "    </tr>\n",
       "    <tr>\n",
       "      <th>2</th>\n",
       "      <td>750</td>\n",
       "      <td>32</td>\n",
       "      <td>0.01</td>\n",
       "      <td>0.01</td>\n",
       "      <td>3</td>\n",
       "      <td>0.469689</td>\n",
       "      <td>0</td>\n",
       "      <td>0.987241</td>\n",
       "      <td>0.136292</td>\n",
       "      <td>0.983411</td>\n",
       "      <td>0.072870</td>\n",
       "      <td>0.987426</td>\n",
       "      <td>0.073329</td>\n",
       "      <td>0.987153</td>\n",
       "      <td>0.072557</td>\n",
       "    </tr>\n",
       "    <tr>\n",
       "      <th>3</th>\n",
       "      <td>750</td>\n",
       "      <td>32</td>\n",
       "      <td>0.01</td>\n",
       "      <td>0.01</td>\n",
       "      <td>4</td>\n",
       "      <td>0.521065</td>\n",
       "      <td>0</td>\n",
       "      <td>0.971177</td>\n",
       "      <td>0.137942</td>\n",
       "      <td>0.949435</td>\n",
       "      <td>0.073613</td>\n",
       "      <td>0.954722</td>\n",
       "      <td>0.074469</td>\n",
       "      <td>0.954700</td>\n",
       "      <td>0.073053</td>\n",
       "    </tr>\n",
       "    <tr>\n",
       "      <th>4</th>\n",
       "      <td>750</td>\n",
       "      <td>32</td>\n",
       "      <td>0.01</td>\n",
       "      <td>0.01</td>\n",
       "      <td>5</td>\n",
       "      <td>0.498870</td>\n",
       "      <td>0</td>\n",
       "      <td>1.078478</td>\n",
       "      <td>0.134155</td>\n",
       "      <td>1.078914</td>\n",
       "      <td>0.072678</td>\n",
       "      <td>1.060621</td>\n",
       "      <td>0.072379</td>\n",
       "      <td>1.060592</td>\n",
       "      <td>0.071413</td>\n",
       "    </tr>\n",
       "  </tbody>\n",
       "</table>\n",
       "</div>"
      ],
      "text/plain": [
       "     n   p    r3    r4  niter  naive_oracle_only  se_naive_oracle_only  \\\n",
       "0  750  32  0.01  0.01  1      0.597434           0                      \n",
       "1  750  32  0.01  0.01  2      0.504450           0                      \n",
       "2  750  32  0.01  0.01  3      0.469689           0                      \n",
       "3  750  32  0.01  0.01  4      0.521065           0                      \n",
       "4  750  32  0.01  0.01  5      0.498870           0                      \n",
       "\n",
       "   IPW_oracle_only  se_IPW_oracle_only  nIPW_oracle_only  se_nIPW_oracle_only  \\\n",
       "0  1.072028         0.132184            1.074442          0.071117              \n",
       "1  1.130182         0.131143            1.113204          0.073111              \n",
       "2  0.987241         0.136292            0.983411          0.072870              \n",
       "3  0.971177         0.137942            0.949435          0.073613              \n",
       "4  1.078478         0.134155            1.078914          0.072678              \n",
       "\n",
       "   AIPW_oracle_only  se_AIPW_oracle_only  nAIPW_oracle_only  \\\n",
       "0  1.068384          0.071563             1.068422            \n",
       "1  1.105327          0.074091             1.105530            \n",
       "2  0.987426          0.073329             0.987153            \n",
       "3  0.954722          0.074469             0.954700            \n",
       "4  1.060621          0.072379             1.060592            \n",
       "\n",
       "   se_nAIPW_oracle_only  \n",
       "0  0.071292              \n",
       "1  0.073609              \n",
       "2  0.072557              \n",
       "3  0.073053              \n",
       "4  0.071413              "
      ]
     },
     "execution_count": 14,
     "metadata": {},
     "output_type": "execute_result"
    }
   ],
   "source": [
    "temp_results1 = []\n",
    "\n",
    "r3 = 0.01\n",
    "r4 = 0.01\n",
    "r1, r2 = 0, 0\n",
    "\n",
    "nonlin_portion = .3\n",
    "True_TE = 1\n",
    "\n",
    "mr_estimates = []\n",
    "\n",
    "for n, p in [(750, 32), (7500, 300)]:\n",
    "        \n",
    "    for niter in range(1, 101):\n",
    "        try:\n",
    "#         if True:\n",
    "            filename = \"/home/mr/PhD/Causality in AI/Sim2022/featureImp_dim{}_{}_r_{}_{}/KfoldQ_ps_nns{}.csv\"\\\n",
    "                                                                    .format(n, p, r3, r4, niter)\n",
    "\n",
    "            data = pd.read_csv(filename)\n",
    "\n",
    "            naive_oracle_only, se_naive_oracle_only = naive(y=data['y'], \n",
    "                                                           T=data['A']\n",
    "                                                         )\n",
    "            \n",
    "            IPW_oracle_only, se_IPW_oracle_only = IPW(y=data['y'], \n",
    "                                                          T=data['A'], \n",
    "                                                          g=data['ps_oracle']\n",
    "                                                         )\n",
    "            nIPW_oracle_only, se_nIPW_oracle_only = nIPW(y=data['y'], \n",
    "                                                          T=data['A'], \n",
    "                                                          g=data['ps_oracle']\n",
    "                                                         )\n",
    "            \n",
    "            \n",
    "            AIPW_oracle_only, se_AIPW_oracle_only = AIPW(y=data['y'], \n",
    "                                                          A=data['A'], \n",
    "                                                          Q1 = data['oracle_yhat1'],\n",
    "                                                          Q0 = data['oracle_yhat0'],\n",
    "                                                          g=data['ps_oracle']\n",
    "                                                         )\n",
    "            nAIPW_oracle_only, se_nAIPW_oracle_only = nAIPW(y=data['y'], \n",
    "                                                          A=data['A'], \n",
    "                                                          Q1 = data['oracle_yhat1'],\n",
    "                                                          Q0 = data['oracle_yhat0'],\n",
    "                                                          g=data['ps_oracle']\n",
    "                                                         )\n",
    "            \n",
    "            mr_estimates += [(n, p, r3, r4, niter, \n",
    "                              naive_oracle_only, se_naive_oracle_only,\n",
    "                              IPW_oracle_only, se_IPW_oracle_only,\n",
    "                              nIPW_oracle_only, se_nIPW_oracle_only,\n",
    "                              AIPW_oracle_only, se_AIPW_oracle_only,\n",
    "                              nAIPW_oracle_only, se_nAIPW_oracle_only,\n",
    "                             )]\n",
    "        except:\n",
    "            print(filename)\n",
    "\n",
    "mr_estimates_nIPW = pd.DataFrame(mr_estimates,\n",
    "                            columns = [\n",
    "                                        'n', 'p', 'r3', 'r4', 'niter', \n",
    "                                        'naive_oracle_only', 'se_naive_oracle_only',\n",
    "                                        'IPW_oracle_only', 'se_IPW_oracle_only',\n",
    "                                        'nIPW_oracle_only', 'se_nIPW_oracle_only',\n",
    "                                        'AIPW_oracle_only', 'se_AIPW_oracle_only',\n",
    "                                        'nAIPW_oracle_only', 'se_nAIPW_oracle_only',\n",
    "                                    ]\n",
    "                           )\n",
    "mr_estimates_nIPW.head()"
   ]
  },
  {
   "cell_type": "code",
   "execution_count": null,
   "metadata": {},
   "outputs": [],
   "source": [
    "    "
   ]
  },
  {
   "cell_type": "code",
   "execution_count": 28,
   "metadata": {
    "scrolled": false
   },
   "outputs": [
    {
     "data": {
      "application/vnd.plotly.v1+json": {
       "config": {
        "plotlyServerURL": "https://plot.ly"
       },
       "data": [
        {
         "line": {
          "color": "red"
         },
         "name": "True effect",
         "showlegend": true,
         "type": "scatter",
         "x": [
          "nIPW"
         ],
         "xaxis": "x",
         "y": [
          1
         ],
         "yaxis": "y"
        },
        {
         "marker": {
          "color": "blue"
         },
         "name": "nIPW",
         "showlegend": true,
         "type": "box",
         "xaxis": "x",
         "y": [
          1.0744417273689248,
          1.113203797692687,
          0.9834109085958576,
          0.9494351643556829,
          1.0789144422487684,
          1.0030327288839218,
          1.1372467739707295,
          0.9522074254890744,
          0.9568274701417103,
          0.9885892213192633,
          0.9734576509319992,
          0.9531067776597257,
          1.051725788532209,
          0.9076587672711387,
          1.042511219783574,
          0.9482918320719833,
          1.0019108923487234,
          1.026301355249717,
          0.8749254737821655,
          1.067547518343841,
          1.0597297941684363,
          0.9364050728120179,
          0.990169154628861,
          0.9645197308189704,
          0.9761759085834099,
          0.9468855946974934,
          0.8952026216737194,
          0.9889131804258946,
          1.1231777396708034,
          1.0522907419330267,
          1.0439448144933898,
          0.9923745302193129,
          1.1739552453442479,
          1.0406551924803988,
          1.0936738968590252,
          1.1027205040561063,
          0.9947906080330284,
          0.9663749547913796,
          0.907860972909464,
          0.9673304480733578,
          0.986767817331099,
          0.9581120703658448,
          1.0095921916796253,
          1.0439391648016385,
          1.0120674188176944,
          0.9750029952594146,
          1.031478203441427,
          1.0414610262002437,
          1.0819053696412093,
          0.9764246612968592,
          0.8969160398742897,
          0.9898904496793692,
          0.9990180828072054,
          0.9601378174181421,
          1.028280601525073,
          0.9966644055700622,
          0.9185278426712544,
          1.1043973164476772,
          1.0346285278969174,
          1.020022190391932,
          0.9792725068032719,
          0.9776821785720786,
          1.05571684784714,
          0.992494176855569,
          0.9780779812600039,
          1.064080144514378,
          1.1145362199431081,
          0.9940327953880914,
          0.8886457136647372,
          1.1709590044492695,
          0.9546750058034439,
          1.0323762946653632,
          1.162426399753643,
          1.0159861371081471,
          0.9409598251213633,
          1.0356704485225787,
          0.9705045758904297,
          0.9075958009760001,
          1.1418812920455035,
          1.1163736861053795,
          0.9947516783131423,
          0.9944734012451472,
          0.9299671359478704,
          1.060507372203535,
          0.8210934165765569,
          1.0176654925949968,
          0.8537381104464545,
          1.061567187065563,
          0.8795882770659462,
          1.0405890523174532,
          1.143208813761913,
          0.8992825938728937,
          1.1200763675693213,
          0.8790103067737385,
          1.086979828687828,
          0.9824849448726105,
          0.934200300400529,
          0.9930527902285833,
          0.9995117464834729,
          1.1290986474658857
         ],
         "yaxis": "y"
        },
        {
         "line": {
          "color": "red"
         },
         "name": "True effect",
         "showlegend": false,
         "type": "scatter",
         "x": [
          "nIPW"
         ],
         "xaxis": "x2",
         "y": [
          1
         ],
         "yaxis": "y2"
        },
        {
         "marker": {
          "color": "blue"
         },
         "name": "nIPW",
         "showlegend": false,
         "type": "box",
         "xaxis": "x2",
         "y": [
          1.0051240700989994,
          0.9641702644280721,
          0.9746885298432679,
          0.9846517740376977,
          0.9981021006321824,
          1.044629266575916,
          1.0563384513118939,
          0.9963289697757794,
          1.0190146333204715,
          0.9783757410920058,
          0.9913065912486174,
          1.016864464558648,
          1.0375705149171646,
          1.0334693617814812,
          1.0168850870883968,
          0.9929414784443882,
          0.9832622051181559,
          1.0084045265568822,
          0.9705465624361591,
          1.0126769006471001,
          0.9566509621731181,
          0.9826707726814836,
          1.014972018552872,
          0.9949701607419352,
          1.0286639996068891,
          0.9379001888994238,
          1.0347249180301648,
          0.9655586873470592,
          0.9921443276414648,
          1.0237596895453813,
          0.962034258375646,
          1.0285212067298932,
          1.0313746861717679,
          1.006084238003044,
          1.0131325493740944,
          0.9542233798395383,
          0.985275272444913,
          1.0008129106656651,
          1.0126159857839672,
          1.0017850424763628,
          0.9470851389645736,
          1.0037566956734285,
          0.9952949111626137,
          1.0040603336457474,
          0.9755134407110546,
          0.9628758899876926,
          0.9879345025813167,
          0.9713419947043374,
          0.9868047540850835,
          1.0341700321933247,
          0.9803417532860488,
          1.0173847310447197,
          0.9949394912348195,
          1.0455691939541838,
          1.000815714387857,
          0.9777858921772622,
          0.9774861368091561,
          0.9667162267740106,
          0.9260739768102138,
          1.020731221729335,
          1.0018068876854245,
          0.9780430898160926,
          1.0194556528263186,
          1.0084345958476817,
          0.9990334157330277,
          1.0031495362139982,
          0.9886675181887135,
          0.9759028774766076,
          1.0086182988396994,
          1.0209492718784392,
          1.031475783863504,
          0.9789522713193914,
          0.9603146964449796,
          0.9962968754999377,
          1.003184731085101,
          1.0244762764273672,
          1.0044285903613237,
          1.012532977656144,
          0.9984569848441901,
          1.0362063609173469,
          1.0126938471898908,
          0.9991643645112748,
          1.0281997537990093,
          1.0230856924915985,
          0.998713339084385,
          0.9512057886769401,
          1.0263904383407305,
          1.003954819736623,
          0.9848470689677982,
          1.0166604658205416,
          0.9725043476301234,
          1.028904639568252,
          1.0483448278730945,
          1.0228179493072378,
          0.9936976309791195,
          0.9893634477981554,
          0.983604957805807,
          1.0199088585738145,
          0.9840274349950038,
          1.0609778559531757
         ],
         "yaxis": "y2"
        },
        {
         "line": {
          "color": "black"
         },
         "name": "True nIPW-MC std",
         "showlegend": true,
         "type": "scatter",
         "x": [
          "nIPW"
         ],
         "xaxis": "x3",
         "y": [
          0.07450778262406071
         ],
         "yaxis": "y3"
        },
        {
         "marker": {
          "color": "cyan"
         },
         "name": "nIPW",
         "showlegend": true,
         "type": "box",
         "xaxis": "x3",
         "y": [
          0.07111696498833371,
          0.07311087740015196,
          0.07286982440589893,
          0.0736133171936229,
          0.07267811715526315,
          0.07199975781609345,
          0.0757184687901603,
          0.07637604380529789,
          0.0765139395431095,
          0.07275642483304012,
          0.0731480097371264,
          0.07498334276953578,
          0.07149623564052268,
          0.07587004604524882,
          0.07739796922565512,
          0.07221951940445917,
          0.07829538235827964,
          0.0784311005657243,
          0.07221791175050606,
          0.07335242798972656,
          0.07231487199395797,
          0.07194462374612368,
          0.07440623675007732,
          0.07642420966345344,
          0.07362096580947862,
          0.07293491432422017,
          0.07473516716402423,
          0.07106831974960802,
          0.07407031752889769,
          0.07052698846494475,
          0.07782778983320934,
          0.07611112148072394,
          0.07224605354615052,
          0.07195965283228078,
          0.07218765930163355,
          0.07798780074584043,
          0.07554918278668779,
          0.07371524834724338,
          0.07673809097954713,
          0.07331430986058876,
          0.07399751479622214,
          0.07717207731126063,
          0.07248435676180896,
          0.07798791723701735,
          0.07350866448467583,
          0.07387192095003138,
          0.07740137707865372,
          0.07486227245353749,
          0.07188557106460829,
          0.07392852686833203,
          0.07766021766957559,
          0.0749383227332157,
          0.08035593618242734,
          0.07281286071606421,
          0.0748519694976321,
          0.06978685595890476,
          0.07708120733203222,
          0.07338761826232869,
          0.0739172447494283,
          0.07816136983772973,
          0.07618790647203501,
          0.07336391517762811,
          0.07225591186145851,
          0.07450206187712105,
          0.07386692976339151,
          0.07484452435229938,
          0.07203263886069504,
          0.07653825987554325,
          0.08075805360514368,
          0.0750853621422271,
          0.07386426538403605,
          0.07483554085242514,
          0.07158865009184395,
          0.07108637379342495,
          0.07495579589703703,
          0.07265278399230389,
          0.07412026405796239,
          0.0752255579859936,
          0.07153704374480808,
          0.07279617741631923,
          0.07661184135780993,
          0.07514136271147294,
          0.074590012319886,
          0.0769541204137065,
          0.0747795311142458,
          0.0705143938328514,
          0.07302666098328396,
          0.07655511210882844,
          0.07111317143605966,
          0.07583258359240568,
          0.07462228755582227,
          0.07220267085845568,
          0.07606450321971077,
          0.075531993867341,
          0.0721998826274526,
          0.0728164889549067,
          0.07510029158822154,
          0.07866444208447959,
          0.07581298096784868,
          0.0767778537163611
         ],
         "yaxis": "y3"
        },
        {
         "line": {
          "color": "black"
         },
         "name": "True nIPW",
         "showlegend": false,
         "type": "scatter",
         "x": [
          "nIPW"
         ],
         "xaxis": "x4",
         "y": [
          0.026286671919468558
         ],
         "yaxis": "y4"
        },
        {
         "marker": {
          "color": "cyan"
         },
         "name": "nIPW",
         "showlegend": false,
         "type": "box",
         "xaxis": "x4",
         "y": [
          0.023486769597574533,
          0.023331281686386655,
          0.023493637807469228,
          0.02395532065246086,
          0.02327269007259723,
          0.023343352776236687,
          0.023344727131157563,
          0.023137850158194917,
          0.022922518854688108,
          0.023117214600095224,
          0.023598088628640948,
          0.023505692689804215,
          0.023655319923784793,
          0.023667518453870714,
          0.023780491695850562,
          0.023127154580106987,
          0.02343855642097354,
          0.02335459686974826,
          0.02340949463475266,
          0.023813432772777917,
          0.02324523843769002,
          0.023635426977103385,
          0.0234130825088505,
          0.0237958240658649,
          0.023135240414566695,
          0.023275288005627327,
          0.023492723397748695,
          0.023426502016766007,
          0.02346684126696303,
          0.02364774696452293,
          0.02317109974361308,
          0.023457440944750784,
          0.023573562953419266,
          0.023302933082148713,
          0.023370312497816702,
          0.023607890546524755,
          0.023256385964306462,
          0.023434433860672187,
          0.023494531882388606,
          0.023181661209010742,
          0.02325758552075171,
          0.02331248736691399,
          0.023707285066217738,
          0.023832758056254167,
          0.02321250650826562,
          0.023570020380757964,
          0.023357462073475343,
          0.022987350917187604,
          0.022956968945850493,
          0.02308927389532904,
          0.02339894410535095,
          0.023466105386345373,
          0.0235754556398943,
          0.023457882201481838,
          0.023607489168852698,
          0.023379244820322935,
          0.023488173973373546,
          0.02347163920649465,
          0.02339998663000416,
          0.023848756933973283,
          0.023317869578431603,
          0.02345778613331859,
          0.023593587638107916,
          0.02352655260155975,
          0.023216562070553358,
          0.02361505138955191,
          0.023686372381142698,
          0.023424817361071663,
          0.02352535982192978,
          0.023280779228365533,
          0.023325689965498237,
          0.023357629003985216,
          0.023346421452224007,
          0.023514195096560348,
          0.02344025982249142,
          0.023418479205569834,
          0.023681635875408783,
          0.02373047538467875,
          0.02351164760102473,
          0.023550058406223002,
          0.023156461037874488,
          0.023464612410502607,
          0.02356010241115371,
          0.023565328303216355,
          0.023405021310539786,
          0.02326227529053812,
          0.023570969681526784,
          0.02317099005862444,
          0.02324054662659434,
          0.02357098647379671,
          0.023782957512408096,
          0.023445142877480497,
          0.023302088563431692,
          0.023220305048390694,
          0.02359361038707865,
          0.023592109471566904,
          0.023647755706171794,
          0.023386247548594016,
          0.02344245864371811,
          0.02316187746941951
         ],
         "yaxis": "y4"
        }
       ],
       "layout": {
        "annotations": [
         {
          "font": {
           "size": 16
          },
          "showarrow": false,
          "text": "n=750, p=32",
          "x": 0.225,
          "xanchor": "center",
          "xref": "paper",
          "y": 1,
          "yanchor": "bottom",
          "yref": "paper"
         },
         {
          "font": {
           "size": 16
          },
          "showarrow": false,
          "text": "n=7500, p=300",
          "x": 0.775,
          "xanchor": "center",
          "xref": "paper",
          "y": 1,
          "yanchor": "bottom",
          "yref": "paper"
         }
        ],
        "height": 600,
        "template": {
         "data": {
          "bar": [
           {
            "error_x": {
             "color": "#2a3f5f"
            },
            "error_y": {
             "color": "#2a3f5f"
            },
            "marker": {
             "line": {
              "color": "#E5ECF6",
              "width": 0.5
             },
             "pattern": {
              "fillmode": "overlay",
              "size": 10,
              "solidity": 0.2
             }
            },
            "type": "bar"
           }
          ],
          "barpolar": [
           {
            "marker": {
             "line": {
              "color": "#E5ECF6",
              "width": 0.5
             },
             "pattern": {
              "fillmode": "overlay",
              "size": 10,
              "solidity": 0.2
             }
            },
            "type": "barpolar"
           }
          ],
          "carpet": [
           {
            "aaxis": {
             "endlinecolor": "#2a3f5f",
             "gridcolor": "white",
             "linecolor": "white",
             "minorgridcolor": "white",
             "startlinecolor": "#2a3f5f"
            },
            "baxis": {
             "endlinecolor": "#2a3f5f",
             "gridcolor": "white",
             "linecolor": "white",
             "minorgridcolor": "white",
             "startlinecolor": "#2a3f5f"
            },
            "type": "carpet"
           }
          ],
          "choropleth": [
           {
            "colorbar": {
             "outlinewidth": 0,
             "ticks": ""
            },
            "type": "choropleth"
           }
          ],
          "contour": [
           {
            "colorbar": {
             "outlinewidth": 0,
             "ticks": ""
            },
            "colorscale": [
             [
              0,
              "#0d0887"
             ],
             [
              0.1111111111111111,
              "#46039f"
             ],
             [
              0.2222222222222222,
              "#7201a8"
             ],
             [
              0.3333333333333333,
              "#9c179e"
             ],
             [
              0.4444444444444444,
              "#bd3786"
             ],
             [
              0.5555555555555556,
              "#d8576b"
             ],
             [
              0.6666666666666666,
              "#ed7953"
             ],
             [
              0.7777777777777778,
              "#fb9f3a"
             ],
             [
              0.8888888888888888,
              "#fdca26"
             ],
             [
              1,
              "#f0f921"
             ]
            ],
            "type": "contour"
           }
          ],
          "contourcarpet": [
           {
            "colorbar": {
             "outlinewidth": 0,
             "ticks": ""
            },
            "type": "contourcarpet"
           }
          ],
          "heatmap": [
           {
            "colorbar": {
             "outlinewidth": 0,
             "ticks": ""
            },
            "colorscale": [
             [
              0,
              "#0d0887"
             ],
             [
              0.1111111111111111,
              "#46039f"
             ],
             [
              0.2222222222222222,
              "#7201a8"
             ],
             [
              0.3333333333333333,
              "#9c179e"
             ],
             [
              0.4444444444444444,
              "#bd3786"
             ],
             [
              0.5555555555555556,
              "#d8576b"
             ],
             [
              0.6666666666666666,
              "#ed7953"
             ],
             [
              0.7777777777777778,
              "#fb9f3a"
             ],
             [
              0.8888888888888888,
              "#fdca26"
             ],
             [
              1,
              "#f0f921"
             ]
            ],
            "type": "heatmap"
           }
          ],
          "heatmapgl": [
           {
            "colorbar": {
             "outlinewidth": 0,
             "ticks": ""
            },
            "colorscale": [
             [
              0,
              "#0d0887"
             ],
             [
              0.1111111111111111,
              "#46039f"
             ],
             [
              0.2222222222222222,
              "#7201a8"
             ],
             [
              0.3333333333333333,
              "#9c179e"
             ],
             [
              0.4444444444444444,
              "#bd3786"
             ],
             [
              0.5555555555555556,
              "#d8576b"
             ],
             [
              0.6666666666666666,
              "#ed7953"
             ],
             [
              0.7777777777777778,
              "#fb9f3a"
             ],
             [
              0.8888888888888888,
              "#fdca26"
             ],
             [
              1,
              "#f0f921"
             ]
            ],
            "type": "heatmapgl"
           }
          ],
          "histogram": [
           {
            "marker": {
             "pattern": {
              "fillmode": "overlay",
              "size": 10,
              "solidity": 0.2
             }
            },
            "type": "histogram"
           }
          ],
          "histogram2d": [
           {
            "colorbar": {
             "outlinewidth": 0,
             "ticks": ""
            },
            "colorscale": [
             [
              0,
              "#0d0887"
             ],
             [
              0.1111111111111111,
              "#46039f"
             ],
             [
              0.2222222222222222,
              "#7201a8"
             ],
             [
              0.3333333333333333,
              "#9c179e"
             ],
             [
              0.4444444444444444,
              "#bd3786"
             ],
             [
              0.5555555555555556,
              "#d8576b"
             ],
             [
              0.6666666666666666,
              "#ed7953"
             ],
             [
              0.7777777777777778,
              "#fb9f3a"
             ],
             [
              0.8888888888888888,
              "#fdca26"
             ],
             [
              1,
              "#f0f921"
             ]
            ],
            "type": "histogram2d"
           }
          ],
          "histogram2dcontour": [
           {
            "colorbar": {
             "outlinewidth": 0,
             "ticks": ""
            },
            "colorscale": [
             [
              0,
              "#0d0887"
             ],
             [
              0.1111111111111111,
              "#46039f"
             ],
             [
              0.2222222222222222,
              "#7201a8"
             ],
             [
              0.3333333333333333,
              "#9c179e"
             ],
             [
              0.4444444444444444,
              "#bd3786"
             ],
             [
              0.5555555555555556,
              "#d8576b"
             ],
             [
              0.6666666666666666,
              "#ed7953"
             ],
             [
              0.7777777777777778,
              "#fb9f3a"
             ],
             [
              0.8888888888888888,
              "#fdca26"
             ],
             [
              1,
              "#f0f921"
             ]
            ],
            "type": "histogram2dcontour"
           }
          ],
          "mesh3d": [
           {
            "colorbar": {
             "outlinewidth": 0,
             "ticks": ""
            },
            "type": "mesh3d"
           }
          ],
          "parcoords": [
           {
            "line": {
             "colorbar": {
              "outlinewidth": 0,
              "ticks": ""
             }
            },
            "type": "parcoords"
           }
          ],
          "pie": [
           {
            "automargin": true,
            "type": "pie"
           }
          ],
          "scatter": [
           {
            "fillpattern": {
             "fillmode": "overlay",
             "size": 10,
             "solidity": 0.2
            },
            "type": "scatter"
           }
          ],
          "scatter3d": [
           {
            "line": {
             "colorbar": {
              "outlinewidth": 0,
              "ticks": ""
             }
            },
            "marker": {
             "colorbar": {
              "outlinewidth": 0,
              "ticks": ""
             }
            },
            "type": "scatter3d"
           }
          ],
          "scattercarpet": [
           {
            "marker": {
             "colorbar": {
              "outlinewidth": 0,
              "ticks": ""
             }
            },
            "type": "scattercarpet"
           }
          ],
          "scattergeo": [
           {
            "marker": {
             "colorbar": {
              "outlinewidth": 0,
              "ticks": ""
             }
            },
            "type": "scattergeo"
           }
          ],
          "scattergl": [
           {
            "marker": {
             "colorbar": {
              "outlinewidth": 0,
              "ticks": ""
             }
            },
            "type": "scattergl"
           }
          ],
          "scattermapbox": [
           {
            "marker": {
             "colorbar": {
              "outlinewidth": 0,
              "ticks": ""
             }
            },
            "type": "scattermapbox"
           }
          ],
          "scatterpolar": [
           {
            "marker": {
             "colorbar": {
              "outlinewidth": 0,
              "ticks": ""
             }
            },
            "type": "scatterpolar"
           }
          ],
          "scatterpolargl": [
           {
            "marker": {
             "colorbar": {
              "outlinewidth": 0,
              "ticks": ""
             }
            },
            "type": "scatterpolargl"
           }
          ],
          "scatterternary": [
           {
            "marker": {
             "colorbar": {
              "outlinewidth": 0,
              "ticks": ""
             }
            },
            "type": "scatterternary"
           }
          ],
          "surface": [
           {
            "colorbar": {
             "outlinewidth": 0,
             "ticks": ""
            },
            "colorscale": [
             [
              0,
              "#0d0887"
             ],
             [
              0.1111111111111111,
              "#46039f"
             ],
             [
              0.2222222222222222,
              "#7201a8"
             ],
             [
              0.3333333333333333,
              "#9c179e"
             ],
             [
              0.4444444444444444,
              "#bd3786"
             ],
             [
              0.5555555555555556,
              "#d8576b"
             ],
             [
              0.6666666666666666,
              "#ed7953"
             ],
             [
              0.7777777777777778,
              "#fb9f3a"
             ],
             [
              0.8888888888888888,
              "#fdca26"
             ],
             [
              1,
              "#f0f921"
             ]
            ],
            "type": "surface"
           }
          ],
          "table": [
           {
            "cells": {
             "fill": {
              "color": "#EBF0F8"
             },
             "line": {
              "color": "white"
             }
            },
            "header": {
             "fill": {
              "color": "#C8D4E3"
             },
             "line": {
              "color": "white"
             }
            },
            "type": "table"
           }
          ]
         },
         "layout": {
          "annotationdefaults": {
           "arrowcolor": "#2a3f5f",
           "arrowhead": 0,
           "arrowwidth": 1
          },
          "autotypenumbers": "strict",
          "coloraxis": {
           "colorbar": {
            "outlinewidth": 0,
            "ticks": ""
           }
          },
          "colorscale": {
           "diverging": [
            [
             0,
             "#8e0152"
            ],
            [
             0.1,
             "#c51b7d"
            ],
            [
             0.2,
             "#de77ae"
            ],
            [
             0.3,
             "#f1b6da"
            ],
            [
             0.4,
             "#fde0ef"
            ],
            [
             0.5,
             "#f7f7f7"
            ],
            [
             0.6,
             "#e6f5d0"
            ],
            [
             0.7,
             "#b8e186"
            ],
            [
             0.8,
             "#7fbc41"
            ],
            [
             0.9,
             "#4d9221"
            ],
            [
             1,
             "#276419"
            ]
           ],
           "sequential": [
            [
             0,
             "#0d0887"
            ],
            [
             0.1111111111111111,
             "#46039f"
            ],
            [
             0.2222222222222222,
             "#7201a8"
            ],
            [
             0.3333333333333333,
             "#9c179e"
            ],
            [
             0.4444444444444444,
             "#bd3786"
            ],
            [
             0.5555555555555556,
             "#d8576b"
            ],
            [
             0.6666666666666666,
             "#ed7953"
            ],
            [
             0.7777777777777778,
             "#fb9f3a"
            ],
            [
             0.8888888888888888,
             "#fdca26"
            ],
            [
             1,
             "#f0f921"
            ]
           ],
           "sequentialminus": [
            [
             0,
             "#0d0887"
            ],
            [
             0.1111111111111111,
             "#46039f"
            ],
            [
             0.2222222222222222,
             "#7201a8"
            ],
            [
             0.3333333333333333,
             "#9c179e"
            ],
            [
             0.4444444444444444,
             "#bd3786"
            ],
            [
             0.5555555555555556,
             "#d8576b"
            ],
            [
             0.6666666666666666,
             "#ed7953"
            ],
            [
             0.7777777777777778,
             "#fb9f3a"
            ],
            [
             0.8888888888888888,
             "#fdca26"
            ],
            [
             1,
             "#f0f921"
            ]
           ]
          },
          "colorway": [
           "#636efa",
           "#EF553B",
           "#00cc96",
           "#ab63fa",
           "#FFA15A",
           "#19d3f3",
           "#FF6692",
           "#B6E880",
           "#FF97FF",
           "#FECB52"
          ],
          "font": {
           "color": "#2a3f5f"
          },
          "geo": {
           "bgcolor": "white",
           "lakecolor": "white",
           "landcolor": "#E5ECF6",
           "showlakes": true,
           "showland": true,
           "subunitcolor": "white"
          },
          "hoverlabel": {
           "align": "left"
          },
          "hovermode": "closest",
          "mapbox": {
           "style": "light"
          },
          "paper_bgcolor": "white",
          "plot_bgcolor": "#E5ECF6",
          "polar": {
           "angularaxis": {
            "gridcolor": "white",
            "linecolor": "white",
            "ticks": ""
           },
           "bgcolor": "#E5ECF6",
           "radialaxis": {
            "gridcolor": "white",
            "linecolor": "white",
            "ticks": ""
           }
          },
          "scene": {
           "xaxis": {
            "backgroundcolor": "#E5ECF6",
            "gridcolor": "white",
            "gridwidth": 2,
            "linecolor": "white",
            "showbackground": true,
            "ticks": "",
            "zerolinecolor": "white"
           },
           "yaxis": {
            "backgroundcolor": "#E5ECF6",
            "gridcolor": "white",
            "gridwidth": 2,
            "linecolor": "white",
            "showbackground": true,
            "ticks": "",
            "zerolinecolor": "white"
           },
           "zaxis": {
            "backgroundcolor": "#E5ECF6",
            "gridcolor": "white",
            "gridwidth": 2,
            "linecolor": "white",
            "showbackground": true,
            "ticks": "",
            "zerolinecolor": "white"
           }
          },
          "shapedefaults": {
           "line": {
            "color": "#2a3f5f"
           }
          },
          "ternary": {
           "aaxis": {
            "gridcolor": "white",
            "linecolor": "white",
            "ticks": ""
           },
           "baxis": {
            "gridcolor": "white",
            "linecolor": "white",
            "ticks": ""
           },
           "bgcolor": "#E5ECF6",
           "caxis": {
            "gridcolor": "white",
            "linecolor": "white",
            "ticks": ""
           }
          },
          "title": {
           "x": 0.05
          },
          "xaxis": {
           "automargin": true,
           "gridcolor": "white",
           "linecolor": "white",
           "ticks": "",
           "title": {
            "standoff": 15
           },
           "zerolinecolor": "white",
           "zerolinewidth": 2
          },
          "yaxis": {
           "automargin": true,
           "gridcolor": "white",
           "linecolor": "white",
           "ticks": "",
           "title": {
            "standoff": 15
           },
           "zerolinecolor": "white",
           "zerolinewidth": 2
          }
         }
        },
        "title": {
         "text": "nIPW"
        },
        "width": 750,
        "xaxis": {
         "anchor": "y",
         "domain": [
          0,
          0.45
         ],
         "matches": "x3",
         "showticklabels": false
        },
        "xaxis2": {
         "anchor": "y2",
         "domain": [
          0.55,
          1
         ],
         "matches": "x4",
         "showticklabels": false
        },
        "xaxis3": {
         "anchor": "y3",
         "domain": [
          0,
          0.45
         ]
        },
        "xaxis4": {
         "anchor": "y4",
         "domain": [
          0.55,
          1
         ]
        },
        "yaxis": {
         "anchor": "x",
         "domain": [
          0.53,
          1
         ],
         "title": {
          "text": "Estimator Dist."
         }
        },
        "yaxis2": {
         "anchor": "x2",
         "domain": [
          0.53,
          1
         ]
        },
        "yaxis3": {
         "anchor": "x3",
         "domain": [
          0,
          0.47
         ],
         "title": {
          "text": "Stderr Dist."
         }
        },
        "yaxis4": {
         "anchor": "x4",
         "domain": [
          0,
          0.47
         ]
        }
       }
      },
      "text/html": [
       "<div>                            <div id=\"f9242a2a-bc43-46e0-8fac-30d2d5955e30\" class=\"plotly-graph-div\" style=\"height:600px; width:750px;\"></div>            <script type=\"text/javascript\">                require([\"plotly\"], function(Plotly) {                    window.PLOTLYENV=window.PLOTLYENV || {};                                    if (document.getElementById(\"f9242a2a-bc43-46e0-8fac-30d2d5955e30\")) {                    Plotly.newPlot(                        \"f9242a2a-bc43-46e0-8fac-30d2d5955e30\",                        [{\"line\":{\"color\":\"red\"},\"name\":\"True effect\",\"showlegend\":true,\"x\":[\"nIPW\"],\"y\":[1],\"type\":\"scatter\",\"xaxis\":\"x\",\"yaxis\":\"y\"},{\"marker\":{\"color\":\"blue\"},\"name\":\"nIPW\",\"showlegend\":true,\"y\":[1.0744417273689248,1.113203797692687,0.9834109085958576,0.9494351643556829,1.0789144422487684,1.0030327288839218,1.1372467739707295,0.9522074254890744,0.9568274701417103,0.9885892213192633,0.9734576509319992,0.9531067776597257,1.051725788532209,0.9076587672711387,1.042511219783574,0.9482918320719833,1.0019108923487234,1.026301355249717,0.8749254737821655,1.067547518343841,1.0597297941684363,0.9364050728120179,0.990169154628861,0.9645197308189704,0.9761759085834099,0.9468855946974934,0.8952026216737194,0.9889131804258946,1.1231777396708034,1.0522907419330267,1.0439448144933898,0.9923745302193129,1.1739552453442479,1.0406551924803988,1.0936738968590252,1.1027205040561063,0.9947906080330284,0.9663749547913796,0.907860972909464,0.9673304480733578,0.986767817331099,0.9581120703658448,1.0095921916796253,1.0439391648016385,1.0120674188176944,0.9750029952594146,1.031478203441427,1.0414610262002437,1.0819053696412093,0.9764246612968592,0.8969160398742897,0.9898904496793692,0.9990180828072054,0.9601378174181421,1.028280601525073,0.9966644055700622,0.9185278426712544,1.1043973164476772,1.0346285278969174,1.020022190391932,0.9792725068032719,0.9776821785720786,1.05571684784714,0.992494176855569,0.9780779812600039,1.064080144514378,1.1145362199431081,0.9940327953880914,0.8886457136647372,1.1709590044492695,0.9546750058034439,1.0323762946653632,1.162426399753643,1.0159861371081471,0.9409598251213633,1.0356704485225787,0.9705045758904297,0.9075958009760001,1.1418812920455035,1.1163736861053795,0.9947516783131423,0.9944734012451472,0.9299671359478704,1.060507372203535,0.8210934165765569,1.0176654925949968,0.8537381104464545,1.061567187065563,0.8795882770659462,1.0405890523174532,1.143208813761913,0.8992825938728937,1.1200763675693213,0.8790103067737385,1.086979828687828,0.9824849448726105,0.934200300400529,0.9930527902285833,0.9995117464834729,1.1290986474658857],\"type\":\"box\",\"xaxis\":\"x\",\"yaxis\":\"y\"},{\"line\":{\"color\":\"red\"},\"name\":\"True effect\",\"showlegend\":false,\"x\":[\"nIPW\"],\"y\":[1],\"type\":\"scatter\",\"xaxis\":\"x2\",\"yaxis\":\"y2\"},{\"marker\":{\"color\":\"blue\"},\"name\":\"nIPW\",\"showlegend\":false,\"y\":[1.0051240700989994,0.9641702644280721,0.9746885298432679,0.9846517740376977,0.9981021006321824,1.044629266575916,1.0563384513118939,0.9963289697757794,1.0190146333204715,0.9783757410920058,0.9913065912486174,1.016864464558648,1.0375705149171646,1.0334693617814812,1.0168850870883968,0.9929414784443882,0.9832622051181559,1.0084045265568822,0.9705465624361591,1.0126769006471001,0.9566509621731181,0.9826707726814836,1.014972018552872,0.9949701607419352,1.0286639996068891,0.9379001888994238,1.0347249180301648,0.9655586873470592,0.9921443276414648,1.0237596895453813,0.962034258375646,1.0285212067298932,1.0313746861717679,1.006084238003044,1.0131325493740944,0.9542233798395383,0.985275272444913,1.0008129106656651,1.0126159857839672,1.0017850424763628,0.9470851389645736,1.0037566956734285,0.9952949111626137,1.0040603336457474,0.9755134407110546,0.9628758899876926,0.9879345025813167,0.9713419947043374,0.9868047540850835,1.0341700321933247,0.9803417532860488,1.0173847310447197,0.9949394912348195,1.0455691939541838,1.000815714387857,0.9777858921772622,0.9774861368091561,0.9667162267740106,0.9260739768102138,1.020731221729335,1.0018068876854245,0.9780430898160926,1.0194556528263186,1.0084345958476817,0.9990334157330277,1.0031495362139982,0.9886675181887135,0.9759028774766076,1.0086182988396994,1.0209492718784392,1.031475783863504,0.9789522713193914,0.9603146964449796,0.9962968754999377,1.003184731085101,1.0244762764273672,1.0044285903613237,1.012532977656144,0.9984569848441901,1.0362063609173469,1.0126938471898908,0.9991643645112748,1.0281997537990093,1.0230856924915985,0.998713339084385,0.9512057886769401,1.0263904383407305,1.003954819736623,0.9848470689677982,1.0166604658205416,0.9725043476301234,1.028904639568252,1.0483448278730945,1.0228179493072378,0.9936976309791195,0.9893634477981554,0.983604957805807,1.0199088585738145,0.9840274349950038,1.0609778559531757],\"type\":\"box\",\"xaxis\":\"x2\",\"yaxis\":\"y2\"},{\"line\":{\"color\":\"black\"},\"name\":\"True nIPW-MC std\",\"showlegend\":true,\"x\":[\"nIPW\"],\"y\":[0.07450778262406071],\"type\":\"scatter\",\"xaxis\":\"x3\",\"yaxis\":\"y3\"},{\"marker\":{\"color\":\"cyan\"},\"name\":\"nIPW\",\"showlegend\":true,\"y\":[0.07111696498833371,0.07311087740015196,0.07286982440589893,0.0736133171936229,0.07267811715526315,0.07199975781609345,0.0757184687901603,0.07637604380529789,0.0765139395431095,0.07275642483304012,0.0731480097371264,0.07498334276953578,0.07149623564052268,0.07587004604524882,0.07739796922565512,0.07221951940445917,0.07829538235827964,0.0784311005657243,0.07221791175050606,0.07335242798972656,0.07231487199395797,0.07194462374612368,0.07440623675007732,0.07642420966345344,0.07362096580947862,0.07293491432422017,0.07473516716402423,0.07106831974960802,0.07407031752889769,0.07052698846494475,0.07782778983320934,0.07611112148072394,0.07224605354615052,0.07195965283228078,0.07218765930163355,0.07798780074584043,0.07554918278668779,0.07371524834724338,0.07673809097954713,0.07331430986058876,0.07399751479622214,0.07717207731126063,0.07248435676180896,0.07798791723701735,0.07350866448467583,0.07387192095003138,0.07740137707865372,0.07486227245353749,0.07188557106460829,0.07392852686833203,0.07766021766957559,0.0749383227332157,0.08035593618242734,0.07281286071606421,0.0748519694976321,0.06978685595890476,0.07708120733203222,0.07338761826232869,0.0739172447494283,0.07816136983772973,0.07618790647203501,0.07336391517762811,0.07225591186145851,0.07450206187712105,0.07386692976339151,0.07484452435229938,0.07203263886069504,0.07653825987554325,0.08075805360514368,0.0750853621422271,0.07386426538403605,0.07483554085242514,0.07158865009184395,0.07108637379342495,0.07495579589703703,0.07265278399230389,0.07412026405796239,0.0752255579859936,0.07153704374480808,0.07279617741631923,0.07661184135780993,0.07514136271147294,0.074590012319886,0.0769541204137065,0.0747795311142458,0.0705143938328514,0.07302666098328396,0.07655511210882844,0.07111317143605966,0.07583258359240568,0.07462228755582227,0.07220267085845568,0.07606450321971077,0.075531993867341,0.0721998826274526,0.0728164889549067,0.07510029158822154,0.07866444208447959,0.07581298096784868,0.0767778537163611],\"type\":\"box\",\"xaxis\":\"x3\",\"yaxis\":\"y3\"},{\"line\":{\"color\":\"black\"},\"name\":\"True nIPW\",\"showlegend\":false,\"x\":[\"nIPW\"],\"y\":[0.026286671919468558],\"type\":\"scatter\",\"xaxis\":\"x4\",\"yaxis\":\"y4\"},{\"marker\":{\"color\":\"cyan\"},\"name\":\"nIPW\",\"showlegend\":false,\"y\":[0.023486769597574533,0.023331281686386655,0.023493637807469228,0.02395532065246086,0.02327269007259723,0.023343352776236687,0.023344727131157563,0.023137850158194917,0.022922518854688108,0.023117214600095224,0.023598088628640948,0.023505692689804215,0.023655319923784793,0.023667518453870714,0.023780491695850562,0.023127154580106987,0.02343855642097354,0.02335459686974826,0.02340949463475266,0.023813432772777917,0.02324523843769002,0.023635426977103385,0.0234130825088505,0.0237958240658649,0.023135240414566695,0.023275288005627327,0.023492723397748695,0.023426502016766007,0.02346684126696303,0.02364774696452293,0.02317109974361308,0.023457440944750784,0.023573562953419266,0.023302933082148713,0.023370312497816702,0.023607890546524755,0.023256385964306462,0.023434433860672187,0.023494531882388606,0.023181661209010742,0.02325758552075171,0.02331248736691399,0.023707285066217738,0.023832758056254167,0.02321250650826562,0.023570020380757964,0.023357462073475343,0.022987350917187604,0.022956968945850493,0.02308927389532904,0.02339894410535095,0.023466105386345373,0.0235754556398943,0.023457882201481838,0.023607489168852698,0.023379244820322935,0.023488173973373546,0.02347163920649465,0.02339998663000416,0.023848756933973283,0.023317869578431603,0.02345778613331859,0.023593587638107916,0.02352655260155975,0.023216562070553358,0.02361505138955191,0.023686372381142698,0.023424817361071663,0.02352535982192978,0.023280779228365533,0.023325689965498237,0.023357629003985216,0.023346421452224007,0.023514195096560348,0.02344025982249142,0.023418479205569834,0.023681635875408783,0.02373047538467875,0.02351164760102473,0.023550058406223002,0.023156461037874488,0.023464612410502607,0.02356010241115371,0.023565328303216355,0.023405021310539786,0.02326227529053812,0.023570969681526784,0.02317099005862444,0.02324054662659434,0.02357098647379671,0.023782957512408096,0.023445142877480497,0.023302088563431692,0.023220305048390694,0.02359361038707865,0.023592109471566904,0.023647755706171794,0.023386247548594016,0.02344245864371811,0.02316187746941951],\"type\":\"box\",\"xaxis\":\"x4\",\"yaxis\":\"y4\"}],                        {\"template\":{\"data\":{\"histogram2dcontour\":[{\"type\":\"histogram2dcontour\",\"colorbar\":{\"outlinewidth\":0,\"ticks\":\"\"},\"colorscale\":[[0.0,\"#0d0887\"],[0.1111111111111111,\"#46039f\"],[0.2222222222222222,\"#7201a8\"],[0.3333333333333333,\"#9c179e\"],[0.4444444444444444,\"#bd3786\"],[0.5555555555555556,\"#d8576b\"],[0.6666666666666666,\"#ed7953\"],[0.7777777777777778,\"#fb9f3a\"],[0.8888888888888888,\"#fdca26\"],[1.0,\"#f0f921\"]]}],\"choropleth\":[{\"type\":\"choropleth\",\"colorbar\":{\"outlinewidth\":0,\"ticks\":\"\"}}],\"histogram2d\":[{\"type\":\"histogram2d\",\"colorbar\":{\"outlinewidth\":0,\"ticks\":\"\"},\"colorscale\":[[0.0,\"#0d0887\"],[0.1111111111111111,\"#46039f\"],[0.2222222222222222,\"#7201a8\"],[0.3333333333333333,\"#9c179e\"],[0.4444444444444444,\"#bd3786\"],[0.5555555555555556,\"#d8576b\"],[0.6666666666666666,\"#ed7953\"],[0.7777777777777778,\"#fb9f3a\"],[0.8888888888888888,\"#fdca26\"],[1.0,\"#f0f921\"]]}],\"heatmap\":[{\"type\":\"heatmap\",\"colorbar\":{\"outlinewidth\":0,\"ticks\":\"\"},\"colorscale\":[[0.0,\"#0d0887\"],[0.1111111111111111,\"#46039f\"],[0.2222222222222222,\"#7201a8\"],[0.3333333333333333,\"#9c179e\"],[0.4444444444444444,\"#bd3786\"],[0.5555555555555556,\"#d8576b\"],[0.6666666666666666,\"#ed7953\"],[0.7777777777777778,\"#fb9f3a\"],[0.8888888888888888,\"#fdca26\"],[1.0,\"#f0f921\"]]}],\"heatmapgl\":[{\"type\":\"heatmapgl\",\"colorbar\":{\"outlinewidth\":0,\"ticks\":\"\"},\"colorscale\":[[0.0,\"#0d0887\"],[0.1111111111111111,\"#46039f\"],[0.2222222222222222,\"#7201a8\"],[0.3333333333333333,\"#9c179e\"],[0.4444444444444444,\"#bd3786\"],[0.5555555555555556,\"#d8576b\"],[0.6666666666666666,\"#ed7953\"],[0.7777777777777778,\"#fb9f3a\"],[0.8888888888888888,\"#fdca26\"],[1.0,\"#f0f921\"]]}],\"contourcarpet\":[{\"type\":\"contourcarpet\",\"colorbar\":{\"outlinewidth\":0,\"ticks\":\"\"}}],\"contour\":[{\"type\":\"contour\",\"colorbar\":{\"outlinewidth\":0,\"ticks\":\"\"},\"colorscale\":[[0.0,\"#0d0887\"],[0.1111111111111111,\"#46039f\"],[0.2222222222222222,\"#7201a8\"],[0.3333333333333333,\"#9c179e\"],[0.4444444444444444,\"#bd3786\"],[0.5555555555555556,\"#d8576b\"],[0.6666666666666666,\"#ed7953\"],[0.7777777777777778,\"#fb9f3a\"],[0.8888888888888888,\"#fdca26\"],[1.0,\"#f0f921\"]]}],\"surface\":[{\"type\":\"surface\",\"colorbar\":{\"outlinewidth\":0,\"ticks\":\"\"},\"colorscale\":[[0.0,\"#0d0887\"],[0.1111111111111111,\"#46039f\"],[0.2222222222222222,\"#7201a8\"],[0.3333333333333333,\"#9c179e\"],[0.4444444444444444,\"#bd3786\"],[0.5555555555555556,\"#d8576b\"],[0.6666666666666666,\"#ed7953\"],[0.7777777777777778,\"#fb9f3a\"],[0.8888888888888888,\"#fdca26\"],[1.0,\"#f0f921\"]]}],\"mesh3d\":[{\"type\":\"mesh3d\",\"colorbar\":{\"outlinewidth\":0,\"ticks\":\"\"}}],\"scatter\":[{\"fillpattern\":{\"fillmode\":\"overlay\",\"size\":10,\"solidity\":0.2},\"type\":\"scatter\"}],\"parcoords\":[{\"type\":\"parcoords\",\"line\":{\"colorbar\":{\"outlinewidth\":0,\"ticks\":\"\"}}}],\"scatterpolargl\":[{\"type\":\"scatterpolargl\",\"marker\":{\"colorbar\":{\"outlinewidth\":0,\"ticks\":\"\"}}}],\"bar\":[{\"error_x\":{\"color\":\"#2a3f5f\"},\"error_y\":{\"color\":\"#2a3f5f\"},\"marker\":{\"line\":{\"color\":\"#E5ECF6\",\"width\":0.5},\"pattern\":{\"fillmode\":\"overlay\",\"size\":10,\"solidity\":0.2}},\"type\":\"bar\"}],\"scattergeo\":[{\"type\":\"scattergeo\",\"marker\":{\"colorbar\":{\"outlinewidth\":0,\"ticks\":\"\"}}}],\"scatterpolar\":[{\"type\":\"scatterpolar\",\"marker\":{\"colorbar\":{\"outlinewidth\":0,\"ticks\":\"\"}}}],\"histogram\":[{\"marker\":{\"pattern\":{\"fillmode\":\"overlay\",\"size\":10,\"solidity\":0.2}},\"type\":\"histogram\"}],\"scattergl\":[{\"type\":\"scattergl\",\"marker\":{\"colorbar\":{\"outlinewidth\":0,\"ticks\":\"\"}}}],\"scatter3d\":[{\"type\":\"scatter3d\",\"line\":{\"colorbar\":{\"outlinewidth\":0,\"ticks\":\"\"}},\"marker\":{\"colorbar\":{\"outlinewidth\":0,\"ticks\":\"\"}}}],\"scattermapbox\":[{\"type\":\"scattermapbox\",\"marker\":{\"colorbar\":{\"outlinewidth\":0,\"ticks\":\"\"}}}],\"scatterternary\":[{\"type\":\"scatterternary\",\"marker\":{\"colorbar\":{\"outlinewidth\":0,\"ticks\":\"\"}}}],\"scattercarpet\":[{\"type\":\"scattercarpet\",\"marker\":{\"colorbar\":{\"outlinewidth\":0,\"ticks\":\"\"}}}],\"carpet\":[{\"aaxis\":{\"endlinecolor\":\"#2a3f5f\",\"gridcolor\":\"white\",\"linecolor\":\"white\",\"minorgridcolor\":\"white\",\"startlinecolor\":\"#2a3f5f\"},\"baxis\":{\"endlinecolor\":\"#2a3f5f\",\"gridcolor\":\"white\",\"linecolor\":\"white\",\"minorgridcolor\":\"white\",\"startlinecolor\":\"#2a3f5f\"},\"type\":\"carpet\"}],\"table\":[{\"cells\":{\"fill\":{\"color\":\"#EBF0F8\"},\"line\":{\"color\":\"white\"}},\"header\":{\"fill\":{\"color\":\"#C8D4E3\"},\"line\":{\"color\":\"white\"}},\"type\":\"table\"}],\"barpolar\":[{\"marker\":{\"line\":{\"color\":\"#E5ECF6\",\"width\":0.5},\"pattern\":{\"fillmode\":\"overlay\",\"size\":10,\"solidity\":0.2}},\"type\":\"barpolar\"}],\"pie\":[{\"automargin\":true,\"type\":\"pie\"}]},\"layout\":{\"autotypenumbers\":\"strict\",\"colorway\":[\"#636efa\",\"#EF553B\",\"#00cc96\",\"#ab63fa\",\"#FFA15A\",\"#19d3f3\",\"#FF6692\",\"#B6E880\",\"#FF97FF\",\"#FECB52\"],\"font\":{\"color\":\"#2a3f5f\"},\"hovermode\":\"closest\",\"hoverlabel\":{\"align\":\"left\"},\"paper_bgcolor\":\"white\",\"plot_bgcolor\":\"#E5ECF6\",\"polar\":{\"bgcolor\":\"#E5ECF6\",\"angularaxis\":{\"gridcolor\":\"white\",\"linecolor\":\"white\",\"ticks\":\"\"},\"radialaxis\":{\"gridcolor\":\"white\",\"linecolor\":\"white\",\"ticks\":\"\"}},\"ternary\":{\"bgcolor\":\"#E5ECF6\",\"aaxis\":{\"gridcolor\":\"white\",\"linecolor\":\"white\",\"ticks\":\"\"},\"baxis\":{\"gridcolor\":\"white\",\"linecolor\":\"white\",\"ticks\":\"\"},\"caxis\":{\"gridcolor\":\"white\",\"linecolor\":\"white\",\"ticks\":\"\"}},\"coloraxis\":{\"colorbar\":{\"outlinewidth\":0,\"ticks\":\"\"}},\"colorscale\":{\"sequential\":[[0.0,\"#0d0887\"],[0.1111111111111111,\"#46039f\"],[0.2222222222222222,\"#7201a8\"],[0.3333333333333333,\"#9c179e\"],[0.4444444444444444,\"#bd3786\"],[0.5555555555555556,\"#d8576b\"],[0.6666666666666666,\"#ed7953\"],[0.7777777777777778,\"#fb9f3a\"],[0.8888888888888888,\"#fdca26\"],[1.0,\"#f0f921\"]],\"sequentialminus\":[[0.0,\"#0d0887\"],[0.1111111111111111,\"#46039f\"],[0.2222222222222222,\"#7201a8\"],[0.3333333333333333,\"#9c179e\"],[0.4444444444444444,\"#bd3786\"],[0.5555555555555556,\"#d8576b\"],[0.6666666666666666,\"#ed7953\"],[0.7777777777777778,\"#fb9f3a\"],[0.8888888888888888,\"#fdca26\"],[1.0,\"#f0f921\"]],\"diverging\":[[0,\"#8e0152\"],[0.1,\"#c51b7d\"],[0.2,\"#de77ae\"],[0.3,\"#f1b6da\"],[0.4,\"#fde0ef\"],[0.5,\"#f7f7f7\"],[0.6,\"#e6f5d0\"],[0.7,\"#b8e186\"],[0.8,\"#7fbc41\"],[0.9,\"#4d9221\"],[1,\"#276419\"]]},\"xaxis\":{\"gridcolor\":\"white\",\"linecolor\":\"white\",\"ticks\":\"\",\"title\":{\"standoff\":15},\"zerolinecolor\":\"white\",\"automargin\":true,\"zerolinewidth\":2},\"yaxis\":{\"gridcolor\":\"white\",\"linecolor\":\"white\",\"ticks\":\"\",\"title\":{\"standoff\":15},\"zerolinecolor\":\"white\",\"automargin\":true,\"zerolinewidth\":2},\"scene\":{\"xaxis\":{\"backgroundcolor\":\"#E5ECF6\",\"gridcolor\":\"white\",\"linecolor\":\"white\",\"showbackground\":true,\"ticks\":\"\",\"zerolinecolor\":\"white\",\"gridwidth\":2},\"yaxis\":{\"backgroundcolor\":\"#E5ECF6\",\"gridcolor\":\"white\",\"linecolor\":\"white\",\"showbackground\":true,\"ticks\":\"\",\"zerolinecolor\":\"white\",\"gridwidth\":2},\"zaxis\":{\"backgroundcolor\":\"#E5ECF6\",\"gridcolor\":\"white\",\"linecolor\":\"white\",\"showbackground\":true,\"ticks\":\"\",\"zerolinecolor\":\"white\",\"gridwidth\":2}},\"shapedefaults\":{\"line\":{\"color\":\"#2a3f5f\"}},\"annotationdefaults\":{\"arrowcolor\":\"#2a3f5f\",\"arrowhead\":0,\"arrowwidth\":1},\"geo\":{\"bgcolor\":\"white\",\"landcolor\":\"#E5ECF6\",\"subunitcolor\":\"white\",\"showland\":true,\"showlakes\":true,\"lakecolor\":\"white\"},\"title\":{\"x\":0.05},\"mapbox\":{\"style\":\"light\"}}},\"xaxis\":{\"anchor\":\"y\",\"domain\":[0.0,0.45],\"matches\":\"x3\",\"showticklabels\":false},\"yaxis\":{\"anchor\":\"x\",\"domain\":[0.53,1.0],\"title\":{\"text\":\"Estimator Dist.\"}},\"xaxis2\":{\"anchor\":\"y2\",\"domain\":[0.55,1.0],\"matches\":\"x4\",\"showticklabels\":false},\"yaxis2\":{\"anchor\":\"x2\",\"domain\":[0.53,1.0]},\"xaxis3\":{\"anchor\":\"y3\",\"domain\":[0.0,0.45]},\"yaxis3\":{\"anchor\":\"x3\",\"domain\":[0.0,0.47],\"title\":{\"text\":\"Stderr Dist.\"}},\"xaxis4\":{\"anchor\":\"y4\",\"domain\":[0.55,1.0]},\"yaxis4\":{\"anchor\":\"x4\",\"domain\":[0.0,0.47]},\"annotations\":[{\"font\":{\"size\":16},\"showarrow\":false,\"text\":\"n=750, p=32\",\"x\":0.225,\"xanchor\":\"center\",\"xref\":\"paper\",\"y\":1.0,\"yanchor\":\"bottom\",\"yref\":\"paper\"},{\"font\":{\"size\":16},\"showarrow\":false,\"text\":\"n=7500, p=300\",\"x\":0.775,\"xanchor\":\"center\",\"xref\":\"paper\",\"y\":1.0,\"yanchor\":\"bottom\",\"yref\":\"paper\"}],\"height\":600,\"width\":750,\"title\":{\"text\":\"nIPW\"}},                        {\"responsive\": true}                    ).then(function(){\n",
       "                            \n",
       "var gd = document.getElementById('f9242a2a-bc43-46e0-8fac-30d2d5955e30');\n",
       "var x = new MutationObserver(function (mutations, observer) {{\n",
       "        var display = window.getComputedStyle(gd).display;\n",
       "        if (!display || display === 'none') {{\n",
       "            console.log([gd, 'removed!']);\n",
       "            Plotly.purge(gd);\n",
       "            observer.disconnect();\n",
       "        }}\n",
       "}});\n",
       "\n",
       "// Listen for the removal of the full notebook cells\n",
       "var notebookContainer = gd.closest('#notebook-container');\n",
       "if (notebookContainer) {{\n",
       "    x.observe(notebookContainer, {childList: true});\n",
       "}}\n",
       "\n",
       "// Listen for the clearing of the current output cell\n",
       "var outputEl = gd.closest('.output');\n",
       "if (outputEl) {{\n",
       "    x.observe(outputEl, {childList: true});\n",
       "}}\n",
       "\n",
       "                        })                };                });            </script>        </div>"
      ]
     },
     "metadata": {},
     "output_type": "display_data"
    }
   ],
   "source": [
    "est_ = 'nIPW'\n",
    "\n",
    "\n",
    "import plotly.graph_objects as go\n",
    "from plotly.subplots import make_subplots\n",
    "\n",
    "fig = make_subplots(\n",
    "    rows=2, cols=2,\n",
    "    shared_xaxes=True,\n",
    "    vertical_spacing=0.06,\n",
    "    subplot_titles=('n=750, p=32', 'n=7500, p=300'\n",
    "                   ),\n",
    ")\n",
    "# mr_estimates_nIPW = mr_estimates_nIPW[]\n",
    "n750 = mr_estimates_nIPW[mr_estimates_nIPW['n']==750]\n",
    "n7500 = mr_estimates_nIPW[mr_estimates_nIPW['n']==7500]\n",
    "\n",
    "\n",
    "\n",
    "fig.add_trace(\n",
    "    go.Scatter(\n",
    "                x=[f'{est_}'],\n",
    "                y=[1],\n",
    "                line_color='red', showlegend=True, name=f'True effect'\n",
    "            ),\n",
    "    row=1, col=1,\n",
    ")\n",
    "#####\n",
    "fig.add_trace(\n",
    "    go.Box(\n",
    "                y=n750[f'{est_}_oracle_only'],\n",
    "                name=f'{est_}',\n",
    "                marker_color='blue',\n",
    "                showlegend=True\n",
    "),\n",
    "    row=1, col=1,\n",
    ")\n",
    "\n",
    "fig.add_trace(\n",
    "    go.Scatter(\n",
    "                x=[f'{est_}'],\n",
    "                y=[1],\n",
    "                line_color='red', showlegend=False, name=f'True effect'\n",
    "            ),\n",
    "    row=1, col=2,\n",
    ")\n",
    "#####\n",
    "fig.add_trace(\n",
    "    go.Box(\n",
    "                y=n7500[f'{est_}_oracle_only'],\n",
    "                name=f'{est_}',\n",
    "                marker_color='blue',\n",
    "                showlegend=False\n",
    "),\n",
    "    row=1, col=2,\n",
    ")\n",
    "\n",
    "fig.add_trace(\n",
    "    go.Scatter(\n",
    "                x=[f'{est_}'],\n",
    "                y=[n750[f'{est_}_oracle_only'].std()],\n",
    "                line_color='black', showlegend=True, name=f'True {est_}-MC std'\n",
    "            ),\n",
    "    row=2, col=1,\n",
    ")\n",
    "#####\n",
    "fig.add_trace(\n",
    "    go.Box(\n",
    "                y=n750[f'se_{est_}_oracle_only'],\n",
    "                name=f'{est_}',\n",
    "                marker_color='cyan',\n",
    "                showlegend=True\n",
    "),\n",
    "    row=2, col=1,\n",
    ")\n",
    "\n",
    "fig.add_trace(\n",
    "    go.Scatter(\n",
    "                x=[f'{est_}'],\n",
    "                y=[n7500[f'{est_}_oracle_only'].std()],\n",
    "                line_color='black', showlegend=False, name=f'True {est_}'\n",
    "            ),\n",
    "    row=2, col=2,\n",
    ")\n",
    "#####\n",
    "fig.add_trace(\n",
    "    go.Box(\n",
    "                y=n7500[f'se_{est_}_oracle_only'],\n",
    "                name=f'{est_}',\n",
    "                marker_color='cyan',\n",
    "                showlegend=False\n",
    "),\n",
    "    row=2, col=2,\n",
    ")\n",
    "\n",
    "\n",
    "fig.update_layout(height=600, width=750,\n",
    "                  yaxis = {'title': 'Estimator Dist.'},\n",
    "                  yaxis3 = {'title': 'Stderr Dist.'},\n",
    "                  title=f'{est_}'\n",
    "                 )\n",
    "\n",
    "fig.write_image(f\"/home/mr/Pictures/sims/low-conf-{est_}-asympt-std.pdf\")\n",
    "\n",
    "fig.show()"
   ]
  },
  {
   "cell_type": "code",
   "execution_count": null,
   "metadata": {},
   "outputs": [],
   "source": [
    "# valid to use nIPW for MR, is it useful, I present the results. Increase of dimensionality ruins the variance\n",
    "# The bias ins of the magnitude of ..., "
   ]
  },
  {
   "cell_type": "code",
   "execution_count": null,
   "metadata": {},
   "outputs": [],
   "source": []
  },
  {
   "cell_type": "code",
   "execution_count": 9,
   "metadata": {
    "scrolled": true
   },
   "outputs": [],
   "source": [
    "temp_results1 = []\n",
    "\n",
    "r3 = 0.25\n",
    "r4 = 0.25\n",
    "r1, r2 = 0, 0\n",
    "\n",
    "nonlin_portion = .3\n",
    "True_TE = 1\n",
    "\n",
    "mr_estimates = []\n",
    "\n",
    "for n, p in [(750, 32), (7500, 300)]:\n",
    "        \n",
    "    for niter in range(1, 101):\n",
    "#         try:\n",
    "        if True:\n",
    "            filename = \"/home/mr/PhD/Causality in AI/Sim2021/featureImp_dim{}_{}_r_{}_{}/KfoldQ_ps_nns{}.csv\"\\\n",
    "                                                                    .format(n, p, r3, r4, niter)\n",
    "\n",
    "            data = pd.read_csv(filename)\n",
    "            \n",
    "        break\n",
    "    break"
   ]
  },
  {
   "cell_type": "code",
   "execution_count": 14,
   "metadata": {},
   "outputs": [
    {
     "data": {
      "text/plain": [
       "['robins1994estimation', 'learn']"
      ]
     },
     "execution_count": 14,
     "metadata": {},
     "output_type": "execute_result"
    }
   ],
   "source": [
    "old = ['farrell2018deep','brookhart2006variable','robins1994estimationa','shen2022consistency','fawcett2006introduction','rubin1974estimating','huang2015regularization','schmidt2013comparative','Busso2014New','hernan2014inverse','robins2000margins','hernan2006estimators','bang2005doubly','van2003unified','cole2010constructing','sloczynski2018general','hahn2004functional','hahn1998role','smucler2019unifying','zhang2021understanding','macdorman1998infant','glmnet','kingma2014adam','macdorman1999infant','hines2021demystifying','polley2007super','wang2019multiple','mathews1998infant','schneeweiss2009high','flores2009evaluating','feng2012generalized','peysakhovich2016combining','hartford2016counterfactual','johnson2016mimic','nguyen2016control','grzegorczyk2019vector','rapoport2003length','horvitz1952generalization','yoon2018ganite','schwab2018perfect','alaa2017deep','ramachandra2018deep','lu2018estimating','ratkovic2017causal','robinson1988root','belloni2014inference','alaa2018bayesian','rosenbaum1985constructing','foster2011subgroup','2018_CausalBenchmark','imai2013estimating','pearl1995causal','glynn2010introduction','setoguchi2008evaluating','pearl2011invited','myers2011effects','glymour2008methodological','vanderweele2011new','zhou2018variance','schuster2016propensity','fithian2014optimal','karim2017estimating','van2006targeted','rubin2007design','robins1994estimationregression','bang2005doubly','westreich2010propensity','hill2011bayesian','taddy2016nonparametric','egami2018make','wager2018estimation','athey2016recursive','shimoni2018benchmarking','ruder2017overview','baxter1997bayesian','shi2019adapting','belloni2012sparse','li2017causal','dorie2019automated','rubin1979using','gruber2011tmle','farrell2015robust','seaman2018introduction','greenland1999confounding','scharfstein1999adjusting','sturmer2006insights','funk2011doubly','kang2007demystifying','scikit-learn','van2007causal','szekely2007measuring','rubin2006affinely','shortreed2017outcome','tian2018selective','ertefaie2018variable','patrick2011implications','diaz2018doubly','lunceford2004stratification','politis1994stationary','stefanski2002calculus','sloczynski2014general','cao2009improving','tan2007comment','de2011covariate','rosenbaum1983central','busso2014new','kern2016assessing','margossian2018review','hardle1989investigating','imbens2000role','rosenbaum1984reducing','rubin1976multivariate','stuart2010matching','cheng2018polynomial','xu2015empirical','cochran1973controlling','yan2020h','moosavi2021costs','chernozhukov2020adversarial','chernozhukov2022automatic','rostami2022normalized','van2007super','friedman2001greedy','martens2006instrumental','bascle2008controlling','hernan2006instruments','angrist2001instrumental','petersen2012diagnosing','hornik1989multilayer','srivastava2014dropout','rothenhausler2020model','naik2016multiply','han2014multiply','heckman1998matching','rostami2022targeted','han2013estimation','empiricaldist','wang2009empirical','owen1988empirical','hogg1995introduction','robins2000robins','hernan2006a','bang2005bang','vanderlaan2003der','cole2010cole','bang2005bang','cole2010cole','li2013li','hernan2014a','zhang2015zhang','bang2005bang','imai2004imai','Chen2019A','shortreed2017outcome','li2018li','li2019li','dong2020dong','li2020ali','jiang2020jiang','chen2019chen','li2020bli','zou2020feature','zhu2020a','zeng2018a','hirano2003efficient','imbens1994identification','bjorklund1987the','heckman1997instrumental','heckman1999local','heckman2000astructural','baron1986the','bound1995problems','chernozhukov2006instrumental','bound1995problems','thistlethwaite1960regression','hansen1982large','chernozhukov2006instrumental','glynn2010an','zhang2015on','li2013sensitivity','cole2010constructing','zhang2015adaptive',]\n",
    "new = ['brookhart2006variable','rothenhausler2020model','naik2016multiply','han2014multiply','heckman1998matching','rostami2022targeted','han2013estimation','rostami2022normalized','glmnet','kingma2014adam','polley2007super','mathews1998infant','schneeweiss2009high','flores2009evaluating','feng2012generalized','peysakhovich2016combining','hartford2016counterfactual','johnson2016mimic','nguyen2016control','grzegorczyk2019vector','rapoport2003length','horvitz1952generalization','yoon2018ganite','stefanski2002calculus','chernozhukov2020adversarial','robinson1988root','chernozhukov2022automatic','schwab2018perfect','alaa2017deep','ramachandra2018deep','lu2018estimating','ratkovic2017causal','robinson1988root','belloni2014inference','alaa2018bayesian','rosenbaum1985constructing','foster2011subgroup','2018_CausalBenchmark','imai2013estimating','setoguchi2008evaluating','pearl2011invited','myers2011effects','glymour2008methodological','vanderweele2011new','zhou2018variance','schuster2016propensity','fithian2014optimal','karim2017estimating','van2006targeted','rubin2007design','rubin2007design','robins1994estimation','bang2005doubly','westreich2010propensity','hill2011bayesian','taddy2016nonparametric','egami2018make','wager2018estimation','athey2016recursive','hill2011bayesian','shimoni2018benchmarking','ruder2017overview','van2007super','baxter1997bayesian','wang2019multiple','empiricaldist','wang2009empirical','owen1988empirical','shi2019adapting','belloni2012sparse','li2017causal','dorie2019automated','lunceford2004stratification','rubin1979using','gruber2011tmle','friedman2001greedy','martens2006instrumental','bascle2008controlling','hernan2006instruments','angrist2001instrumental','seaman2018introduction','greenland1999confounding','sturmer2006insights','funk2011doubly','kang2007demystifying','farrell2018deep','learn','van2007causal','szekely2007measuring','rubin2006affinely','shortreed2017outcome','tian2018selective','ertefaie2018variable','patrick2011implications','de2011covariate','rosenbaum1983central','hogg1995introduction','kern2016assessing','margossian2018review','hardle1989investigating','van2007super','imbens2000role','rosenbaum1984reducing','rubin1976multivariate','petersen2012diagnosing','stuart2010matching','cochran1973controlling',]\n",
    "[c for c in new if c not in old]"
   ]
  },
  {
   "cell_type": "code",
   "execution_count": 16,
   "metadata": {
    "scrolled": true
   },
   "outputs": [],
   "source": [
    "temp_results1 = []\n",
    "\n",
    "r3 = 0.01\n",
    "r4 = 0.01\n",
    "r1, r2 = 0, 0\n",
    "\n",
    "nonlin_portion = .3\n",
    "True_TE = 1\n",
    "\n",
    "mr_estimates = []\n",
    "\n",
    "for n, p in [(750, 32), (7500, 300)]:\n",
    "        \n",
    "    for niter in range(1, 101):\n",
    "#         try:\n",
    "        if True:\n",
    "            filename = \"/home/mr/PhD/Causality in AI/Sim2022/featureImp_dim{}_{}_r_{}_{}/KfoldQ_ps_nns{}.csv\"\\\n",
    "                                                                    .format(n, p, r3, r4, niter)\n",
    "\n",
    "            data = pd.read_csv(filename)\n",
    "            \n",
    "            yhat0_cols = [c for c in data.columns if ('nnY' in c or 'nnAY' in c) and 'yhat0' in c and 'oracle' not in c]\n",
    "            yhat1_cols = [c for c in data.columns if ('nnY' in c or 'nnAY' in c) and 'yhat1' in c and 'oracle' not in c]\n",
    "            ps_cols = [c for c in data.columns if ('nnA_' in c or 'nnAY' in c) and 'ps_' in c and 'oracle' not in c]\n",
    "\n",
    "            (mr_oracle_only, \n",
    "            se0_mr_oracle_only) = \\\n",
    "                          MR(y=data['y'], \n",
    "                               A=data['A'], \n",
    "                                   yhat1_df=data[['oracle_yhat1']],\n",
    "                                   yhat0_df=data[['oracle_yhat0']],\n",
    "                                   ps_df=data[['ps_oracle']], \n",
    "                               temporary_csv_name='temporary-MR-data-with_oracle'\n",
    "                             )\n",
    "            \n",
    "            mr_estimates += [[n, p, r3, r4, niter, \n",
    "                              \n",
    "                              mr_oracle_only,\n",
    "                              se0_mr_oracle_only,\n",
    "#                               se1_mr_oracle_only,\n",
    "#                               se2_mr_oracle_only,\n",
    "#                               se3_mr_oracle_only,\n",
    "#                               se4_mr_oracle_only,\n",
    "                             ]]           \n",
    "\n",
    "#         except Exception as e:\n",
    "#             print(e)\n",
    "\n",
    "mr_estimates3_experiment = pd.DataFrame(mr_estimates,\n",
    "                            columns = [\n",
    "                                        'n', 'p', 'r3', 'r4', 'niter', \n",
    "\n",
    "                                        'mr_oracle_only',\n",
    "                                        'se0_mr_oracle_only',\n",
    "#                                         'se1_mr_oracle_only',\n",
    "#                                         'se2_mr_oracle_only',\n",
    "#                                         'se3_mr_oracle_only',\n",
    "#                                         'se4_mr_oracle_only',\n",
    "                                              ]\n",
    "                           )\n"
   ]
  },
  {
   "cell_type": "code",
   "execution_count": 17,
   "metadata": {},
   "outputs": [
    {
     "data": {
      "text/plain": [
       "1"
      ]
     },
     "execution_count": 17,
     "metadata": {},
     "output_type": "execute_result"
    }
   ],
   "source": [
    "1"
   ]
  },
  {
   "cell_type": "code",
   "execution_count": 18,
   "metadata": {},
   "outputs": [
    {
     "data": {
      "text/html": [
       "<div>\n",
       "<style scoped>\n",
       "    .dataframe tbody tr th:only-of-type {\n",
       "        vertical-align: middle;\n",
       "    }\n",
       "\n",
       "    .dataframe tbody tr th {\n",
       "        vertical-align: top;\n",
       "    }\n",
       "\n",
       "    .dataframe thead th {\n",
       "        text-align: right;\n",
       "    }\n",
       "</style>\n",
       "<table border=\"1\" class=\"dataframe\">\n",
       "  <thead>\n",
       "    <tr style=\"text-align: right;\">\n",
       "      <th></th>\n",
       "      <th></th>\n",
       "      <th>mr_oracle_only</th>\n",
       "      <th>L_se0_mr_oracle_only</th>\n",
       "      <th>U_se0_mr_oracle_only</th>\n",
       "    </tr>\n",
       "    <tr>\n",
       "      <th>n</th>\n",
       "      <th>p</th>\n",
       "      <th></th>\n",
       "      <th></th>\n",
       "      <th></th>\n",
       "    </tr>\n",
       "  </thead>\n",
       "  <tbody>\n",
       "    <tr>\n",
       "      <th>750</th>\n",
       "      <th>32</th>\n",
       "      <td>0.074564</td>\n",
       "      <td>0.066601</td>\n",
       "      <td>0.079974</td>\n",
       "    </tr>\n",
       "    <tr>\n",
       "      <th>7500</th>\n",
       "      <th>300</th>\n",
       "      <td>0.025974</td>\n",
       "      <td>0.022464</td>\n",
       "      <td>0.023692</td>\n",
       "    </tr>\n",
       "  </tbody>\n",
       "</table>\n",
       "</div>"
      ],
      "text/plain": [
       "          mr_oracle_only  L_se0_mr_oracle_only  U_se0_mr_oracle_only\n",
       "n    p                                                              \n",
       "750  32   0.074564        0.066601              0.079974            \n",
       "7500 300  0.025974        0.022464              0.023692            "
      ]
     },
     "execution_count": 18,
     "metadata": {},
     "output_type": "execute_result"
    }
   ],
   "source": [
    "MR_oracle_only_MCstd = mr_estimates3_experiment.groupby(['n', 'p']).std()[['mr_oracle_only']]\n",
    "MR_oracle_only_avg_se = mr_estimates3_experiment.groupby(['n', 'p']).mean()[['se0_mr_oracle_only']]\n",
    "MR_oracle_only_std_se = mr_estimates3_experiment.groupby(['n', 'p']).std()[['se0_mr_oracle_only']]\n",
    "MR_oracle_only_std_se.columns = [c+'_std' for c in MR_oracle_only_std_se.columns]\n",
    "MR_oracle_only = MR_oracle_only_MCstd.join(MR_oracle_only_avg_se).join(MR_oracle_only_std_se)\n",
    "for c in ['se0_mr_oracle_only']:\n",
    "    MR_oracle_only['L_'+c] = MR_oracle_only[c] - 1.96 * MR_oracle_only[c+'_std']\n",
    "    MR_oracle_only['U_'+c] = MR_oracle_only[c] + 1.96 * MR_oracle_only[c+'_std']\n",
    "MR_oracle_only[['mr_oracle_only']+['L_se0_mr_oracle_only', 'U_se0_mr_oracle_only']]"
   ]
  },
  {
   "cell_type": "code",
   "execution_count": 26,
   "metadata": {},
   "outputs": [
    {
     "data": {
      "application/vnd.plotly.v1+json": {
       "config": {
        "plotlyServerURL": "https://plot.ly"
       },
       "data": [
        {
         "line": {
          "color": "black"
         },
         "name": "True MR",
         "showlegend": true,
         "type": "scatter",
         "x": [
          "MR"
         ],
         "xaxis": "x",
         "y": [
          1.0081594545678463
         ],
         "yaxis": "y"
        },
        {
         "marker": {
          "color": "blue"
         },
         "name": "MR",
         "showlegend": true,
         "type": "box",
         "xaxis": "x",
         "y": [
          1.0711723815569836,
          1.116934777204343,
          0.9793683815749652,
          0.9578442941716565,
          1.0734752711454352,
          0.9951218127912878,
          1.1486801362327996,
          0.9569863031673751,
          0.950761848674684,
          0.9983071106164632,
          0.9905242006364667,
          0.9552992959308624,
          1.0537810867956816,
          0.9094760760754516,
          1.0408430612122892,
          0.9538247933300636,
          1.0007266780501562,
          1.0235311165423528,
          0.8712489216384318,
          1.0656736994181288,
          1.0613604065372866,
          0.9351307877679018,
          0.9998613325464221,
          0.9626697043789765,
          0.9755882237166351,
          0.936782234578952,
          0.9016455959083254,
          0.9885561979902626,
          1.113775472877823,
          1.0403986994297547,
          1.038679907173507,
          0.9874163073425078,
          1.1845555259002487,
          1.0366938034335131,
          1.0987504336183893,
          1.1123230861938427,
          0.9946908384247088,
          0.9761996284506442,
          0.9184090569622612,
          0.9770442646558599,
          0.9809050569386615,
          0.9558768408990674,
          1.0273924041959692,
          1.0559242995382523,
          1.014986406486618,
          0.9821489178048532,
          1.0390304634409082,
          1.0278859288923456,
          1.086951258874347,
          0.9729879093487346,
          0.9037636306011412,
          0.9982397837849932,
          1.002001402716365,
          0.9582168217004738,
          1.0385453172172263,
          0.9951769411273318,
          0.9035891482049343,
          1.1048776432897458,
          1.038647679086894,
          1.015716839605215,
          0.9667648842211968,
          0.982029381798851,
          1.0499267886083035,
          1.0006115747799025,
          0.9833989176330045,
          1.0598890480392493,
          1.114125264881646,
          0.994027005998263,
          0.8789049049862392,
          1.1670788521065227,
          0.9589875125408749,
          1.041169205633149,
          1.1825833733738844,
          1.0208287831322989,
          0.9345206464515419,
          1.040852541704003,
          0.9702929433119708,
          0.9022286284377057,
          1.1321139333503016,
          1.1115798363130578,
          1.0015370841643112,
          0.995828336297215,
          0.9299621144873091,
          1.0620075166439646,
          0.8405977803126987,
          1.022037913995228,
          0.8660465720715269,
          1.0584940701583705,
          0.8775998416149391,
          1.0344299402161734,
          1.1371442113868448,
          0.9032917315334985,
          1.1282552447627867,
          0.8734569978026081,
          1.0887830303673132,
          0.9838253561726145,
          0.9432440425344419,
          0.988260532602854,
          1.0007995438877948,
          1.1314521200623509
         ],
         "yaxis": "y"
        },
        {
         "line": {
          "color": "black"
         },
         "name": "True MR",
         "showlegend": false,
         "type": "scatter",
         "x": [
          "MR"
         ],
         "xaxis": "x2",
         "y": [
          1.0000025032762818
         ],
         "yaxis": "y2"
        },
        {
         "marker": {
          "color": "blue"
         },
         "name": "MR",
         "showlegend": false,
         "type": "box",
         "xaxis": "x2",
         "y": [
          1.007867019524878,
          0.9665806440524725,
          0.9756192151337384,
          0.9887978944374234,
          1.0011232707056843,
          1.0427122589440647,
          1.058190772308775,
          0.9973508782118854,
          1.0202109711979195,
          0.9808260872840402,
          0.9923162142117066,
          1.0129116011334023,
          1.039974754355671,
          1.0327894178994943,
          1.0133664785782324,
          0.9901646474073998,
          0.9832016800733265,
          1.0073180575729315,
          0.9684839317787619,
          1.0118741881852518,
          0.9572974084066159,
          0.985468313346954,
          1.0116339402425498,
          0.9984922455793108,
          1.025598011015258,
          0.9383752980302555,
          1.0307261033119335,
          0.9683675200958684,
          0.9909823849666274,
          1.0200463593486775,
          0.965663744408573,
          1.0293918440151122,
          1.0322531952975404,
          1.0092907845192203,
          1.0120580575067233,
          0.9570720832401696,
          0.9896500802381556,
          0.9955791913631611,
          1.015980559360786,
          1.0021235748113035,
          0.9463472968243687,
          1.0048259256407368,
          0.9968185545625461,
          1.004691575957647,
          0.9724373056124598,
          0.9623725847920166,
          0.9817889807739992,
          0.9742989234988872,
          0.9897711315606705,
          1.033420404141114,
          0.9809194142960825,
          1.01788786847188,
          0.9955726874697177,
          1.04567931765405,
          1.0064402871808973,
          0.9786315796237148,
          0.9763436276121387,
          0.9650187379310824,
          0.9273710913824149,
          1.0192301595048359,
          1.0043068352934186,
          0.9752333539307889,
          1.0159298723756698,
          1.0093267253191565,
          0.9979431265942783,
          1.0004301163166065,
          0.9931340992401183,
          0.9775619398752584,
          1.0055406092013675,
          1.019743717080427,
          1.033624969685397,
          0.9776477459255075,
          0.9621430556984405,
          0.9985207023564362,
          0.9993435826643134,
          1.0249915058496004,
          1.003903405061466,
          1.012834477627678,
          0.9988278595825374,
          1.0313184929514572,
          1.0111329875938406,
          1.0000090236268298,
          1.0289942522325992,
          1.0268003676038293,
          0.9995135397601176,
          0.952162352458308,
          1.024903435250935,
          1.0019208780383306,
          0.9863981188299817,
          1.0183075776139021,
          0.969028956016412,
          1.0313973283050804,
          1.0492801774529728,
          1.0227289457480122,
          0.9937888622747069,
          0.9875407828573053,
          0.9799037626702856,
          1.0191842871611672,
          0.9867671454228195,
          1.0605832174877508
         ],
         "yaxis": "y2"
        },
        {
         "line": {
          "color": "red"
         },
         "name": "True MR",
         "showlegend": true,
         "type": "scatter",
         "x": [
          "MR"
         ],
         "xaxis": "x3",
         "y": [
          0.07456384163534846
         ],
         "yaxis": "y3"
        },
        {
         "marker": {
          "color": "cyan"
         },
         "name": "MR",
         "showlegend": true,
         "type": "box",
         "xaxis": "x3",
         "y": [
          0.07039311076535835,
          0.07289595535362788,
          0.07212509689602499,
          0.07131839073710948,
          0.07194207522413863,
          0.06906104308384231,
          0.06631874237926509,
          0.07540761813572827,
          0.07135585702873022,
          0.0731127296915938,
          0.07583525792225643,
          0.07831743596202528,
          0.06936336631311243,
          0.07548873288574037,
          0.07733516563596195,
          0.07193944105858656,
          0.07764055086386235,
          0.07917480730114079,
          0.07301469042918157,
          0.0758553335482553,
          0.07131437470984964,
          0.0725565243620191,
          0.07659049405486919,
          0.07341603362921342,
          0.07398244612821629,
          0.07377705463678755,
          0.07477598495966851,
          0.07003605005614155,
          0.07453017574800952,
          0.06989528046770231,
          0.07568395079307243,
          0.07675847054106313,
          0.07080350664480024,
          0.07366135642324033,
          0.07084744361949626,
          0.07945266179710025,
          0.07538936573443505,
          0.07441055826191652,
          0.07414798975285052,
          0.0723175907242678,
          0.07282703667950469,
          0.06667959326261207,
          0.07677462776920053,
          0.07866640998236417,
          0.06394015593438403,
          0.07106994846940916,
          0.07549408217721226,
          0.07455850996526615,
          0.0752433206290562,
          0.07160678728116242,
          0.07681046281752696,
          0.07215049141481425,
          0.08429412558154549,
          0.07212207683792007,
          0.07014256310264377,
          0.0684857872407877,
          0.07357357070348537,
          0.07253594849307424,
          0.07386309388790105,
          0.07294548805014481,
          0.07647870815274899,
          0.06742342146422788,
          0.07133678241340992,
          0.07290457085900177,
          0.06809581556754918,
          0.07358310803027479,
          0.07421924554983549,
          0.07649197718563729,
          0.08128166220805277,
          0.0732055697871348,
          0.07709512336218696,
          0.07510860314741737,
          0.06642599962328666,
          0.06894194407093703,
          0.07169301935416246,
          0.07458978455971675,
          0.07360536288101895,
          0.07381998920665406,
          0.0748098539824498,
          0.06844545020089286,
          0.07309600547323021,
          0.07552311588476868,
          0.07181753122147745,
          0.07972039368574034,
          0.07654325115424122,
          0.07295685044387139,
          0.07260838043239584,
          0.06720604089407842,
          0.07030126959945283,
          0.07106007828411239,
          0.0733726813693026,
          0.06666696673178982,
          0.07766232556409178,
          0.07212483488168277,
          0.07172779898273327,
          0.07316203185084628,
          0.07291426317779007,
          0.07441681599294597,
          0.07391128603615621,
          0.07636986859028749
         ],
         "yaxis": "y3"
        },
        {
         "line": {
          "color": "red"
         },
         "name": "True MR",
         "showlegend": false,
         "type": "scatter",
         "x": [
          "MR"
         ],
         "xaxis": "x4",
         "y": [
          0.025974474471676456
         ],
         "yaxis": "y4"
        },
        {
         "marker": {
          "color": "cyan"
         },
         "name": "MR",
         "showlegend": false,
         "type": "box",
         "xaxis": "x4",
         "y": [
          0.022968704014789645,
          0.022809407360701094,
          0.023936505613595914,
          0.023452881267219554,
          0.022928407416530593,
          0.023133800887399338,
          0.023372623741935845,
          0.022995718086114596,
          0.022418835600203604,
          0.022648963521537013,
          0.023472411318367477,
          0.02259233450833739,
          0.023287450412215645,
          0.023253538360704734,
          0.023384205078646095,
          0.02279130245364075,
          0.023179995573977933,
          0.02272205682373727,
          0.023102452278413593,
          0.023856445736349687,
          0.023290540952184073,
          0.023524620017179462,
          0.02308029358286452,
          0.023317414759468223,
          0.02308375398610671,
          0.0235674023979617,
          0.022933134583614786,
          0.023083585764315368,
          0.02328220800586316,
          0.02260061788347664,
          0.022882964427081973,
          0.0229890387977133,
          0.02316596103736893,
          0.022505647768960364,
          0.02294444775024133,
          0.02302851251045104,
          0.02245052712720466,
          0.022580345020640772,
          0.022924954952873076,
          0.023224324609062343,
          0.02272904321985122,
          0.022837817229057422,
          0.02349011411029581,
          0.023409645771659108,
          0.023013083745149588,
          0.02305300472439572,
          0.02296229164539704,
          0.022675117021696445,
          0.02254574213107534,
          0.022638084554932984,
          0.02325230672195245,
          0.02282733455214531,
          0.023183560463728502,
          0.02326323970613088,
          0.02363368210499251,
          0.02340232246608537,
          0.02297694041293463,
          0.02277649723655691,
          0.02314988337436245,
          0.023469878085839755,
          0.023218002475411326,
          0.022986925450071014,
          0.023385271405135036,
          0.023258125696901426,
          0.023218447178901133,
          0.023723486058428295,
          0.023486608144484312,
          0.022888917467088463,
          0.023079671701752184,
          0.022945520838683925,
          0.023111203657359646,
          0.023011994729013587,
          0.02307074976753779,
          0.022924634982256404,
          0.023162412353980248,
          0.023259430594946534,
          0.023302024825320896,
          0.023104879251567255,
          0.02322209107129622,
          0.023534176312309762,
          0.023082447714195986,
          0.022729117055643278,
          0.023308364359543855,
          0.02295700166315302,
          0.023079128961554923,
          0.022778963102050156,
          0.022988441951599062,
          0.023140589225909017,
          0.022526511370009498,
          0.02341305026925265,
          0.023248942275016,
          0.022501646664082,
          0.022881868228710706,
          0.02281522237376028,
          0.0227985090549672,
          0.023454220526582165,
          0.023417928200653942,
          0.022911956711717408,
          0.023014496125774966,
          0.022807627801097567
         ],
         "yaxis": "y4"
        }
       ],
       "layout": {
        "annotations": [
         {
          "font": {
           "size": 16
          },
          "showarrow": false,
          "text": "n=750, p=32",
          "x": 0.225,
          "xanchor": "center",
          "xref": "paper",
          "y": 1,
          "yanchor": "bottom",
          "yref": "paper"
         },
         {
          "font": {
           "size": 16
          },
          "showarrow": false,
          "text": "n=7500, p=300",
          "x": 0.775,
          "xanchor": "center",
          "xref": "paper",
          "y": 1,
          "yanchor": "bottom",
          "yref": "paper"
         }
        ],
        "height": 600,
        "template": {
         "data": {
          "bar": [
           {
            "error_x": {
             "color": "#2a3f5f"
            },
            "error_y": {
             "color": "#2a3f5f"
            },
            "marker": {
             "line": {
              "color": "#E5ECF6",
              "width": 0.5
             },
             "pattern": {
              "fillmode": "overlay",
              "size": 10,
              "solidity": 0.2
             }
            },
            "type": "bar"
           }
          ],
          "barpolar": [
           {
            "marker": {
             "line": {
              "color": "#E5ECF6",
              "width": 0.5
             },
             "pattern": {
              "fillmode": "overlay",
              "size": 10,
              "solidity": 0.2
             }
            },
            "type": "barpolar"
           }
          ],
          "carpet": [
           {
            "aaxis": {
             "endlinecolor": "#2a3f5f",
             "gridcolor": "white",
             "linecolor": "white",
             "minorgridcolor": "white",
             "startlinecolor": "#2a3f5f"
            },
            "baxis": {
             "endlinecolor": "#2a3f5f",
             "gridcolor": "white",
             "linecolor": "white",
             "minorgridcolor": "white",
             "startlinecolor": "#2a3f5f"
            },
            "type": "carpet"
           }
          ],
          "choropleth": [
           {
            "colorbar": {
             "outlinewidth": 0,
             "ticks": ""
            },
            "type": "choropleth"
           }
          ],
          "contour": [
           {
            "colorbar": {
             "outlinewidth": 0,
             "ticks": ""
            },
            "colorscale": [
             [
              0,
              "#0d0887"
             ],
             [
              0.1111111111111111,
              "#46039f"
             ],
             [
              0.2222222222222222,
              "#7201a8"
             ],
             [
              0.3333333333333333,
              "#9c179e"
             ],
             [
              0.4444444444444444,
              "#bd3786"
             ],
             [
              0.5555555555555556,
              "#d8576b"
             ],
             [
              0.6666666666666666,
              "#ed7953"
             ],
             [
              0.7777777777777778,
              "#fb9f3a"
             ],
             [
              0.8888888888888888,
              "#fdca26"
             ],
             [
              1,
              "#f0f921"
             ]
            ],
            "type": "contour"
           }
          ],
          "contourcarpet": [
           {
            "colorbar": {
             "outlinewidth": 0,
             "ticks": ""
            },
            "type": "contourcarpet"
           }
          ],
          "heatmap": [
           {
            "colorbar": {
             "outlinewidth": 0,
             "ticks": ""
            },
            "colorscale": [
             [
              0,
              "#0d0887"
             ],
             [
              0.1111111111111111,
              "#46039f"
             ],
             [
              0.2222222222222222,
              "#7201a8"
             ],
             [
              0.3333333333333333,
              "#9c179e"
             ],
             [
              0.4444444444444444,
              "#bd3786"
             ],
             [
              0.5555555555555556,
              "#d8576b"
             ],
             [
              0.6666666666666666,
              "#ed7953"
             ],
             [
              0.7777777777777778,
              "#fb9f3a"
             ],
             [
              0.8888888888888888,
              "#fdca26"
             ],
             [
              1,
              "#f0f921"
             ]
            ],
            "type": "heatmap"
           }
          ],
          "heatmapgl": [
           {
            "colorbar": {
             "outlinewidth": 0,
             "ticks": ""
            },
            "colorscale": [
             [
              0,
              "#0d0887"
             ],
             [
              0.1111111111111111,
              "#46039f"
             ],
             [
              0.2222222222222222,
              "#7201a8"
             ],
             [
              0.3333333333333333,
              "#9c179e"
             ],
             [
              0.4444444444444444,
              "#bd3786"
             ],
             [
              0.5555555555555556,
              "#d8576b"
             ],
             [
              0.6666666666666666,
              "#ed7953"
             ],
             [
              0.7777777777777778,
              "#fb9f3a"
             ],
             [
              0.8888888888888888,
              "#fdca26"
             ],
             [
              1,
              "#f0f921"
             ]
            ],
            "type": "heatmapgl"
           }
          ],
          "histogram": [
           {
            "marker": {
             "pattern": {
              "fillmode": "overlay",
              "size": 10,
              "solidity": 0.2
             }
            },
            "type": "histogram"
           }
          ],
          "histogram2d": [
           {
            "colorbar": {
             "outlinewidth": 0,
             "ticks": ""
            },
            "colorscale": [
             [
              0,
              "#0d0887"
             ],
             [
              0.1111111111111111,
              "#46039f"
             ],
             [
              0.2222222222222222,
              "#7201a8"
             ],
             [
              0.3333333333333333,
              "#9c179e"
             ],
             [
              0.4444444444444444,
              "#bd3786"
             ],
             [
              0.5555555555555556,
              "#d8576b"
             ],
             [
              0.6666666666666666,
              "#ed7953"
             ],
             [
              0.7777777777777778,
              "#fb9f3a"
             ],
             [
              0.8888888888888888,
              "#fdca26"
             ],
             [
              1,
              "#f0f921"
             ]
            ],
            "type": "histogram2d"
           }
          ],
          "histogram2dcontour": [
           {
            "colorbar": {
             "outlinewidth": 0,
             "ticks": ""
            },
            "colorscale": [
             [
              0,
              "#0d0887"
             ],
             [
              0.1111111111111111,
              "#46039f"
             ],
             [
              0.2222222222222222,
              "#7201a8"
             ],
             [
              0.3333333333333333,
              "#9c179e"
             ],
             [
              0.4444444444444444,
              "#bd3786"
             ],
             [
              0.5555555555555556,
              "#d8576b"
             ],
             [
              0.6666666666666666,
              "#ed7953"
             ],
             [
              0.7777777777777778,
              "#fb9f3a"
             ],
             [
              0.8888888888888888,
              "#fdca26"
             ],
             [
              1,
              "#f0f921"
             ]
            ],
            "type": "histogram2dcontour"
           }
          ],
          "mesh3d": [
           {
            "colorbar": {
             "outlinewidth": 0,
             "ticks": ""
            },
            "type": "mesh3d"
           }
          ],
          "parcoords": [
           {
            "line": {
             "colorbar": {
              "outlinewidth": 0,
              "ticks": ""
             }
            },
            "type": "parcoords"
           }
          ],
          "pie": [
           {
            "automargin": true,
            "type": "pie"
           }
          ],
          "scatter": [
           {
            "fillpattern": {
             "fillmode": "overlay",
             "size": 10,
             "solidity": 0.2
            },
            "type": "scatter"
           }
          ],
          "scatter3d": [
           {
            "line": {
             "colorbar": {
              "outlinewidth": 0,
              "ticks": ""
             }
            },
            "marker": {
             "colorbar": {
              "outlinewidth": 0,
              "ticks": ""
             }
            },
            "type": "scatter3d"
           }
          ],
          "scattercarpet": [
           {
            "marker": {
             "colorbar": {
              "outlinewidth": 0,
              "ticks": ""
             }
            },
            "type": "scattercarpet"
           }
          ],
          "scattergeo": [
           {
            "marker": {
             "colorbar": {
              "outlinewidth": 0,
              "ticks": ""
             }
            },
            "type": "scattergeo"
           }
          ],
          "scattergl": [
           {
            "marker": {
             "colorbar": {
              "outlinewidth": 0,
              "ticks": ""
             }
            },
            "type": "scattergl"
           }
          ],
          "scattermapbox": [
           {
            "marker": {
             "colorbar": {
              "outlinewidth": 0,
              "ticks": ""
             }
            },
            "type": "scattermapbox"
           }
          ],
          "scatterpolar": [
           {
            "marker": {
             "colorbar": {
              "outlinewidth": 0,
              "ticks": ""
             }
            },
            "type": "scatterpolar"
           }
          ],
          "scatterpolargl": [
           {
            "marker": {
             "colorbar": {
              "outlinewidth": 0,
              "ticks": ""
             }
            },
            "type": "scatterpolargl"
           }
          ],
          "scatterternary": [
           {
            "marker": {
             "colorbar": {
              "outlinewidth": 0,
              "ticks": ""
             }
            },
            "type": "scatterternary"
           }
          ],
          "surface": [
           {
            "colorbar": {
             "outlinewidth": 0,
             "ticks": ""
            },
            "colorscale": [
             [
              0,
              "#0d0887"
             ],
             [
              0.1111111111111111,
              "#46039f"
             ],
             [
              0.2222222222222222,
              "#7201a8"
             ],
             [
              0.3333333333333333,
              "#9c179e"
             ],
             [
              0.4444444444444444,
              "#bd3786"
             ],
             [
              0.5555555555555556,
              "#d8576b"
             ],
             [
              0.6666666666666666,
              "#ed7953"
             ],
             [
              0.7777777777777778,
              "#fb9f3a"
             ],
             [
              0.8888888888888888,
              "#fdca26"
             ],
             [
              1,
              "#f0f921"
             ]
            ],
            "type": "surface"
           }
          ],
          "table": [
           {
            "cells": {
             "fill": {
              "color": "#EBF0F8"
             },
             "line": {
              "color": "white"
             }
            },
            "header": {
             "fill": {
              "color": "#C8D4E3"
             },
             "line": {
              "color": "white"
             }
            },
            "type": "table"
           }
          ]
         },
         "layout": {
          "annotationdefaults": {
           "arrowcolor": "#2a3f5f",
           "arrowhead": 0,
           "arrowwidth": 1
          },
          "autotypenumbers": "strict",
          "coloraxis": {
           "colorbar": {
            "outlinewidth": 0,
            "ticks": ""
           }
          },
          "colorscale": {
           "diverging": [
            [
             0,
             "#8e0152"
            ],
            [
             0.1,
             "#c51b7d"
            ],
            [
             0.2,
             "#de77ae"
            ],
            [
             0.3,
             "#f1b6da"
            ],
            [
             0.4,
             "#fde0ef"
            ],
            [
             0.5,
             "#f7f7f7"
            ],
            [
             0.6,
             "#e6f5d0"
            ],
            [
             0.7,
             "#b8e186"
            ],
            [
             0.8,
             "#7fbc41"
            ],
            [
             0.9,
             "#4d9221"
            ],
            [
             1,
             "#276419"
            ]
           ],
           "sequential": [
            [
             0,
             "#0d0887"
            ],
            [
             0.1111111111111111,
             "#46039f"
            ],
            [
             0.2222222222222222,
             "#7201a8"
            ],
            [
             0.3333333333333333,
             "#9c179e"
            ],
            [
             0.4444444444444444,
             "#bd3786"
            ],
            [
             0.5555555555555556,
             "#d8576b"
            ],
            [
             0.6666666666666666,
             "#ed7953"
            ],
            [
             0.7777777777777778,
             "#fb9f3a"
            ],
            [
             0.8888888888888888,
             "#fdca26"
            ],
            [
             1,
             "#f0f921"
            ]
           ],
           "sequentialminus": [
            [
             0,
             "#0d0887"
            ],
            [
             0.1111111111111111,
             "#46039f"
            ],
            [
             0.2222222222222222,
             "#7201a8"
            ],
            [
             0.3333333333333333,
             "#9c179e"
            ],
            [
             0.4444444444444444,
             "#bd3786"
            ],
            [
             0.5555555555555556,
             "#d8576b"
            ],
            [
             0.6666666666666666,
             "#ed7953"
            ],
            [
             0.7777777777777778,
             "#fb9f3a"
            ],
            [
             0.8888888888888888,
             "#fdca26"
            ],
            [
             1,
             "#f0f921"
            ]
           ]
          },
          "colorway": [
           "#636efa",
           "#EF553B",
           "#00cc96",
           "#ab63fa",
           "#FFA15A",
           "#19d3f3",
           "#FF6692",
           "#B6E880",
           "#FF97FF",
           "#FECB52"
          ],
          "font": {
           "color": "#2a3f5f"
          },
          "geo": {
           "bgcolor": "white",
           "lakecolor": "white",
           "landcolor": "#E5ECF6",
           "showlakes": true,
           "showland": true,
           "subunitcolor": "white"
          },
          "hoverlabel": {
           "align": "left"
          },
          "hovermode": "closest",
          "mapbox": {
           "style": "light"
          },
          "paper_bgcolor": "white",
          "plot_bgcolor": "#E5ECF6",
          "polar": {
           "angularaxis": {
            "gridcolor": "white",
            "linecolor": "white",
            "ticks": ""
           },
           "bgcolor": "#E5ECF6",
           "radialaxis": {
            "gridcolor": "white",
            "linecolor": "white",
            "ticks": ""
           }
          },
          "scene": {
           "xaxis": {
            "backgroundcolor": "#E5ECF6",
            "gridcolor": "white",
            "gridwidth": 2,
            "linecolor": "white",
            "showbackground": true,
            "ticks": "",
            "zerolinecolor": "white"
           },
           "yaxis": {
            "backgroundcolor": "#E5ECF6",
            "gridcolor": "white",
            "gridwidth": 2,
            "linecolor": "white",
            "showbackground": true,
            "ticks": "",
            "zerolinecolor": "white"
           },
           "zaxis": {
            "backgroundcolor": "#E5ECF6",
            "gridcolor": "white",
            "gridwidth": 2,
            "linecolor": "white",
            "showbackground": true,
            "ticks": "",
            "zerolinecolor": "white"
           }
          },
          "shapedefaults": {
           "line": {
            "color": "#2a3f5f"
           }
          },
          "ternary": {
           "aaxis": {
            "gridcolor": "white",
            "linecolor": "white",
            "ticks": ""
           },
           "baxis": {
            "gridcolor": "white",
            "linecolor": "white",
            "ticks": ""
           },
           "bgcolor": "#E5ECF6",
           "caxis": {
            "gridcolor": "white",
            "linecolor": "white",
            "ticks": ""
           }
          },
          "title": {
           "x": 0.05
          },
          "xaxis": {
           "automargin": true,
           "gridcolor": "white",
           "linecolor": "white",
           "ticks": "",
           "title": {
            "standoff": 15
           },
           "zerolinecolor": "white",
           "zerolinewidth": 2
          },
          "yaxis": {
           "automargin": true,
           "gridcolor": "white",
           "linecolor": "white",
           "ticks": "",
           "title": {
            "standoff": 15
           },
           "zerolinecolor": "white",
           "zerolinewidth": 2
          }
         }
        },
        "title": {
         "text": "MR"
        },
        "width": 750,
        "xaxis": {
         "anchor": "y",
         "domain": [
          0,
          0.45
         ],
         "matches": "x3",
         "showticklabels": false
        },
        "xaxis2": {
         "anchor": "y2",
         "domain": [
          0.55,
          1
         ],
         "matches": "x4",
         "showticklabels": false
        },
        "xaxis3": {
         "anchor": "y3",
         "domain": [
          0,
          0.45
         ]
        },
        "xaxis4": {
         "anchor": "y4",
         "domain": [
          0.55,
          1
         ]
        },
        "yaxis": {
         "anchor": "x",
         "domain": [
          0.53,
          1
         ],
         "title": {
          "text": "Estimator Dist."
         }
        },
        "yaxis2": {
         "anchor": "x2",
         "domain": [
          0.53,
          1
         ]
        },
        "yaxis3": {
         "anchor": "x3",
         "domain": [
          0,
          0.47
         ],
         "title": {
          "text": "Stderr Dist."
         }
        },
        "yaxis4": {
         "anchor": "x4",
         "domain": [
          0,
          0.47
         ]
        }
       }
      },
      "text/html": [
       "<div>                            <div id=\"f2bb4d90-7b7b-45aa-93ec-e4f39f0a33b4\" class=\"plotly-graph-div\" style=\"height:600px; width:750px;\"></div>            <script type=\"text/javascript\">                require([\"plotly\"], function(Plotly) {                    window.PLOTLYENV=window.PLOTLYENV || {};                                    if (document.getElementById(\"f2bb4d90-7b7b-45aa-93ec-e4f39f0a33b4\")) {                    Plotly.newPlot(                        \"f2bb4d90-7b7b-45aa-93ec-e4f39f0a33b4\",                        [{\"line\":{\"color\":\"black\"},\"name\":\"True MR\",\"showlegend\":true,\"x\":[\"MR\"],\"y\":[1.0081594545678463],\"type\":\"scatter\",\"xaxis\":\"x\",\"yaxis\":\"y\"},{\"marker\":{\"color\":\"blue\"},\"name\":\"MR\",\"showlegend\":true,\"y\":[1.0711723815569836,1.116934777204343,0.9793683815749652,0.9578442941716565,1.0734752711454352,0.9951218127912878,1.1486801362327996,0.9569863031673751,0.950761848674684,0.9983071106164632,0.9905242006364667,0.9552992959308624,1.0537810867956816,0.9094760760754516,1.0408430612122892,0.9538247933300636,1.0007266780501562,1.0235311165423528,0.8712489216384318,1.0656736994181288,1.0613604065372866,0.9351307877679018,0.9998613325464221,0.9626697043789765,0.9755882237166351,0.936782234578952,0.9016455959083254,0.9885561979902626,1.113775472877823,1.0403986994297547,1.038679907173507,0.9874163073425078,1.1845555259002487,1.0366938034335131,1.0987504336183893,1.1123230861938427,0.9946908384247088,0.9761996284506442,0.9184090569622612,0.9770442646558599,0.9809050569386615,0.9558768408990674,1.0273924041959692,1.0559242995382523,1.014986406486618,0.9821489178048532,1.0390304634409082,1.0278859288923456,1.086951258874347,0.9729879093487346,0.9037636306011412,0.9982397837849932,1.002001402716365,0.9582168217004738,1.0385453172172263,0.9951769411273318,0.9035891482049343,1.1048776432897458,1.038647679086894,1.015716839605215,0.9667648842211968,0.982029381798851,1.0499267886083035,1.0006115747799025,0.9833989176330045,1.0598890480392493,1.114125264881646,0.994027005998263,0.8789049049862392,1.1670788521065227,0.9589875125408749,1.041169205633149,1.1825833733738844,1.0208287831322989,0.9345206464515419,1.040852541704003,0.9702929433119708,0.9022286284377057,1.1321139333503016,1.1115798363130578,1.0015370841643112,0.995828336297215,0.9299621144873091,1.0620075166439646,0.8405977803126987,1.022037913995228,0.8660465720715269,1.0584940701583705,0.8775998416149391,1.0344299402161734,1.1371442113868448,0.9032917315334985,1.1282552447627867,0.8734569978026081,1.0887830303673132,0.9838253561726145,0.9432440425344419,0.988260532602854,1.0007995438877948,1.1314521200623509],\"type\":\"box\",\"xaxis\":\"x\",\"yaxis\":\"y\"},{\"line\":{\"color\":\"black\"},\"name\":\"True MR\",\"showlegend\":false,\"x\":[\"MR\"],\"y\":[1.0000025032762818],\"type\":\"scatter\",\"xaxis\":\"x2\",\"yaxis\":\"y2\"},{\"marker\":{\"color\":\"blue\"},\"name\":\"MR\",\"showlegend\":false,\"y\":[1.007867019524878,0.9665806440524725,0.9756192151337384,0.9887978944374234,1.0011232707056843,1.0427122589440647,1.058190772308775,0.9973508782118854,1.0202109711979195,0.9808260872840402,0.9923162142117066,1.0129116011334023,1.039974754355671,1.0327894178994943,1.0133664785782324,0.9901646474073998,0.9832016800733265,1.0073180575729315,0.9684839317787619,1.0118741881852518,0.9572974084066159,0.985468313346954,1.0116339402425498,0.9984922455793108,1.025598011015258,0.9383752980302555,1.0307261033119335,0.9683675200958684,0.9909823849666274,1.0200463593486775,0.965663744408573,1.0293918440151122,1.0322531952975404,1.0092907845192203,1.0120580575067233,0.9570720832401696,0.9896500802381556,0.9955791913631611,1.015980559360786,1.0021235748113035,0.9463472968243687,1.0048259256407368,0.9968185545625461,1.004691575957647,0.9724373056124598,0.9623725847920166,0.9817889807739992,0.9742989234988872,0.9897711315606705,1.033420404141114,0.9809194142960825,1.01788786847188,0.9955726874697177,1.04567931765405,1.0064402871808973,0.9786315796237148,0.9763436276121387,0.9650187379310824,0.9273710913824149,1.0192301595048359,1.0043068352934186,0.9752333539307889,1.0159298723756698,1.0093267253191565,0.9979431265942783,1.0004301163166065,0.9931340992401183,0.9775619398752584,1.0055406092013675,1.019743717080427,1.033624969685397,0.9776477459255075,0.9621430556984405,0.9985207023564362,0.9993435826643134,1.0249915058496004,1.003903405061466,1.012834477627678,0.9988278595825374,1.0313184929514572,1.0111329875938406,1.0000090236268298,1.0289942522325992,1.0268003676038293,0.9995135397601176,0.952162352458308,1.024903435250935,1.0019208780383306,0.9863981188299817,1.0183075776139021,0.969028956016412,1.0313973283050804,1.0492801774529728,1.0227289457480122,0.9937888622747069,0.9875407828573053,0.9799037626702856,1.0191842871611672,0.9867671454228195,1.0605832174877508],\"type\":\"box\",\"xaxis\":\"x2\",\"yaxis\":\"y2\"},{\"line\":{\"color\":\"red\"},\"name\":\"True MR\",\"showlegend\":true,\"x\":[\"MR\"],\"y\":[0.07456384163534846],\"type\":\"scatter\",\"xaxis\":\"x3\",\"yaxis\":\"y3\"},{\"marker\":{\"color\":\"cyan\"},\"name\":\"MR\",\"showlegend\":true,\"y\":[0.07039311076535835,0.07289595535362788,0.07212509689602499,0.07131839073710948,0.07194207522413863,0.06906104308384231,0.06631874237926509,0.07540761813572827,0.07135585702873022,0.0731127296915938,0.07583525792225643,0.07831743596202528,0.06936336631311243,0.07548873288574037,0.07733516563596195,0.07193944105858656,0.07764055086386235,0.07917480730114079,0.07301469042918157,0.0758553335482553,0.07131437470984964,0.0725565243620191,0.07659049405486919,0.07341603362921342,0.07398244612821629,0.07377705463678755,0.07477598495966851,0.07003605005614155,0.07453017574800952,0.06989528046770231,0.07568395079307243,0.07675847054106313,0.07080350664480024,0.07366135642324033,0.07084744361949626,0.07945266179710025,0.07538936573443505,0.07441055826191652,0.07414798975285052,0.0723175907242678,0.07282703667950469,0.06667959326261207,0.07677462776920053,0.07866640998236417,0.06394015593438403,0.07106994846940916,0.07549408217721226,0.07455850996526615,0.0752433206290562,0.07160678728116242,0.07681046281752696,0.07215049141481425,0.08429412558154549,0.07212207683792007,0.07014256310264377,0.0684857872407877,0.07357357070348537,0.07253594849307424,0.07386309388790105,0.07294548805014481,0.07647870815274899,0.06742342146422788,0.07133678241340992,0.07290457085900177,0.06809581556754918,0.07358310803027479,0.07421924554983549,0.07649197718563729,0.08128166220805277,0.0732055697871348,0.07709512336218696,0.07510860314741737,0.06642599962328666,0.06894194407093703,0.07169301935416246,0.07458978455971675,0.07360536288101895,0.07381998920665406,0.0748098539824498,0.06844545020089286,0.07309600547323021,0.07552311588476868,0.07181753122147745,0.07972039368574034,0.07654325115424122,0.07295685044387139,0.07260838043239584,0.06720604089407842,0.07030126959945283,0.07106007828411239,0.0733726813693026,0.06666696673178982,0.07766232556409178,0.07212483488168277,0.07172779898273327,0.07316203185084628,0.07291426317779007,0.07441681599294597,0.07391128603615621,0.07636986859028749],\"type\":\"box\",\"xaxis\":\"x3\",\"yaxis\":\"y3\"},{\"line\":{\"color\":\"red\"},\"name\":\"True MR\",\"showlegend\":false,\"x\":[\"MR\"],\"y\":[0.025974474471676456],\"type\":\"scatter\",\"xaxis\":\"x4\",\"yaxis\":\"y4\"},{\"marker\":{\"color\":\"cyan\"},\"name\":\"MR\",\"showlegend\":false,\"y\":[0.022968704014789645,0.022809407360701094,0.023936505613595914,0.023452881267219554,0.022928407416530593,0.023133800887399338,0.023372623741935845,0.022995718086114596,0.022418835600203604,0.022648963521537013,0.023472411318367477,0.02259233450833739,0.023287450412215645,0.023253538360704734,0.023384205078646095,0.02279130245364075,0.023179995573977933,0.02272205682373727,0.023102452278413593,0.023856445736349687,0.023290540952184073,0.023524620017179462,0.02308029358286452,0.023317414759468223,0.02308375398610671,0.0235674023979617,0.022933134583614786,0.023083585764315368,0.02328220800586316,0.02260061788347664,0.022882964427081973,0.0229890387977133,0.02316596103736893,0.022505647768960364,0.02294444775024133,0.02302851251045104,0.02245052712720466,0.022580345020640772,0.022924954952873076,0.023224324609062343,0.02272904321985122,0.022837817229057422,0.02349011411029581,0.023409645771659108,0.023013083745149588,0.02305300472439572,0.02296229164539704,0.022675117021696445,0.02254574213107534,0.022638084554932984,0.02325230672195245,0.02282733455214531,0.023183560463728502,0.02326323970613088,0.02363368210499251,0.02340232246608537,0.02297694041293463,0.02277649723655691,0.02314988337436245,0.023469878085839755,0.023218002475411326,0.022986925450071014,0.023385271405135036,0.023258125696901426,0.023218447178901133,0.023723486058428295,0.023486608144484312,0.022888917467088463,0.023079671701752184,0.022945520838683925,0.023111203657359646,0.023011994729013587,0.02307074976753779,0.022924634982256404,0.023162412353980248,0.023259430594946534,0.023302024825320896,0.023104879251567255,0.02322209107129622,0.023534176312309762,0.023082447714195986,0.022729117055643278,0.023308364359543855,0.02295700166315302,0.023079128961554923,0.022778963102050156,0.022988441951599062,0.023140589225909017,0.022526511370009498,0.02341305026925265,0.023248942275016,0.022501646664082,0.022881868228710706,0.02281522237376028,0.0227985090549672,0.023454220526582165,0.023417928200653942,0.022911956711717408,0.023014496125774966,0.022807627801097567],\"type\":\"box\",\"xaxis\":\"x4\",\"yaxis\":\"y4\"}],                        {\"template\":{\"data\":{\"histogram2dcontour\":[{\"type\":\"histogram2dcontour\",\"colorbar\":{\"outlinewidth\":0,\"ticks\":\"\"},\"colorscale\":[[0.0,\"#0d0887\"],[0.1111111111111111,\"#46039f\"],[0.2222222222222222,\"#7201a8\"],[0.3333333333333333,\"#9c179e\"],[0.4444444444444444,\"#bd3786\"],[0.5555555555555556,\"#d8576b\"],[0.6666666666666666,\"#ed7953\"],[0.7777777777777778,\"#fb9f3a\"],[0.8888888888888888,\"#fdca26\"],[1.0,\"#f0f921\"]]}],\"choropleth\":[{\"type\":\"choropleth\",\"colorbar\":{\"outlinewidth\":0,\"ticks\":\"\"}}],\"histogram2d\":[{\"type\":\"histogram2d\",\"colorbar\":{\"outlinewidth\":0,\"ticks\":\"\"},\"colorscale\":[[0.0,\"#0d0887\"],[0.1111111111111111,\"#46039f\"],[0.2222222222222222,\"#7201a8\"],[0.3333333333333333,\"#9c179e\"],[0.4444444444444444,\"#bd3786\"],[0.5555555555555556,\"#d8576b\"],[0.6666666666666666,\"#ed7953\"],[0.7777777777777778,\"#fb9f3a\"],[0.8888888888888888,\"#fdca26\"],[1.0,\"#f0f921\"]]}],\"heatmap\":[{\"type\":\"heatmap\",\"colorbar\":{\"outlinewidth\":0,\"ticks\":\"\"},\"colorscale\":[[0.0,\"#0d0887\"],[0.1111111111111111,\"#46039f\"],[0.2222222222222222,\"#7201a8\"],[0.3333333333333333,\"#9c179e\"],[0.4444444444444444,\"#bd3786\"],[0.5555555555555556,\"#d8576b\"],[0.6666666666666666,\"#ed7953\"],[0.7777777777777778,\"#fb9f3a\"],[0.8888888888888888,\"#fdca26\"],[1.0,\"#f0f921\"]]}],\"heatmapgl\":[{\"type\":\"heatmapgl\",\"colorbar\":{\"outlinewidth\":0,\"ticks\":\"\"},\"colorscale\":[[0.0,\"#0d0887\"],[0.1111111111111111,\"#46039f\"],[0.2222222222222222,\"#7201a8\"],[0.3333333333333333,\"#9c179e\"],[0.4444444444444444,\"#bd3786\"],[0.5555555555555556,\"#d8576b\"],[0.6666666666666666,\"#ed7953\"],[0.7777777777777778,\"#fb9f3a\"],[0.8888888888888888,\"#fdca26\"],[1.0,\"#f0f921\"]]}],\"contourcarpet\":[{\"type\":\"contourcarpet\",\"colorbar\":{\"outlinewidth\":0,\"ticks\":\"\"}}],\"contour\":[{\"type\":\"contour\",\"colorbar\":{\"outlinewidth\":0,\"ticks\":\"\"},\"colorscale\":[[0.0,\"#0d0887\"],[0.1111111111111111,\"#46039f\"],[0.2222222222222222,\"#7201a8\"],[0.3333333333333333,\"#9c179e\"],[0.4444444444444444,\"#bd3786\"],[0.5555555555555556,\"#d8576b\"],[0.6666666666666666,\"#ed7953\"],[0.7777777777777778,\"#fb9f3a\"],[0.8888888888888888,\"#fdca26\"],[1.0,\"#f0f921\"]]}],\"surface\":[{\"type\":\"surface\",\"colorbar\":{\"outlinewidth\":0,\"ticks\":\"\"},\"colorscale\":[[0.0,\"#0d0887\"],[0.1111111111111111,\"#46039f\"],[0.2222222222222222,\"#7201a8\"],[0.3333333333333333,\"#9c179e\"],[0.4444444444444444,\"#bd3786\"],[0.5555555555555556,\"#d8576b\"],[0.6666666666666666,\"#ed7953\"],[0.7777777777777778,\"#fb9f3a\"],[0.8888888888888888,\"#fdca26\"],[1.0,\"#f0f921\"]]}],\"mesh3d\":[{\"type\":\"mesh3d\",\"colorbar\":{\"outlinewidth\":0,\"ticks\":\"\"}}],\"scatter\":[{\"fillpattern\":{\"fillmode\":\"overlay\",\"size\":10,\"solidity\":0.2},\"type\":\"scatter\"}],\"parcoords\":[{\"type\":\"parcoords\",\"line\":{\"colorbar\":{\"outlinewidth\":0,\"ticks\":\"\"}}}],\"scatterpolargl\":[{\"type\":\"scatterpolargl\",\"marker\":{\"colorbar\":{\"outlinewidth\":0,\"ticks\":\"\"}}}],\"bar\":[{\"error_x\":{\"color\":\"#2a3f5f\"},\"error_y\":{\"color\":\"#2a3f5f\"},\"marker\":{\"line\":{\"color\":\"#E5ECF6\",\"width\":0.5},\"pattern\":{\"fillmode\":\"overlay\",\"size\":10,\"solidity\":0.2}},\"type\":\"bar\"}],\"scattergeo\":[{\"type\":\"scattergeo\",\"marker\":{\"colorbar\":{\"outlinewidth\":0,\"ticks\":\"\"}}}],\"scatterpolar\":[{\"type\":\"scatterpolar\",\"marker\":{\"colorbar\":{\"outlinewidth\":0,\"ticks\":\"\"}}}],\"histogram\":[{\"marker\":{\"pattern\":{\"fillmode\":\"overlay\",\"size\":10,\"solidity\":0.2}},\"type\":\"histogram\"}],\"scattergl\":[{\"type\":\"scattergl\",\"marker\":{\"colorbar\":{\"outlinewidth\":0,\"ticks\":\"\"}}}],\"scatter3d\":[{\"type\":\"scatter3d\",\"line\":{\"colorbar\":{\"outlinewidth\":0,\"ticks\":\"\"}},\"marker\":{\"colorbar\":{\"outlinewidth\":0,\"ticks\":\"\"}}}],\"scattermapbox\":[{\"type\":\"scattermapbox\",\"marker\":{\"colorbar\":{\"outlinewidth\":0,\"ticks\":\"\"}}}],\"scatterternary\":[{\"type\":\"scatterternary\",\"marker\":{\"colorbar\":{\"outlinewidth\":0,\"ticks\":\"\"}}}],\"scattercarpet\":[{\"type\":\"scattercarpet\",\"marker\":{\"colorbar\":{\"outlinewidth\":0,\"ticks\":\"\"}}}],\"carpet\":[{\"aaxis\":{\"endlinecolor\":\"#2a3f5f\",\"gridcolor\":\"white\",\"linecolor\":\"white\",\"minorgridcolor\":\"white\",\"startlinecolor\":\"#2a3f5f\"},\"baxis\":{\"endlinecolor\":\"#2a3f5f\",\"gridcolor\":\"white\",\"linecolor\":\"white\",\"minorgridcolor\":\"white\",\"startlinecolor\":\"#2a3f5f\"},\"type\":\"carpet\"}],\"table\":[{\"cells\":{\"fill\":{\"color\":\"#EBF0F8\"},\"line\":{\"color\":\"white\"}},\"header\":{\"fill\":{\"color\":\"#C8D4E3\"},\"line\":{\"color\":\"white\"}},\"type\":\"table\"}],\"barpolar\":[{\"marker\":{\"line\":{\"color\":\"#E5ECF6\",\"width\":0.5},\"pattern\":{\"fillmode\":\"overlay\",\"size\":10,\"solidity\":0.2}},\"type\":\"barpolar\"}],\"pie\":[{\"automargin\":true,\"type\":\"pie\"}]},\"layout\":{\"autotypenumbers\":\"strict\",\"colorway\":[\"#636efa\",\"#EF553B\",\"#00cc96\",\"#ab63fa\",\"#FFA15A\",\"#19d3f3\",\"#FF6692\",\"#B6E880\",\"#FF97FF\",\"#FECB52\"],\"font\":{\"color\":\"#2a3f5f\"},\"hovermode\":\"closest\",\"hoverlabel\":{\"align\":\"left\"},\"paper_bgcolor\":\"white\",\"plot_bgcolor\":\"#E5ECF6\",\"polar\":{\"bgcolor\":\"#E5ECF6\",\"angularaxis\":{\"gridcolor\":\"white\",\"linecolor\":\"white\",\"ticks\":\"\"},\"radialaxis\":{\"gridcolor\":\"white\",\"linecolor\":\"white\",\"ticks\":\"\"}},\"ternary\":{\"bgcolor\":\"#E5ECF6\",\"aaxis\":{\"gridcolor\":\"white\",\"linecolor\":\"white\",\"ticks\":\"\"},\"baxis\":{\"gridcolor\":\"white\",\"linecolor\":\"white\",\"ticks\":\"\"},\"caxis\":{\"gridcolor\":\"white\",\"linecolor\":\"white\",\"ticks\":\"\"}},\"coloraxis\":{\"colorbar\":{\"outlinewidth\":0,\"ticks\":\"\"}},\"colorscale\":{\"sequential\":[[0.0,\"#0d0887\"],[0.1111111111111111,\"#46039f\"],[0.2222222222222222,\"#7201a8\"],[0.3333333333333333,\"#9c179e\"],[0.4444444444444444,\"#bd3786\"],[0.5555555555555556,\"#d8576b\"],[0.6666666666666666,\"#ed7953\"],[0.7777777777777778,\"#fb9f3a\"],[0.8888888888888888,\"#fdca26\"],[1.0,\"#f0f921\"]],\"sequentialminus\":[[0.0,\"#0d0887\"],[0.1111111111111111,\"#46039f\"],[0.2222222222222222,\"#7201a8\"],[0.3333333333333333,\"#9c179e\"],[0.4444444444444444,\"#bd3786\"],[0.5555555555555556,\"#d8576b\"],[0.6666666666666666,\"#ed7953\"],[0.7777777777777778,\"#fb9f3a\"],[0.8888888888888888,\"#fdca26\"],[1.0,\"#f0f921\"]],\"diverging\":[[0,\"#8e0152\"],[0.1,\"#c51b7d\"],[0.2,\"#de77ae\"],[0.3,\"#f1b6da\"],[0.4,\"#fde0ef\"],[0.5,\"#f7f7f7\"],[0.6,\"#e6f5d0\"],[0.7,\"#b8e186\"],[0.8,\"#7fbc41\"],[0.9,\"#4d9221\"],[1,\"#276419\"]]},\"xaxis\":{\"gridcolor\":\"white\",\"linecolor\":\"white\",\"ticks\":\"\",\"title\":{\"standoff\":15},\"zerolinecolor\":\"white\",\"automargin\":true,\"zerolinewidth\":2},\"yaxis\":{\"gridcolor\":\"white\",\"linecolor\":\"white\",\"ticks\":\"\",\"title\":{\"standoff\":15},\"zerolinecolor\":\"white\",\"automargin\":true,\"zerolinewidth\":2},\"scene\":{\"xaxis\":{\"backgroundcolor\":\"#E5ECF6\",\"gridcolor\":\"white\",\"linecolor\":\"white\",\"showbackground\":true,\"ticks\":\"\",\"zerolinecolor\":\"white\",\"gridwidth\":2},\"yaxis\":{\"backgroundcolor\":\"#E5ECF6\",\"gridcolor\":\"white\",\"linecolor\":\"white\",\"showbackground\":true,\"ticks\":\"\",\"zerolinecolor\":\"white\",\"gridwidth\":2},\"zaxis\":{\"backgroundcolor\":\"#E5ECF6\",\"gridcolor\":\"white\",\"linecolor\":\"white\",\"showbackground\":true,\"ticks\":\"\",\"zerolinecolor\":\"white\",\"gridwidth\":2}},\"shapedefaults\":{\"line\":{\"color\":\"#2a3f5f\"}},\"annotationdefaults\":{\"arrowcolor\":\"#2a3f5f\",\"arrowhead\":0,\"arrowwidth\":1},\"geo\":{\"bgcolor\":\"white\",\"landcolor\":\"#E5ECF6\",\"subunitcolor\":\"white\",\"showland\":true,\"showlakes\":true,\"lakecolor\":\"white\"},\"title\":{\"x\":0.05},\"mapbox\":{\"style\":\"light\"}}},\"xaxis\":{\"anchor\":\"y\",\"domain\":[0.0,0.45],\"matches\":\"x3\",\"showticklabels\":false},\"yaxis\":{\"anchor\":\"x\",\"domain\":[0.53,1.0],\"title\":{\"text\":\"Estimator Dist.\"}},\"xaxis2\":{\"anchor\":\"y2\",\"domain\":[0.55,1.0],\"matches\":\"x4\",\"showticklabels\":false},\"yaxis2\":{\"anchor\":\"x2\",\"domain\":[0.53,1.0]},\"xaxis3\":{\"anchor\":\"y3\",\"domain\":[0.0,0.45]},\"yaxis3\":{\"anchor\":\"x3\",\"domain\":[0.0,0.47],\"title\":{\"text\":\"Stderr Dist.\"}},\"xaxis4\":{\"anchor\":\"y4\",\"domain\":[0.55,1.0]},\"yaxis4\":{\"anchor\":\"x4\",\"domain\":[0.0,0.47]},\"annotations\":[{\"font\":{\"size\":16},\"showarrow\":false,\"text\":\"n=750, p=32\",\"x\":0.225,\"xanchor\":\"center\",\"xref\":\"paper\",\"y\":1.0,\"yanchor\":\"bottom\",\"yref\":\"paper\"},{\"font\":{\"size\":16},\"showarrow\":false,\"text\":\"n=7500, p=300\",\"x\":0.775,\"xanchor\":\"center\",\"xref\":\"paper\",\"y\":1.0,\"yanchor\":\"bottom\",\"yref\":\"paper\"}],\"height\":600,\"width\":750,\"title\":{\"text\":\"MR\"}},                        {\"responsive\": true}                    ).then(function(){\n",
       "                            \n",
       "var gd = document.getElementById('f2bb4d90-7b7b-45aa-93ec-e4f39f0a33b4');\n",
       "var x = new MutationObserver(function (mutations, observer) {{\n",
       "        var display = window.getComputedStyle(gd).display;\n",
       "        if (!display || display === 'none') {{\n",
       "            console.log([gd, 'removed!']);\n",
       "            Plotly.purge(gd);\n",
       "            observer.disconnect();\n",
       "        }}\n",
       "}});\n",
       "\n",
       "// Listen for the removal of the full notebook cells\n",
       "var notebookContainer = gd.closest('#notebook-container');\n",
       "if (notebookContainer) {{\n",
       "    x.observe(notebookContainer, {childList: true});\n",
       "}}\n",
       "\n",
       "// Listen for the clearing of the current output cell\n",
       "var outputEl = gd.closest('.output');\n",
       "if (outputEl) {{\n",
       "    x.observe(outputEl, {childList: true});\n",
       "}}\n",
       "\n",
       "                        })                };                });            </script>        </div>"
      ]
     },
     "metadata": {},
     "output_type": "display_data"
    }
   ],
   "source": [
    "\n",
    "import plotly.graph_objects as go\n",
    "from plotly.subplots import make_subplots\n",
    "\n",
    "fig = make_subplots(\n",
    "    rows=2, cols=2,\n",
    "    shared_xaxes=True,\n",
    "    vertical_spacing=0.06,\n",
    "    subplot_titles=('n=750, p=32', 'n=7500, p=300'\n",
    "                   ),\n",
    ")\n",
    "\n",
    "n750 = mr_estimates3_experiment[mr_estimates3_experiment['n']==750]\n",
    "n7500 = mr_estimates3_experiment[mr_estimates3_experiment['n']==7500]\n",
    "\n",
    "n750 = n750[n750['se0_mr_oracle_only']<2]\n",
    "n7500 = n7500[n7500['se0_mr_oracle_only']<2]\n",
    "\n",
    "\n",
    "fig.add_trace(\n",
    "    go.Scatter(\n",
    "                x=[r'MR'],\n",
    "                y=[n750['mr_oracle_only'].mean()],\n",
    "                line_color='black', showlegend=True, name=r'True MR'\n",
    "            ),\n",
    "    row=1, col=1,\n",
    ")\n",
    "#####\n",
    "fig.add_trace(\n",
    "    go.Box(\n",
    "                y=n750['mr_oracle_only'],\n",
    "                name=r'MR',\n",
    "                marker_color='blue',\n",
    "                showlegend=True\n",
    "),\n",
    "    row=1, col=1,\n",
    ")\n",
    "\n",
    "fig.add_trace(\n",
    "    go.Scatter(\n",
    "                x=[r'MR'],\n",
    "                y=[n7500['mr_oracle_only'].mean()],\n",
    "                line_color='black', showlegend=False, name=r'True MR'\n",
    "            ),\n",
    "    row=1, col=2,\n",
    ")\n",
    "#####\n",
    "fig.add_trace(\n",
    "    go.Box(\n",
    "                y=n7500['mr_oracle_only'],\n",
    "                name=r'MR',\n",
    "                marker_color='blue',\n",
    "                showlegend=False\n",
    "),\n",
    "    row=1, col=2,\n",
    ")\n",
    "\n",
    "\n",
    "fig.add_trace(\n",
    "    go.Scatter(\n",
    "                x=[r'MR'],\n",
    "                y=[n750['mr_oracle_only'].std()],\n",
    "                line_color='red', showlegend=True, name=r'True MR'\n",
    "            ),\n",
    "    row=2, col=1,\n",
    ")\n",
    "#####\n",
    "fig.add_trace(\n",
    "    go.Box(\n",
    "                y=n750['se0_mr_oracle_only'],\n",
    "                name=r'MR',\n",
    "                marker_color='cyan',\n",
    "                showlegend=True\n",
    "),\n",
    "    row=2, col=1,\n",
    ")\n",
    "\n",
    "fig.add_trace(\n",
    "    go.Scatter(\n",
    "                x=[r'MR'],\n",
    "                y=[n7500['mr_oracle_only'].std()],\n",
    "                line_color='red', showlegend=False, name=r'True MR'\n",
    "            ),\n",
    "    row=2, col=2,\n",
    ")\n",
    "#####\n",
    "fig.add_trace(\n",
    "    go.Box(\n",
    "                y=n7500['se0_mr_oracle_only'],\n",
    "                name=r'MR',\n",
    "                marker_color='cyan',\n",
    "                showlegend=False\n",
    "),\n",
    "    row=2, col=2,\n",
    ")\n",
    "\n",
    "# fig.update_xaxes()\n",
    "fig.update_layout(height=600, width=750,\n",
    "                  yaxis = {'title': 'Estimator Dist.'},\n",
    "                  yaxis3 = {'title': 'Stderr Dist.'},\n",
    "                  title=f'MR'\n",
    "                 )\n",
    "\n",
    "\n",
    "fig.write_image(\"/home/mr/Pictures/sims/low-conf-MR-asympt-std.pdf\")\n",
    "\n",
    "fig.show()"
   ]
  },
  {
   "cell_type": "code",
   "execution_count": null,
   "metadata": {},
   "outputs": [],
   "source": []
  },
  {
   "cell_type": "code",
   "execution_count": null,
   "metadata": {},
   "outputs": [],
   "source": []
  },
  {
   "cell_type": "code",
   "execution_count": 35,
   "metadata": {},
   "outputs": [
    {
     "data": {
      "application/vnd.plotly.v1+json": {
       "config": {
        "plotlyServerURL": "https://plot.ly"
       },
       "data": [
        {
         "line": {
          "color": "black"
         },
         "name": "True MR",
         "showlegend": true,
         "type": "scatter",
         "x": [
          "MR"
         ],
         "xaxis": "x",
         "y": [
          1.0081594545678463
         ],
         "yaxis": "y"
        },
        {
         "marker": {
          "color": "blue"
         },
         "name": "MR",
         "showlegend": true,
         "type": "box",
         "xaxis": "x",
         "y": [
          1.0711723815569836,
          1.116934777204343,
          0.9793683815749652,
          0.9578442941716565,
          1.0734752711454352,
          0.9951218127912878,
          1.1486801362327996,
          0.9569863031673751,
          0.950761848674684,
          0.9983071106164632,
          0.9905242006364667,
          0.9552992959308624,
          1.0537810867956816,
          0.9094760760754516,
          1.0408430612122892,
          0.9538247933300636,
          1.0007266780501562,
          1.0235311165423528,
          0.8712489216384318,
          1.0656736994181288,
          1.0613604065372866,
          0.9351307877679018,
          0.9998613325464221,
          0.9626697043789765,
          0.9755882237166351,
          0.936782234578952,
          0.9016455959083254,
          0.9885561979902626,
          1.113775472877823,
          1.0403986994297547,
          1.038679907173507,
          0.9874163073425078,
          1.1845555259002487,
          1.0366938034335131,
          1.0987504336183893,
          1.1123230861938427,
          0.9946908384247088,
          0.9761996284506442,
          0.9184090569622612,
          0.9770442646558599,
          0.9809050569386615,
          0.9558768408990674,
          1.0273924041959692,
          1.0559242995382523,
          1.014986406486618,
          0.9821489178048532,
          1.0390304634409082,
          1.0278859288923456,
          1.086951258874347,
          0.9729879093487346,
          0.9037636306011412,
          0.9982397837849932,
          1.002001402716365,
          0.9582168217004738,
          1.0385453172172263,
          0.9951769411273318,
          0.9035891482049343,
          1.1048776432897458,
          1.038647679086894,
          1.015716839605215,
          0.9667648842211968,
          0.982029381798851,
          1.0499267886083035,
          1.0006115747799025,
          0.9833989176330045,
          1.0598890480392493,
          1.114125264881646,
          0.994027005998263,
          0.8789049049862392,
          1.1670788521065227,
          0.9589875125408749,
          1.041169205633149,
          1.1825833733738844,
          1.0208287831322989,
          0.9345206464515419,
          1.040852541704003,
          0.9702929433119708,
          0.9022286284377057,
          1.1321139333503016,
          1.1115798363130578,
          1.0015370841643112,
          0.995828336297215,
          0.9299621144873091,
          1.0620075166439646,
          0.8405977803126987,
          1.022037913995228,
          0.8660465720715269,
          1.0584940701583705,
          0.8775998416149391,
          1.0344299402161734,
          1.1371442113868448,
          0.9032917315334985,
          1.1282552447627867,
          0.8734569978026081,
          1.0887830303673132,
          0.9838253561726145,
          0.9432440425344419,
          0.988260532602854,
          1.0007995438877948,
          1.1314521200623509
         ],
         "yaxis": "y"
        },
        {
         "line": {
          "color": "black"
         },
         "name": "True MR",
         "showlegend": false,
         "type": "scatter",
         "x": [
          "MR"
         ],
         "xaxis": "x2",
         "y": [
          null
         ],
         "yaxis": "y2"
        },
        {
         "marker": {
          "color": "blue"
         },
         "name": "MR",
         "showlegend": false,
         "type": "box",
         "xaxis": "x2",
         "y": [],
         "yaxis": "y2"
        },
        {
         "line": {
          "color": "red"
         },
         "name": "True MR",
         "showlegend": true,
         "type": "scatter",
         "x": [
          "MR"
         ],
         "xaxis": "x3",
         "y": [
          0.07456384163534846
         ],
         "yaxis": "y3"
        },
        {
         "marker": {
          "color": "cyan"
         },
         "name": "MR",
         "showlegend": true,
         "type": "box",
         "xaxis": "x3",
         "y": [
          0.07039311076535835,
          0.07289595535362788,
          0.07212509689602499,
          0.07131839073710948,
          0.07194207522413863,
          0.06906104308384231,
          0.06631874237926509,
          0.07540761813572827,
          0.07135585702873022,
          0.0731127296915938,
          0.07583525792225643,
          0.07831743596202528,
          0.06936336631311243,
          0.07548873288574037,
          0.07733516563596195,
          0.07193944105858656,
          0.07764055086386235,
          0.07917480730114079,
          0.07301469042918157,
          0.0758553335482553,
          0.07131437470984964,
          0.0725565243620191,
          0.07659049405486919,
          0.07341603362921342,
          0.07398244612821629,
          0.07377705463678755,
          0.07477598495966851,
          0.07003605005614155,
          0.07453017574800952,
          0.06989528046770231,
          0.07568395079307243,
          0.07675847054106313,
          0.07080350664480024,
          0.07366135642324033,
          0.07084744361949626,
          0.07945266179710025,
          0.07538936573443505,
          0.07441055826191652,
          0.07414798975285052,
          0.0723175907242678,
          0.07282703667950469,
          0.06667959326261207,
          0.07677462776920053,
          0.07866640998236417,
          0.06394015593438403,
          0.07106994846940916,
          0.07549408217721226,
          0.07455850996526615,
          0.0752433206290562,
          0.07160678728116242,
          0.07681046281752696,
          0.07215049141481425,
          0.08429412558154549,
          0.07212207683792007,
          0.07014256310264377,
          0.0684857872407877,
          0.07357357070348537,
          0.07253594849307424,
          0.07386309388790105,
          0.07294548805014481,
          0.07647870815274899,
          0.06742342146422788,
          0.07133678241340992,
          0.07290457085900177,
          0.06809581556754918,
          0.07358310803027479,
          0.07421924554983549,
          0.07649197718563729,
          0.08128166220805277,
          0.0732055697871348,
          0.07709512336218696,
          0.07510860314741737,
          0.06642599962328666,
          0.06894194407093703,
          0.07169301935416246,
          0.07458978455971675,
          0.07360536288101895,
          0.07381998920665406,
          0.0748098539824498,
          0.06844545020089286,
          0.07309600547323021,
          0.07552311588476868,
          0.07181753122147745,
          0.07972039368574034,
          0.07654325115424122,
          0.07295685044387139,
          0.07260838043239584,
          0.06720604089407842,
          0.07030126959945283,
          0.07106007828411239,
          0.0733726813693026,
          0.06666696673178982,
          0.07766232556409178,
          0.07212483488168277,
          0.07172779898273327,
          0.07316203185084628,
          0.07291426317779007,
          0.07441681599294597,
          0.07391128603615621,
          0.07636986859028749
         ],
         "yaxis": "y3"
        },
        {
         "line": {
          "color": "red"
         },
         "name": "True MR",
         "showlegend": false,
         "type": "scatter",
         "x": [
          "MR"
         ],
         "xaxis": "x4",
         "y": [
          null
         ],
         "yaxis": "y4"
        },
        {
         "marker": {
          "color": "cyan"
         },
         "name": "MR",
         "showlegend": false,
         "type": "box",
         "xaxis": "x4",
         "y": [],
         "yaxis": "y4"
        }
       ],
       "layout": {
        "annotations": [
         {
          "font": {
           "size": 16
          },
          "showarrow": false,
          "text": "n=750, p=8",
          "x": 0.225,
          "xanchor": "center",
          "xref": "paper",
          "y": 1,
          "yanchor": "bottom",
          "yref": "paper"
         },
         {
          "font": {
           "size": 16
          },
          "showarrow": false,
          "text": "n=7500, p=300",
          "x": 0.775,
          "xanchor": "center",
          "xref": "paper",
          "y": 1,
          "yanchor": "bottom",
          "yref": "paper"
         }
        ],
        "height": 400,
        "template": {
         "data": {
          "bar": [
           {
            "error_x": {
             "color": "#2a3f5f"
            },
            "error_y": {
             "color": "#2a3f5f"
            },
            "marker": {
             "line": {
              "color": "#E5ECF6",
              "width": 0.5
             },
             "pattern": {
              "fillmode": "overlay",
              "size": 10,
              "solidity": 0.2
             }
            },
            "type": "bar"
           }
          ],
          "barpolar": [
           {
            "marker": {
             "line": {
              "color": "#E5ECF6",
              "width": 0.5
             },
             "pattern": {
              "fillmode": "overlay",
              "size": 10,
              "solidity": 0.2
             }
            },
            "type": "barpolar"
           }
          ],
          "carpet": [
           {
            "aaxis": {
             "endlinecolor": "#2a3f5f",
             "gridcolor": "white",
             "linecolor": "white",
             "minorgridcolor": "white",
             "startlinecolor": "#2a3f5f"
            },
            "baxis": {
             "endlinecolor": "#2a3f5f",
             "gridcolor": "white",
             "linecolor": "white",
             "minorgridcolor": "white",
             "startlinecolor": "#2a3f5f"
            },
            "type": "carpet"
           }
          ],
          "choropleth": [
           {
            "colorbar": {
             "outlinewidth": 0,
             "ticks": ""
            },
            "type": "choropleth"
           }
          ],
          "contour": [
           {
            "colorbar": {
             "outlinewidth": 0,
             "ticks": ""
            },
            "colorscale": [
             [
              0,
              "#0d0887"
             ],
             [
              0.1111111111111111,
              "#46039f"
             ],
             [
              0.2222222222222222,
              "#7201a8"
             ],
             [
              0.3333333333333333,
              "#9c179e"
             ],
             [
              0.4444444444444444,
              "#bd3786"
             ],
             [
              0.5555555555555556,
              "#d8576b"
             ],
             [
              0.6666666666666666,
              "#ed7953"
             ],
             [
              0.7777777777777778,
              "#fb9f3a"
             ],
             [
              0.8888888888888888,
              "#fdca26"
             ],
             [
              1,
              "#f0f921"
             ]
            ],
            "type": "contour"
           }
          ],
          "contourcarpet": [
           {
            "colorbar": {
             "outlinewidth": 0,
             "ticks": ""
            },
            "type": "contourcarpet"
           }
          ],
          "heatmap": [
           {
            "colorbar": {
             "outlinewidth": 0,
             "ticks": ""
            },
            "colorscale": [
             [
              0,
              "#0d0887"
             ],
             [
              0.1111111111111111,
              "#46039f"
             ],
             [
              0.2222222222222222,
              "#7201a8"
             ],
             [
              0.3333333333333333,
              "#9c179e"
             ],
             [
              0.4444444444444444,
              "#bd3786"
             ],
             [
              0.5555555555555556,
              "#d8576b"
             ],
             [
              0.6666666666666666,
              "#ed7953"
             ],
             [
              0.7777777777777778,
              "#fb9f3a"
             ],
             [
              0.8888888888888888,
              "#fdca26"
             ],
             [
              1,
              "#f0f921"
             ]
            ],
            "type": "heatmap"
           }
          ],
          "heatmapgl": [
           {
            "colorbar": {
             "outlinewidth": 0,
             "ticks": ""
            },
            "colorscale": [
             [
              0,
              "#0d0887"
             ],
             [
              0.1111111111111111,
              "#46039f"
             ],
             [
              0.2222222222222222,
              "#7201a8"
             ],
             [
              0.3333333333333333,
              "#9c179e"
             ],
             [
              0.4444444444444444,
              "#bd3786"
             ],
             [
              0.5555555555555556,
              "#d8576b"
             ],
             [
              0.6666666666666666,
              "#ed7953"
             ],
             [
              0.7777777777777778,
              "#fb9f3a"
             ],
             [
              0.8888888888888888,
              "#fdca26"
             ],
             [
              1,
              "#f0f921"
             ]
            ],
            "type": "heatmapgl"
           }
          ],
          "histogram": [
           {
            "marker": {
             "pattern": {
              "fillmode": "overlay",
              "size": 10,
              "solidity": 0.2
             }
            },
            "type": "histogram"
           }
          ],
          "histogram2d": [
           {
            "colorbar": {
             "outlinewidth": 0,
             "ticks": ""
            },
            "colorscale": [
             [
              0,
              "#0d0887"
             ],
             [
              0.1111111111111111,
              "#46039f"
             ],
             [
              0.2222222222222222,
              "#7201a8"
             ],
             [
              0.3333333333333333,
              "#9c179e"
             ],
             [
              0.4444444444444444,
              "#bd3786"
             ],
             [
              0.5555555555555556,
              "#d8576b"
             ],
             [
              0.6666666666666666,
              "#ed7953"
             ],
             [
              0.7777777777777778,
              "#fb9f3a"
             ],
             [
              0.8888888888888888,
              "#fdca26"
             ],
             [
              1,
              "#f0f921"
             ]
            ],
            "type": "histogram2d"
           }
          ],
          "histogram2dcontour": [
           {
            "colorbar": {
             "outlinewidth": 0,
             "ticks": ""
            },
            "colorscale": [
             [
              0,
              "#0d0887"
             ],
             [
              0.1111111111111111,
              "#46039f"
             ],
             [
              0.2222222222222222,
              "#7201a8"
             ],
             [
              0.3333333333333333,
              "#9c179e"
             ],
             [
              0.4444444444444444,
              "#bd3786"
             ],
             [
              0.5555555555555556,
              "#d8576b"
             ],
             [
              0.6666666666666666,
              "#ed7953"
             ],
             [
              0.7777777777777778,
              "#fb9f3a"
             ],
             [
              0.8888888888888888,
              "#fdca26"
             ],
             [
              1,
              "#f0f921"
             ]
            ],
            "type": "histogram2dcontour"
           }
          ],
          "mesh3d": [
           {
            "colorbar": {
             "outlinewidth": 0,
             "ticks": ""
            },
            "type": "mesh3d"
           }
          ],
          "parcoords": [
           {
            "line": {
             "colorbar": {
              "outlinewidth": 0,
              "ticks": ""
             }
            },
            "type": "parcoords"
           }
          ],
          "pie": [
           {
            "automargin": true,
            "type": "pie"
           }
          ],
          "scatter": [
           {
            "fillpattern": {
             "fillmode": "overlay",
             "size": 10,
             "solidity": 0.2
            },
            "type": "scatter"
           }
          ],
          "scatter3d": [
           {
            "line": {
             "colorbar": {
              "outlinewidth": 0,
              "ticks": ""
             }
            },
            "marker": {
             "colorbar": {
              "outlinewidth": 0,
              "ticks": ""
             }
            },
            "type": "scatter3d"
           }
          ],
          "scattercarpet": [
           {
            "marker": {
             "colorbar": {
              "outlinewidth": 0,
              "ticks": ""
             }
            },
            "type": "scattercarpet"
           }
          ],
          "scattergeo": [
           {
            "marker": {
             "colorbar": {
              "outlinewidth": 0,
              "ticks": ""
             }
            },
            "type": "scattergeo"
           }
          ],
          "scattergl": [
           {
            "marker": {
             "colorbar": {
              "outlinewidth": 0,
              "ticks": ""
             }
            },
            "type": "scattergl"
           }
          ],
          "scattermapbox": [
           {
            "marker": {
             "colorbar": {
              "outlinewidth": 0,
              "ticks": ""
             }
            },
            "type": "scattermapbox"
           }
          ],
          "scatterpolar": [
           {
            "marker": {
             "colorbar": {
              "outlinewidth": 0,
              "ticks": ""
             }
            },
            "type": "scatterpolar"
           }
          ],
          "scatterpolargl": [
           {
            "marker": {
             "colorbar": {
              "outlinewidth": 0,
              "ticks": ""
             }
            },
            "type": "scatterpolargl"
           }
          ],
          "scatterternary": [
           {
            "marker": {
             "colorbar": {
              "outlinewidth": 0,
              "ticks": ""
             }
            },
            "type": "scatterternary"
           }
          ],
          "surface": [
           {
            "colorbar": {
             "outlinewidth": 0,
             "ticks": ""
            },
            "colorscale": [
             [
              0,
              "#0d0887"
             ],
             [
              0.1111111111111111,
              "#46039f"
             ],
             [
              0.2222222222222222,
              "#7201a8"
             ],
             [
              0.3333333333333333,
              "#9c179e"
             ],
             [
              0.4444444444444444,
              "#bd3786"
             ],
             [
              0.5555555555555556,
              "#d8576b"
             ],
             [
              0.6666666666666666,
              "#ed7953"
             ],
             [
              0.7777777777777778,
              "#fb9f3a"
             ],
             [
              0.8888888888888888,
              "#fdca26"
             ],
             [
              1,
              "#f0f921"
             ]
            ],
            "type": "surface"
           }
          ],
          "table": [
           {
            "cells": {
             "fill": {
              "color": "#EBF0F8"
             },
             "line": {
              "color": "white"
             }
            },
            "header": {
             "fill": {
              "color": "#C8D4E3"
             },
             "line": {
              "color": "white"
             }
            },
            "type": "table"
           }
          ]
         },
         "layout": {
          "annotationdefaults": {
           "arrowcolor": "#2a3f5f",
           "arrowhead": 0,
           "arrowwidth": 1
          },
          "autotypenumbers": "strict",
          "coloraxis": {
           "colorbar": {
            "outlinewidth": 0,
            "ticks": ""
           }
          },
          "colorscale": {
           "diverging": [
            [
             0,
             "#8e0152"
            ],
            [
             0.1,
             "#c51b7d"
            ],
            [
             0.2,
             "#de77ae"
            ],
            [
             0.3,
             "#f1b6da"
            ],
            [
             0.4,
             "#fde0ef"
            ],
            [
             0.5,
             "#f7f7f7"
            ],
            [
             0.6,
             "#e6f5d0"
            ],
            [
             0.7,
             "#b8e186"
            ],
            [
             0.8,
             "#7fbc41"
            ],
            [
             0.9,
             "#4d9221"
            ],
            [
             1,
             "#276419"
            ]
           ],
           "sequential": [
            [
             0,
             "#0d0887"
            ],
            [
             0.1111111111111111,
             "#46039f"
            ],
            [
             0.2222222222222222,
             "#7201a8"
            ],
            [
             0.3333333333333333,
             "#9c179e"
            ],
            [
             0.4444444444444444,
             "#bd3786"
            ],
            [
             0.5555555555555556,
             "#d8576b"
            ],
            [
             0.6666666666666666,
             "#ed7953"
            ],
            [
             0.7777777777777778,
             "#fb9f3a"
            ],
            [
             0.8888888888888888,
             "#fdca26"
            ],
            [
             1,
             "#f0f921"
            ]
           ],
           "sequentialminus": [
            [
             0,
             "#0d0887"
            ],
            [
             0.1111111111111111,
             "#46039f"
            ],
            [
             0.2222222222222222,
             "#7201a8"
            ],
            [
             0.3333333333333333,
             "#9c179e"
            ],
            [
             0.4444444444444444,
             "#bd3786"
            ],
            [
             0.5555555555555556,
             "#d8576b"
            ],
            [
             0.6666666666666666,
             "#ed7953"
            ],
            [
             0.7777777777777778,
             "#fb9f3a"
            ],
            [
             0.8888888888888888,
             "#fdca26"
            ],
            [
             1,
             "#f0f921"
            ]
           ]
          },
          "colorway": [
           "#636efa",
           "#EF553B",
           "#00cc96",
           "#ab63fa",
           "#FFA15A",
           "#19d3f3",
           "#FF6692",
           "#B6E880",
           "#FF97FF",
           "#FECB52"
          ],
          "font": {
           "color": "#2a3f5f"
          },
          "geo": {
           "bgcolor": "white",
           "lakecolor": "white",
           "landcolor": "#E5ECF6",
           "showlakes": true,
           "showland": true,
           "subunitcolor": "white"
          },
          "hoverlabel": {
           "align": "left"
          },
          "hovermode": "closest",
          "mapbox": {
           "style": "light"
          },
          "paper_bgcolor": "white",
          "plot_bgcolor": "#E5ECF6",
          "polar": {
           "angularaxis": {
            "gridcolor": "white",
            "linecolor": "white",
            "ticks": ""
           },
           "bgcolor": "#E5ECF6",
           "radialaxis": {
            "gridcolor": "white",
            "linecolor": "white",
            "ticks": ""
           }
          },
          "scene": {
           "xaxis": {
            "backgroundcolor": "#E5ECF6",
            "gridcolor": "white",
            "gridwidth": 2,
            "linecolor": "white",
            "showbackground": true,
            "ticks": "",
            "zerolinecolor": "white"
           },
           "yaxis": {
            "backgroundcolor": "#E5ECF6",
            "gridcolor": "white",
            "gridwidth": 2,
            "linecolor": "white",
            "showbackground": true,
            "ticks": "",
            "zerolinecolor": "white"
           },
           "zaxis": {
            "backgroundcolor": "#E5ECF6",
            "gridcolor": "white",
            "gridwidth": 2,
            "linecolor": "white",
            "showbackground": true,
            "ticks": "",
            "zerolinecolor": "white"
           }
          },
          "shapedefaults": {
           "line": {
            "color": "#2a3f5f"
           }
          },
          "ternary": {
           "aaxis": {
            "gridcolor": "white",
            "linecolor": "white",
            "ticks": ""
           },
           "baxis": {
            "gridcolor": "white",
            "linecolor": "white",
            "ticks": ""
           },
           "bgcolor": "#E5ECF6",
           "caxis": {
            "gridcolor": "white",
            "linecolor": "white",
            "ticks": ""
           }
          },
          "title": {
           "x": 0.05
          },
          "xaxis": {
           "automargin": true,
           "gridcolor": "white",
           "linecolor": "white",
           "ticks": "",
           "title": {
            "standoff": 15
           },
           "zerolinecolor": "white",
           "zerolinewidth": 2
          },
          "yaxis": {
           "automargin": true,
           "gridcolor": "white",
           "linecolor": "white",
           "ticks": "",
           "title": {
            "standoff": 15
           },
           "zerolinecolor": "white",
           "zerolinewidth": 2
          }
         }
        },
        "title": {
         "text": "MR"
        },
        "width": 750,
        "xaxis": {
         "anchor": "y",
         "domain": [
          0,
          0.45
         ],
         "matches": "x3",
         "showticklabels": false
        },
        "xaxis2": {
         "anchor": "y2",
         "domain": [
          0.55,
          1
         ],
         "matches": "x4",
         "showticklabels": false
        },
        "xaxis3": {
         "anchor": "y3",
         "domain": [
          0,
          0.45
         ]
        },
        "xaxis4": {
         "anchor": "y4",
         "domain": [
          0.55,
          1
         ]
        },
        "yaxis": {
         "anchor": "x",
         "domain": [
          0.53,
          1
         ]
        },
        "yaxis2": {
         "anchor": "x2",
         "domain": [
          0.53,
          1
         ]
        },
        "yaxis3": {
         "anchor": "x3",
         "domain": [
          0,
          0.47
         ]
        },
        "yaxis4": {
         "anchor": "x4",
         "domain": [
          0,
          0.47
         ]
        }
       }
      },
      "text/html": [
       "<div>                            <div id=\"87d94825-23c7-4e3d-8dee-b826b7a5b41d\" class=\"plotly-graph-div\" style=\"height:400px; width:750px;\"></div>            <script type=\"text/javascript\">                require([\"plotly\"], function(Plotly) {                    window.PLOTLYENV=window.PLOTLYENV || {};                                    if (document.getElementById(\"87d94825-23c7-4e3d-8dee-b826b7a5b41d\")) {                    Plotly.newPlot(                        \"87d94825-23c7-4e3d-8dee-b826b7a5b41d\",                        [{\"line\":{\"color\":\"black\"},\"name\":\"True MR\",\"showlegend\":true,\"x\":[\"MR\"],\"y\":[1.0081594545678463],\"type\":\"scatter\",\"xaxis\":\"x\",\"yaxis\":\"y\"},{\"marker\":{\"color\":\"blue\"},\"name\":\"MR\",\"showlegend\":true,\"y\":[1.0711723815569836,1.116934777204343,0.9793683815749652,0.9578442941716565,1.0734752711454352,0.9951218127912878,1.1486801362327996,0.9569863031673751,0.950761848674684,0.9983071106164632,0.9905242006364667,0.9552992959308624,1.0537810867956816,0.9094760760754516,1.0408430612122892,0.9538247933300636,1.0007266780501562,1.0235311165423528,0.8712489216384318,1.0656736994181288,1.0613604065372866,0.9351307877679018,0.9998613325464221,0.9626697043789765,0.9755882237166351,0.936782234578952,0.9016455959083254,0.9885561979902626,1.113775472877823,1.0403986994297547,1.038679907173507,0.9874163073425078,1.1845555259002487,1.0366938034335131,1.0987504336183893,1.1123230861938427,0.9946908384247088,0.9761996284506442,0.9184090569622612,0.9770442646558599,0.9809050569386615,0.9558768408990674,1.0273924041959692,1.0559242995382523,1.014986406486618,0.9821489178048532,1.0390304634409082,1.0278859288923456,1.086951258874347,0.9729879093487346,0.9037636306011412,0.9982397837849932,1.002001402716365,0.9582168217004738,1.0385453172172263,0.9951769411273318,0.9035891482049343,1.1048776432897458,1.038647679086894,1.015716839605215,0.9667648842211968,0.982029381798851,1.0499267886083035,1.0006115747799025,0.9833989176330045,1.0598890480392493,1.114125264881646,0.994027005998263,0.8789049049862392,1.1670788521065227,0.9589875125408749,1.041169205633149,1.1825833733738844,1.0208287831322989,0.9345206464515419,1.040852541704003,0.9702929433119708,0.9022286284377057,1.1321139333503016,1.1115798363130578,1.0015370841643112,0.995828336297215,0.9299621144873091,1.0620075166439646,0.8405977803126987,1.022037913995228,0.8660465720715269,1.0584940701583705,0.8775998416149391,1.0344299402161734,1.1371442113868448,0.9032917315334985,1.1282552447627867,0.8734569978026081,1.0887830303673132,0.9838253561726145,0.9432440425344419,0.988260532602854,1.0007995438877948,1.1314521200623509],\"type\":\"box\",\"xaxis\":\"x\",\"yaxis\":\"y\"},{\"line\":{\"color\":\"black\"},\"name\":\"True MR\",\"showlegend\":false,\"x\":[\"MR\"],\"y\":[null],\"type\":\"scatter\",\"xaxis\":\"x2\",\"yaxis\":\"y2\"},{\"marker\":{\"color\":\"blue\"},\"name\":\"MR\",\"showlegend\":false,\"y\":[],\"type\":\"box\",\"xaxis\":\"x2\",\"yaxis\":\"y2\"},{\"line\":{\"color\":\"red\"},\"name\":\"True MR\",\"showlegend\":true,\"x\":[\"MR\"],\"y\":[0.07456384163534846],\"type\":\"scatter\",\"xaxis\":\"x3\",\"yaxis\":\"y3\"},{\"marker\":{\"color\":\"cyan\"},\"name\":\"MR\",\"showlegend\":true,\"y\":[0.07039311076535835,0.07289595535362788,0.07212509689602499,0.07131839073710948,0.07194207522413863,0.06906104308384231,0.06631874237926509,0.07540761813572827,0.07135585702873022,0.0731127296915938,0.07583525792225643,0.07831743596202528,0.06936336631311243,0.07548873288574037,0.07733516563596195,0.07193944105858656,0.07764055086386235,0.07917480730114079,0.07301469042918157,0.0758553335482553,0.07131437470984964,0.0725565243620191,0.07659049405486919,0.07341603362921342,0.07398244612821629,0.07377705463678755,0.07477598495966851,0.07003605005614155,0.07453017574800952,0.06989528046770231,0.07568395079307243,0.07675847054106313,0.07080350664480024,0.07366135642324033,0.07084744361949626,0.07945266179710025,0.07538936573443505,0.07441055826191652,0.07414798975285052,0.0723175907242678,0.07282703667950469,0.06667959326261207,0.07677462776920053,0.07866640998236417,0.06394015593438403,0.07106994846940916,0.07549408217721226,0.07455850996526615,0.0752433206290562,0.07160678728116242,0.07681046281752696,0.07215049141481425,0.08429412558154549,0.07212207683792007,0.07014256310264377,0.0684857872407877,0.07357357070348537,0.07253594849307424,0.07386309388790105,0.07294548805014481,0.07647870815274899,0.06742342146422788,0.07133678241340992,0.07290457085900177,0.06809581556754918,0.07358310803027479,0.07421924554983549,0.07649197718563729,0.08128166220805277,0.0732055697871348,0.07709512336218696,0.07510860314741737,0.06642599962328666,0.06894194407093703,0.07169301935416246,0.07458978455971675,0.07360536288101895,0.07381998920665406,0.0748098539824498,0.06844545020089286,0.07309600547323021,0.07552311588476868,0.07181753122147745,0.07972039368574034,0.07654325115424122,0.07295685044387139,0.07260838043239584,0.06720604089407842,0.07030126959945283,0.07106007828411239,0.0733726813693026,0.06666696673178982,0.07766232556409178,0.07212483488168277,0.07172779898273327,0.07316203185084628,0.07291426317779007,0.07441681599294597,0.07391128603615621,0.07636986859028749],\"type\":\"box\",\"xaxis\":\"x3\",\"yaxis\":\"y3\"},{\"line\":{\"color\":\"red\"},\"name\":\"True MR\",\"showlegend\":false,\"x\":[\"MR\"],\"y\":[null],\"type\":\"scatter\",\"xaxis\":\"x4\",\"yaxis\":\"y4\"},{\"marker\":{\"color\":\"cyan\"},\"name\":\"MR\",\"showlegend\":false,\"y\":[],\"type\":\"box\",\"xaxis\":\"x4\",\"yaxis\":\"y4\"}],                        {\"template\":{\"data\":{\"histogram2dcontour\":[{\"type\":\"histogram2dcontour\",\"colorbar\":{\"outlinewidth\":0,\"ticks\":\"\"},\"colorscale\":[[0.0,\"#0d0887\"],[0.1111111111111111,\"#46039f\"],[0.2222222222222222,\"#7201a8\"],[0.3333333333333333,\"#9c179e\"],[0.4444444444444444,\"#bd3786\"],[0.5555555555555556,\"#d8576b\"],[0.6666666666666666,\"#ed7953\"],[0.7777777777777778,\"#fb9f3a\"],[0.8888888888888888,\"#fdca26\"],[1.0,\"#f0f921\"]]}],\"choropleth\":[{\"type\":\"choropleth\",\"colorbar\":{\"outlinewidth\":0,\"ticks\":\"\"}}],\"histogram2d\":[{\"type\":\"histogram2d\",\"colorbar\":{\"outlinewidth\":0,\"ticks\":\"\"},\"colorscale\":[[0.0,\"#0d0887\"],[0.1111111111111111,\"#46039f\"],[0.2222222222222222,\"#7201a8\"],[0.3333333333333333,\"#9c179e\"],[0.4444444444444444,\"#bd3786\"],[0.5555555555555556,\"#d8576b\"],[0.6666666666666666,\"#ed7953\"],[0.7777777777777778,\"#fb9f3a\"],[0.8888888888888888,\"#fdca26\"],[1.0,\"#f0f921\"]]}],\"heatmap\":[{\"type\":\"heatmap\",\"colorbar\":{\"outlinewidth\":0,\"ticks\":\"\"},\"colorscale\":[[0.0,\"#0d0887\"],[0.1111111111111111,\"#46039f\"],[0.2222222222222222,\"#7201a8\"],[0.3333333333333333,\"#9c179e\"],[0.4444444444444444,\"#bd3786\"],[0.5555555555555556,\"#d8576b\"],[0.6666666666666666,\"#ed7953\"],[0.7777777777777778,\"#fb9f3a\"],[0.8888888888888888,\"#fdca26\"],[1.0,\"#f0f921\"]]}],\"heatmapgl\":[{\"type\":\"heatmapgl\",\"colorbar\":{\"outlinewidth\":0,\"ticks\":\"\"},\"colorscale\":[[0.0,\"#0d0887\"],[0.1111111111111111,\"#46039f\"],[0.2222222222222222,\"#7201a8\"],[0.3333333333333333,\"#9c179e\"],[0.4444444444444444,\"#bd3786\"],[0.5555555555555556,\"#d8576b\"],[0.6666666666666666,\"#ed7953\"],[0.7777777777777778,\"#fb9f3a\"],[0.8888888888888888,\"#fdca26\"],[1.0,\"#f0f921\"]]}],\"contourcarpet\":[{\"type\":\"contourcarpet\",\"colorbar\":{\"outlinewidth\":0,\"ticks\":\"\"}}],\"contour\":[{\"type\":\"contour\",\"colorbar\":{\"outlinewidth\":0,\"ticks\":\"\"},\"colorscale\":[[0.0,\"#0d0887\"],[0.1111111111111111,\"#46039f\"],[0.2222222222222222,\"#7201a8\"],[0.3333333333333333,\"#9c179e\"],[0.4444444444444444,\"#bd3786\"],[0.5555555555555556,\"#d8576b\"],[0.6666666666666666,\"#ed7953\"],[0.7777777777777778,\"#fb9f3a\"],[0.8888888888888888,\"#fdca26\"],[1.0,\"#f0f921\"]]}],\"surface\":[{\"type\":\"surface\",\"colorbar\":{\"outlinewidth\":0,\"ticks\":\"\"},\"colorscale\":[[0.0,\"#0d0887\"],[0.1111111111111111,\"#46039f\"],[0.2222222222222222,\"#7201a8\"],[0.3333333333333333,\"#9c179e\"],[0.4444444444444444,\"#bd3786\"],[0.5555555555555556,\"#d8576b\"],[0.6666666666666666,\"#ed7953\"],[0.7777777777777778,\"#fb9f3a\"],[0.8888888888888888,\"#fdca26\"],[1.0,\"#f0f921\"]]}],\"mesh3d\":[{\"type\":\"mesh3d\",\"colorbar\":{\"outlinewidth\":0,\"ticks\":\"\"}}],\"scatter\":[{\"fillpattern\":{\"fillmode\":\"overlay\",\"size\":10,\"solidity\":0.2},\"type\":\"scatter\"}],\"parcoords\":[{\"type\":\"parcoords\",\"line\":{\"colorbar\":{\"outlinewidth\":0,\"ticks\":\"\"}}}],\"scatterpolargl\":[{\"type\":\"scatterpolargl\",\"marker\":{\"colorbar\":{\"outlinewidth\":0,\"ticks\":\"\"}}}],\"bar\":[{\"error_x\":{\"color\":\"#2a3f5f\"},\"error_y\":{\"color\":\"#2a3f5f\"},\"marker\":{\"line\":{\"color\":\"#E5ECF6\",\"width\":0.5},\"pattern\":{\"fillmode\":\"overlay\",\"size\":10,\"solidity\":0.2}},\"type\":\"bar\"}],\"scattergeo\":[{\"type\":\"scattergeo\",\"marker\":{\"colorbar\":{\"outlinewidth\":0,\"ticks\":\"\"}}}],\"scatterpolar\":[{\"type\":\"scatterpolar\",\"marker\":{\"colorbar\":{\"outlinewidth\":0,\"ticks\":\"\"}}}],\"histogram\":[{\"marker\":{\"pattern\":{\"fillmode\":\"overlay\",\"size\":10,\"solidity\":0.2}},\"type\":\"histogram\"}],\"scattergl\":[{\"type\":\"scattergl\",\"marker\":{\"colorbar\":{\"outlinewidth\":0,\"ticks\":\"\"}}}],\"scatter3d\":[{\"type\":\"scatter3d\",\"line\":{\"colorbar\":{\"outlinewidth\":0,\"ticks\":\"\"}},\"marker\":{\"colorbar\":{\"outlinewidth\":0,\"ticks\":\"\"}}}],\"scattermapbox\":[{\"type\":\"scattermapbox\",\"marker\":{\"colorbar\":{\"outlinewidth\":0,\"ticks\":\"\"}}}],\"scatterternary\":[{\"type\":\"scatterternary\",\"marker\":{\"colorbar\":{\"outlinewidth\":0,\"ticks\":\"\"}}}],\"scattercarpet\":[{\"type\":\"scattercarpet\",\"marker\":{\"colorbar\":{\"outlinewidth\":0,\"ticks\":\"\"}}}],\"carpet\":[{\"aaxis\":{\"endlinecolor\":\"#2a3f5f\",\"gridcolor\":\"white\",\"linecolor\":\"white\",\"minorgridcolor\":\"white\",\"startlinecolor\":\"#2a3f5f\"},\"baxis\":{\"endlinecolor\":\"#2a3f5f\",\"gridcolor\":\"white\",\"linecolor\":\"white\",\"minorgridcolor\":\"white\",\"startlinecolor\":\"#2a3f5f\"},\"type\":\"carpet\"}],\"table\":[{\"cells\":{\"fill\":{\"color\":\"#EBF0F8\"},\"line\":{\"color\":\"white\"}},\"header\":{\"fill\":{\"color\":\"#C8D4E3\"},\"line\":{\"color\":\"white\"}},\"type\":\"table\"}],\"barpolar\":[{\"marker\":{\"line\":{\"color\":\"#E5ECF6\",\"width\":0.5},\"pattern\":{\"fillmode\":\"overlay\",\"size\":10,\"solidity\":0.2}},\"type\":\"barpolar\"}],\"pie\":[{\"automargin\":true,\"type\":\"pie\"}]},\"layout\":{\"autotypenumbers\":\"strict\",\"colorway\":[\"#636efa\",\"#EF553B\",\"#00cc96\",\"#ab63fa\",\"#FFA15A\",\"#19d3f3\",\"#FF6692\",\"#B6E880\",\"#FF97FF\",\"#FECB52\"],\"font\":{\"color\":\"#2a3f5f\"},\"hovermode\":\"closest\",\"hoverlabel\":{\"align\":\"left\"},\"paper_bgcolor\":\"white\",\"plot_bgcolor\":\"#E5ECF6\",\"polar\":{\"bgcolor\":\"#E5ECF6\",\"angularaxis\":{\"gridcolor\":\"white\",\"linecolor\":\"white\",\"ticks\":\"\"},\"radialaxis\":{\"gridcolor\":\"white\",\"linecolor\":\"white\",\"ticks\":\"\"}},\"ternary\":{\"bgcolor\":\"#E5ECF6\",\"aaxis\":{\"gridcolor\":\"white\",\"linecolor\":\"white\",\"ticks\":\"\"},\"baxis\":{\"gridcolor\":\"white\",\"linecolor\":\"white\",\"ticks\":\"\"},\"caxis\":{\"gridcolor\":\"white\",\"linecolor\":\"white\",\"ticks\":\"\"}},\"coloraxis\":{\"colorbar\":{\"outlinewidth\":0,\"ticks\":\"\"}},\"colorscale\":{\"sequential\":[[0.0,\"#0d0887\"],[0.1111111111111111,\"#46039f\"],[0.2222222222222222,\"#7201a8\"],[0.3333333333333333,\"#9c179e\"],[0.4444444444444444,\"#bd3786\"],[0.5555555555555556,\"#d8576b\"],[0.6666666666666666,\"#ed7953\"],[0.7777777777777778,\"#fb9f3a\"],[0.8888888888888888,\"#fdca26\"],[1.0,\"#f0f921\"]],\"sequentialminus\":[[0.0,\"#0d0887\"],[0.1111111111111111,\"#46039f\"],[0.2222222222222222,\"#7201a8\"],[0.3333333333333333,\"#9c179e\"],[0.4444444444444444,\"#bd3786\"],[0.5555555555555556,\"#d8576b\"],[0.6666666666666666,\"#ed7953\"],[0.7777777777777778,\"#fb9f3a\"],[0.8888888888888888,\"#fdca26\"],[1.0,\"#f0f921\"]],\"diverging\":[[0,\"#8e0152\"],[0.1,\"#c51b7d\"],[0.2,\"#de77ae\"],[0.3,\"#f1b6da\"],[0.4,\"#fde0ef\"],[0.5,\"#f7f7f7\"],[0.6,\"#e6f5d0\"],[0.7,\"#b8e186\"],[0.8,\"#7fbc41\"],[0.9,\"#4d9221\"],[1,\"#276419\"]]},\"xaxis\":{\"gridcolor\":\"white\",\"linecolor\":\"white\",\"ticks\":\"\",\"title\":{\"standoff\":15},\"zerolinecolor\":\"white\",\"automargin\":true,\"zerolinewidth\":2},\"yaxis\":{\"gridcolor\":\"white\",\"linecolor\":\"white\",\"ticks\":\"\",\"title\":{\"standoff\":15},\"zerolinecolor\":\"white\",\"automargin\":true,\"zerolinewidth\":2},\"scene\":{\"xaxis\":{\"backgroundcolor\":\"#E5ECF6\",\"gridcolor\":\"white\",\"linecolor\":\"white\",\"showbackground\":true,\"ticks\":\"\",\"zerolinecolor\":\"white\",\"gridwidth\":2},\"yaxis\":{\"backgroundcolor\":\"#E5ECF6\",\"gridcolor\":\"white\",\"linecolor\":\"white\",\"showbackground\":true,\"ticks\":\"\",\"zerolinecolor\":\"white\",\"gridwidth\":2},\"zaxis\":{\"backgroundcolor\":\"#E5ECF6\",\"gridcolor\":\"white\",\"linecolor\":\"white\",\"showbackground\":true,\"ticks\":\"\",\"zerolinecolor\":\"white\",\"gridwidth\":2}},\"shapedefaults\":{\"line\":{\"color\":\"#2a3f5f\"}},\"annotationdefaults\":{\"arrowcolor\":\"#2a3f5f\",\"arrowhead\":0,\"arrowwidth\":1},\"geo\":{\"bgcolor\":\"white\",\"landcolor\":\"#E5ECF6\",\"subunitcolor\":\"white\",\"showland\":true,\"showlakes\":true,\"lakecolor\":\"white\"},\"title\":{\"x\":0.05},\"mapbox\":{\"style\":\"light\"}}},\"xaxis\":{\"anchor\":\"y\",\"domain\":[0.0,0.45],\"matches\":\"x3\",\"showticklabels\":false},\"yaxis\":{\"anchor\":\"x\",\"domain\":[0.53,1.0]},\"xaxis2\":{\"anchor\":\"y2\",\"domain\":[0.55,1.0],\"matches\":\"x4\",\"showticklabels\":false},\"yaxis2\":{\"anchor\":\"x2\",\"domain\":[0.53,1.0]},\"xaxis3\":{\"anchor\":\"y3\",\"domain\":[0.0,0.45]},\"yaxis3\":{\"anchor\":\"x3\",\"domain\":[0.0,0.47]},\"xaxis4\":{\"anchor\":\"y4\",\"domain\":[0.55,1.0]},\"yaxis4\":{\"anchor\":\"x4\",\"domain\":[0.0,0.47]},\"annotations\":[{\"font\":{\"size\":16},\"showarrow\":false,\"text\":\"n=750, p=8\",\"x\":0.225,\"xanchor\":\"center\",\"xref\":\"paper\",\"y\":1.0,\"yanchor\":\"bottom\",\"yref\":\"paper\"},{\"font\":{\"size\":16},\"showarrow\":false,\"text\":\"n=7500, p=300\",\"x\":0.775,\"xanchor\":\"center\",\"xref\":\"paper\",\"y\":1.0,\"yanchor\":\"bottom\",\"yref\":\"paper\"}],\"height\":400,\"width\":750,\"title\":{\"text\":\"MR\"}},                        {\"responsive\": true}                    ).then(function(){\n",
       "                            \n",
       "var gd = document.getElementById('87d94825-23c7-4e3d-8dee-b826b7a5b41d');\n",
       "var x = new MutationObserver(function (mutations, observer) {{\n",
       "        var display = window.getComputedStyle(gd).display;\n",
       "        if (!display || display === 'none') {{\n",
       "            console.log([gd, 'removed!']);\n",
       "            Plotly.purge(gd);\n",
       "            observer.disconnect();\n",
       "        }}\n",
       "}});\n",
       "\n",
       "// Listen for the removal of the full notebook cells\n",
       "var notebookContainer = gd.closest('#notebook-container');\n",
       "if (notebookContainer) {{\n",
       "    x.observe(notebookContainer, {childList: true});\n",
       "}}\n",
       "\n",
       "// Listen for the clearing of the current output cell\n",
       "var outputEl = gd.closest('.output');\n",
       "if (outputEl) {{\n",
       "    x.observe(outputEl, {childList: true});\n",
       "}}\n",
       "\n",
       "                        })                };                });            </script>        </div>"
      ]
     },
     "metadata": {},
     "output_type": "display_data"
    }
   ],
   "source": []
  },
  {
   "cell_type": "code",
   "execution_count": null,
   "metadata": {},
   "outputs": [],
   "source": []
  },
  {
   "cell_type": "code",
   "execution_count": 8,
   "metadata": {},
   "outputs": [],
   "source": [
    "# mr_boot = mr_bootstrap(y=data['y'], \n",
    "#                        A=data['A'], \n",
    "#                        yhat1_df=data[[c for c in data.columns if 'yhat1' in c and 'oracle' not in c][:5]],\n",
    "#                        yhat0_df=data[[c for c in data.columns if 'yhat0' in c and 'oracle' not in c][:5]], \n",
    "#                        ps_df=data[[c for c in data.columns if 'ps' in c and 'oracle' not in c][:5]], \n",
    "#                        temporary_csv_name='temporary-MR-data',\n",
    "#                        b=1000\n",
    "#                       )"
   ]
  },
  {
   "cell_type": "code",
   "execution_count": 102,
   "metadata": {},
   "outputs": [],
   "source": [
    "model_size_iter = 10"
   ]
  },
  {
   "cell_type": "code",
   "execution_count": 103,
   "metadata": {},
   "outputs": [],
   "source": [
    "n, p = (750, 32)\n",
    "r3 = 0.25\n",
    "r4 = 0.25\n",
    "filename = f\"/home/mr/PhD/Causality in AI/Sim2021/featureImp_dim{n}_{p}_r_{r3}_{r4}/KfoldQ_ps_nns{2}.csv\"\n",
    "data = pd.read_csv(filename)"
   ]
  },
  {
   "cell_type": "code",
   "execution_count": null,
   "metadata": {},
   "outputs": [],
   "source": []
  },
  {
   "cell_type": "code",
   "execution_count": 104,
   "metadata": {},
   "outputs": [],
   "source": [
    "nnY_yhat0_cols = [c.replace('nnY_', '').replace('_yhat0', '') for c in data.columns if 'nnY' in c and 'yhat0' in c]\n",
    "# nnY_yhat1_cols = [c.replace('nnY_', '').replace('_yhat1', '') for c in data.columns if 'nnY' in c and 'yhat1' in c]\n",
    "# nnA_ps_cols = [c.replace('nnY_', '').replace('_yhat0', '') for c in data.columns if 'nnY' in c and 'ps_' in c]\n",
    "\n",
    "# nnAY_yhat0_cols = [c.replace('nnAY_', '').replace('_yhat0', '') for c in data.columns if 'nnAY' in c and 'yhat0' in c]\n",
    "# nnAY_yhat1_cols = [c.replace('nnAY_', '').replace('_yhat1', '') for c in data.columns if 'nnAY' in c and 'yhat1' in c]\n",
    "# nnAY_ps_cols = [c.replace('nnAY_', '').replace('ps_', '') for c in data.columns if 'nnAY' in c and 'ps_' in c]"
   ]
  },
  {
   "cell_type": "code",
   "execution_count": null,
   "metadata": {},
   "outputs": [],
   "source": []
  },
  {
   "cell_type": "code",
   "execution_count": 105,
   "metadata": {},
   "outputs": [],
   "source": [
    "DML_yhat0_cols = [c for c in data.columns if 'nnY' in c and 'yhat0' in c]\n",
    "DML_yhat1_cols = [c for c in data.columns if 'nnY' in c and 'yhat1' in c]\n",
    "DML_ps_cols = [c for c in data.columns if 'nnA_' in c and 'ps_' in c]\n",
    "\n",
    "IVM_yhat0_cols = [c for c in data.columns if 'nnAY' in c and 'yhat0' in c]\n",
    "IVM_yhat1_cols = [c for c in data.columns if 'nnAY' in c and 'yhat1' in c]\n",
    "IVM_ps_cols = [c for c in data.columns if 'nnAY' in c and 'ps_' in c]\n",
    "\n",
    "\n",
    "DML_IVM_yhat0_cols = [c for c in data.columns if 'yhat0' in c and 'oracle' not in c]\n",
    "np.random.shuffle(DML_IVM_yhat0_cols)\n",
    "DML_IVM_yhat1_cols = [c for c in data.columns if 'yhat1' in c and 'oracle' not in c]\n",
    "np.random.shuffle(DML_IVM_yhat1_cols)\n",
    "DML_IVM_ps_cols = [c for c in data.columns if 'ps_' in c and 'oracle' not in c]\n",
    "np.random.shuffle(DML_IVM_ps_cols)"
   ]
  },
  {
   "cell_type": "code",
   "execution_count": 106,
   "metadata": {},
   "outputs": [
    {
     "data": {
      "text/plain": [
       "[0, 1, 2, 3, 4, 5, 6, 7, 8, 9, 10, 11, 12, 13, 14, 15]"
      ]
     },
     "execution_count": 106,
     "metadata": {},
     "output_type": "execute_result"
    }
   ],
   "source": [
    "index = list(range(len(nnY_yhat0_cols)))\n",
    "index"
   ]
  },
  {
   "cell_type": "code",
   "execution_count": null,
   "metadata": {},
   "outputs": [],
   "source": []
  },
  {
   "cell_type": "code",
   "execution_count": 107,
   "metadata": {
    "scrolled": true
   },
   "outputs": [],
   "source": [
    "temp_results1 = []\n",
    "\n",
    "r3 = 0.25\n",
    "r4 = 0.25\n",
    "r1, r2 = 0, 0\n",
    "\n",
    "nonlin_portion = .3\n",
    "True_TE = 1\n",
    "\n",
    "mr_estimates = []\n",
    "\n",
    "for n, p in [(750, 32), (7500, 300)]:\n",
    "        \n",
    "    for niter in range(1, 101):\n",
    "        try:\n",
    "            filename = \"/home/mr/PhD/Causality in AI/Sim2021_early/featureImp_dim{}_{}_r_{}_{}/KfoldQ_ps_nns{}.csv\"\\\n",
    "                                                                    .format(n, p, r3, r4, niter)\n",
    "\n",
    "            data = pd.read_csv(filename)\n",
    "            \n",
    "            yhat0_cols = [c for c in data.columns if ('nnY' in c or 'nnAY' in c) and 'yhat0' in c and 'oracle' not in c]\n",
    "            yhat1_cols = [c for c in data.columns if ('nnY' in c or 'nnAY' in c) and 'yhat1' in c and 'oracle' not in c]\n",
    "            ps_cols = [c for c in data.columns if ('nnA_' in c or 'nnAY' in c) and 'ps_' in c and 'oracle' not in c]\n",
    "\n",
    "            (mr_with_oracle_DML_IVM, \n",
    "            se0_mr_with_oracle_DML_IVM) = \\\n",
    "                          MR(y=data['y'], \n",
    "                               A=data['A'], \n",
    "                                   yhat1_df=data[yhat1_cols+['oracle_yhat1']],\n",
    "                                   yhat0_df=data[yhat0_cols+['oracle_yhat0']],\n",
    "                                   ps_df=data[ps_cols+['ps_oracle']], \n",
    "                               temporary_csv_name='temporary-MR-data-with_oracle'\n",
    "                             )\n",
    "            (mr_with_outcome_oracle_DML_IVM, \n",
    "            se0_mr_with_outcome_oracle_DML_IVM) = \\\n",
    "                          MR(y=data['y'], \n",
    "                               A=data['A'], \n",
    "                                   yhat1_df=data[yhat1_cols+['oracle_yhat1']],\n",
    "                                   yhat0_df=data[yhat0_cols+['oracle_yhat0']],\n",
    "                                   ps_df=data[ps_cols], \n",
    "                               temporary_csv_name='temporary-MR-data-with_outcome_oracle'\n",
    "                             )\n",
    "            (mr_with_ps_oracle_DML_IVM, \n",
    "            se0_mr_with_ps_oracle_DML_IVM) = \\\n",
    "                          MR(y=data['y'], \n",
    "                               A=data['A'], \n",
    "                                   yhat1_df=data[yhat1_cols],\n",
    "                                   yhat0_df=data[yhat0_cols],\n",
    "                                   ps_df=data[ps_cols+['ps_oracle']], \n",
    "                               temporary_csv_name='temporary-MR-data-with_ps_oracle'\n",
    "                             )\n",
    "\n",
    "            (mr_without_oracle_DML_IVM,  \n",
    "            se0_mr_without_oracle_DML_IVM) = \\\n",
    "                          MR(y=data['y'], \n",
    "                               A=data['A'], \n",
    "                               yhat1_df=data[yhat1_cols],\n",
    "                               yhat0_df=data[yhat0_cols],\n",
    "                               ps_df=data[ps_cols], \n",
    "                               temporary_csv_name='temporary-MR-data-without_oracle')\n",
    "            \n",
    "            mr_estimates += [[n, p, r3, r4, niter, \n",
    "                              \n",
    "                              mr_with_oracle_DML_IVM,\n",
    "                              se0_mr_with_oracle_DML_IVM,\n",
    "\n",
    "                              mr_with_outcome_oracle_DML_IVM,\n",
    "                              se0_mr_with_outcome_oracle_DML_IVM,\n",
    "\n",
    "                              mr_with_ps_oracle_DML_IVM,\n",
    "                              se0_mr_with_ps_oracle_DML_IVM,\n",
    "\n",
    "                              mr_without_oracle_DML_IVM,\n",
    "                              se0_mr_without_oracle_DML_IVM,\n",
    "                             ]]           \n",
    "\n",
    "        except Exception as e:\n",
    "            print(e)\n",
    "\n",
    "mr_estimates2 = pd.DataFrame(mr_estimates,\n",
    "                            columns = [\n",
    "                                        'n', 'p', 'r3', 'r4', 'niter', \n",
    "\n",
    "                                        'mr_with_oracle_DML_IVM',\n",
    "                                        'se0_mr_with_oracle_DML_IVM',\n",
    "\n",
    "                                        'mr_with_outcome_oracle_DML_IVM',\n",
    "                                        'se0_mr_with_outcome_oracle_DML_IVM',\n",
    "\n",
    "                                        'mr_with_ps_oracle_DML_IVM',\n",
    "                                        'se0_mr_with_ps_oracle_DML_IVM',\n",
    "\n",
    "                                        'mr_without_oracle_DML_IVM',\n",
    "                                        'se0_mr_without_oracle_DML_IVM',\n",
    "                                        ]\n",
    "                           )"
   ]
  },
  {
   "cell_type": "code",
   "execution_count": 114,
   "metadata": {},
   "outputs": [],
   "source": [
    "mr_estimates2.columns = [c.replace('0', '') for c in mr_estimates2.columns]\n",
    "mr_estimates2 = mr_estimates2.rename({'r':'r4'}, axis=1)"
   ]
  },
  {
   "cell_type": "code",
   "execution_count": null,
   "metadata": {},
   "outputs": [],
   "source": []
  },
  {
   "cell_type": "code",
   "execution_count": 32,
   "metadata": {},
   "outputs": [],
   "source": [
    "# mr_estimates2.to_csv('MR-var-750-7500-r.25_many_vars.csv', index=False)\n",
    "mr_estimates2.to_csv('MR-var-750-7500-r.25_new_var.csv', index=False)"
   ]
  },
  {
   "cell_type": "code",
   "execution_count": 34,
   "metadata": {},
   "outputs": [],
   "source": [
    "# mr_estimates2_0 = pd.read_csv('MR-differ number of models-1_or_2_correct_models-p32-r.25.csv')\n",
    "# mr_estimates2_0 = mr_estimates2_0[mr_estimates2_0['n']!=750]"
   ]
  },
  {
   "cell_type": "code",
   "execution_count": 44,
   "metadata": {},
   "outputs": [],
   "source": [
    "# mr_estimates2.columns = [re.sub('var_', 'se_', c) for c in mr_estimates2.columns]"
   ]
  },
  {
   "cell_type": "code",
   "execution_count": 115,
   "metadata": {},
   "outputs": [
    {
     "data": {
      "text/html": [
       "<div>\n",
       "<style scoped>\n",
       "    .dataframe tbody tr th:only-of-type {\n",
       "        vertical-align: middle;\n",
       "    }\n",
       "\n",
       "    .dataframe tbody tr th {\n",
       "        vertical-align: top;\n",
       "    }\n",
       "\n",
       "    .dataframe thead th {\n",
       "        text-align: right;\n",
       "    }\n",
       "</style>\n",
       "<table border=\"1\" class=\"dataframe\">\n",
       "  <thead>\n",
       "    <tr style=\"text-align: right;\">\n",
       "      <th></th>\n",
       "      <th>n</th>\n",
       "      <th>p</th>\n",
       "      <th>r3</th>\n",
       "      <th>r4</th>\n",
       "      <th>niter</th>\n",
       "      <th>mr_with_oracle_DML_IVM</th>\n",
       "      <th>se_mr_with_oracle_DML_IVM</th>\n",
       "      <th>mr_with_outcome_oracle_DML_IVM</th>\n",
       "      <th>se_mr_with_outcome_oracle_DML_IVM</th>\n",
       "      <th>mr_with_ps_oracle_DML_IVM</th>\n",
       "      <th>se_mr_with_ps_oracle_DML_IVM</th>\n",
       "      <th>mr_without_oracle_DML_IVM</th>\n",
       "      <th>se_mr_without_oracle_DML_IVM</th>\n",
       "    </tr>\n",
       "  </thead>\n",
       "  <tbody>\n",
       "    <tr>\n",
       "      <th>0</th>\n",
       "      <td>750</td>\n",
       "      <td>32</td>\n",
       "      <td>0.25</td>\n",
       "      <td>0.25</td>\n",
       "      <td>1</td>\n",
       "      <td>1.120116</td>\n",
       "      <td>0.063406</td>\n",
       "      <td>1.126971</td>\n",
       "      <td>0.062594</td>\n",
       "      <td>1.134898</td>\n",
       "      <td>0.062987</td>\n",
       "      <td>1.133463</td>\n",
       "      <td>0.062225</td>\n",
       "    </tr>\n",
       "    <tr>\n",
       "      <th>1</th>\n",
       "      <td>750</td>\n",
       "      <td>32</td>\n",
       "      <td>0.25</td>\n",
       "      <td>0.25</td>\n",
       "      <td>2</td>\n",
       "      <td>1.274865</td>\n",
       "      <td>0.068874</td>\n",
       "      <td>1.278453</td>\n",
       "      <td>0.068564</td>\n",
       "      <td>1.652737</td>\n",
       "      <td>0.068149</td>\n",
       "      <td>1.639850</td>\n",
       "      <td>0.068078</td>\n",
       "    </tr>\n",
       "    <tr>\n",
       "      <th>2</th>\n",
       "      <td>750</td>\n",
       "      <td>32</td>\n",
       "      <td>0.25</td>\n",
       "      <td>0.25</td>\n",
       "      <td>3</td>\n",
       "      <td>1.044882</td>\n",
       "      <td>0.233477</td>\n",
       "      <td>0.995069</td>\n",
       "      <td>0.214353</td>\n",
       "      <td>0.999244</td>\n",
       "      <td>0.212525</td>\n",
       "      <td>1.023599</td>\n",
       "      <td>0.235628</td>\n",
       "    </tr>\n",
       "    <tr>\n",
       "      <th>3</th>\n",
       "      <td>750</td>\n",
       "      <td>32</td>\n",
       "      <td>0.25</td>\n",
       "      <td>0.25</td>\n",
       "      <td>4</td>\n",
       "      <td>0.794505</td>\n",
       "      <td>0.116099</td>\n",
       "      <td>0.824357</td>\n",
       "      <td>0.128276</td>\n",
       "      <td>0.767275</td>\n",
       "      <td>0.130286</td>\n",
       "      <td>0.806413</td>\n",
       "      <td>0.129997</td>\n",
       "    </tr>\n",
       "    <tr>\n",
       "      <th>4</th>\n",
       "      <td>750</td>\n",
       "      <td>32</td>\n",
       "      <td>0.25</td>\n",
       "      <td>0.25</td>\n",
       "      <td>5</td>\n",
       "      <td>1.090582</td>\n",
       "      <td>0.165799</td>\n",
       "      <td>1.094174</td>\n",
       "      <td>0.166587</td>\n",
       "      <td>1.541634</td>\n",
       "      <td>0.105148</td>\n",
       "      <td>1.392997</td>\n",
       "      <td>0.102028</td>\n",
       "    </tr>\n",
       "  </tbody>\n",
       "</table>\n",
       "</div>"
      ],
      "text/plain": [
       "     n   p    r3    r4  niter  mr_with_oracle_DML_IVM  \\\n",
       "0  750  32  0.25  0.25  1      1.120116                 \n",
       "1  750  32  0.25  0.25  2      1.274865                 \n",
       "2  750  32  0.25  0.25  3      1.044882                 \n",
       "3  750  32  0.25  0.25  4      0.794505                 \n",
       "4  750  32  0.25  0.25  5      1.090582                 \n",
       "\n",
       "   se_mr_with_oracle_DML_IVM  mr_with_outcome_oracle_DML_IVM  \\\n",
       "0  0.063406                   1.126971                         \n",
       "1  0.068874                   1.278453                         \n",
       "2  0.233477                   0.995069                         \n",
       "3  0.116099                   0.824357                         \n",
       "4  0.165799                   1.094174                         \n",
       "\n",
       "   se_mr_with_outcome_oracle_DML_IVM  mr_with_ps_oracle_DML_IVM  \\\n",
       "0  0.062594                           1.134898                    \n",
       "1  0.068564                           1.652737                    \n",
       "2  0.214353                           0.999244                    \n",
       "3  0.128276                           0.767275                    \n",
       "4  0.166587                           1.541634                    \n",
       "\n",
       "   se_mr_with_ps_oracle_DML_IVM  mr_without_oracle_DML_IVM  \\\n",
       "0  0.062987                      1.133463                    \n",
       "1  0.068149                      1.639850                    \n",
       "2  0.212525                      1.023599                    \n",
       "3  0.130286                      0.806413                    \n",
       "4  0.105148                      1.392997                    \n",
       "\n",
       "   se_mr_without_oracle_DML_IVM  \n",
       "0  0.062225                      \n",
       "1  0.068078                      \n",
       "2  0.235628                      \n",
       "3  0.129997                      \n",
       "4  0.102028                      "
      ]
     },
     "execution_count": 115,
     "metadata": {},
     "output_type": "execute_result"
    }
   ],
   "source": [
    "mr_estimates2.head()"
   ]
  },
  {
   "cell_type": "code",
   "execution_count": 18,
   "metadata": {},
   "outputs": [],
   "source": [
    "# mr_estimates2.to_csv('MR-var-750-7500-r.25.csv', index=False)"
   ]
  },
  {
   "cell_type": "code",
   "execution_count": 19,
   "metadata": {},
   "outputs": [],
   "source": [
    "# mr_estimates2 = pd.read_csv('MR-differ number of models-1_or_2_correct_models-p32-r.25.csv')"
   ]
  },
  {
   "cell_type": "code",
   "execution_count": 8,
   "metadata": {},
   "outputs": [],
   "source": [
    "# mr_estimates2 = pd.read_csv('MR-var-750-7500-r.25.csv')"
   ]
  },
  {
   "cell_type": "code",
   "execution_count": 116,
   "metadata": {},
   "outputs": [],
   "source": [
    "groupby_cols1 = ['n', 'p', 'r3', 'r4'] # 'model_selection_iter'\n",
    "est_cols1 = [\n",
    "\n",
    "        'mr_with_oracle_DML_IVM',\n",
    "        'mr_with_outcome_oracle_DML_IVM',\n",
    "        'mr_with_ps_oracle_DML_IVM',\n",
    "        'mr_without_oracle_DML_IVM',\n",
    "              ]\n",
    "\n",
    "se_cols1 = [\n",
    "\n",
    "        'se_mr_with_oracle_DML_IVM',\n",
    "        'se_mr_with_outcome_oracle_DML_IVM',\n",
    "        'se_mr_with_ps_oracle_DML_IVM',\n",
    "        'se_mr_without_oracle_DML_IVM',\n",
    "              ]\n"
   ]
  },
  {
   "cell_type": "code",
   "execution_count": null,
   "metadata": {},
   "outputs": [],
   "source": []
  },
  {
   "cell_type": "code",
   "execution_count": 111,
   "metadata": {},
   "outputs": [],
   "source": [
    "True_TE = 1"
   ]
  },
  {
   "cell_type": "code",
   "execution_count": 21,
   "metadata": {},
   "outputs": [],
   "source": [
    "# estimates_stable = mr_estimates2.copy()\n",
    "# est_cols2 = est_cols1 + [c for c in estimates_stable.columns if 'se' in c]\n",
    "# estimates_stable[est_cols2] = np.where((estimates_stable[est_cols2] > 10)|(estimates_stable[est_cols2] < -10 ), np.nan, estimates_stable[est_cols2])\n",
    "# estimates_stable.head()"
   ]
  },
  {
   "cell_type": "code",
   "execution_count": 117,
   "metadata": {},
   "outputs": [],
   "source": [
    "def agg_func_bias_std_rmse(df, \n",
    "                           groupby_cols, \n",
    "                           est_cols, \n",
    "                           se_cols, \n",
    "                           True_TE\n",
    "                          ):\n",
    "    \n",
    "    df_means = df.groupby(groupby_cols).mean()[est_cols]\n",
    "    \n",
    "    df_se = df.groupby(groupby_cols).mean()[se_cols]\n",
    "    df_se.columns = df_means.columns\n",
    "        \n",
    "    df_bias = (df_means - True_TE).abs()\n",
    "        \n",
    "    df_MCstd = df.groupby(groupby_cols).std()[est_cols]\n",
    "    \n",
    "    df_rmse = (df_MCstd*2 + df_bias**2)**(1./2)\n",
    "    \n",
    "    return(df_bias, df_MCstd, df_rmse, df_se)\n",
    "\n",
    "def agg_func_mean(df, groupby_cols, est_cols):\n",
    "    df_means = df.groupby(groupby_cols).mean()[est_cols].reset_index()\n",
    "    return(df_means)\n",
    "\n",
    "def bias_std_rmse_booted_CI(df, \n",
    "                            prefix, \n",
    "                            groupby_cols, \n",
    "                            est_cols, \n",
    "                            se_cols, \n",
    "                            True_TE, \n",
    "                            b=1000, \n",
    "                            m=100\n",
    "                           ):\n",
    "\n",
    "\n",
    "    df_bias, df_MCstd, df_rmse, df_se = agg_func_bias_std_rmse(df,\n",
    "                                                               groupby_cols, \n",
    "                                                               est_cols, \n",
    "                                                               se_cols,\n",
    "                                                               True_TE)\n",
    "\n",
    "    bias_boot_df = []\n",
    "    MCstd_boot_df = []\n",
    "    se_boot_df = []\n",
    "    rmse_boot_df = []\n",
    "    \n",
    "    for jj in range(b):\n",
    "        np.random.seed(jj)\n",
    "        temp_df = df[groupby_cols + est_cols + se_cols]\n",
    "        temp_df = temp_df.groupby(groupby_cols).apply(lambda grp: grp[est_cols + se_cols].sample(m, replace=True)).reset_index()\n",
    "        \n",
    "        temp_df = temp_df.reset_index().drop('level_4', axis=1)\n",
    "        \n",
    "        temp_df_bias, temp_df_MCstd, temp_df_rmse, temp_df_se = agg_func_bias_std_rmse(temp_df, \n",
    "                                                                                       groupby_cols, \n",
    "                                                                                       est_cols, \n",
    "                                                                                       se_cols,\n",
    "                                                                                       True_TE)\n",
    "        bias_boot_df += [temp_df_bias]\n",
    "        MCstd_boot_df += [temp_df_MCstd]\n",
    "        rmse_boot_df += [temp_df_rmse]\n",
    "        se_boot_df += [temp_df_se]\n",
    "        \n",
    "    bias_boot_df = pd.concat(bias_boot_df, axis=0).reset_index()\n",
    "    MCstd_boot_df = pd.concat(MCstd_boot_df, axis=0).reset_index()\n",
    "    rmse_boot_df = pd.concat(rmse_boot_df, axis=0).reset_index()\n",
    "    se_boot_df = pd.concat(se_boot_df, axis=0).reset_index()\n",
    "        \n",
    "    df_est_measures = {\n",
    "        'bias': df_bias, \n",
    "        'MCstd': df_MCstd, \n",
    "        'rmse': df_rmse,\n",
    "        'se': df_se,\n",
    "    }\n",
    "    df_est_measures_boot_CI = {}\n",
    "    \n",
    "    for measure, booted in zip(['bias', 'MCstd', 'rmse', 'se'], [bias_boot_df, MCstd_boot_df, rmse_boot_df, se_boot_df]):\n",
    "                \n",
    "        boot_LL_measure_df = booted.groupby(groupby_cols).quantile(0.025)[est_cols]\n",
    "        boot_LL_measure_df.columns = [\"boot_LL_{}_\".format(prefix)+c for c in boot_LL_measure_df.columns]\n",
    "        boot_LL_measure_df = boot_LL_measure_df.reset_index()\n",
    "\n",
    "        boot_UL_measure_df = booted.groupby(groupby_cols).quantile(0.975)[est_cols]\n",
    "        boot_UL_measure_df.columns = [\"boot_UL_{}_\".format(prefix)+c for c in boot_UL_measure_df.columns]\n",
    "        boot_UL_measure_df = boot_UL_measure_df.reset_index()\n",
    "\n",
    "        df_est_measures_boot_CI[measure] = df_est_measures[measure].merge(boot_LL_measure_df, \n",
    "                                                                          how='inner', \n",
    "                                                                          on=groupby_cols)\n",
    "        df_est_measures_boot_CI[measure] = df_est_measures_boot_CI[measure].merge(boot_UL_measure_df, \n",
    "                                                                                  how='inner', \n",
    "                                                                                  on=groupby_cols)\n",
    "        \n",
    "    return(df_est_measures_boot_CI)        "
   ]
  },
  {
   "cell_type": "code",
   "execution_count": 118,
   "metadata": {
    "scrolled": true
   },
   "outputs": [],
   "source": [
    "bias_var_mse = bias_std_rmse_booted_CI(df = mr_estimates2, \n",
    "                                       prefix = '', \n",
    "                                       groupby_cols = groupby_cols1, \n",
    "                                       est_cols = est_cols1, \n",
    "                                       se_cols = se_cols1,\n",
    "                                       True_TE = 1,\n",
    "                                       b=1000, \n",
    "                                       m=100\n",
    "                                      )"
   ]
  },
  {
   "cell_type": "code",
   "execution_count": null,
   "metadata": {},
   "outputs": [],
   "source": []
  },
  {
   "cell_type": "code",
   "execution_count": 119,
   "metadata": {},
   "outputs": [],
   "source": [
    "all_ests_CI = []\n",
    "for e in bias_var_mse.keys():\n",
    "    temp = bias_var_mse[e]\n",
    "    temp['measure'] = e\n",
    "    all_ests_CI += [temp]\n",
    "    \n",
    "all_ests_CI = pd.concat(all_ests_CI, axis=0)\n",
    "all_ests_CI['estimator'] = 'MR'\n",
    "# all_ests_CI.to_csv('all_ests_CI-MR-se-jan2023.csv', index=False)\n"
   ]
  },
  {
   "cell_type": "code",
   "execution_count": 120,
   "metadata": {},
   "outputs": [
    {
     "data": {
      "text/html": [
       "<div>\n",
       "<style scoped>\n",
       "    .dataframe tbody tr th:only-of-type {\n",
       "        vertical-align: middle;\n",
       "    }\n",
       "\n",
       "    .dataframe tbody tr th {\n",
       "        vertical-align: top;\n",
       "    }\n",
       "\n",
       "    .dataframe thead th {\n",
       "        text-align: right;\n",
       "    }\n",
       "</style>\n",
       "<table border=\"1\" class=\"dataframe\">\n",
       "  <thead>\n",
       "    <tr style=\"text-align: right;\">\n",
       "      <th></th>\n",
       "      <th>n</th>\n",
       "      <th>p</th>\n",
       "      <th>r3</th>\n",
       "      <th>r4</th>\n",
       "      <th>mr_with_oracle_DML_IVM</th>\n",
       "      <th>mr_with_outcome_oracle_DML_IVM</th>\n",
       "      <th>mr_with_ps_oracle_DML_IVM</th>\n",
       "      <th>mr_without_oracle_DML_IVM</th>\n",
       "      <th>boot_LL__mr_with_oracle_DML_IVM</th>\n",
       "      <th>boot_LL__mr_with_outcome_oracle_DML_IVM</th>\n",
       "      <th>boot_LL__mr_with_ps_oracle_DML_IVM</th>\n",
       "      <th>boot_LL__mr_without_oracle_DML_IVM</th>\n",
       "      <th>boot_UL__mr_with_oracle_DML_IVM</th>\n",
       "      <th>boot_UL__mr_with_outcome_oracle_DML_IVM</th>\n",
       "      <th>boot_UL__mr_with_ps_oracle_DML_IVM</th>\n",
       "      <th>boot_UL__mr_without_oracle_DML_IVM</th>\n",
       "      <th>measure</th>\n",
       "      <th>estimator</th>\n",
       "    </tr>\n",
       "  </thead>\n",
       "  <tbody>\n",
       "    <tr>\n",
       "      <th>0</th>\n",
       "      <td>750</td>\n",
       "      <td>32</td>\n",
       "      <td>0.25</td>\n",
       "      <td>0.25</td>\n",
       "      <td>0.019646</td>\n",
       "      <td>0.016489</td>\n",
       "      <td>0.084860</td>\n",
       "      <td>0.091782</td>\n",
       "      <td>0.001080</td>\n",
       "      <td>0.000944</td>\n",
       "      <td>0.017913</td>\n",
       "      <td>0.024503</td>\n",
       "      <td>0.075812</td>\n",
       "      <td>0.074622</td>\n",
       "      <td>0.165694</td>\n",
       "      <td>0.169227</td>\n",
       "      <td>bias</td>\n",
       "      <td>MR</td>\n",
       "    </tr>\n",
       "    <tr>\n",
       "      <th>1</th>\n",
       "      <td>7500</td>\n",
       "      <td>300</td>\n",
       "      <td>0.25</td>\n",
       "      <td>0.25</td>\n",
       "      <td>0.029587</td>\n",
       "      <td>0.029091</td>\n",
       "      <td>1.607452</td>\n",
       "      <td>1.640299</td>\n",
       "      <td>0.002219</td>\n",
       "      <td>0.002799</td>\n",
       "      <td>1.467766</td>\n",
       "      <td>1.497828</td>\n",
       "      <td>0.060940</td>\n",
       "      <td>0.060624</td>\n",
       "      <td>1.740036</td>\n",
       "      <td>1.772911</td>\n",
       "      <td>bias</td>\n",
       "      <td>MR</td>\n",
       "    </tr>\n",
       "    <tr>\n",
       "      <th>0</th>\n",
       "      <td>750</td>\n",
       "      <td>32</td>\n",
       "      <td>0.25</td>\n",
       "      <td>0.25</td>\n",
       "      <td>0.275634</td>\n",
       "      <td>0.289268</td>\n",
       "      <td>0.395677</td>\n",
       "      <td>0.377041</td>\n",
       "      <td>0.231351</td>\n",
       "      <td>0.234404</td>\n",
       "      <td>0.320576</td>\n",
       "      <td>0.310123</td>\n",
       "      <td>0.315705</td>\n",
       "      <td>0.342477</td>\n",
       "      <td>0.464528</td>\n",
       "      <td>0.438006</td>\n",
       "      <td>MCstd</td>\n",
       "      <td>MR</td>\n",
       "    </tr>\n",
       "    <tr>\n",
       "      <th>1</th>\n",
       "      <td>7500</td>\n",
       "      <td>300</td>\n",
       "      <td>0.25</td>\n",
       "      <td>0.25</td>\n",
       "      <td>0.166982</td>\n",
       "      <td>0.169296</td>\n",
       "      <td>0.709574</td>\n",
       "      <td>0.705481</td>\n",
       "      <td>0.143365</td>\n",
       "      <td>0.147450</td>\n",
       "      <td>0.607743</td>\n",
       "      <td>0.606741</td>\n",
       "      <td>0.188249</td>\n",
       "      <td>0.188079</td>\n",
       "      <td>0.815145</td>\n",
       "      <td>0.803820</td>\n",
       "      <td>MCstd</td>\n",
       "      <td>MR</td>\n",
       "    </tr>\n",
       "    <tr>\n",
       "      <th>0</th>\n",
       "      <td>750</td>\n",
       "      <td>32</td>\n",
       "      <td>0.25</td>\n",
       "      <td>0.25</td>\n",
       "      <td>0.742735</td>\n",
       "      <td>0.760794</td>\n",
       "      <td>0.893619</td>\n",
       "      <td>0.873216</td>\n",
       "      <td>0.682135</td>\n",
       "      <td>0.684986</td>\n",
       "      <td>0.804036</td>\n",
       "      <td>0.789929</td>\n",
       "      <td>0.794903</td>\n",
       "      <td>0.827774</td>\n",
       "      <td>0.971994</td>\n",
       "      <td>0.944752</td>\n",
       "      <td>rmse</td>\n",
       "      <td>MR</td>\n",
       "    </tr>\n",
       "    <tr>\n",
       "      <th>1</th>\n",
       "      <td>7500</td>\n",
       "      <td>300</td>\n",
       "      <td>0.25</td>\n",
       "      <td>0.25</td>\n",
       "      <td>0.578654</td>\n",
       "      <td>0.582613</td>\n",
       "      <td>2.000762</td>\n",
       "      <td>2.025227</td>\n",
       "      <td>0.536088</td>\n",
       "      <td>0.543828</td>\n",
       "      <td>1.871810</td>\n",
       "      <td>1.896828</td>\n",
       "      <td>0.615213</td>\n",
       "      <td>0.615274</td>\n",
       "      <td>2.129890</td>\n",
       "      <td>2.146123</td>\n",
       "      <td>rmse</td>\n",
       "      <td>MR</td>\n",
       "    </tr>\n",
       "    <tr>\n",
       "      <th>0</th>\n",
       "      <td>750</td>\n",
       "      <td>32</td>\n",
       "      <td>0.25</td>\n",
       "      <td>0.25</td>\n",
       "      <td>0.388253</td>\n",
       "      <td>0.376583</td>\n",
       "      <td>0.336545</td>\n",
       "      <td>0.295740</td>\n",
       "      <td>0.210038</td>\n",
       "      <td>0.196028</td>\n",
       "      <td>0.193897</td>\n",
       "      <td>0.182000</td>\n",
       "      <td>0.630783</td>\n",
       "      <td>0.613118</td>\n",
       "      <td>0.530160</td>\n",
       "      <td>0.451783</td>\n",
       "      <td>se</td>\n",
       "      <td>MR</td>\n",
       "    </tr>\n",
       "    <tr>\n",
       "      <th>1</th>\n",
       "      <td>7500</td>\n",
       "      <td>300</td>\n",
       "      <td>0.25</td>\n",
       "      <td>0.25</td>\n",
       "      <td>0.155079</td>\n",
       "      <td>0.156552</td>\n",
       "      <td>0.178392</td>\n",
       "      <td>0.187595</td>\n",
       "      <td>0.106425</td>\n",
       "      <td>0.106428</td>\n",
       "      <td>0.107566</td>\n",
       "      <td>0.107353</td>\n",
       "      <td>0.232456</td>\n",
       "      <td>0.237278</td>\n",
       "      <td>0.298475</td>\n",
       "      <td>0.328098</td>\n",
       "      <td>se</td>\n",
       "      <td>MR</td>\n",
       "    </tr>\n",
       "  </tbody>\n",
       "</table>\n",
       "</div>"
      ],
      "text/plain": [
       "      n    p    r3    r4  mr_with_oracle_DML_IVM  \\\n",
       "0  750   32   0.25  0.25  0.019646                 \n",
       "1  7500  300  0.25  0.25  0.029587                 \n",
       "0  750   32   0.25  0.25  0.275634                 \n",
       "1  7500  300  0.25  0.25  0.166982                 \n",
       "0  750   32   0.25  0.25  0.742735                 \n",
       "1  7500  300  0.25  0.25  0.578654                 \n",
       "0  750   32   0.25  0.25  0.388253                 \n",
       "1  7500  300  0.25  0.25  0.155079                 \n",
       "\n",
       "   mr_with_outcome_oracle_DML_IVM  mr_with_ps_oracle_DML_IVM  \\\n",
       "0  0.016489                        0.084860                    \n",
       "1  0.029091                        1.607452                    \n",
       "0  0.289268                        0.395677                    \n",
       "1  0.169296                        0.709574                    \n",
       "0  0.760794                        0.893619                    \n",
       "1  0.582613                        2.000762                    \n",
       "0  0.376583                        0.336545                    \n",
       "1  0.156552                        0.178392                    \n",
       "\n",
       "   mr_without_oracle_DML_IVM  boot_LL__mr_with_oracle_DML_IVM  \\\n",
       "0  0.091782                   0.001080                          \n",
       "1  1.640299                   0.002219                          \n",
       "0  0.377041                   0.231351                          \n",
       "1  0.705481                   0.143365                          \n",
       "0  0.873216                   0.682135                          \n",
       "1  2.025227                   0.536088                          \n",
       "0  0.295740                   0.210038                          \n",
       "1  0.187595                   0.106425                          \n",
       "\n",
       "   boot_LL__mr_with_outcome_oracle_DML_IVM  \\\n",
       "0  0.000944                                  \n",
       "1  0.002799                                  \n",
       "0  0.234404                                  \n",
       "1  0.147450                                  \n",
       "0  0.684986                                  \n",
       "1  0.543828                                  \n",
       "0  0.196028                                  \n",
       "1  0.106428                                  \n",
       "\n",
       "   boot_LL__mr_with_ps_oracle_DML_IVM  boot_LL__mr_without_oracle_DML_IVM  \\\n",
       "0  0.017913                            0.024503                             \n",
       "1  1.467766                            1.497828                             \n",
       "0  0.320576                            0.310123                             \n",
       "1  0.607743                            0.606741                             \n",
       "0  0.804036                            0.789929                             \n",
       "1  1.871810                            1.896828                             \n",
       "0  0.193897                            0.182000                             \n",
       "1  0.107566                            0.107353                             \n",
       "\n",
       "   boot_UL__mr_with_oracle_DML_IVM  boot_UL__mr_with_outcome_oracle_DML_IVM  \\\n",
       "0  0.075812                         0.074622                                  \n",
       "1  0.060940                         0.060624                                  \n",
       "0  0.315705                         0.342477                                  \n",
       "1  0.188249                         0.188079                                  \n",
       "0  0.794903                         0.827774                                  \n",
       "1  0.615213                         0.615274                                  \n",
       "0  0.630783                         0.613118                                  \n",
       "1  0.232456                         0.237278                                  \n",
       "\n",
       "   boot_UL__mr_with_ps_oracle_DML_IVM  boot_UL__mr_without_oracle_DML_IVM  \\\n",
       "0  0.165694                            0.169227                             \n",
       "1  1.740036                            1.772911                             \n",
       "0  0.464528                            0.438006                             \n",
       "1  0.815145                            0.803820                             \n",
       "0  0.971994                            0.944752                             \n",
       "1  2.129890                            2.146123                             \n",
       "0  0.530160                            0.451783                             \n",
       "1  0.298475                            0.328098                             \n",
       "\n",
       "  measure estimator  \n",
       "0  bias    MR        \n",
       "1  bias    MR        \n",
       "0  MCstd   MR        \n",
       "1  MCstd   MR        \n",
       "0  rmse    MR        \n",
       "1  rmse    MR        \n",
       "0  se      MR        \n",
       "1  se      MR        "
      ]
     },
     "execution_count": 120,
     "metadata": {},
     "output_type": "execute_result"
    }
   ],
   "source": [
    "all_ests_CI.head(50)"
   ]
  },
  {
   "cell_type": "code",
   "execution_count": null,
   "metadata": {},
   "outputs": [],
   "source": []
  },
  {
   "cell_type": "code",
   "execution_count": 2,
   "metadata": {
    "scrolled": true
   },
   "outputs": [
    {
     "ename": "FileNotFoundError",
     "evalue": "[Errno 2] No such file or directory: 'all_ests_CI-MR-aug2022.csv'",
     "output_type": "error",
     "traceback": [
      "\u001b[0;31m---------------------------------------------------------------------------\u001b[0m",
      "\u001b[0;31mFileNotFoundError\u001b[0m                         Traceback (most recent call last)",
      "\u001b[0;32m<ipython-input-2-5e01b6a8e0d2>\u001b[0m in \u001b[0;36m<module>\u001b[0;34m\u001b[0m\n\u001b[0;32m----> 1\u001b[0;31m \u001b[0mall_ests_CI\u001b[0m \u001b[0;34m=\u001b[0m \u001b[0mpd\u001b[0m\u001b[0;34m.\u001b[0m\u001b[0mread_csv\u001b[0m\u001b[0;34m(\u001b[0m\u001b[0;34m'all_ests_CI-MR-aug2022.csv'\u001b[0m\u001b[0;34m)\u001b[0m\u001b[0;34m\u001b[0m\u001b[0;34m\u001b[0m\u001b[0m\n\u001b[0m",
      "\u001b[0;32m~/anaconda3/lib/python3.6/site-packages/pandas/io/parsers.py\u001b[0m in \u001b[0;36mread_csv\u001b[0;34m(filepath_or_buffer, sep, delimiter, header, names, index_col, usecols, squeeze, prefix, mangle_dupe_cols, dtype, engine, converters, true_values, false_values, skipinitialspace, skiprows, skipfooter, nrows, na_values, keep_default_na, na_filter, verbose, skip_blank_lines, parse_dates, infer_datetime_format, keep_date_col, date_parser, dayfirst, cache_dates, iterator, chunksize, compression, thousands, decimal, lineterminator, quotechar, quoting, doublequote, escapechar, comment, encoding, dialect, error_bad_lines, warn_bad_lines, delim_whitespace, low_memory, memory_map, float_precision)\u001b[0m\n\u001b[1;32m    686\u001b[0m     )\n\u001b[1;32m    687\u001b[0m \u001b[0;34m\u001b[0m\u001b[0m\n\u001b[0;32m--> 688\u001b[0;31m     \u001b[0;32mreturn\u001b[0m \u001b[0m_read\u001b[0m\u001b[0;34m(\u001b[0m\u001b[0mfilepath_or_buffer\u001b[0m\u001b[0;34m,\u001b[0m \u001b[0mkwds\u001b[0m\u001b[0;34m)\u001b[0m\u001b[0;34m\u001b[0m\u001b[0;34m\u001b[0m\u001b[0m\n\u001b[0m\u001b[1;32m    689\u001b[0m \u001b[0;34m\u001b[0m\u001b[0m\n\u001b[1;32m    690\u001b[0m \u001b[0;34m\u001b[0m\u001b[0m\n",
      "\u001b[0;32m~/anaconda3/lib/python3.6/site-packages/pandas/io/parsers.py\u001b[0m in \u001b[0;36m_read\u001b[0;34m(filepath_or_buffer, kwds)\u001b[0m\n\u001b[1;32m    452\u001b[0m \u001b[0;34m\u001b[0m\u001b[0m\n\u001b[1;32m    453\u001b[0m     \u001b[0;31m# Create the parser.\u001b[0m\u001b[0;34m\u001b[0m\u001b[0;34m\u001b[0m\u001b[0;34m\u001b[0m\u001b[0m\n\u001b[0;32m--> 454\u001b[0;31m     \u001b[0mparser\u001b[0m \u001b[0;34m=\u001b[0m \u001b[0mTextFileReader\u001b[0m\u001b[0;34m(\u001b[0m\u001b[0mfp_or_buf\u001b[0m\u001b[0;34m,\u001b[0m \u001b[0;34m**\u001b[0m\u001b[0mkwds\u001b[0m\u001b[0;34m)\u001b[0m\u001b[0;34m\u001b[0m\u001b[0;34m\u001b[0m\u001b[0m\n\u001b[0m\u001b[1;32m    455\u001b[0m \u001b[0;34m\u001b[0m\u001b[0m\n\u001b[1;32m    456\u001b[0m     \u001b[0;32mif\u001b[0m \u001b[0mchunksize\u001b[0m \u001b[0;32mor\u001b[0m \u001b[0miterator\u001b[0m\u001b[0;34m:\u001b[0m\u001b[0;34m\u001b[0m\u001b[0;34m\u001b[0m\u001b[0m\n",
      "\u001b[0;32m~/anaconda3/lib/python3.6/site-packages/pandas/io/parsers.py\u001b[0m in \u001b[0;36m__init__\u001b[0;34m(self, f, engine, **kwds)\u001b[0m\n\u001b[1;32m    946\u001b[0m             \u001b[0mself\u001b[0m\u001b[0;34m.\u001b[0m\u001b[0moptions\u001b[0m\u001b[0;34m[\u001b[0m\u001b[0;34m\"has_index_names\"\u001b[0m\u001b[0;34m]\u001b[0m \u001b[0;34m=\u001b[0m \u001b[0mkwds\u001b[0m\u001b[0;34m[\u001b[0m\u001b[0;34m\"has_index_names\"\u001b[0m\u001b[0;34m]\u001b[0m\u001b[0;34m\u001b[0m\u001b[0;34m\u001b[0m\u001b[0m\n\u001b[1;32m    947\u001b[0m \u001b[0;34m\u001b[0m\u001b[0m\n\u001b[0;32m--> 948\u001b[0;31m         \u001b[0mself\u001b[0m\u001b[0;34m.\u001b[0m\u001b[0m_make_engine\u001b[0m\u001b[0;34m(\u001b[0m\u001b[0mself\u001b[0m\u001b[0;34m.\u001b[0m\u001b[0mengine\u001b[0m\u001b[0;34m)\u001b[0m\u001b[0;34m\u001b[0m\u001b[0;34m\u001b[0m\u001b[0m\n\u001b[0m\u001b[1;32m    949\u001b[0m \u001b[0;34m\u001b[0m\u001b[0m\n\u001b[1;32m    950\u001b[0m     \u001b[0;32mdef\u001b[0m \u001b[0mclose\u001b[0m\u001b[0;34m(\u001b[0m\u001b[0mself\u001b[0m\u001b[0;34m)\u001b[0m\u001b[0;34m:\u001b[0m\u001b[0;34m\u001b[0m\u001b[0;34m\u001b[0m\u001b[0m\n",
      "\u001b[0;32m~/anaconda3/lib/python3.6/site-packages/pandas/io/parsers.py\u001b[0m in \u001b[0;36m_make_engine\u001b[0;34m(self, engine)\u001b[0m\n\u001b[1;32m   1178\u001b[0m     \u001b[0;32mdef\u001b[0m \u001b[0m_make_engine\u001b[0m\u001b[0;34m(\u001b[0m\u001b[0mself\u001b[0m\u001b[0;34m,\u001b[0m \u001b[0mengine\u001b[0m\u001b[0;34m=\u001b[0m\u001b[0;34m\"c\"\u001b[0m\u001b[0;34m)\u001b[0m\u001b[0;34m:\u001b[0m\u001b[0;34m\u001b[0m\u001b[0;34m\u001b[0m\u001b[0m\n\u001b[1;32m   1179\u001b[0m         \u001b[0;32mif\u001b[0m \u001b[0mengine\u001b[0m \u001b[0;34m==\u001b[0m \u001b[0;34m\"c\"\u001b[0m\u001b[0;34m:\u001b[0m\u001b[0;34m\u001b[0m\u001b[0;34m\u001b[0m\u001b[0m\n\u001b[0;32m-> 1180\u001b[0;31m             \u001b[0mself\u001b[0m\u001b[0;34m.\u001b[0m\u001b[0m_engine\u001b[0m \u001b[0;34m=\u001b[0m \u001b[0mCParserWrapper\u001b[0m\u001b[0;34m(\u001b[0m\u001b[0mself\u001b[0m\u001b[0;34m.\u001b[0m\u001b[0mf\u001b[0m\u001b[0;34m,\u001b[0m \u001b[0;34m**\u001b[0m\u001b[0mself\u001b[0m\u001b[0;34m.\u001b[0m\u001b[0moptions\u001b[0m\u001b[0;34m)\u001b[0m\u001b[0;34m\u001b[0m\u001b[0;34m\u001b[0m\u001b[0m\n\u001b[0m\u001b[1;32m   1181\u001b[0m         \u001b[0;32melse\u001b[0m\u001b[0;34m:\u001b[0m\u001b[0;34m\u001b[0m\u001b[0;34m\u001b[0m\u001b[0m\n\u001b[1;32m   1182\u001b[0m             \u001b[0;32mif\u001b[0m \u001b[0mengine\u001b[0m \u001b[0;34m==\u001b[0m \u001b[0;34m\"python\"\u001b[0m\u001b[0;34m:\u001b[0m\u001b[0;34m\u001b[0m\u001b[0;34m\u001b[0m\u001b[0m\n",
      "\u001b[0;32m~/anaconda3/lib/python3.6/site-packages/pandas/io/parsers.py\u001b[0m in \u001b[0;36m__init__\u001b[0;34m(self, src, **kwds)\u001b[0m\n\u001b[1;32m   2008\u001b[0m         \u001b[0mkwds\u001b[0m\u001b[0;34m[\u001b[0m\u001b[0;34m\"usecols\"\u001b[0m\u001b[0;34m]\u001b[0m \u001b[0;34m=\u001b[0m \u001b[0mself\u001b[0m\u001b[0;34m.\u001b[0m\u001b[0musecols\u001b[0m\u001b[0;34m\u001b[0m\u001b[0;34m\u001b[0m\u001b[0m\n\u001b[1;32m   2009\u001b[0m \u001b[0;34m\u001b[0m\u001b[0m\n\u001b[0;32m-> 2010\u001b[0;31m         \u001b[0mself\u001b[0m\u001b[0;34m.\u001b[0m\u001b[0m_reader\u001b[0m \u001b[0;34m=\u001b[0m \u001b[0mparsers\u001b[0m\u001b[0;34m.\u001b[0m\u001b[0mTextReader\u001b[0m\u001b[0;34m(\u001b[0m\u001b[0msrc\u001b[0m\u001b[0;34m,\u001b[0m \u001b[0;34m**\u001b[0m\u001b[0mkwds\u001b[0m\u001b[0;34m)\u001b[0m\u001b[0;34m\u001b[0m\u001b[0;34m\u001b[0m\u001b[0m\n\u001b[0m\u001b[1;32m   2011\u001b[0m         \u001b[0mself\u001b[0m\u001b[0;34m.\u001b[0m\u001b[0munnamed_cols\u001b[0m \u001b[0;34m=\u001b[0m \u001b[0mself\u001b[0m\u001b[0;34m.\u001b[0m\u001b[0m_reader\u001b[0m\u001b[0;34m.\u001b[0m\u001b[0munnamed_cols\u001b[0m\u001b[0;34m\u001b[0m\u001b[0;34m\u001b[0m\u001b[0m\n\u001b[1;32m   2012\u001b[0m \u001b[0;34m\u001b[0m\u001b[0m\n",
      "\u001b[0;32mpandas/_libs/parsers.pyx\u001b[0m in \u001b[0;36mpandas._libs.parsers.TextReader.__cinit__\u001b[0;34m()\u001b[0m\n",
      "\u001b[0;32mpandas/_libs/parsers.pyx\u001b[0m in \u001b[0;36mpandas._libs.parsers.TextReader._setup_parser_source\u001b[0;34m()\u001b[0m\n",
      "\u001b[0;31mFileNotFoundError\u001b[0m: [Errno 2] No such file or directory: 'all_ests_CI-MR-aug2022.csv'"
     ]
    }
   ],
   "source": [
    "all_ests_CI = pd.read_csv('all_ests_CI-MR-aug2022.csv')"
   ]
  },
  {
   "cell_type": "code",
   "execution_count": 121,
   "metadata": {},
   "outputs": [
    {
     "name": "stderr",
     "output_type": "stream",
     "text": [
      "/home/mr/anaconda3/lib/python3.6/site-packages/ipykernel_launcher.py:4: SettingWithCopyWarning:\n",
      "\n",
      "\n",
      "A value is trying to be set on a copy of a slice from a DataFrame.\n",
      "Try using .loc[row_indexer,col_indexer] = value instead\n",
      "\n",
      "See the caveats in the documentation: https://pandas.pydata.org/pandas-docs/stable/user_guide/indexing.html#returning-a-view-versus-a-copy\n",
      "\n"
     ]
    }
   ],
   "source": [
    "all_ests_CI_dict = {}\n",
    "for estimator in est_cols1:\n",
    "    all_ests_CI_dict[estimator] = all_ests_CI[[c for c in all_ests_CI.columns if 'mr' not in c]+[c for c in all_ests_CI.columns if (c == (estimator)) or  (c == ('boot_LL__'+estimator)) or  (c == ('boot_UL__'+estimator))]]\n",
    "    all_ests_CI_dict[estimator]['MR'] = estimator\n",
    "    all_ests_CI_dict[estimator] = all_ests_CI_dict[estimator].rename({\n",
    "        c:re.sub('boot_UL__', 'ul_', re.sub('boot_LL__', 'll_', re.sub('_with_oracle|_with_outcome_oracle|_with_ps_oracle|_without_oracle|_IVM|_DML', '', c)))\n",
    "        for c in all_ests_CI_dict[estimator].columns}, axis=1)"
   ]
  },
  {
   "cell_type": "code",
   "execution_count": 122,
   "metadata": {
    "scrolled": true
   },
   "outputs": [
    {
     "data": {
      "text/html": [
       "<div>\n",
       "<style scoped>\n",
       "    .dataframe tbody tr th:only-of-type {\n",
       "        vertical-align: middle;\n",
       "    }\n",
       "\n",
       "    .dataframe tbody tr th {\n",
       "        vertical-align: top;\n",
       "    }\n",
       "\n",
       "    .dataframe thead th {\n",
       "        text-align: right;\n",
       "    }\n",
       "</style>\n",
       "<table border=\"1\" class=\"dataframe\">\n",
       "  <thead>\n",
       "    <tr style=\"text-align: right;\">\n",
       "      <th></th>\n",
       "      <th>n</th>\n",
       "      <th>p</th>\n",
       "      <th>r3</th>\n",
       "      <th>r4</th>\n",
       "      <th>measure</th>\n",
       "      <th>estimator</th>\n",
       "      <th>mr</th>\n",
       "      <th>ll_mr</th>\n",
       "      <th>ul_mr</th>\n",
       "      <th>MR</th>\n",
       "    </tr>\n",
       "  </thead>\n",
       "  <tbody>\n",
       "    <tr>\n",
       "      <th>0</th>\n",
       "      <td>750</td>\n",
       "      <td>32</td>\n",
       "      <td>0.25</td>\n",
       "      <td>0.25</td>\n",
       "      <td>bias</td>\n",
       "      <td>MR</td>\n",
       "      <td>0.019646</td>\n",
       "      <td>0.001080</td>\n",
       "      <td>0.075812</td>\n",
       "      <td>mr_with_oracle_DML_IVM</td>\n",
       "    </tr>\n",
       "    <tr>\n",
       "      <th>1</th>\n",
       "      <td>7500</td>\n",
       "      <td>300</td>\n",
       "      <td>0.25</td>\n",
       "      <td>0.25</td>\n",
       "      <td>bias</td>\n",
       "      <td>MR</td>\n",
       "      <td>0.029587</td>\n",
       "      <td>0.002219</td>\n",
       "      <td>0.060940</td>\n",
       "      <td>mr_with_oracle_DML_IVM</td>\n",
       "    </tr>\n",
       "    <tr>\n",
       "      <th>0</th>\n",
       "      <td>750</td>\n",
       "      <td>32</td>\n",
       "      <td>0.25</td>\n",
       "      <td>0.25</td>\n",
       "      <td>MCstd</td>\n",
       "      <td>MR</td>\n",
       "      <td>0.275634</td>\n",
       "      <td>0.231351</td>\n",
       "      <td>0.315705</td>\n",
       "      <td>mr_with_oracle_DML_IVM</td>\n",
       "    </tr>\n",
       "    <tr>\n",
       "      <th>1</th>\n",
       "      <td>7500</td>\n",
       "      <td>300</td>\n",
       "      <td>0.25</td>\n",
       "      <td>0.25</td>\n",
       "      <td>MCstd</td>\n",
       "      <td>MR</td>\n",
       "      <td>0.166982</td>\n",
       "      <td>0.143365</td>\n",
       "      <td>0.188249</td>\n",
       "      <td>mr_with_oracle_DML_IVM</td>\n",
       "    </tr>\n",
       "    <tr>\n",
       "      <th>0</th>\n",
       "      <td>750</td>\n",
       "      <td>32</td>\n",
       "      <td>0.25</td>\n",
       "      <td>0.25</td>\n",
       "      <td>rmse</td>\n",
       "      <td>MR</td>\n",
       "      <td>0.742735</td>\n",
       "      <td>0.682135</td>\n",
       "      <td>0.794903</td>\n",
       "      <td>mr_with_oracle_DML_IVM</td>\n",
       "    </tr>\n",
       "    <tr>\n",
       "      <th>1</th>\n",
       "      <td>7500</td>\n",
       "      <td>300</td>\n",
       "      <td>0.25</td>\n",
       "      <td>0.25</td>\n",
       "      <td>rmse</td>\n",
       "      <td>MR</td>\n",
       "      <td>0.578654</td>\n",
       "      <td>0.536088</td>\n",
       "      <td>0.615213</td>\n",
       "      <td>mr_with_oracle_DML_IVM</td>\n",
       "    </tr>\n",
       "    <tr>\n",
       "      <th>0</th>\n",
       "      <td>750</td>\n",
       "      <td>32</td>\n",
       "      <td>0.25</td>\n",
       "      <td>0.25</td>\n",
       "      <td>se</td>\n",
       "      <td>MR</td>\n",
       "      <td>0.388253</td>\n",
       "      <td>0.210038</td>\n",
       "      <td>0.630783</td>\n",
       "      <td>mr_with_oracle_DML_IVM</td>\n",
       "    </tr>\n",
       "    <tr>\n",
       "      <th>1</th>\n",
       "      <td>7500</td>\n",
       "      <td>300</td>\n",
       "      <td>0.25</td>\n",
       "      <td>0.25</td>\n",
       "      <td>se</td>\n",
       "      <td>MR</td>\n",
       "      <td>0.155079</td>\n",
       "      <td>0.106425</td>\n",
       "      <td>0.232456</td>\n",
       "      <td>mr_with_oracle_DML_IVM</td>\n",
       "    </tr>\n",
       "    <tr>\n",
       "      <th>0</th>\n",
       "      <td>750</td>\n",
       "      <td>32</td>\n",
       "      <td>0.25</td>\n",
       "      <td>0.25</td>\n",
       "      <td>bias</td>\n",
       "      <td>MR</td>\n",
       "      <td>0.016489</td>\n",
       "      <td>0.000944</td>\n",
       "      <td>0.074622</td>\n",
       "      <td>mr_with_outcome_oracle_DML_IVM</td>\n",
       "    </tr>\n",
       "    <tr>\n",
       "      <th>1</th>\n",
       "      <td>7500</td>\n",
       "      <td>300</td>\n",
       "      <td>0.25</td>\n",
       "      <td>0.25</td>\n",
       "      <td>bias</td>\n",
       "      <td>MR</td>\n",
       "      <td>0.029091</td>\n",
       "      <td>0.002799</td>\n",
       "      <td>0.060624</td>\n",
       "      <td>mr_with_outcome_oracle_DML_IVM</td>\n",
       "    </tr>\n",
       "    <tr>\n",
       "      <th>0</th>\n",
       "      <td>750</td>\n",
       "      <td>32</td>\n",
       "      <td>0.25</td>\n",
       "      <td>0.25</td>\n",
       "      <td>MCstd</td>\n",
       "      <td>MR</td>\n",
       "      <td>0.289268</td>\n",
       "      <td>0.234404</td>\n",
       "      <td>0.342477</td>\n",
       "      <td>mr_with_outcome_oracle_DML_IVM</td>\n",
       "    </tr>\n",
       "    <tr>\n",
       "      <th>1</th>\n",
       "      <td>7500</td>\n",
       "      <td>300</td>\n",
       "      <td>0.25</td>\n",
       "      <td>0.25</td>\n",
       "      <td>MCstd</td>\n",
       "      <td>MR</td>\n",
       "      <td>0.169296</td>\n",
       "      <td>0.147450</td>\n",
       "      <td>0.188079</td>\n",
       "      <td>mr_with_outcome_oracle_DML_IVM</td>\n",
       "    </tr>\n",
       "    <tr>\n",
       "      <th>0</th>\n",
       "      <td>750</td>\n",
       "      <td>32</td>\n",
       "      <td>0.25</td>\n",
       "      <td>0.25</td>\n",
       "      <td>rmse</td>\n",
       "      <td>MR</td>\n",
       "      <td>0.760794</td>\n",
       "      <td>0.684986</td>\n",
       "      <td>0.827774</td>\n",
       "      <td>mr_with_outcome_oracle_DML_IVM</td>\n",
       "    </tr>\n",
       "    <tr>\n",
       "      <th>1</th>\n",
       "      <td>7500</td>\n",
       "      <td>300</td>\n",
       "      <td>0.25</td>\n",
       "      <td>0.25</td>\n",
       "      <td>rmse</td>\n",
       "      <td>MR</td>\n",
       "      <td>0.582613</td>\n",
       "      <td>0.543828</td>\n",
       "      <td>0.615274</td>\n",
       "      <td>mr_with_outcome_oracle_DML_IVM</td>\n",
       "    </tr>\n",
       "    <tr>\n",
       "      <th>0</th>\n",
       "      <td>750</td>\n",
       "      <td>32</td>\n",
       "      <td>0.25</td>\n",
       "      <td>0.25</td>\n",
       "      <td>se</td>\n",
       "      <td>MR</td>\n",
       "      <td>0.376583</td>\n",
       "      <td>0.196028</td>\n",
       "      <td>0.613118</td>\n",
       "      <td>mr_with_outcome_oracle_DML_IVM</td>\n",
       "    </tr>\n",
       "    <tr>\n",
       "      <th>1</th>\n",
       "      <td>7500</td>\n",
       "      <td>300</td>\n",
       "      <td>0.25</td>\n",
       "      <td>0.25</td>\n",
       "      <td>se</td>\n",
       "      <td>MR</td>\n",
       "      <td>0.156552</td>\n",
       "      <td>0.106428</td>\n",
       "      <td>0.237278</td>\n",
       "      <td>mr_with_outcome_oracle_DML_IVM</td>\n",
       "    </tr>\n",
       "    <tr>\n",
       "      <th>0</th>\n",
       "      <td>750</td>\n",
       "      <td>32</td>\n",
       "      <td>0.25</td>\n",
       "      <td>0.25</td>\n",
       "      <td>bias</td>\n",
       "      <td>MR</td>\n",
       "      <td>0.084860</td>\n",
       "      <td>0.017913</td>\n",
       "      <td>0.165694</td>\n",
       "      <td>mr_with_ps_oracle_DML_IVM</td>\n",
       "    </tr>\n",
       "    <tr>\n",
       "      <th>1</th>\n",
       "      <td>7500</td>\n",
       "      <td>300</td>\n",
       "      <td>0.25</td>\n",
       "      <td>0.25</td>\n",
       "      <td>bias</td>\n",
       "      <td>MR</td>\n",
       "      <td>1.607452</td>\n",
       "      <td>1.467766</td>\n",
       "      <td>1.740036</td>\n",
       "      <td>mr_with_ps_oracle_DML_IVM</td>\n",
       "    </tr>\n",
       "    <tr>\n",
       "      <th>0</th>\n",
       "      <td>750</td>\n",
       "      <td>32</td>\n",
       "      <td>0.25</td>\n",
       "      <td>0.25</td>\n",
       "      <td>MCstd</td>\n",
       "      <td>MR</td>\n",
       "      <td>0.395677</td>\n",
       "      <td>0.320576</td>\n",
       "      <td>0.464528</td>\n",
       "      <td>mr_with_ps_oracle_DML_IVM</td>\n",
       "    </tr>\n",
       "    <tr>\n",
       "      <th>1</th>\n",
       "      <td>7500</td>\n",
       "      <td>300</td>\n",
       "      <td>0.25</td>\n",
       "      <td>0.25</td>\n",
       "      <td>MCstd</td>\n",
       "      <td>MR</td>\n",
       "      <td>0.709574</td>\n",
       "      <td>0.607743</td>\n",
       "      <td>0.815145</td>\n",
       "      <td>mr_with_ps_oracle_DML_IVM</td>\n",
       "    </tr>\n",
       "    <tr>\n",
       "      <th>0</th>\n",
       "      <td>750</td>\n",
       "      <td>32</td>\n",
       "      <td>0.25</td>\n",
       "      <td>0.25</td>\n",
       "      <td>rmse</td>\n",
       "      <td>MR</td>\n",
       "      <td>0.893619</td>\n",
       "      <td>0.804036</td>\n",
       "      <td>0.971994</td>\n",
       "      <td>mr_with_ps_oracle_DML_IVM</td>\n",
       "    </tr>\n",
       "    <tr>\n",
       "      <th>1</th>\n",
       "      <td>7500</td>\n",
       "      <td>300</td>\n",
       "      <td>0.25</td>\n",
       "      <td>0.25</td>\n",
       "      <td>rmse</td>\n",
       "      <td>MR</td>\n",
       "      <td>2.000762</td>\n",
       "      <td>1.871810</td>\n",
       "      <td>2.129890</td>\n",
       "      <td>mr_with_ps_oracle_DML_IVM</td>\n",
       "    </tr>\n",
       "    <tr>\n",
       "      <th>0</th>\n",
       "      <td>750</td>\n",
       "      <td>32</td>\n",
       "      <td>0.25</td>\n",
       "      <td>0.25</td>\n",
       "      <td>se</td>\n",
       "      <td>MR</td>\n",
       "      <td>0.336545</td>\n",
       "      <td>0.193897</td>\n",
       "      <td>0.530160</td>\n",
       "      <td>mr_with_ps_oracle_DML_IVM</td>\n",
       "    </tr>\n",
       "    <tr>\n",
       "      <th>1</th>\n",
       "      <td>7500</td>\n",
       "      <td>300</td>\n",
       "      <td>0.25</td>\n",
       "      <td>0.25</td>\n",
       "      <td>se</td>\n",
       "      <td>MR</td>\n",
       "      <td>0.178392</td>\n",
       "      <td>0.107566</td>\n",
       "      <td>0.298475</td>\n",
       "      <td>mr_with_ps_oracle_DML_IVM</td>\n",
       "    </tr>\n",
       "    <tr>\n",
       "      <th>0</th>\n",
       "      <td>750</td>\n",
       "      <td>32</td>\n",
       "      <td>0.25</td>\n",
       "      <td>0.25</td>\n",
       "      <td>bias</td>\n",
       "      <td>MR</td>\n",
       "      <td>0.091782</td>\n",
       "      <td>0.024503</td>\n",
       "      <td>0.169227</td>\n",
       "      <td>mr_without_oracle_DML_IVM</td>\n",
       "    </tr>\n",
       "    <tr>\n",
       "      <th>1</th>\n",
       "      <td>7500</td>\n",
       "      <td>300</td>\n",
       "      <td>0.25</td>\n",
       "      <td>0.25</td>\n",
       "      <td>bias</td>\n",
       "      <td>MR</td>\n",
       "      <td>1.640299</td>\n",
       "      <td>1.497828</td>\n",
       "      <td>1.772911</td>\n",
       "      <td>mr_without_oracle_DML_IVM</td>\n",
       "    </tr>\n",
       "    <tr>\n",
       "      <th>0</th>\n",
       "      <td>750</td>\n",
       "      <td>32</td>\n",
       "      <td>0.25</td>\n",
       "      <td>0.25</td>\n",
       "      <td>MCstd</td>\n",
       "      <td>MR</td>\n",
       "      <td>0.377041</td>\n",
       "      <td>0.310123</td>\n",
       "      <td>0.438006</td>\n",
       "      <td>mr_without_oracle_DML_IVM</td>\n",
       "    </tr>\n",
       "    <tr>\n",
       "      <th>1</th>\n",
       "      <td>7500</td>\n",
       "      <td>300</td>\n",
       "      <td>0.25</td>\n",
       "      <td>0.25</td>\n",
       "      <td>MCstd</td>\n",
       "      <td>MR</td>\n",
       "      <td>0.705481</td>\n",
       "      <td>0.606741</td>\n",
       "      <td>0.803820</td>\n",
       "      <td>mr_without_oracle_DML_IVM</td>\n",
       "    </tr>\n",
       "    <tr>\n",
       "      <th>0</th>\n",
       "      <td>750</td>\n",
       "      <td>32</td>\n",
       "      <td>0.25</td>\n",
       "      <td>0.25</td>\n",
       "      <td>rmse</td>\n",
       "      <td>MR</td>\n",
       "      <td>0.873216</td>\n",
       "      <td>0.789929</td>\n",
       "      <td>0.944752</td>\n",
       "      <td>mr_without_oracle_DML_IVM</td>\n",
       "    </tr>\n",
       "    <tr>\n",
       "      <th>1</th>\n",
       "      <td>7500</td>\n",
       "      <td>300</td>\n",
       "      <td>0.25</td>\n",
       "      <td>0.25</td>\n",
       "      <td>rmse</td>\n",
       "      <td>MR</td>\n",
       "      <td>2.025227</td>\n",
       "      <td>1.896828</td>\n",
       "      <td>2.146123</td>\n",
       "      <td>mr_without_oracle_DML_IVM</td>\n",
       "    </tr>\n",
       "    <tr>\n",
       "      <th>0</th>\n",
       "      <td>750</td>\n",
       "      <td>32</td>\n",
       "      <td>0.25</td>\n",
       "      <td>0.25</td>\n",
       "      <td>se</td>\n",
       "      <td>MR</td>\n",
       "      <td>0.295740</td>\n",
       "      <td>0.182000</td>\n",
       "      <td>0.451783</td>\n",
       "      <td>mr_without_oracle_DML_IVM</td>\n",
       "    </tr>\n",
       "    <tr>\n",
       "      <th>1</th>\n",
       "      <td>7500</td>\n",
       "      <td>300</td>\n",
       "      <td>0.25</td>\n",
       "      <td>0.25</td>\n",
       "      <td>se</td>\n",
       "      <td>MR</td>\n",
       "      <td>0.187595</td>\n",
       "      <td>0.107353</td>\n",
       "      <td>0.328098</td>\n",
       "      <td>mr_without_oracle_DML_IVM</td>\n",
       "    </tr>\n",
       "  </tbody>\n",
       "</table>\n",
       "</div>"
      ],
      "text/plain": [
       "      n    p    r3    r4 measure estimator        mr     ll_mr     ul_mr  \\\n",
       "0  750   32   0.25  0.25  bias    MR        0.019646  0.001080  0.075812   \n",
       "1  7500  300  0.25  0.25  bias    MR        0.029587  0.002219  0.060940   \n",
       "0  750   32   0.25  0.25  MCstd   MR        0.275634  0.231351  0.315705   \n",
       "1  7500  300  0.25  0.25  MCstd   MR        0.166982  0.143365  0.188249   \n",
       "0  750   32   0.25  0.25  rmse    MR        0.742735  0.682135  0.794903   \n",
       "1  7500  300  0.25  0.25  rmse    MR        0.578654  0.536088  0.615213   \n",
       "0  750   32   0.25  0.25  se      MR        0.388253  0.210038  0.630783   \n",
       "1  7500  300  0.25  0.25  se      MR        0.155079  0.106425  0.232456   \n",
       "0  750   32   0.25  0.25  bias    MR        0.016489  0.000944  0.074622   \n",
       "1  7500  300  0.25  0.25  bias    MR        0.029091  0.002799  0.060624   \n",
       "0  750   32   0.25  0.25  MCstd   MR        0.289268  0.234404  0.342477   \n",
       "1  7500  300  0.25  0.25  MCstd   MR        0.169296  0.147450  0.188079   \n",
       "0  750   32   0.25  0.25  rmse    MR        0.760794  0.684986  0.827774   \n",
       "1  7500  300  0.25  0.25  rmse    MR        0.582613  0.543828  0.615274   \n",
       "0  750   32   0.25  0.25  se      MR        0.376583  0.196028  0.613118   \n",
       "1  7500  300  0.25  0.25  se      MR        0.156552  0.106428  0.237278   \n",
       "0  750   32   0.25  0.25  bias    MR        0.084860  0.017913  0.165694   \n",
       "1  7500  300  0.25  0.25  bias    MR        1.607452  1.467766  1.740036   \n",
       "0  750   32   0.25  0.25  MCstd   MR        0.395677  0.320576  0.464528   \n",
       "1  7500  300  0.25  0.25  MCstd   MR        0.709574  0.607743  0.815145   \n",
       "0  750   32   0.25  0.25  rmse    MR        0.893619  0.804036  0.971994   \n",
       "1  7500  300  0.25  0.25  rmse    MR        2.000762  1.871810  2.129890   \n",
       "0  750   32   0.25  0.25  se      MR        0.336545  0.193897  0.530160   \n",
       "1  7500  300  0.25  0.25  se      MR        0.178392  0.107566  0.298475   \n",
       "0  750   32   0.25  0.25  bias    MR        0.091782  0.024503  0.169227   \n",
       "1  7500  300  0.25  0.25  bias    MR        1.640299  1.497828  1.772911   \n",
       "0  750   32   0.25  0.25  MCstd   MR        0.377041  0.310123  0.438006   \n",
       "1  7500  300  0.25  0.25  MCstd   MR        0.705481  0.606741  0.803820   \n",
       "0  750   32   0.25  0.25  rmse    MR        0.873216  0.789929  0.944752   \n",
       "1  7500  300  0.25  0.25  rmse    MR        2.025227  1.896828  2.146123   \n",
       "0  750   32   0.25  0.25  se      MR        0.295740  0.182000  0.451783   \n",
       "1  7500  300  0.25  0.25  se      MR        0.187595  0.107353  0.328098   \n",
       "\n",
       "                               MR  \n",
       "0  mr_with_oracle_DML_IVM          \n",
       "1  mr_with_oracle_DML_IVM          \n",
       "0  mr_with_oracle_DML_IVM          \n",
       "1  mr_with_oracle_DML_IVM          \n",
       "0  mr_with_oracle_DML_IVM          \n",
       "1  mr_with_oracle_DML_IVM          \n",
       "0  mr_with_oracle_DML_IVM          \n",
       "1  mr_with_oracle_DML_IVM          \n",
       "0  mr_with_outcome_oracle_DML_IVM  \n",
       "1  mr_with_outcome_oracle_DML_IVM  \n",
       "0  mr_with_outcome_oracle_DML_IVM  \n",
       "1  mr_with_outcome_oracle_DML_IVM  \n",
       "0  mr_with_outcome_oracle_DML_IVM  \n",
       "1  mr_with_outcome_oracle_DML_IVM  \n",
       "0  mr_with_outcome_oracle_DML_IVM  \n",
       "1  mr_with_outcome_oracle_DML_IVM  \n",
       "0  mr_with_ps_oracle_DML_IVM       \n",
       "1  mr_with_ps_oracle_DML_IVM       \n",
       "0  mr_with_ps_oracle_DML_IVM       \n",
       "1  mr_with_ps_oracle_DML_IVM       \n",
       "0  mr_with_ps_oracle_DML_IVM       \n",
       "1  mr_with_ps_oracle_DML_IVM       \n",
       "0  mr_with_ps_oracle_DML_IVM       \n",
       "1  mr_with_ps_oracle_DML_IVM       \n",
       "0  mr_without_oracle_DML_IVM       \n",
       "1  mr_without_oracle_DML_IVM       \n",
       "0  mr_without_oracle_DML_IVM       \n",
       "1  mr_without_oracle_DML_IVM       \n",
       "0  mr_without_oracle_DML_IVM       \n",
       "1  mr_without_oracle_DML_IVM       \n",
       "0  mr_without_oracle_DML_IVM       \n",
       "1  mr_without_oracle_DML_IVM       "
      ]
     },
     "execution_count": 122,
     "metadata": {},
     "output_type": "execute_result"
    }
   ],
   "source": [
    "all_ests_CI3 = pd.concat(list(all_ests_CI_dict.values()), axis=0)\n",
    "all_ests_CI3.head(50)"
   ]
  },
  {
   "cell_type": "code",
   "execution_count": 123,
   "metadata": {},
   "outputs": [],
   "source": [
    "# all_ests_CI3 = pd.read_csv('all_ests_CI3-750-7500-r.25.csv')\n",
    "# all_ests_CI3.to_csv('all_ests_CI3-750-7500-r.25.csv', index=False)\n",
    "all_ests_CI3['MR'] = all_ests_CI3['MR'].astype(str).str.replace('DML', 'dNN', regex=True, case=False)\n",
    "all_ests_CI3['MR'] = all_ests_CI3['MR'].astype(str).str.replace('IVM', 'jNN', regex=True, case=False)"
   ]
  },
  {
   "cell_type": "code",
   "execution_count": null,
   "metadata": {},
   "outputs": [],
   "source": []
  },
  {
   "cell_type": "code",
   "execution_count": 124,
   "metadata": {},
   "outputs": [],
   "source": [
    "all_ests_CI3['mr_lower_marginal'] = (all_ests_CI3['mr'] - all_ests_CI3['ll_mr'])\n",
    "all_ests_CI3['mr_upper_marginal'] = (all_ests_CI3['ul_mr'] - all_ests_CI3['mr'])"
   ]
  },
  {
   "cell_type": "code",
   "execution_count": 127,
   "metadata": {},
   "outputs": [
    {
     "data": {
      "application/vnd.plotly.v1+json": {
       "config": {
        "plotlyServerURL": "https://plot.ly"
       },
       "data": [
        {
         "error_y": {
          "array": [
           0.04007029795076439,
           0.05320964382465537,
           0.0688509876950158,
           0.060965053068611996
          ],
          "arrayminus": [
           0.04428340685352811,
           0.05486426912799974,
           0.07510130693679096,
           0.06691803353486325
          ],
          "symmetric": false,
          "type": "data",
          "visible": true
         },
         "line": {
          "color": "blue"
         },
         "showlegend": false,
         "type": "scatter",
         "x": [
          "with-oracle",
          "with-outcome-oracle",
          "with-ps-oracle",
          "without-oracle"
         ],
         "xaxis": "x",
         "y": [
          0.27563431260882665,
          0.28926777470994164,
          0.39567692253793735,
          0.3770412929555245
         ],
         "yaxis": "y"
        },
        {
         "error_y": {
          "array": [
           0.24252992379901023,
           0.23653511560920348,
           0.19361419073517633,
           0.1560433926731601
          ],
          "arrayminus": [
           0.17821511472086865,
           0.18055533686907685,
           0.142648625292725,
           0.11373999237259727
          ],
          "symmetric": false,
          "type": "data",
          "visible": true
         },
         "line": {
          "color": "red"
         },
         "showlegend": false,
         "type": "scatter",
         "x": [
          "with-oracle",
          "with-outcome-oracle",
          "with-ps-oracle",
          "without-oracle"
         ],
         "xaxis": "x",
         "y": [
          0.38825331917273204,
          0.37658337450261803,
          0.3365454639609486,
          0.2957400752466404
         ],
         "yaxis": "y"
        },
        {
         "error_y": {
          "array": [
           0.021266682953931,
           0.018783584402468134,
           0.1055702027677684,
           0.09833904593851095
          ],
          "arrayminus": [
           0.02361752844778245,
           0.02184520939931711,
           0.10183143582815446,
           0.09873969577239272
          ],
          "symmetric": false,
          "type": "data",
          "visible": true
         },
         "line": {
          "color": "blue"
         },
         "name": "MCstd",
         "showlegend": true,
         "type": "scatter",
         "x": [
          "with-oracle",
          "with-outcome-oracle",
          "with-ps-oracle",
          "without-oracle"
         ],
         "xaxis": "x2",
         "y": [
          0.1669824868194342,
          0.16929556036164914,
          0.7095744554374819,
          0.7054810864913748
         ],
         "yaxis": "y2"
        },
        {
         "error_y": {
          "array": [
           0.07737659715863851,
           0.08072642955372528,
           0.1200828291976726,
           0.14050284121586443
          ],
          "arrayminus": [
           0.048654435950004404,
           0.05012339226705112,
           0.07082613835767636,
           0.08024168197728737
          ],
          "symmetric": false,
          "type": "data",
          "visible": true
         },
         "line": {
          "color": "red"
         },
         "name": "SE",
         "showlegend": true,
         "type": "scatter",
         "x": [
          "with-oracle",
          "with-outcome-oracle",
          "with-ps-oracle",
          "without-oracle"
         ],
         "xaxis": "x2",
         "y": [
          0.1550790847191409,
          0.1565518730399857,
          0.17839174758093607,
          0.1875946810912807
         ],
         "yaxis": "y2"
        }
       ],
       "layout": {
        "annotations": [
         {
          "font": {
           "size": 16
          },
          "showarrow": false,
          "text": "n=750, p=32",
          "x": 0.225,
          "xanchor": "center",
          "xref": "paper",
          "y": 1,
          "yanchor": "bottom",
          "yref": "paper"
         },
         {
          "font": {
           "size": 16
          },
          "showarrow": false,
          "text": "n=7500, p=300",
          "x": 0.775,
          "xanchor": "center",
          "xref": "paper",
          "y": 1,
          "yanchor": "bottom",
          "yref": "paper"
         }
        ],
        "height": 400,
        "template": {
         "data": {
          "bar": [
           {
            "error_x": {
             "color": "#2a3f5f"
            },
            "error_y": {
             "color": "#2a3f5f"
            },
            "marker": {
             "line": {
              "color": "#E5ECF6",
              "width": 0.5
             },
             "pattern": {
              "fillmode": "overlay",
              "size": 10,
              "solidity": 0.2
             }
            },
            "type": "bar"
           }
          ],
          "barpolar": [
           {
            "marker": {
             "line": {
              "color": "#E5ECF6",
              "width": 0.5
             },
             "pattern": {
              "fillmode": "overlay",
              "size": 10,
              "solidity": 0.2
             }
            },
            "type": "barpolar"
           }
          ],
          "carpet": [
           {
            "aaxis": {
             "endlinecolor": "#2a3f5f",
             "gridcolor": "white",
             "linecolor": "white",
             "minorgridcolor": "white",
             "startlinecolor": "#2a3f5f"
            },
            "baxis": {
             "endlinecolor": "#2a3f5f",
             "gridcolor": "white",
             "linecolor": "white",
             "minorgridcolor": "white",
             "startlinecolor": "#2a3f5f"
            },
            "type": "carpet"
           }
          ],
          "choropleth": [
           {
            "colorbar": {
             "outlinewidth": 0,
             "ticks": ""
            },
            "type": "choropleth"
           }
          ],
          "contour": [
           {
            "colorbar": {
             "outlinewidth": 0,
             "ticks": ""
            },
            "colorscale": [
             [
              0,
              "#0d0887"
             ],
             [
              0.1111111111111111,
              "#46039f"
             ],
             [
              0.2222222222222222,
              "#7201a8"
             ],
             [
              0.3333333333333333,
              "#9c179e"
             ],
             [
              0.4444444444444444,
              "#bd3786"
             ],
             [
              0.5555555555555556,
              "#d8576b"
             ],
             [
              0.6666666666666666,
              "#ed7953"
             ],
             [
              0.7777777777777778,
              "#fb9f3a"
             ],
             [
              0.8888888888888888,
              "#fdca26"
             ],
             [
              1,
              "#f0f921"
             ]
            ],
            "type": "contour"
           }
          ],
          "contourcarpet": [
           {
            "colorbar": {
             "outlinewidth": 0,
             "ticks": ""
            },
            "type": "contourcarpet"
           }
          ],
          "heatmap": [
           {
            "colorbar": {
             "outlinewidth": 0,
             "ticks": ""
            },
            "colorscale": [
             [
              0,
              "#0d0887"
             ],
             [
              0.1111111111111111,
              "#46039f"
             ],
             [
              0.2222222222222222,
              "#7201a8"
             ],
             [
              0.3333333333333333,
              "#9c179e"
             ],
             [
              0.4444444444444444,
              "#bd3786"
             ],
             [
              0.5555555555555556,
              "#d8576b"
             ],
             [
              0.6666666666666666,
              "#ed7953"
             ],
             [
              0.7777777777777778,
              "#fb9f3a"
             ],
             [
              0.8888888888888888,
              "#fdca26"
             ],
             [
              1,
              "#f0f921"
             ]
            ],
            "type": "heatmap"
           }
          ],
          "heatmapgl": [
           {
            "colorbar": {
             "outlinewidth": 0,
             "ticks": ""
            },
            "colorscale": [
             [
              0,
              "#0d0887"
             ],
             [
              0.1111111111111111,
              "#46039f"
             ],
             [
              0.2222222222222222,
              "#7201a8"
             ],
             [
              0.3333333333333333,
              "#9c179e"
             ],
             [
              0.4444444444444444,
              "#bd3786"
             ],
             [
              0.5555555555555556,
              "#d8576b"
             ],
             [
              0.6666666666666666,
              "#ed7953"
             ],
             [
              0.7777777777777778,
              "#fb9f3a"
             ],
             [
              0.8888888888888888,
              "#fdca26"
             ],
             [
              1,
              "#f0f921"
             ]
            ],
            "type": "heatmapgl"
           }
          ],
          "histogram": [
           {
            "marker": {
             "pattern": {
              "fillmode": "overlay",
              "size": 10,
              "solidity": 0.2
             }
            },
            "type": "histogram"
           }
          ],
          "histogram2d": [
           {
            "colorbar": {
             "outlinewidth": 0,
             "ticks": ""
            },
            "colorscale": [
             [
              0,
              "#0d0887"
             ],
             [
              0.1111111111111111,
              "#46039f"
             ],
             [
              0.2222222222222222,
              "#7201a8"
             ],
             [
              0.3333333333333333,
              "#9c179e"
             ],
             [
              0.4444444444444444,
              "#bd3786"
             ],
             [
              0.5555555555555556,
              "#d8576b"
             ],
             [
              0.6666666666666666,
              "#ed7953"
             ],
             [
              0.7777777777777778,
              "#fb9f3a"
             ],
             [
              0.8888888888888888,
              "#fdca26"
             ],
             [
              1,
              "#f0f921"
             ]
            ],
            "type": "histogram2d"
           }
          ],
          "histogram2dcontour": [
           {
            "colorbar": {
             "outlinewidth": 0,
             "ticks": ""
            },
            "colorscale": [
             [
              0,
              "#0d0887"
             ],
             [
              0.1111111111111111,
              "#46039f"
             ],
             [
              0.2222222222222222,
              "#7201a8"
             ],
             [
              0.3333333333333333,
              "#9c179e"
             ],
             [
              0.4444444444444444,
              "#bd3786"
             ],
             [
              0.5555555555555556,
              "#d8576b"
             ],
             [
              0.6666666666666666,
              "#ed7953"
             ],
             [
              0.7777777777777778,
              "#fb9f3a"
             ],
             [
              0.8888888888888888,
              "#fdca26"
             ],
             [
              1,
              "#f0f921"
             ]
            ],
            "type": "histogram2dcontour"
           }
          ],
          "mesh3d": [
           {
            "colorbar": {
             "outlinewidth": 0,
             "ticks": ""
            },
            "type": "mesh3d"
           }
          ],
          "parcoords": [
           {
            "line": {
             "colorbar": {
              "outlinewidth": 0,
              "ticks": ""
             }
            },
            "type": "parcoords"
           }
          ],
          "pie": [
           {
            "automargin": true,
            "type": "pie"
           }
          ],
          "scatter": [
           {
            "fillpattern": {
             "fillmode": "overlay",
             "size": 10,
             "solidity": 0.2
            },
            "type": "scatter"
           }
          ],
          "scatter3d": [
           {
            "line": {
             "colorbar": {
              "outlinewidth": 0,
              "ticks": ""
             }
            },
            "marker": {
             "colorbar": {
              "outlinewidth": 0,
              "ticks": ""
             }
            },
            "type": "scatter3d"
           }
          ],
          "scattercarpet": [
           {
            "marker": {
             "colorbar": {
              "outlinewidth": 0,
              "ticks": ""
             }
            },
            "type": "scattercarpet"
           }
          ],
          "scattergeo": [
           {
            "marker": {
             "colorbar": {
              "outlinewidth": 0,
              "ticks": ""
             }
            },
            "type": "scattergeo"
           }
          ],
          "scattergl": [
           {
            "marker": {
             "colorbar": {
              "outlinewidth": 0,
              "ticks": ""
             }
            },
            "type": "scattergl"
           }
          ],
          "scattermapbox": [
           {
            "marker": {
             "colorbar": {
              "outlinewidth": 0,
              "ticks": ""
             }
            },
            "type": "scattermapbox"
           }
          ],
          "scatterpolar": [
           {
            "marker": {
             "colorbar": {
              "outlinewidth": 0,
              "ticks": ""
             }
            },
            "type": "scatterpolar"
           }
          ],
          "scatterpolargl": [
           {
            "marker": {
             "colorbar": {
              "outlinewidth": 0,
              "ticks": ""
             }
            },
            "type": "scatterpolargl"
           }
          ],
          "scatterternary": [
           {
            "marker": {
             "colorbar": {
              "outlinewidth": 0,
              "ticks": ""
             }
            },
            "type": "scatterternary"
           }
          ],
          "surface": [
           {
            "colorbar": {
             "outlinewidth": 0,
             "ticks": ""
            },
            "colorscale": [
             [
              0,
              "#0d0887"
             ],
             [
              0.1111111111111111,
              "#46039f"
             ],
             [
              0.2222222222222222,
              "#7201a8"
             ],
             [
              0.3333333333333333,
              "#9c179e"
             ],
             [
              0.4444444444444444,
              "#bd3786"
             ],
             [
              0.5555555555555556,
              "#d8576b"
             ],
             [
              0.6666666666666666,
              "#ed7953"
             ],
             [
              0.7777777777777778,
              "#fb9f3a"
             ],
             [
              0.8888888888888888,
              "#fdca26"
             ],
             [
              1,
              "#f0f921"
             ]
            ],
            "type": "surface"
           }
          ],
          "table": [
           {
            "cells": {
             "fill": {
              "color": "#EBF0F8"
             },
             "line": {
              "color": "white"
             }
            },
            "header": {
             "fill": {
              "color": "#C8D4E3"
             },
             "line": {
              "color": "white"
             }
            },
            "type": "table"
           }
          ]
         },
         "layout": {
          "annotationdefaults": {
           "arrowcolor": "#2a3f5f",
           "arrowhead": 0,
           "arrowwidth": 1
          },
          "autotypenumbers": "strict",
          "coloraxis": {
           "colorbar": {
            "outlinewidth": 0,
            "ticks": ""
           }
          },
          "colorscale": {
           "diverging": [
            [
             0,
             "#8e0152"
            ],
            [
             0.1,
             "#c51b7d"
            ],
            [
             0.2,
             "#de77ae"
            ],
            [
             0.3,
             "#f1b6da"
            ],
            [
             0.4,
             "#fde0ef"
            ],
            [
             0.5,
             "#f7f7f7"
            ],
            [
             0.6,
             "#e6f5d0"
            ],
            [
             0.7,
             "#b8e186"
            ],
            [
             0.8,
             "#7fbc41"
            ],
            [
             0.9,
             "#4d9221"
            ],
            [
             1,
             "#276419"
            ]
           ],
           "sequential": [
            [
             0,
             "#0d0887"
            ],
            [
             0.1111111111111111,
             "#46039f"
            ],
            [
             0.2222222222222222,
             "#7201a8"
            ],
            [
             0.3333333333333333,
             "#9c179e"
            ],
            [
             0.4444444444444444,
             "#bd3786"
            ],
            [
             0.5555555555555556,
             "#d8576b"
            ],
            [
             0.6666666666666666,
             "#ed7953"
            ],
            [
             0.7777777777777778,
             "#fb9f3a"
            ],
            [
             0.8888888888888888,
             "#fdca26"
            ],
            [
             1,
             "#f0f921"
            ]
           ],
           "sequentialminus": [
            [
             0,
             "#0d0887"
            ],
            [
             0.1111111111111111,
             "#46039f"
            ],
            [
             0.2222222222222222,
             "#7201a8"
            ],
            [
             0.3333333333333333,
             "#9c179e"
            ],
            [
             0.4444444444444444,
             "#bd3786"
            ],
            [
             0.5555555555555556,
             "#d8576b"
            ],
            [
             0.6666666666666666,
             "#ed7953"
            ],
            [
             0.7777777777777778,
             "#fb9f3a"
            ],
            [
             0.8888888888888888,
             "#fdca26"
            ],
            [
             1,
             "#f0f921"
            ]
           ]
          },
          "colorway": [
           "#636efa",
           "#EF553B",
           "#00cc96",
           "#ab63fa",
           "#FFA15A",
           "#19d3f3",
           "#FF6692",
           "#B6E880",
           "#FF97FF",
           "#FECB52"
          ],
          "font": {
           "color": "#2a3f5f"
          },
          "geo": {
           "bgcolor": "white",
           "lakecolor": "white",
           "landcolor": "#E5ECF6",
           "showlakes": true,
           "showland": true,
           "subunitcolor": "white"
          },
          "hoverlabel": {
           "align": "left"
          },
          "hovermode": "closest",
          "mapbox": {
           "style": "light"
          },
          "paper_bgcolor": "white",
          "plot_bgcolor": "#E5ECF6",
          "polar": {
           "angularaxis": {
            "gridcolor": "white",
            "linecolor": "white",
            "ticks": ""
           },
           "bgcolor": "#E5ECF6",
           "radialaxis": {
            "gridcolor": "white",
            "linecolor": "white",
            "ticks": ""
           }
          },
          "scene": {
           "xaxis": {
            "backgroundcolor": "#E5ECF6",
            "gridcolor": "white",
            "gridwidth": 2,
            "linecolor": "white",
            "showbackground": true,
            "ticks": "",
            "zerolinecolor": "white"
           },
           "yaxis": {
            "backgroundcolor": "#E5ECF6",
            "gridcolor": "white",
            "gridwidth": 2,
            "linecolor": "white",
            "showbackground": true,
            "ticks": "",
            "zerolinecolor": "white"
           },
           "zaxis": {
            "backgroundcolor": "#E5ECF6",
            "gridcolor": "white",
            "gridwidth": 2,
            "linecolor": "white",
            "showbackground": true,
            "ticks": "",
            "zerolinecolor": "white"
           }
          },
          "shapedefaults": {
           "line": {
            "color": "#2a3f5f"
           }
          },
          "ternary": {
           "aaxis": {
            "gridcolor": "white",
            "linecolor": "white",
            "ticks": ""
           },
           "baxis": {
            "gridcolor": "white",
            "linecolor": "white",
            "ticks": ""
           },
           "bgcolor": "#E5ECF6",
           "caxis": {
            "gridcolor": "white",
            "linecolor": "white",
            "ticks": ""
           }
          },
          "title": {
           "x": 0.05
          },
          "xaxis": {
           "automargin": true,
           "gridcolor": "white",
           "linecolor": "white",
           "ticks": "",
           "title": {
            "standoff": 15
           },
           "zerolinecolor": "white",
           "zerolinewidth": 2
          },
          "yaxis": {
           "automargin": true,
           "gridcolor": "white",
           "linecolor": "white",
           "ticks": "",
           "title": {
            "standoff": 15
           },
           "zerolinecolor": "white",
           "zerolinewidth": 2
          }
         }
        },
        "title": {
         "text": ""
        },
        "width": 1000,
        "xaxis": {
         "anchor": "y",
         "domain": [
          0,
          0.45
         ],
         "tickangle": -30
        },
        "xaxis2": {
         "anchor": "y2",
         "domain": [
          0.55,
          1
         ],
         "tickangle": -30
        },
        "yaxis": {
         "anchor": "x",
         "domain": [
          0,
          1
         ],
         "range": [
          0,
          0.85
         ],
         "tickvals": [
          0,
          0.2,
          0.4,
          0.6000000000000001,
          0.8
         ]
        },
        "yaxis2": {
         "anchor": "x2",
         "domain": [
          0,
          1
         ],
         "range": [
          0,
          0.85
         ],
         "tickvals": [
          0,
          0.2,
          0.4,
          0.6000000000000001,
          0.8
         ]
        }
       }
      },
      "text/html": [
       "<div>                            <div id=\"a5889ac3-22a3-472c-8180-6d5e4d7c4967\" class=\"plotly-graph-div\" style=\"height:400px; width:1000px;\"></div>            <script type=\"text/javascript\">                require([\"plotly\"], function(Plotly) {                    window.PLOTLYENV=window.PLOTLYENV || {};                                    if (document.getElementById(\"a5889ac3-22a3-472c-8180-6d5e4d7c4967\")) {                    Plotly.newPlot(                        \"a5889ac3-22a3-472c-8180-6d5e4d7c4967\",                        [{\"error_y\":{\"array\":[0.04007029795076439,0.05320964382465537,0.0688509876950158,0.060965053068611996],\"arrayminus\":[0.04428340685352811,0.05486426912799974,0.07510130693679096,0.06691803353486325],\"symmetric\":false,\"type\":\"data\",\"visible\":true},\"line\":{\"color\":\"blue\"},\"showlegend\":false,\"x\":[\"with-oracle\",\"with-outcome-oracle\",\"with-ps-oracle\",\"without-oracle\"],\"y\":[0.27563431260882665,0.28926777470994164,0.39567692253793735,0.3770412929555245],\"type\":\"scatter\",\"xaxis\":\"x\",\"yaxis\":\"y\"},{\"error_y\":{\"array\":[0.24252992379901023,0.23653511560920348,0.19361419073517633,0.1560433926731601],\"arrayminus\":[0.17821511472086865,0.18055533686907685,0.142648625292725,0.11373999237259727],\"symmetric\":false,\"type\":\"data\",\"visible\":true},\"line\":{\"color\":\"red\"},\"showlegend\":false,\"x\":[\"with-oracle\",\"with-outcome-oracle\",\"with-ps-oracle\",\"without-oracle\"],\"y\":[0.38825331917273204,0.37658337450261803,0.3365454639609486,0.2957400752466404],\"type\":\"scatter\",\"xaxis\":\"x\",\"yaxis\":\"y\"},{\"error_y\":{\"array\":[0.021266682953931,0.018783584402468134,0.1055702027677684,0.09833904593851095],\"arrayminus\":[0.02361752844778245,0.02184520939931711,0.10183143582815446,0.09873969577239272],\"symmetric\":false,\"type\":\"data\",\"visible\":true},\"line\":{\"color\":\"blue\"},\"name\":\"MCstd\",\"showlegend\":true,\"x\":[\"with-oracle\",\"with-outcome-oracle\",\"with-ps-oracle\",\"without-oracle\"],\"y\":[0.1669824868194342,0.16929556036164914,0.7095744554374819,0.7054810864913748],\"type\":\"scatter\",\"xaxis\":\"x2\",\"yaxis\":\"y2\"},{\"error_y\":{\"array\":[0.07737659715863851,0.08072642955372528,0.1200828291976726,0.14050284121586443],\"arrayminus\":[0.048654435950004404,0.05012339226705112,0.07082613835767636,0.08024168197728737],\"symmetric\":false,\"type\":\"data\",\"visible\":true},\"line\":{\"color\":\"red\"},\"name\":\"SE\",\"showlegend\":true,\"x\":[\"with-oracle\",\"with-outcome-oracle\",\"with-ps-oracle\",\"without-oracle\"],\"y\":[0.1550790847191409,0.1565518730399857,0.17839174758093607,0.1875946810912807],\"type\":\"scatter\",\"xaxis\":\"x2\",\"yaxis\":\"y2\"}],                        {\"template\":{\"data\":{\"histogram2dcontour\":[{\"type\":\"histogram2dcontour\",\"colorbar\":{\"outlinewidth\":0,\"ticks\":\"\"},\"colorscale\":[[0.0,\"#0d0887\"],[0.1111111111111111,\"#46039f\"],[0.2222222222222222,\"#7201a8\"],[0.3333333333333333,\"#9c179e\"],[0.4444444444444444,\"#bd3786\"],[0.5555555555555556,\"#d8576b\"],[0.6666666666666666,\"#ed7953\"],[0.7777777777777778,\"#fb9f3a\"],[0.8888888888888888,\"#fdca26\"],[1.0,\"#f0f921\"]]}],\"choropleth\":[{\"type\":\"choropleth\",\"colorbar\":{\"outlinewidth\":0,\"ticks\":\"\"}}],\"histogram2d\":[{\"type\":\"histogram2d\",\"colorbar\":{\"outlinewidth\":0,\"ticks\":\"\"},\"colorscale\":[[0.0,\"#0d0887\"],[0.1111111111111111,\"#46039f\"],[0.2222222222222222,\"#7201a8\"],[0.3333333333333333,\"#9c179e\"],[0.4444444444444444,\"#bd3786\"],[0.5555555555555556,\"#d8576b\"],[0.6666666666666666,\"#ed7953\"],[0.7777777777777778,\"#fb9f3a\"],[0.8888888888888888,\"#fdca26\"],[1.0,\"#f0f921\"]]}],\"heatmap\":[{\"type\":\"heatmap\",\"colorbar\":{\"outlinewidth\":0,\"ticks\":\"\"},\"colorscale\":[[0.0,\"#0d0887\"],[0.1111111111111111,\"#46039f\"],[0.2222222222222222,\"#7201a8\"],[0.3333333333333333,\"#9c179e\"],[0.4444444444444444,\"#bd3786\"],[0.5555555555555556,\"#d8576b\"],[0.6666666666666666,\"#ed7953\"],[0.7777777777777778,\"#fb9f3a\"],[0.8888888888888888,\"#fdca26\"],[1.0,\"#f0f921\"]]}],\"heatmapgl\":[{\"type\":\"heatmapgl\",\"colorbar\":{\"outlinewidth\":0,\"ticks\":\"\"},\"colorscale\":[[0.0,\"#0d0887\"],[0.1111111111111111,\"#46039f\"],[0.2222222222222222,\"#7201a8\"],[0.3333333333333333,\"#9c179e\"],[0.4444444444444444,\"#bd3786\"],[0.5555555555555556,\"#d8576b\"],[0.6666666666666666,\"#ed7953\"],[0.7777777777777778,\"#fb9f3a\"],[0.8888888888888888,\"#fdca26\"],[1.0,\"#f0f921\"]]}],\"contourcarpet\":[{\"type\":\"contourcarpet\",\"colorbar\":{\"outlinewidth\":0,\"ticks\":\"\"}}],\"contour\":[{\"type\":\"contour\",\"colorbar\":{\"outlinewidth\":0,\"ticks\":\"\"},\"colorscale\":[[0.0,\"#0d0887\"],[0.1111111111111111,\"#46039f\"],[0.2222222222222222,\"#7201a8\"],[0.3333333333333333,\"#9c179e\"],[0.4444444444444444,\"#bd3786\"],[0.5555555555555556,\"#d8576b\"],[0.6666666666666666,\"#ed7953\"],[0.7777777777777778,\"#fb9f3a\"],[0.8888888888888888,\"#fdca26\"],[1.0,\"#f0f921\"]]}],\"surface\":[{\"type\":\"surface\",\"colorbar\":{\"outlinewidth\":0,\"ticks\":\"\"},\"colorscale\":[[0.0,\"#0d0887\"],[0.1111111111111111,\"#46039f\"],[0.2222222222222222,\"#7201a8\"],[0.3333333333333333,\"#9c179e\"],[0.4444444444444444,\"#bd3786\"],[0.5555555555555556,\"#d8576b\"],[0.6666666666666666,\"#ed7953\"],[0.7777777777777778,\"#fb9f3a\"],[0.8888888888888888,\"#fdca26\"],[1.0,\"#f0f921\"]]}],\"mesh3d\":[{\"type\":\"mesh3d\",\"colorbar\":{\"outlinewidth\":0,\"ticks\":\"\"}}],\"scatter\":[{\"fillpattern\":{\"fillmode\":\"overlay\",\"size\":10,\"solidity\":0.2},\"type\":\"scatter\"}],\"parcoords\":[{\"type\":\"parcoords\",\"line\":{\"colorbar\":{\"outlinewidth\":0,\"ticks\":\"\"}}}],\"scatterpolargl\":[{\"type\":\"scatterpolargl\",\"marker\":{\"colorbar\":{\"outlinewidth\":0,\"ticks\":\"\"}}}],\"bar\":[{\"error_x\":{\"color\":\"#2a3f5f\"},\"error_y\":{\"color\":\"#2a3f5f\"},\"marker\":{\"line\":{\"color\":\"#E5ECF6\",\"width\":0.5},\"pattern\":{\"fillmode\":\"overlay\",\"size\":10,\"solidity\":0.2}},\"type\":\"bar\"}],\"scattergeo\":[{\"type\":\"scattergeo\",\"marker\":{\"colorbar\":{\"outlinewidth\":0,\"ticks\":\"\"}}}],\"scatterpolar\":[{\"type\":\"scatterpolar\",\"marker\":{\"colorbar\":{\"outlinewidth\":0,\"ticks\":\"\"}}}],\"histogram\":[{\"marker\":{\"pattern\":{\"fillmode\":\"overlay\",\"size\":10,\"solidity\":0.2}},\"type\":\"histogram\"}],\"scattergl\":[{\"type\":\"scattergl\",\"marker\":{\"colorbar\":{\"outlinewidth\":0,\"ticks\":\"\"}}}],\"scatter3d\":[{\"type\":\"scatter3d\",\"line\":{\"colorbar\":{\"outlinewidth\":0,\"ticks\":\"\"}},\"marker\":{\"colorbar\":{\"outlinewidth\":0,\"ticks\":\"\"}}}],\"scattermapbox\":[{\"type\":\"scattermapbox\",\"marker\":{\"colorbar\":{\"outlinewidth\":0,\"ticks\":\"\"}}}],\"scatterternary\":[{\"type\":\"scatterternary\",\"marker\":{\"colorbar\":{\"outlinewidth\":0,\"ticks\":\"\"}}}],\"scattercarpet\":[{\"type\":\"scattercarpet\",\"marker\":{\"colorbar\":{\"outlinewidth\":0,\"ticks\":\"\"}}}],\"carpet\":[{\"aaxis\":{\"endlinecolor\":\"#2a3f5f\",\"gridcolor\":\"white\",\"linecolor\":\"white\",\"minorgridcolor\":\"white\",\"startlinecolor\":\"#2a3f5f\"},\"baxis\":{\"endlinecolor\":\"#2a3f5f\",\"gridcolor\":\"white\",\"linecolor\":\"white\",\"minorgridcolor\":\"white\",\"startlinecolor\":\"#2a3f5f\"},\"type\":\"carpet\"}],\"table\":[{\"cells\":{\"fill\":{\"color\":\"#EBF0F8\"},\"line\":{\"color\":\"white\"}},\"header\":{\"fill\":{\"color\":\"#C8D4E3\"},\"line\":{\"color\":\"white\"}},\"type\":\"table\"}],\"barpolar\":[{\"marker\":{\"line\":{\"color\":\"#E5ECF6\",\"width\":0.5},\"pattern\":{\"fillmode\":\"overlay\",\"size\":10,\"solidity\":0.2}},\"type\":\"barpolar\"}],\"pie\":[{\"automargin\":true,\"type\":\"pie\"}]},\"layout\":{\"autotypenumbers\":\"strict\",\"colorway\":[\"#636efa\",\"#EF553B\",\"#00cc96\",\"#ab63fa\",\"#FFA15A\",\"#19d3f3\",\"#FF6692\",\"#B6E880\",\"#FF97FF\",\"#FECB52\"],\"font\":{\"color\":\"#2a3f5f\"},\"hovermode\":\"closest\",\"hoverlabel\":{\"align\":\"left\"},\"paper_bgcolor\":\"white\",\"plot_bgcolor\":\"#E5ECF6\",\"polar\":{\"bgcolor\":\"#E5ECF6\",\"angularaxis\":{\"gridcolor\":\"white\",\"linecolor\":\"white\",\"ticks\":\"\"},\"radialaxis\":{\"gridcolor\":\"white\",\"linecolor\":\"white\",\"ticks\":\"\"}},\"ternary\":{\"bgcolor\":\"#E5ECF6\",\"aaxis\":{\"gridcolor\":\"white\",\"linecolor\":\"white\",\"ticks\":\"\"},\"baxis\":{\"gridcolor\":\"white\",\"linecolor\":\"white\",\"ticks\":\"\"},\"caxis\":{\"gridcolor\":\"white\",\"linecolor\":\"white\",\"ticks\":\"\"}},\"coloraxis\":{\"colorbar\":{\"outlinewidth\":0,\"ticks\":\"\"}},\"colorscale\":{\"sequential\":[[0.0,\"#0d0887\"],[0.1111111111111111,\"#46039f\"],[0.2222222222222222,\"#7201a8\"],[0.3333333333333333,\"#9c179e\"],[0.4444444444444444,\"#bd3786\"],[0.5555555555555556,\"#d8576b\"],[0.6666666666666666,\"#ed7953\"],[0.7777777777777778,\"#fb9f3a\"],[0.8888888888888888,\"#fdca26\"],[1.0,\"#f0f921\"]],\"sequentialminus\":[[0.0,\"#0d0887\"],[0.1111111111111111,\"#46039f\"],[0.2222222222222222,\"#7201a8\"],[0.3333333333333333,\"#9c179e\"],[0.4444444444444444,\"#bd3786\"],[0.5555555555555556,\"#d8576b\"],[0.6666666666666666,\"#ed7953\"],[0.7777777777777778,\"#fb9f3a\"],[0.8888888888888888,\"#fdca26\"],[1.0,\"#f0f921\"]],\"diverging\":[[0,\"#8e0152\"],[0.1,\"#c51b7d\"],[0.2,\"#de77ae\"],[0.3,\"#f1b6da\"],[0.4,\"#fde0ef\"],[0.5,\"#f7f7f7\"],[0.6,\"#e6f5d0\"],[0.7,\"#b8e186\"],[0.8,\"#7fbc41\"],[0.9,\"#4d9221\"],[1,\"#276419\"]]},\"xaxis\":{\"gridcolor\":\"white\",\"linecolor\":\"white\",\"ticks\":\"\",\"title\":{\"standoff\":15},\"zerolinecolor\":\"white\",\"automargin\":true,\"zerolinewidth\":2},\"yaxis\":{\"gridcolor\":\"white\",\"linecolor\":\"white\",\"ticks\":\"\",\"title\":{\"standoff\":15},\"zerolinecolor\":\"white\",\"automargin\":true,\"zerolinewidth\":2},\"scene\":{\"xaxis\":{\"backgroundcolor\":\"#E5ECF6\",\"gridcolor\":\"white\",\"linecolor\":\"white\",\"showbackground\":true,\"ticks\":\"\",\"zerolinecolor\":\"white\",\"gridwidth\":2},\"yaxis\":{\"backgroundcolor\":\"#E5ECF6\",\"gridcolor\":\"white\",\"linecolor\":\"white\",\"showbackground\":true,\"ticks\":\"\",\"zerolinecolor\":\"white\",\"gridwidth\":2},\"zaxis\":{\"backgroundcolor\":\"#E5ECF6\",\"gridcolor\":\"white\",\"linecolor\":\"white\",\"showbackground\":true,\"ticks\":\"\",\"zerolinecolor\":\"white\",\"gridwidth\":2}},\"shapedefaults\":{\"line\":{\"color\":\"#2a3f5f\"}},\"annotationdefaults\":{\"arrowcolor\":\"#2a3f5f\",\"arrowhead\":0,\"arrowwidth\":1},\"geo\":{\"bgcolor\":\"white\",\"landcolor\":\"#E5ECF6\",\"subunitcolor\":\"white\",\"showland\":true,\"showlakes\":true,\"lakecolor\":\"white\"},\"title\":{\"x\":0.05},\"mapbox\":{\"style\":\"light\"}}},\"xaxis\":{\"anchor\":\"y\",\"domain\":[0.0,0.45],\"tickangle\":-30},\"yaxis\":{\"anchor\":\"x\",\"domain\":[0.0,1.0],\"tickvals\":[0.0,0.2,0.4,0.6000000000000001,0.8],\"range\":[0,0.85]},\"xaxis2\":{\"anchor\":\"y2\",\"domain\":[0.55,1.0],\"tickangle\":-30},\"yaxis2\":{\"anchor\":\"x2\",\"domain\":[0.0,1.0],\"tickvals\":[0.0,0.2,0.4,0.6000000000000001,0.8],\"range\":[0,0.85]},\"annotations\":[{\"font\":{\"size\":16},\"showarrow\":false,\"text\":\"n=750, p=32\",\"x\":0.225,\"xanchor\":\"center\",\"xref\":\"paper\",\"y\":1.0,\"yanchor\":\"bottom\",\"yref\":\"paper\"},{\"font\":{\"size\":16},\"showarrow\":false,\"text\":\"n=7500, p=300\",\"x\":0.775,\"xanchor\":\"center\",\"xref\":\"paper\",\"y\":1.0,\"yanchor\":\"bottom\",\"yref\":\"paper\"}],\"title\":{\"text\":\"\"},\"height\":400,\"width\":1000},                        {\"responsive\": true}                    ).then(function(){\n",
       "                            \n",
       "var gd = document.getElementById('a5889ac3-22a3-472c-8180-6d5e4d7c4967');\n",
       "var x = new MutationObserver(function (mutations, observer) {{\n",
       "        var display = window.getComputedStyle(gd).display;\n",
       "        if (!display || display === 'none') {{\n",
       "            console.log([gd, 'removed!']);\n",
       "            Plotly.purge(gd);\n",
       "            observer.disconnect();\n",
       "        }}\n",
       "}});\n",
       "\n",
       "// Listen for the removal of the full notebook cells\n",
       "var notebookContainer = gd.closest('#notebook-container');\n",
       "if (notebookContainer) {{\n",
       "    x.observe(notebookContainer, {childList: true});\n",
       "}}\n",
       "\n",
       "// Listen for the clearing of the current output cell\n",
       "var outputEl = gd.closest('.output');\n",
       "if (outputEl) {{\n",
       "    x.observe(outputEl, {childList: true});\n",
       "}}\n",
       "\n",
       "                        })                };                });            </script>        </div>"
      ]
     },
     "metadata": {},
     "output_type": "display_data"
    }
   ],
   "source": [
    "from plotly.subplots import make_subplots\n",
    "import plotly.graph_objects as go\n",
    "\n",
    "fig = make_subplots(\n",
    "    rows=1, cols=2,\n",
    "    subplot_titles=('n=750, p=32', 'n=7500, p=300'\n",
    "                   ),\n",
    "    shared_xaxes=True,\n",
    "    vertical_spacing=0.06\n",
    ")\n",
    "\n",
    "\n",
    "\n",
    "temp1 = all_ests_CI3.copy()#[(all_ests_CI3['n']==7500)]\n",
    "temp1['MR'] = temp1['MR'].str.replace('mr_|_dNN_jNN', '', case=False, regex=True)\n",
    "temp1['MR'] = temp1['MR'].str.replace('_', '-', case=False, regex=True)\n",
    "\n",
    "\n",
    "fig.add_trace(\n",
    "    go.Scatter(\n",
    "                x=temp1[(temp1['n']==750)&(temp1['measure']=='MCstd')]['MR'],\n",
    "                y=temp1[(temp1['n']==750)&(temp1['measure']=='MCstd')][\"mr\"],\n",
    "                line_color='blue', showlegend=False,\n",
    "            error_y=dict(type='data', visible=True, \n",
    "                         symmetric=False,\n",
    "                         array=temp1[(temp1['n']==750)&(temp1['measure']=='MCstd')]['mr_upper_marginal'],\n",
    "                         arrayminus=temp1[(temp1['n']==750)&(temp1['measure']=='MCstd')]['mr_lower_marginal']\n",
    "                    )\n",
    "            ),\n",
    "    row=1, col=1)\n",
    "\n",
    "fig.add_trace(\n",
    "    go.Scatter(\n",
    "                x=temp1[(temp1['n']==750)&(temp1['measure']=='se')]['MR'],\n",
    "                y=temp1[(temp1['n']==750)&(temp1['measure']=='se')][\"mr\"],\n",
    "                line_color='red', showlegend=False, \n",
    "            error_y=dict(type='data', visible=True, \n",
    "                         symmetric=False,\n",
    "                         array=temp1[(temp1['n']==750)&(temp1['measure']=='se')]['mr_upper_marginal'],\n",
    "                         arrayminus=temp1[(temp1['n']==750)&(temp1['measure']=='se')]['mr_lower_marginal']\n",
    "                    )\n",
    "            ),\n",
    "    row=1, col=1)\n",
    "\n",
    "\n",
    "fig.add_trace(\n",
    "    go.Scatter(\n",
    "                x=temp1[(temp1['n']==7500)&(temp1['measure']=='MCstd')]['MR'],\n",
    "                y=temp1[(temp1['n']==7500)&(temp1['measure']=='MCstd')][\"mr\"],\n",
    "                line_color='blue', showlegend=True, name='MCstd',\n",
    "                error_y=dict(type='data', visible=True, \n",
    "                         symmetric=False,\n",
    "                         array=temp1[(temp1['n']==7500)&(temp1['measure']=='MCstd')]['mr_upper_marginal'],\n",
    "                         arrayminus=temp1[(temp1['n']==7500)&(temp1['measure']=='MCstd')]['mr_lower_marginal']\n",
    "                    )\n",
    "            ),\n",
    "    row=1, col=2)\n",
    "\n",
    "fig.add_trace(\n",
    "    go.Scatter(\n",
    "                x=temp1[(temp1['n']==7500)&(temp1['measure']=='se')]['MR'],\n",
    "                y=temp1[(temp1['n']==7500)&(temp1['measure']=='se')][\"mr\"],\n",
    "                line_color='red', showlegend=True, name='SE',\n",
    "            error_y=dict(type='data', visible=True, \n",
    "                         symmetric=False,\n",
    "                         array=temp1[(temp1['n']==7500)&(temp1['measure']=='se')]['mr_upper_marginal'],\n",
    "                         arrayminus=temp1[(temp1['n']==7500)&(temp1['measure']=='se')]['mr_lower_marginal']\n",
    "                    )\n",
    "            ),\n",
    "    row=1, col=2)\n",
    "\n",
    "\n",
    "fig.update_layout(height=400, width=1000,\n",
    "                  title_text=\"\",\n",
    "                 )\n",
    "\n",
    "fig.update_yaxes(tickvals=[c for c in np.arange(0., 1, .2)],range=[0, .85])\n",
    "fig.update_xaxes(\n",
    "#     tickvals=['With PS & outcome oracle', 'With outcome oracle', 'With PS oracle', 'Without oracle',],\n",
    "                  tickangle = 330,\n",
    "                )\n",
    "\n",
    "fig.write_image(\"/home/mr/Pictures/sims/variance-jan2023-jnn-dnn-r0.25.pdf\")\n",
    "\n",
    "fig.show()"
   ]
  },
  {
   "cell_type": "code",
   "execution_count": null,
   "metadata": {},
   "outputs": [],
   "source": [
    "# do nIPW and check"
   ]
  },
  {
   "cell_type": "code",
   "execution_count": 30,
   "metadata": {},
   "outputs": [],
   "source": [
    "all_ests_CI4 = all_ests_CI3.copy()\n",
    "for c in ['mr','ll_mr','ul_mr']:\n",
    "    all_ests_CI4[c] = np.where(all_ests_CI4['measure']=='se', \n",
    "                               all_ests_CI4[c]*2*np.sqrt(all_ests_CI4['p']/all_ests_CI4['n']),\n",
    "                               all_ests_CI4[c])\n",
    "    \n",
    "all_ests_CI4['mr_lower_marginal'] = (all_ests_CI4['mr'] - all_ests_CI4['ll_mr'])\n",
    "all_ests_CI4['mr_upper_marginal'] = (all_ests_CI4['ul_mr'] - all_ests_CI4['mr'])"
   ]
  },
  {
   "cell_type": "code",
   "execution_count": 37,
   "metadata": {},
   "outputs": [
    {
     "data": {
      "application/vnd.plotly.v1+json": {
       "config": {
        "plotlyServerURL": "https://plot.ly"
       },
       "data": [
        {
         "error_y": {
          "array": [
           0.04007029795076439,
           0.05320964382465537,
           0.06885098769501574,
           0.060965053068611996
          ],
          "arrayminus": [
           0.044283406853528134,
           0.05486426912799966,
           0.07510130693679101,
           0.06691803353486325
          ],
          "symmetric": false,
          "type": "data",
          "visible": true
         },
         "line": {
          "color": "blue"
         },
         "showlegend": false,
         "type": "scatter",
         "x": [
          "with-oracle",
          "with-outcome-oracle",
          "with-ps-oracle",
          "without-oracle"
         ],
         "xaxis": "x",
         "y": [
          0.27563431260882665,
          0.28926777470994164,
          0.3956769225379374,
          0.3770412929555245
         ],
         "yaxis": "y"
        },
        {
         "error_y": {
          "array": [
           0.023347641565396926,
           0.023981692654507336,
           0.03339314538191629,
           0.032260987726646484
          ],
          "arrayminus": [
           0.020225032036923163,
           0.021551505876341526,
           0.027694124649308316,
           0.02792371716871267
          ],
          "symmetric": false,
          "type": "data",
          "visible": true
         },
         "line": {
          "color": "red"
         },
         "showlegend": false,
         "type": "scatter",
         "x": [
          "with-oracle",
          "with-outcome-oracle",
          "with-ps-oracle",
          "without-oracle"
         ],
         "xaxis": "x",
         "y": [
          0.4206106686684247,
          0.4194321319286834,
          0.44729216836021457,
          0.45003053475983856
         ],
         "yaxis": "y"
        },
        {
         "error_y": {
          "array": [
           0.021266682953931054,
           0.018783584402468162,
           0.1055702027677684,
           0.09833904593851084
          ],
          "arrayminus": [
           0.023617528447782477,
           0.02184520939931711,
           0.10183143582815446,
           0.09873969577239272
          ],
          "symmetric": false,
          "type": "data",
          "visible": true
         },
         "line": {
          "color": "blue"
         },
         "name": "MCstd",
         "showlegend": true,
         "type": "scatter",
         "x": [
          "with-oracle",
          "with-outcome-oracle",
          "with-ps-oracle",
          "without-oracle"
         ],
         "xaxis": "x2",
         "y": [
          0.1669824868194342,
          0.16929556036164914,
          0.7095744554374819,
          0.7054810864913748
         ],
         "yaxis": "y2"
        },
        {
         "error_y": {
          "array": [
           0.012808054525649037,
           0.013518598849866836,
           0.053058545426658554,
           0.052838468379847514
          ],
          "arrayminus": [
           0.012579620270603553,
           0.012573212793822675,
           0.05587152983301413,
           0.056977472487547365
          ],
          "symmetric": false,
          "type": "data",
          "visible": true
         },
         "line": {
          "color": "red"
         },
         "name": "SE",
         "showlegend": true,
         "type": "scatter",
         "x": [
          "with-oracle",
          "with-outcome-oracle",
          "with-ps-oracle",
          "without-oracle"
         ],
         "xaxis": "x2",
         "y": [
          0.38787737485946105,
          0.38807419119152925,
          1.0426593368440835,
          1.0557872897694593
         ],
         "yaxis": "y2"
        }
       ],
       "layout": {
        "annotations": [
         {
          "font": {
           "size": 16
          },
          "showarrow": false,
          "text": "n=750, p=32",
          "x": 0.225,
          "xanchor": "center",
          "xref": "paper",
          "y": 1,
          "yanchor": "bottom",
          "yref": "paper"
         },
         {
          "font": {
           "size": 16
          },
          "showarrow": false,
          "text": "n=7500, p=300",
          "x": 0.775,
          "xanchor": "center",
          "xref": "paper",
          "y": 1,
          "yanchor": "bottom",
          "yref": "paper"
         }
        ],
        "height": 400,
        "template": {
         "data": {
          "bar": [
           {
            "error_x": {
             "color": "#2a3f5f"
            },
            "error_y": {
             "color": "#2a3f5f"
            },
            "marker": {
             "line": {
              "color": "#E5ECF6",
              "width": 0.5
             },
             "pattern": {
              "fillmode": "overlay",
              "size": 10,
              "solidity": 0.2
             }
            },
            "type": "bar"
           }
          ],
          "barpolar": [
           {
            "marker": {
             "line": {
              "color": "#E5ECF6",
              "width": 0.5
             },
             "pattern": {
              "fillmode": "overlay",
              "size": 10,
              "solidity": 0.2
             }
            },
            "type": "barpolar"
           }
          ],
          "carpet": [
           {
            "aaxis": {
             "endlinecolor": "#2a3f5f",
             "gridcolor": "white",
             "linecolor": "white",
             "minorgridcolor": "white",
             "startlinecolor": "#2a3f5f"
            },
            "baxis": {
             "endlinecolor": "#2a3f5f",
             "gridcolor": "white",
             "linecolor": "white",
             "minorgridcolor": "white",
             "startlinecolor": "#2a3f5f"
            },
            "type": "carpet"
           }
          ],
          "choropleth": [
           {
            "colorbar": {
             "outlinewidth": 0,
             "ticks": ""
            },
            "type": "choropleth"
           }
          ],
          "contour": [
           {
            "colorbar": {
             "outlinewidth": 0,
             "ticks": ""
            },
            "colorscale": [
             [
              0,
              "#0d0887"
             ],
             [
              0.1111111111111111,
              "#46039f"
             ],
             [
              0.2222222222222222,
              "#7201a8"
             ],
             [
              0.3333333333333333,
              "#9c179e"
             ],
             [
              0.4444444444444444,
              "#bd3786"
             ],
             [
              0.5555555555555556,
              "#d8576b"
             ],
             [
              0.6666666666666666,
              "#ed7953"
             ],
             [
              0.7777777777777778,
              "#fb9f3a"
             ],
             [
              0.8888888888888888,
              "#fdca26"
             ],
             [
              1,
              "#f0f921"
             ]
            ],
            "type": "contour"
           }
          ],
          "contourcarpet": [
           {
            "colorbar": {
             "outlinewidth": 0,
             "ticks": ""
            },
            "type": "contourcarpet"
           }
          ],
          "heatmap": [
           {
            "colorbar": {
             "outlinewidth": 0,
             "ticks": ""
            },
            "colorscale": [
             [
              0,
              "#0d0887"
             ],
             [
              0.1111111111111111,
              "#46039f"
             ],
             [
              0.2222222222222222,
              "#7201a8"
             ],
             [
              0.3333333333333333,
              "#9c179e"
             ],
             [
              0.4444444444444444,
              "#bd3786"
             ],
             [
              0.5555555555555556,
              "#d8576b"
             ],
             [
              0.6666666666666666,
              "#ed7953"
             ],
             [
              0.7777777777777778,
              "#fb9f3a"
             ],
             [
              0.8888888888888888,
              "#fdca26"
             ],
             [
              1,
              "#f0f921"
             ]
            ],
            "type": "heatmap"
           }
          ],
          "heatmapgl": [
           {
            "colorbar": {
             "outlinewidth": 0,
             "ticks": ""
            },
            "colorscale": [
             [
              0,
              "#0d0887"
             ],
             [
              0.1111111111111111,
              "#46039f"
             ],
             [
              0.2222222222222222,
              "#7201a8"
             ],
             [
              0.3333333333333333,
              "#9c179e"
             ],
             [
              0.4444444444444444,
              "#bd3786"
             ],
             [
              0.5555555555555556,
              "#d8576b"
             ],
             [
              0.6666666666666666,
              "#ed7953"
             ],
             [
              0.7777777777777778,
              "#fb9f3a"
             ],
             [
              0.8888888888888888,
              "#fdca26"
             ],
             [
              1,
              "#f0f921"
             ]
            ],
            "type": "heatmapgl"
           }
          ],
          "histogram": [
           {
            "marker": {
             "pattern": {
              "fillmode": "overlay",
              "size": 10,
              "solidity": 0.2
             }
            },
            "type": "histogram"
           }
          ],
          "histogram2d": [
           {
            "colorbar": {
             "outlinewidth": 0,
             "ticks": ""
            },
            "colorscale": [
             [
              0,
              "#0d0887"
             ],
             [
              0.1111111111111111,
              "#46039f"
             ],
             [
              0.2222222222222222,
              "#7201a8"
             ],
             [
              0.3333333333333333,
              "#9c179e"
             ],
             [
              0.4444444444444444,
              "#bd3786"
             ],
             [
              0.5555555555555556,
              "#d8576b"
             ],
             [
              0.6666666666666666,
              "#ed7953"
             ],
             [
              0.7777777777777778,
              "#fb9f3a"
             ],
             [
              0.8888888888888888,
              "#fdca26"
             ],
             [
              1,
              "#f0f921"
             ]
            ],
            "type": "histogram2d"
           }
          ],
          "histogram2dcontour": [
           {
            "colorbar": {
             "outlinewidth": 0,
             "ticks": ""
            },
            "colorscale": [
             [
              0,
              "#0d0887"
             ],
             [
              0.1111111111111111,
              "#46039f"
             ],
             [
              0.2222222222222222,
              "#7201a8"
             ],
             [
              0.3333333333333333,
              "#9c179e"
             ],
             [
              0.4444444444444444,
              "#bd3786"
             ],
             [
              0.5555555555555556,
              "#d8576b"
             ],
             [
              0.6666666666666666,
              "#ed7953"
             ],
             [
              0.7777777777777778,
              "#fb9f3a"
             ],
             [
              0.8888888888888888,
              "#fdca26"
             ],
             [
              1,
              "#f0f921"
             ]
            ],
            "type": "histogram2dcontour"
           }
          ],
          "mesh3d": [
           {
            "colorbar": {
             "outlinewidth": 0,
             "ticks": ""
            },
            "type": "mesh3d"
           }
          ],
          "parcoords": [
           {
            "line": {
             "colorbar": {
              "outlinewidth": 0,
              "ticks": ""
             }
            },
            "type": "parcoords"
           }
          ],
          "pie": [
           {
            "automargin": true,
            "type": "pie"
           }
          ],
          "scatter": [
           {
            "fillpattern": {
             "fillmode": "overlay",
             "size": 10,
             "solidity": 0.2
            },
            "type": "scatter"
           }
          ],
          "scatter3d": [
           {
            "line": {
             "colorbar": {
              "outlinewidth": 0,
              "ticks": ""
             }
            },
            "marker": {
             "colorbar": {
              "outlinewidth": 0,
              "ticks": ""
             }
            },
            "type": "scatter3d"
           }
          ],
          "scattercarpet": [
           {
            "marker": {
             "colorbar": {
              "outlinewidth": 0,
              "ticks": ""
             }
            },
            "type": "scattercarpet"
           }
          ],
          "scattergeo": [
           {
            "marker": {
             "colorbar": {
              "outlinewidth": 0,
              "ticks": ""
             }
            },
            "type": "scattergeo"
           }
          ],
          "scattergl": [
           {
            "marker": {
             "colorbar": {
              "outlinewidth": 0,
              "ticks": ""
             }
            },
            "type": "scattergl"
           }
          ],
          "scattermapbox": [
           {
            "marker": {
             "colorbar": {
              "outlinewidth": 0,
              "ticks": ""
             }
            },
            "type": "scattermapbox"
           }
          ],
          "scatterpolar": [
           {
            "marker": {
             "colorbar": {
              "outlinewidth": 0,
              "ticks": ""
             }
            },
            "type": "scatterpolar"
           }
          ],
          "scatterpolargl": [
           {
            "marker": {
             "colorbar": {
              "outlinewidth": 0,
              "ticks": ""
             }
            },
            "type": "scatterpolargl"
           }
          ],
          "scatterternary": [
           {
            "marker": {
             "colorbar": {
              "outlinewidth": 0,
              "ticks": ""
             }
            },
            "type": "scatterternary"
           }
          ],
          "surface": [
           {
            "colorbar": {
             "outlinewidth": 0,
             "ticks": ""
            },
            "colorscale": [
             [
              0,
              "#0d0887"
             ],
             [
              0.1111111111111111,
              "#46039f"
             ],
             [
              0.2222222222222222,
              "#7201a8"
             ],
             [
              0.3333333333333333,
              "#9c179e"
             ],
             [
              0.4444444444444444,
              "#bd3786"
             ],
             [
              0.5555555555555556,
              "#d8576b"
             ],
             [
              0.6666666666666666,
              "#ed7953"
             ],
             [
              0.7777777777777778,
              "#fb9f3a"
             ],
             [
              0.8888888888888888,
              "#fdca26"
             ],
             [
              1,
              "#f0f921"
             ]
            ],
            "type": "surface"
           }
          ],
          "table": [
           {
            "cells": {
             "fill": {
              "color": "#EBF0F8"
             },
             "line": {
              "color": "white"
             }
            },
            "header": {
             "fill": {
              "color": "#C8D4E3"
             },
             "line": {
              "color": "white"
             }
            },
            "type": "table"
           }
          ]
         },
         "layout": {
          "annotationdefaults": {
           "arrowcolor": "#2a3f5f",
           "arrowhead": 0,
           "arrowwidth": 1
          },
          "autotypenumbers": "strict",
          "coloraxis": {
           "colorbar": {
            "outlinewidth": 0,
            "ticks": ""
           }
          },
          "colorscale": {
           "diverging": [
            [
             0,
             "#8e0152"
            ],
            [
             0.1,
             "#c51b7d"
            ],
            [
             0.2,
             "#de77ae"
            ],
            [
             0.3,
             "#f1b6da"
            ],
            [
             0.4,
             "#fde0ef"
            ],
            [
             0.5,
             "#f7f7f7"
            ],
            [
             0.6,
             "#e6f5d0"
            ],
            [
             0.7,
             "#b8e186"
            ],
            [
             0.8,
             "#7fbc41"
            ],
            [
             0.9,
             "#4d9221"
            ],
            [
             1,
             "#276419"
            ]
           ],
           "sequential": [
            [
             0,
             "#0d0887"
            ],
            [
             0.1111111111111111,
             "#46039f"
            ],
            [
             0.2222222222222222,
             "#7201a8"
            ],
            [
             0.3333333333333333,
             "#9c179e"
            ],
            [
             0.4444444444444444,
             "#bd3786"
            ],
            [
             0.5555555555555556,
             "#d8576b"
            ],
            [
             0.6666666666666666,
             "#ed7953"
            ],
            [
             0.7777777777777778,
             "#fb9f3a"
            ],
            [
             0.8888888888888888,
             "#fdca26"
            ],
            [
             1,
             "#f0f921"
            ]
           ],
           "sequentialminus": [
            [
             0,
             "#0d0887"
            ],
            [
             0.1111111111111111,
             "#46039f"
            ],
            [
             0.2222222222222222,
             "#7201a8"
            ],
            [
             0.3333333333333333,
             "#9c179e"
            ],
            [
             0.4444444444444444,
             "#bd3786"
            ],
            [
             0.5555555555555556,
             "#d8576b"
            ],
            [
             0.6666666666666666,
             "#ed7953"
            ],
            [
             0.7777777777777778,
             "#fb9f3a"
            ],
            [
             0.8888888888888888,
             "#fdca26"
            ],
            [
             1,
             "#f0f921"
            ]
           ]
          },
          "colorway": [
           "#636efa",
           "#EF553B",
           "#00cc96",
           "#ab63fa",
           "#FFA15A",
           "#19d3f3",
           "#FF6692",
           "#B6E880",
           "#FF97FF",
           "#FECB52"
          ],
          "font": {
           "color": "#2a3f5f"
          },
          "geo": {
           "bgcolor": "white",
           "lakecolor": "white",
           "landcolor": "#E5ECF6",
           "showlakes": true,
           "showland": true,
           "subunitcolor": "white"
          },
          "hoverlabel": {
           "align": "left"
          },
          "hovermode": "closest",
          "mapbox": {
           "style": "light"
          },
          "paper_bgcolor": "white",
          "plot_bgcolor": "#E5ECF6",
          "polar": {
           "angularaxis": {
            "gridcolor": "white",
            "linecolor": "white",
            "ticks": ""
           },
           "bgcolor": "#E5ECF6",
           "radialaxis": {
            "gridcolor": "white",
            "linecolor": "white",
            "ticks": ""
           }
          },
          "scene": {
           "xaxis": {
            "backgroundcolor": "#E5ECF6",
            "gridcolor": "white",
            "gridwidth": 2,
            "linecolor": "white",
            "showbackground": true,
            "ticks": "",
            "zerolinecolor": "white"
           },
           "yaxis": {
            "backgroundcolor": "#E5ECF6",
            "gridcolor": "white",
            "gridwidth": 2,
            "linecolor": "white",
            "showbackground": true,
            "ticks": "",
            "zerolinecolor": "white"
           },
           "zaxis": {
            "backgroundcolor": "#E5ECF6",
            "gridcolor": "white",
            "gridwidth": 2,
            "linecolor": "white",
            "showbackground": true,
            "ticks": "",
            "zerolinecolor": "white"
           }
          },
          "shapedefaults": {
           "line": {
            "color": "#2a3f5f"
           }
          },
          "ternary": {
           "aaxis": {
            "gridcolor": "white",
            "linecolor": "white",
            "ticks": ""
           },
           "baxis": {
            "gridcolor": "white",
            "linecolor": "white",
            "ticks": ""
           },
           "bgcolor": "#E5ECF6",
           "caxis": {
            "gridcolor": "white",
            "linecolor": "white",
            "ticks": ""
           }
          },
          "title": {
           "x": 0.05
          },
          "xaxis": {
           "automargin": true,
           "gridcolor": "white",
           "linecolor": "white",
           "ticks": "",
           "title": {
            "standoff": 15
           },
           "zerolinecolor": "white",
           "zerolinewidth": 2
          },
          "yaxis": {
           "automargin": true,
           "gridcolor": "white",
           "linecolor": "white",
           "ticks": "",
           "title": {
            "standoff": 15
           },
           "zerolinecolor": "white",
           "zerolinewidth": 2
          }
         }
        },
        "title": {
         "text": ""
        },
        "width": 1000,
        "xaxis": {
         "anchor": "y",
         "domain": [
          0,
          0.45
         ],
         "tickangle": -30
        },
        "xaxis2": {
         "anchor": "y2",
         "domain": [
          0.55,
          1
         ],
         "tickangle": -30
        },
        "yaxis": {
         "anchor": "x",
         "domain": [
          0,
          1
         ]
        },
        "yaxis2": {
         "anchor": "x2",
         "domain": [
          0,
          1
         ]
        }
       }
      },
      "text/html": [
       "<div>                            <div id=\"6312077c-a6ca-43ed-bb08-a6ac4efb1944\" class=\"plotly-graph-div\" style=\"height:400px; width:1000px;\"></div>            <script type=\"text/javascript\">                require([\"plotly\"], function(Plotly) {                    window.PLOTLYENV=window.PLOTLYENV || {};                                    if (document.getElementById(\"6312077c-a6ca-43ed-bb08-a6ac4efb1944\")) {                    Plotly.newPlot(                        \"6312077c-a6ca-43ed-bb08-a6ac4efb1944\",                        [{\"error_y\":{\"array\":[0.04007029795076439,0.05320964382465537,0.06885098769501574,0.060965053068611996],\"arrayminus\":[0.044283406853528134,0.05486426912799966,0.07510130693679101,0.06691803353486325],\"symmetric\":false,\"type\":\"data\",\"visible\":true},\"line\":{\"color\":\"blue\"},\"showlegend\":false,\"x\":[\"with-oracle\",\"with-outcome-oracle\",\"with-ps-oracle\",\"without-oracle\"],\"y\":[0.27563431260882665,0.28926777470994164,0.3956769225379374,0.3770412929555245],\"type\":\"scatter\",\"xaxis\":\"x\",\"yaxis\":\"y\"},{\"error_y\":{\"array\":[0.023347641565396926,0.023981692654507336,0.03339314538191629,0.032260987726646484],\"arrayminus\":[0.020225032036923163,0.021551505876341526,0.027694124649308316,0.02792371716871267],\"symmetric\":false,\"type\":\"data\",\"visible\":true},\"line\":{\"color\":\"red\"},\"showlegend\":false,\"x\":[\"with-oracle\",\"with-outcome-oracle\",\"with-ps-oracle\",\"without-oracle\"],\"y\":[0.4206106686684247,0.4194321319286834,0.44729216836021457,0.45003053475983856],\"type\":\"scatter\",\"xaxis\":\"x\",\"yaxis\":\"y\"},{\"error_y\":{\"array\":[0.021266682953931054,0.018783584402468162,0.1055702027677684,0.09833904593851084],\"arrayminus\":[0.023617528447782477,0.02184520939931711,0.10183143582815446,0.09873969577239272],\"symmetric\":false,\"type\":\"data\",\"visible\":true},\"line\":{\"color\":\"blue\"},\"name\":\"MCstd\",\"showlegend\":true,\"x\":[\"with-oracle\",\"with-outcome-oracle\",\"with-ps-oracle\",\"without-oracle\"],\"y\":[0.1669824868194342,0.16929556036164914,0.7095744554374819,0.7054810864913748],\"type\":\"scatter\",\"xaxis\":\"x2\",\"yaxis\":\"y2\"},{\"error_y\":{\"array\":[0.012808054525649037,0.013518598849866836,0.053058545426658554,0.052838468379847514],\"arrayminus\":[0.012579620270603553,0.012573212793822675,0.05587152983301413,0.056977472487547365],\"symmetric\":false,\"type\":\"data\",\"visible\":true},\"line\":{\"color\":\"red\"},\"name\":\"SE\",\"showlegend\":true,\"x\":[\"with-oracle\",\"with-outcome-oracle\",\"with-ps-oracle\",\"without-oracle\"],\"y\":[0.38787737485946105,0.38807419119152925,1.0426593368440835,1.0557872897694593],\"type\":\"scatter\",\"xaxis\":\"x2\",\"yaxis\":\"y2\"}],                        {\"template\":{\"data\":{\"histogram2dcontour\":[{\"type\":\"histogram2dcontour\",\"colorbar\":{\"outlinewidth\":0,\"ticks\":\"\"},\"colorscale\":[[0.0,\"#0d0887\"],[0.1111111111111111,\"#46039f\"],[0.2222222222222222,\"#7201a8\"],[0.3333333333333333,\"#9c179e\"],[0.4444444444444444,\"#bd3786\"],[0.5555555555555556,\"#d8576b\"],[0.6666666666666666,\"#ed7953\"],[0.7777777777777778,\"#fb9f3a\"],[0.8888888888888888,\"#fdca26\"],[1.0,\"#f0f921\"]]}],\"choropleth\":[{\"type\":\"choropleth\",\"colorbar\":{\"outlinewidth\":0,\"ticks\":\"\"}}],\"histogram2d\":[{\"type\":\"histogram2d\",\"colorbar\":{\"outlinewidth\":0,\"ticks\":\"\"},\"colorscale\":[[0.0,\"#0d0887\"],[0.1111111111111111,\"#46039f\"],[0.2222222222222222,\"#7201a8\"],[0.3333333333333333,\"#9c179e\"],[0.4444444444444444,\"#bd3786\"],[0.5555555555555556,\"#d8576b\"],[0.6666666666666666,\"#ed7953\"],[0.7777777777777778,\"#fb9f3a\"],[0.8888888888888888,\"#fdca26\"],[1.0,\"#f0f921\"]]}],\"heatmap\":[{\"type\":\"heatmap\",\"colorbar\":{\"outlinewidth\":0,\"ticks\":\"\"},\"colorscale\":[[0.0,\"#0d0887\"],[0.1111111111111111,\"#46039f\"],[0.2222222222222222,\"#7201a8\"],[0.3333333333333333,\"#9c179e\"],[0.4444444444444444,\"#bd3786\"],[0.5555555555555556,\"#d8576b\"],[0.6666666666666666,\"#ed7953\"],[0.7777777777777778,\"#fb9f3a\"],[0.8888888888888888,\"#fdca26\"],[1.0,\"#f0f921\"]]}],\"heatmapgl\":[{\"type\":\"heatmapgl\",\"colorbar\":{\"outlinewidth\":0,\"ticks\":\"\"},\"colorscale\":[[0.0,\"#0d0887\"],[0.1111111111111111,\"#46039f\"],[0.2222222222222222,\"#7201a8\"],[0.3333333333333333,\"#9c179e\"],[0.4444444444444444,\"#bd3786\"],[0.5555555555555556,\"#d8576b\"],[0.6666666666666666,\"#ed7953\"],[0.7777777777777778,\"#fb9f3a\"],[0.8888888888888888,\"#fdca26\"],[1.0,\"#f0f921\"]]}],\"contourcarpet\":[{\"type\":\"contourcarpet\",\"colorbar\":{\"outlinewidth\":0,\"ticks\":\"\"}}],\"contour\":[{\"type\":\"contour\",\"colorbar\":{\"outlinewidth\":0,\"ticks\":\"\"},\"colorscale\":[[0.0,\"#0d0887\"],[0.1111111111111111,\"#46039f\"],[0.2222222222222222,\"#7201a8\"],[0.3333333333333333,\"#9c179e\"],[0.4444444444444444,\"#bd3786\"],[0.5555555555555556,\"#d8576b\"],[0.6666666666666666,\"#ed7953\"],[0.7777777777777778,\"#fb9f3a\"],[0.8888888888888888,\"#fdca26\"],[1.0,\"#f0f921\"]]}],\"surface\":[{\"type\":\"surface\",\"colorbar\":{\"outlinewidth\":0,\"ticks\":\"\"},\"colorscale\":[[0.0,\"#0d0887\"],[0.1111111111111111,\"#46039f\"],[0.2222222222222222,\"#7201a8\"],[0.3333333333333333,\"#9c179e\"],[0.4444444444444444,\"#bd3786\"],[0.5555555555555556,\"#d8576b\"],[0.6666666666666666,\"#ed7953\"],[0.7777777777777778,\"#fb9f3a\"],[0.8888888888888888,\"#fdca26\"],[1.0,\"#f0f921\"]]}],\"mesh3d\":[{\"type\":\"mesh3d\",\"colorbar\":{\"outlinewidth\":0,\"ticks\":\"\"}}],\"scatter\":[{\"fillpattern\":{\"fillmode\":\"overlay\",\"size\":10,\"solidity\":0.2},\"type\":\"scatter\"}],\"parcoords\":[{\"type\":\"parcoords\",\"line\":{\"colorbar\":{\"outlinewidth\":0,\"ticks\":\"\"}}}],\"scatterpolargl\":[{\"type\":\"scatterpolargl\",\"marker\":{\"colorbar\":{\"outlinewidth\":0,\"ticks\":\"\"}}}],\"bar\":[{\"error_x\":{\"color\":\"#2a3f5f\"},\"error_y\":{\"color\":\"#2a3f5f\"},\"marker\":{\"line\":{\"color\":\"#E5ECF6\",\"width\":0.5},\"pattern\":{\"fillmode\":\"overlay\",\"size\":10,\"solidity\":0.2}},\"type\":\"bar\"}],\"scattergeo\":[{\"type\":\"scattergeo\",\"marker\":{\"colorbar\":{\"outlinewidth\":0,\"ticks\":\"\"}}}],\"scatterpolar\":[{\"type\":\"scatterpolar\",\"marker\":{\"colorbar\":{\"outlinewidth\":0,\"ticks\":\"\"}}}],\"histogram\":[{\"marker\":{\"pattern\":{\"fillmode\":\"overlay\",\"size\":10,\"solidity\":0.2}},\"type\":\"histogram\"}],\"scattergl\":[{\"type\":\"scattergl\",\"marker\":{\"colorbar\":{\"outlinewidth\":0,\"ticks\":\"\"}}}],\"scatter3d\":[{\"type\":\"scatter3d\",\"line\":{\"colorbar\":{\"outlinewidth\":0,\"ticks\":\"\"}},\"marker\":{\"colorbar\":{\"outlinewidth\":0,\"ticks\":\"\"}}}],\"scattermapbox\":[{\"type\":\"scattermapbox\",\"marker\":{\"colorbar\":{\"outlinewidth\":0,\"ticks\":\"\"}}}],\"scatterternary\":[{\"type\":\"scatterternary\",\"marker\":{\"colorbar\":{\"outlinewidth\":0,\"ticks\":\"\"}}}],\"scattercarpet\":[{\"type\":\"scattercarpet\",\"marker\":{\"colorbar\":{\"outlinewidth\":0,\"ticks\":\"\"}}}],\"carpet\":[{\"aaxis\":{\"endlinecolor\":\"#2a3f5f\",\"gridcolor\":\"white\",\"linecolor\":\"white\",\"minorgridcolor\":\"white\",\"startlinecolor\":\"#2a3f5f\"},\"baxis\":{\"endlinecolor\":\"#2a3f5f\",\"gridcolor\":\"white\",\"linecolor\":\"white\",\"minorgridcolor\":\"white\",\"startlinecolor\":\"#2a3f5f\"},\"type\":\"carpet\"}],\"table\":[{\"cells\":{\"fill\":{\"color\":\"#EBF0F8\"},\"line\":{\"color\":\"white\"}},\"header\":{\"fill\":{\"color\":\"#C8D4E3\"},\"line\":{\"color\":\"white\"}},\"type\":\"table\"}],\"barpolar\":[{\"marker\":{\"line\":{\"color\":\"#E5ECF6\",\"width\":0.5},\"pattern\":{\"fillmode\":\"overlay\",\"size\":10,\"solidity\":0.2}},\"type\":\"barpolar\"}],\"pie\":[{\"automargin\":true,\"type\":\"pie\"}]},\"layout\":{\"autotypenumbers\":\"strict\",\"colorway\":[\"#636efa\",\"#EF553B\",\"#00cc96\",\"#ab63fa\",\"#FFA15A\",\"#19d3f3\",\"#FF6692\",\"#B6E880\",\"#FF97FF\",\"#FECB52\"],\"font\":{\"color\":\"#2a3f5f\"},\"hovermode\":\"closest\",\"hoverlabel\":{\"align\":\"left\"},\"paper_bgcolor\":\"white\",\"plot_bgcolor\":\"#E5ECF6\",\"polar\":{\"bgcolor\":\"#E5ECF6\",\"angularaxis\":{\"gridcolor\":\"white\",\"linecolor\":\"white\",\"ticks\":\"\"},\"radialaxis\":{\"gridcolor\":\"white\",\"linecolor\":\"white\",\"ticks\":\"\"}},\"ternary\":{\"bgcolor\":\"#E5ECF6\",\"aaxis\":{\"gridcolor\":\"white\",\"linecolor\":\"white\",\"ticks\":\"\"},\"baxis\":{\"gridcolor\":\"white\",\"linecolor\":\"white\",\"ticks\":\"\"},\"caxis\":{\"gridcolor\":\"white\",\"linecolor\":\"white\",\"ticks\":\"\"}},\"coloraxis\":{\"colorbar\":{\"outlinewidth\":0,\"ticks\":\"\"}},\"colorscale\":{\"sequential\":[[0.0,\"#0d0887\"],[0.1111111111111111,\"#46039f\"],[0.2222222222222222,\"#7201a8\"],[0.3333333333333333,\"#9c179e\"],[0.4444444444444444,\"#bd3786\"],[0.5555555555555556,\"#d8576b\"],[0.6666666666666666,\"#ed7953\"],[0.7777777777777778,\"#fb9f3a\"],[0.8888888888888888,\"#fdca26\"],[1.0,\"#f0f921\"]],\"sequentialminus\":[[0.0,\"#0d0887\"],[0.1111111111111111,\"#46039f\"],[0.2222222222222222,\"#7201a8\"],[0.3333333333333333,\"#9c179e\"],[0.4444444444444444,\"#bd3786\"],[0.5555555555555556,\"#d8576b\"],[0.6666666666666666,\"#ed7953\"],[0.7777777777777778,\"#fb9f3a\"],[0.8888888888888888,\"#fdca26\"],[1.0,\"#f0f921\"]],\"diverging\":[[0,\"#8e0152\"],[0.1,\"#c51b7d\"],[0.2,\"#de77ae\"],[0.3,\"#f1b6da\"],[0.4,\"#fde0ef\"],[0.5,\"#f7f7f7\"],[0.6,\"#e6f5d0\"],[0.7,\"#b8e186\"],[0.8,\"#7fbc41\"],[0.9,\"#4d9221\"],[1,\"#276419\"]]},\"xaxis\":{\"gridcolor\":\"white\",\"linecolor\":\"white\",\"ticks\":\"\",\"title\":{\"standoff\":15},\"zerolinecolor\":\"white\",\"automargin\":true,\"zerolinewidth\":2},\"yaxis\":{\"gridcolor\":\"white\",\"linecolor\":\"white\",\"ticks\":\"\",\"title\":{\"standoff\":15},\"zerolinecolor\":\"white\",\"automargin\":true,\"zerolinewidth\":2},\"scene\":{\"xaxis\":{\"backgroundcolor\":\"#E5ECF6\",\"gridcolor\":\"white\",\"linecolor\":\"white\",\"showbackground\":true,\"ticks\":\"\",\"zerolinecolor\":\"white\",\"gridwidth\":2},\"yaxis\":{\"backgroundcolor\":\"#E5ECF6\",\"gridcolor\":\"white\",\"linecolor\":\"white\",\"showbackground\":true,\"ticks\":\"\",\"zerolinecolor\":\"white\",\"gridwidth\":2},\"zaxis\":{\"backgroundcolor\":\"#E5ECF6\",\"gridcolor\":\"white\",\"linecolor\":\"white\",\"showbackground\":true,\"ticks\":\"\",\"zerolinecolor\":\"white\",\"gridwidth\":2}},\"shapedefaults\":{\"line\":{\"color\":\"#2a3f5f\"}},\"annotationdefaults\":{\"arrowcolor\":\"#2a3f5f\",\"arrowhead\":0,\"arrowwidth\":1},\"geo\":{\"bgcolor\":\"white\",\"landcolor\":\"#E5ECF6\",\"subunitcolor\":\"white\",\"showland\":true,\"showlakes\":true,\"lakecolor\":\"white\"},\"title\":{\"x\":0.05},\"mapbox\":{\"style\":\"light\"}}},\"xaxis\":{\"anchor\":\"y\",\"domain\":[0.0,0.45],\"tickangle\":-30},\"yaxis\":{\"anchor\":\"x\",\"domain\":[0.0,1.0]},\"xaxis2\":{\"anchor\":\"y2\",\"domain\":[0.55,1.0],\"tickangle\":-30},\"yaxis2\":{\"anchor\":\"x2\",\"domain\":[0.0,1.0]},\"annotations\":[{\"font\":{\"size\":16},\"showarrow\":false,\"text\":\"n=750, p=32\",\"x\":0.225,\"xanchor\":\"center\",\"xref\":\"paper\",\"y\":1.0,\"yanchor\":\"bottom\",\"yref\":\"paper\"},{\"font\":{\"size\":16},\"showarrow\":false,\"text\":\"n=7500, p=300\",\"x\":0.775,\"xanchor\":\"center\",\"xref\":\"paper\",\"y\":1.0,\"yanchor\":\"bottom\",\"yref\":\"paper\"}],\"title\":{\"text\":\"\"},\"height\":400,\"width\":1000},                        {\"responsive\": true}                    ).then(function(){\n",
       "                            \n",
       "var gd = document.getElementById('6312077c-a6ca-43ed-bb08-a6ac4efb1944');\n",
       "var x = new MutationObserver(function (mutations, observer) {{\n",
       "        var display = window.getComputedStyle(gd).display;\n",
       "        if (!display || display === 'none') {{\n",
       "            console.log([gd, 'removed!']);\n",
       "            Plotly.purge(gd);\n",
       "            observer.disconnect();\n",
       "        }}\n",
       "}});\n",
       "\n",
       "// Listen for the removal of the full notebook cells\n",
       "var notebookContainer = gd.closest('#notebook-container');\n",
       "if (notebookContainer) {{\n",
       "    x.observe(notebookContainer, {childList: true});\n",
       "}}\n",
       "\n",
       "// Listen for the clearing of the current output cell\n",
       "var outputEl = gd.closest('.output');\n",
       "if (outputEl) {{\n",
       "    x.observe(outputEl, {childList: true});\n",
       "}}\n",
       "\n",
       "                        })                };                });            </script>        </div>"
      ]
     },
     "metadata": {},
     "output_type": "display_data"
    }
   ],
   "source": [
    "from plotly.subplots import make_subplots\n",
    "import plotly.graph_objects as go\n",
    "\n",
    "fig = make_subplots(\n",
    "    rows=1, cols=2,\n",
    "    subplot_titles=('n=750, p=32', 'n=7500, p=300'\n",
    "                   ),\n",
    "    shared_xaxes=True,\n",
    "    vertical_spacing=0.06\n",
    ")\n",
    "\n",
    "\n",
    "\n",
    "temp1 = all_ests_CI4.copy()#[(all_ests_CI3['n']==7500)]\n",
    "temp1['MR'] = temp1['MR'].str.replace('mr_|_dNN_jNN', '', case=False, regex=True)\n",
    "temp1['MR'] = temp1['MR'].str.replace('_', '-', case=False, regex=True)\n",
    "\n",
    "\n",
    "fig.add_trace(\n",
    "    go.Scatter(\n",
    "                x=temp1[(temp1['n']==750)&(temp1['measure']=='MCstd')]['MR'],\n",
    "                y=temp1[(temp1['n']==750)&(temp1['measure']=='MCstd')][\"mr\"],\n",
    "                line_color='blue', showlegend=False,\n",
    "            error_y=dict(type='data', visible=True, \n",
    "                         symmetric=False,\n",
    "                         array=temp1[(temp1['n']==750)&(temp1['measure']=='MCstd')]['mr_upper_marginal'],\n",
    "                         arrayminus=temp1[(temp1['n']==750)&(temp1['measure']=='MCstd')]['mr_lower_marginal']\n",
    "                    )\n",
    "            ),\n",
    "    row=1, col=1)\n",
    "\n",
    "fig.add_trace(\n",
    "    go.Scatter(\n",
    "                x=temp1[(temp1['n']==750)&(temp1['measure']=='se')]['MR'],\n",
    "                y=temp1[(temp1['n']==750)&(temp1['measure']=='se')][\"mr\"],\n",
    "                line_color='red', showlegend=False, \n",
    "            error_y=dict(type='data', visible=True, \n",
    "                         symmetric=False,\n",
    "                         array=temp1[(temp1['n']==750)&(temp1['measure']=='se')]['mr_upper_marginal'],\n",
    "                         arrayminus=temp1[(temp1['n']==750)&(temp1['measure']=='se')]['mr_lower_marginal']\n",
    "                    )\n",
    "            ),\n",
    "    row=1, col=1)\n",
    "\n",
    "\n",
    "fig.add_trace(\n",
    "    go.Scatter(\n",
    "                x=temp1[(temp1['n']==7500)&(temp1['measure']=='MCstd')]['MR'],\n",
    "                y=temp1[(temp1['n']==7500)&(temp1['measure']=='MCstd')][\"mr\"],\n",
    "                line_color='blue', showlegend=True, name='MCstd',\n",
    "            error_y=dict(type='data', visible=True, \n",
    "                         symmetric=False,\n",
    "                         array=temp1[(temp1['n']==7500)&(temp1['measure']=='MCstd')]['mr_upper_marginal'],\n",
    "                         arrayminus=temp1[(temp1['n']==7500)&(temp1['measure']=='MCstd')]['mr_lower_marginal']\n",
    "                    )\n",
    "            ),\n",
    "    row=1, col=2)\n",
    "\n",
    "fig.add_trace(\n",
    "    go.Scatter(\n",
    "                x=temp1[(temp1['n']==7500)&(temp1['measure']=='se')]['MR'],\n",
    "                y=temp1[(temp1['n']==7500)&(temp1['measure']=='se')][\"mr\"],\n",
    "                line_color='red', showlegend=True, name='SE',\n",
    "            error_y=dict(type='data', visible=True, \n",
    "                         symmetric=False,\n",
    "                         array=temp1[(temp1['n']==7500)&(temp1['measure']=='se')]['mr_upper_marginal'],\n",
    "                         arrayminus=temp1[(temp1['n']==7500)&(temp1['measure']=='se')]['mr_lower_marginal']\n",
    "                    )\n",
    "            ),\n",
    "    row=1, col=2)\n",
    "\n",
    "\n",
    "fig.update_layout(height=400, width=1000,\n",
    "                  title_text=\"\",\n",
    "                 )\n",
    "\n",
    "# fig.update_yaxes(tickvals=[c for c in np.arange(0., 3, .3)],range=[0, 1.2])\n",
    "fig.update_xaxes(\n",
    "#     tickvals=['With PS & outcome oracle', 'With outcome oracle', 'With PS oracle', 'Without oracle',],\n",
    "                  tickangle = 330,\n",
    "                )\n",
    "\n",
    "# fig.write_image(\"/home/mr/Pictures/sims/variance_scaled-jan2023-jnn-dnn-r0.25.pdf\")\n",
    "\n",
    "fig.show()"
   ]
  },
  {
   "cell_type": "code",
   "execution_count": 40,
   "metadata": {},
   "outputs": [],
   "source": [
    "all_ests_CI5 = all_ests_CI3.copy()\n",
    "for c in ['mr','ll_mr','ul_mr']:\n",
    "    all_ests_CI5[c] = np.where(all_ests_CI5['measure']=='se', \n",
    "                               np.sqrt(all_ests_CI5[c]),\n",
    "                               all_ests_CI5[c])\n",
    "\n",
    "all_ests_CI5['mr_lower_marginal'] = (all_ests_CI5['mr'] - all_ests_CI5['ll_mr'])\n",
    "all_ests_CI5['mr_upper_marginal'] = (all_ests_CI5['ul_mr'] - all_ests_CI5['mr'])"
   ]
  },
  {
   "cell_type": "code",
   "execution_count": 41,
   "metadata": {},
   "outputs": [
    {
     "data": {
      "application/vnd.plotly.v1+json": {
       "config": {
        "plotlyServerURL": "https://plot.ly"
       },
       "data": [
        {
         "error_y": {
          "array": [
           0.04007029795076439,
           0.05320964382465537,
           0.06885098769501574,
           0.060965053068611996
          ],
          "arrayminus": [
           0.044283406853528134,
           0.05486426912799966,
           0.07510130693679101,
           0.06691803353486325
          ],
          "symmetric": false,
          "type": "data",
          "visible": true
         },
         "line": {
          "color": "blue"
         },
         "showlegend": false,
         "type": "scatter",
         "x": [
          "with-oracle",
          "with-outcome-oracle",
          "with-ps-oracle",
          "without-oracle"
         ],
         "xaxis": "x",
         "y": [
          0.27563431260882665,
          0.28926777470994164,
          0.3956769225379374,
          0.3770412929555245
         ],
         "yaxis": "y"
        },
        {
         "error_y": {
          "array": [
           0.027626802245800608,
           0.02840553494525544,
           0.03814229015633508,
           0.03676271148406718
          ],
          "arrayminus": [
           0.02455836190355043,
           0.026228234849976273,
           0.03272719949035219,
           0.03289912025187558
          ],
          "symmetric": false,
          "type": "data",
          "visible": true
         },
         "line": {
          "color": "red"
         },
         "showlegend": false,
         "type": "scatter",
         "x": [
          "with-oracle",
          "with-outcome-oracle",
          "with-ps-oracle",
          "without-oracle"
         ],
         "xaxis": "x",
         "y": [
          1.009027413834101,
          1.0076127920188584,
          1.040539258914613,
          1.0437195403967703
         ],
         "yaxis": "y"
        },
        {
         "error_y": {
          "array": [
           0.021266682953931054,
           0.018783584402468162,
           0.1055702027677684,
           0.09833904593851084
          ],
          "arrayminus": [
           0.023617528447782477,
           0.02184520939931711,
           0.10183143582815446,
           0.09873969577239272
          ],
          "symmetric": false,
          "type": "data",
          "visible": true
         },
         "line": {
          "color": "blue"
         },
         "name": "MCstd",
         "showlegend": true,
         "type": "scatter",
         "x": [
          "with-oracle",
          "with-outcome-oracle",
          "with-ps-oracle",
          "without-oracle"
         ],
         "xaxis": "x2",
         "y": [
          0.1669824868194342,
          0.16929556036164914,
          0.7095744554374819,
          0.7054810864913748
         ],
         "yaxis": "y2"
        },
        {
         "error_y": {
          "array": [
           0.016126285830635023,
           0.017009071616397642,
           0.04056968323969934,
           0.04015757834830236
          ],
          "arrayminus": [
           0.016099974374188974,
           0.016087556838245698,
           0.043852853099411115,
           0.044446402169388666
          ],
          "symmetric": false,
          "type": "data",
          "visible": true
         },
         "line": {
          "color": "red"
         },
         "name": "SE",
         "showlegend": true,
         "type": "scatter",
         "x": [
          "with-oracle",
          "with-outcome-oracle",
          "with-ps-oracle",
          "without-oracle"
         ],
         "xaxis": "x2",
         "y": [
          0.9847301341731411,
          0.9849799378560068,
          1.6145117968321596,
          1.624644030064324
         ],
         "yaxis": "y2"
        }
       ],
       "layout": {
        "annotations": [
         {
          "font": {
           "size": 16
          },
          "showarrow": false,
          "text": "n=750, p=32",
          "x": 0.225,
          "xanchor": "center",
          "xref": "paper",
          "y": 1,
          "yanchor": "bottom",
          "yref": "paper"
         },
         {
          "font": {
           "size": 16
          },
          "showarrow": false,
          "text": "n=7500, p=300",
          "x": 0.775,
          "xanchor": "center",
          "xref": "paper",
          "y": 1,
          "yanchor": "bottom",
          "yref": "paper"
         }
        ],
        "height": 400,
        "template": {
         "data": {
          "bar": [
           {
            "error_x": {
             "color": "#2a3f5f"
            },
            "error_y": {
             "color": "#2a3f5f"
            },
            "marker": {
             "line": {
              "color": "#E5ECF6",
              "width": 0.5
             },
             "pattern": {
              "fillmode": "overlay",
              "size": 10,
              "solidity": 0.2
             }
            },
            "type": "bar"
           }
          ],
          "barpolar": [
           {
            "marker": {
             "line": {
              "color": "#E5ECF6",
              "width": 0.5
             },
             "pattern": {
              "fillmode": "overlay",
              "size": 10,
              "solidity": 0.2
             }
            },
            "type": "barpolar"
           }
          ],
          "carpet": [
           {
            "aaxis": {
             "endlinecolor": "#2a3f5f",
             "gridcolor": "white",
             "linecolor": "white",
             "minorgridcolor": "white",
             "startlinecolor": "#2a3f5f"
            },
            "baxis": {
             "endlinecolor": "#2a3f5f",
             "gridcolor": "white",
             "linecolor": "white",
             "minorgridcolor": "white",
             "startlinecolor": "#2a3f5f"
            },
            "type": "carpet"
           }
          ],
          "choropleth": [
           {
            "colorbar": {
             "outlinewidth": 0,
             "ticks": ""
            },
            "type": "choropleth"
           }
          ],
          "contour": [
           {
            "colorbar": {
             "outlinewidth": 0,
             "ticks": ""
            },
            "colorscale": [
             [
              0,
              "#0d0887"
             ],
             [
              0.1111111111111111,
              "#46039f"
             ],
             [
              0.2222222222222222,
              "#7201a8"
             ],
             [
              0.3333333333333333,
              "#9c179e"
             ],
             [
              0.4444444444444444,
              "#bd3786"
             ],
             [
              0.5555555555555556,
              "#d8576b"
             ],
             [
              0.6666666666666666,
              "#ed7953"
             ],
             [
              0.7777777777777778,
              "#fb9f3a"
             ],
             [
              0.8888888888888888,
              "#fdca26"
             ],
             [
              1,
              "#f0f921"
             ]
            ],
            "type": "contour"
           }
          ],
          "contourcarpet": [
           {
            "colorbar": {
             "outlinewidth": 0,
             "ticks": ""
            },
            "type": "contourcarpet"
           }
          ],
          "heatmap": [
           {
            "colorbar": {
             "outlinewidth": 0,
             "ticks": ""
            },
            "colorscale": [
             [
              0,
              "#0d0887"
             ],
             [
              0.1111111111111111,
              "#46039f"
             ],
             [
              0.2222222222222222,
              "#7201a8"
             ],
             [
              0.3333333333333333,
              "#9c179e"
             ],
             [
              0.4444444444444444,
              "#bd3786"
             ],
             [
              0.5555555555555556,
              "#d8576b"
             ],
             [
              0.6666666666666666,
              "#ed7953"
             ],
             [
              0.7777777777777778,
              "#fb9f3a"
             ],
             [
              0.8888888888888888,
              "#fdca26"
             ],
             [
              1,
              "#f0f921"
             ]
            ],
            "type": "heatmap"
           }
          ],
          "heatmapgl": [
           {
            "colorbar": {
             "outlinewidth": 0,
             "ticks": ""
            },
            "colorscale": [
             [
              0,
              "#0d0887"
             ],
             [
              0.1111111111111111,
              "#46039f"
             ],
             [
              0.2222222222222222,
              "#7201a8"
             ],
             [
              0.3333333333333333,
              "#9c179e"
             ],
             [
              0.4444444444444444,
              "#bd3786"
             ],
             [
              0.5555555555555556,
              "#d8576b"
             ],
             [
              0.6666666666666666,
              "#ed7953"
             ],
             [
              0.7777777777777778,
              "#fb9f3a"
             ],
             [
              0.8888888888888888,
              "#fdca26"
             ],
             [
              1,
              "#f0f921"
             ]
            ],
            "type": "heatmapgl"
           }
          ],
          "histogram": [
           {
            "marker": {
             "pattern": {
              "fillmode": "overlay",
              "size": 10,
              "solidity": 0.2
             }
            },
            "type": "histogram"
           }
          ],
          "histogram2d": [
           {
            "colorbar": {
             "outlinewidth": 0,
             "ticks": ""
            },
            "colorscale": [
             [
              0,
              "#0d0887"
             ],
             [
              0.1111111111111111,
              "#46039f"
             ],
             [
              0.2222222222222222,
              "#7201a8"
             ],
             [
              0.3333333333333333,
              "#9c179e"
             ],
             [
              0.4444444444444444,
              "#bd3786"
             ],
             [
              0.5555555555555556,
              "#d8576b"
             ],
             [
              0.6666666666666666,
              "#ed7953"
             ],
             [
              0.7777777777777778,
              "#fb9f3a"
             ],
             [
              0.8888888888888888,
              "#fdca26"
             ],
             [
              1,
              "#f0f921"
             ]
            ],
            "type": "histogram2d"
           }
          ],
          "histogram2dcontour": [
           {
            "colorbar": {
             "outlinewidth": 0,
             "ticks": ""
            },
            "colorscale": [
             [
              0,
              "#0d0887"
             ],
             [
              0.1111111111111111,
              "#46039f"
             ],
             [
              0.2222222222222222,
              "#7201a8"
             ],
             [
              0.3333333333333333,
              "#9c179e"
             ],
             [
              0.4444444444444444,
              "#bd3786"
             ],
             [
              0.5555555555555556,
              "#d8576b"
             ],
             [
              0.6666666666666666,
              "#ed7953"
             ],
             [
              0.7777777777777778,
              "#fb9f3a"
             ],
             [
              0.8888888888888888,
              "#fdca26"
             ],
             [
              1,
              "#f0f921"
             ]
            ],
            "type": "histogram2dcontour"
           }
          ],
          "mesh3d": [
           {
            "colorbar": {
             "outlinewidth": 0,
             "ticks": ""
            },
            "type": "mesh3d"
           }
          ],
          "parcoords": [
           {
            "line": {
             "colorbar": {
              "outlinewidth": 0,
              "ticks": ""
             }
            },
            "type": "parcoords"
           }
          ],
          "pie": [
           {
            "automargin": true,
            "type": "pie"
           }
          ],
          "scatter": [
           {
            "fillpattern": {
             "fillmode": "overlay",
             "size": 10,
             "solidity": 0.2
            },
            "type": "scatter"
           }
          ],
          "scatter3d": [
           {
            "line": {
             "colorbar": {
              "outlinewidth": 0,
              "ticks": ""
             }
            },
            "marker": {
             "colorbar": {
              "outlinewidth": 0,
              "ticks": ""
             }
            },
            "type": "scatter3d"
           }
          ],
          "scattercarpet": [
           {
            "marker": {
             "colorbar": {
              "outlinewidth": 0,
              "ticks": ""
             }
            },
            "type": "scattercarpet"
           }
          ],
          "scattergeo": [
           {
            "marker": {
             "colorbar": {
              "outlinewidth": 0,
              "ticks": ""
             }
            },
            "type": "scattergeo"
           }
          ],
          "scattergl": [
           {
            "marker": {
             "colorbar": {
              "outlinewidth": 0,
              "ticks": ""
             }
            },
            "type": "scattergl"
           }
          ],
          "scattermapbox": [
           {
            "marker": {
             "colorbar": {
              "outlinewidth": 0,
              "ticks": ""
             }
            },
            "type": "scattermapbox"
           }
          ],
          "scatterpolar": [
           {
            "marker": {
             "colorbar": {
              "outlinewidth": 0,
              "ticks": ""
             }
            },
            "type": "scatterpolar"
           }
          ],
          "scatterpolargl": [
           {
            "marker": {
             "colorbar": {
              "outlinewidth": 0,
              "ticks": ""
             }
            },
            "type": "scatterpolargl"
           }
          ],
          "scatterternary": [
           {
            "marker": {
             "colorbar": {
              "outlinewidth": 0,
              "ticks": ""
             }
            },
            "type": "scatterternary"
           }
          ],
          "surface": [
           {
            "colorbar": {
             "outlinewidth": 0,
             "ticks": ""
            },
            "colorscale": [
             [
              0,
              "#0d0887"
             ],
             [
              0.1111111111111111,
              "#46039f"
             ],
             [
              0.2222222222222222,
              "#7201a8"
             ],
             [
              0.3333333333333333,
              "#9c179e"
             ],
             [
              0.4444444444444444,
              "#bd3786"
             ],
             [
              0.5555555555555556,
              "#d8576b"
             ],
             [
              0.6666666666666666,
              "#ed7953"
             ],
             [
              0.7777777777777778,
              "#fb9f3a"
             ],
             [
              0.8888888888888888,
              "#fdca26"
             ],
             [
              1,
              "#f0f921"
             ]
            ],
            "type": "surface"
           }
          ],
          "table": [
           {
            "cells": {
             "fill": {
              "color": "#EBF0F8"
             },
             "line": {
              "color": "white"
             }
            },
            "header": {
             "fill": {
              "color": "#C8D4E3"
             },
             "line": {
              "color": "white"
             }
            },
            "type": "table"
           }
          ]
         },
         "layout": {
          "annotationdefaults": {
           "arrowcolor": "#2a3f5f",
           "arrowhead": 0,
           "arrowwidth": 1
          },
          "autotypenumbers": "strict",
          "coloraxis": {
           "colorbar": {
            "outlinewidth": 0,
            "ticks": ""
           }
          },
          "colorscale": {
           "diverging": [
            [
             0,
             "#8e0152"
            ],
            [
             0.1,
             "#c51b7d"
            ],
            [
             0.2,
             "#de77ae"
            ],
            [
             0.3,
             "#f1b6da"
            ],
            [
             0.4,
             "#fde0ef"
            ],
            [
             0.5,
             "#f7f7f7"
            ],
            [
             0.6,
             "#e6f5d0"
            ],
            [
             0.7,
             "#b8e186"
            ],
            [
             0.8,
             "#7fbc41"
            ],
            [
             0.9,
             "#4d9221"
            ],
            [
             1,
             "#276419"
            ]
           ],
           "sequential": [
            [
             0,
             "#0d0887"
            ],
            [
             0.1111111111111111,
             "#46039f"
            ],
            [
             0.2222222222222222,
             "#7201a8"
            ],
            [
             0.3333333333333333,
             "#9c179e"
            ],
            [
             0.4444444444444444,
             "#bd3786"
            ],
            [
             0.5555555555555556,
             "#d8576b"
            ],
            [
             0.6666666666666666,
             "#ed7953"
            ],
            [
             0.7777777777777778,
             "#fb9f3a"
            ],
            [
             0.8888888888888888,
             "#fdca26"
            ],
            [
             1,
             "#f0f921"
            ]
           ],
           "sequentialminus": [
            [
             0,
             "#0d0887"
            ],
            [
             0.1111111111111111,
             "#46039f"
            ],
            [
             0.2222222222222222,
             "#7201a8"
            ],
            [
             0.3333333333333333,
             "#9c179e"
            ],
            [
             0.4444444444444444,
             "#bd3786"
            ],
            [
             0.5555555555555556,
             "#d8576b"
            ],
            [
             0.6666666666666666,
             "#ed7953"
            ],
            [
             0.7777777777777778,
             "#fb9f3a"
            ],
            [
             0.8888888888888888,
             "#fdca26"
            ],
            [
             1,
             "#f0f921"
            ]
           ]
          },
          "colorway": [
           "#636efa",
           "#EF553B",
           "#00cc96",
           "#ab63fa",
           "#FFA15A",
           "#19d3f3",
           "#FF6692",
           "#B6E880",
           "#FF97FF",
           "#FECB52"
          ],
          "font": {
           "color": "#2a3f5f"
          },
          "geo": {
           "bgcolor": "white",
           "lakecolor": "white",
           "landcolor": "#E5ECF6",
           "showlakes": true,
           "showland": true,
           "subunitcolor": "white"
          },
          "hoverlabel": {
           "align": "left"
          },
          "hovermode": "closest",
          "mapbox": {
           "style": "light"
          },
          "paper_bgcolor": "white",
          "plot_bgcolor": "#E5ECF6",
          "polar": {
           "angularaxis": {
            "gridcolor": "white",
            "linecolor": "white",
            "ticks": ""
           },
           "bgcolor": "#E5ECF6",
           "radialaxis": {
            "gridcolor": "white",
            "linecolor": "white",
            "ticks": ""
           }
          },
          "scene": {
           "xaxis": {
            "backgroundcolor": "#E5ECF6",
            "gridcolor": "white",
            "gridwidth": 2,
            "linecolor": "white",
            "showbackground": true,
            "ticks": "",
            "zerolinecolor": "white"
           },
           "yaxis": {
            "backgroundcolor": "#E5ECF6",
            "gridcolor": "white",
            "gridwidth": 2,
            "linecolor": "white",
            "showbackground": true,
            "ticks": "",
            "zerolinecolor": "white"
           },
           "zaxis": {
            "backgroundcolor": "#E5ECF6",
            "gridcolor": "white",
            "gridwidth": 2,
            "linecolor": "white",
            "showbackground": true,
            "ticks": "",
            "zerolinecolor": "white"
           }
          },
          "shapedefaults": {
           "line": {
            "color": "#2a3f5f"
           }
          },
          "ternary": {
           "aaxis": {
            "gridcolor": "white",
            "linecolor": "white",
            "ticks": ""
           },
           "baxis": {
            "gridcolor": "white",
            "linecolor": "white",
            "ticks": ""
           },
           "bgcolor": "#E5ECF6",
           "caxis": {
            "gridcolor": "white",
            "linecolor": "white",
            "ticks": ""
           }
          },
          "title": {
           "x": 0.05
          },
          "xaxis": {
           "automargin": true,
           "gridcolor": "white",
           "linecolor": "white",
           "ticks": "",
           "title": {
            "standoff": 15
           },
           "zerolinecolor": "white",
           "zerolinewidth": 2
          },
          "yaxis": {
           "automargin": true,
           "gridcolor": "white",
           "linecolor": "white",
           "ticks": "",
           "title": {
            "standoff": 15
           },
           "zerolinecolor": "white",
           "zerolinewidth": 2
          }
         }
        },
        "title": {
         "text": ""
        },
        "width": 1000,
        "xaxis": {
         "anchor": "y",
         "domain": [
          0,
          0.45
         ],
         "tickangle": -30
        },
        "xaxis2": {
         "anchor": "y2",
         "domain": [
          0.55,
          1
         ],
         "tickangle": -30
        },
        "yaxis": {
         "anchor": "x",
         "domain": [
          0,
          1
         ]
        },
        "yaxis2": {
         "anchor": "x2",
         "domain": [
          0,
          1
         ]
        }
       }
      },
      "text/html": [
       "<div>                            <div id=\"b20b2f43-1b6f-4652-a9c9-c0e023931879\" class=\"plotly-graph-div\" style=\"height:400px; width:1000px;\"></div>            <script type=\"text/javascript\">                require([\"plotly\"], function(Plotly) {                    window.PLOTLYENV=window.PLOTLYENV || {};                                    if (document.getElementById(\"b20b2f43-1b6f-4652-a9c9-c0e023931879\")) {                    Plotly.newPlot(                        \"b20b2f43-1b6f-4652-a9c9-c0e023931879\",                        [{\"error_y\":{\"array\":[0.04007029795076439,0.05320964382465537,0.06885098769501574,0.060965053068611996],\"arrayminus\":[0.044283406853528134,0.05486426912799966,0.07510130693679101,0.06691803353486325],\"symmetric\":false,\"type\":\"data\",\"visible\":true},\"line\":{\"color\":\"blue\"},\"showlegend\":false,\"x\":[\"with-oracle\",\"with-outcome-oracle\",\"with-ps-oracle\",\"without-oracle\"],\"y\":[0.27563431260882665,0.28926777470994164,0.3956769225379374,0.3770412929555245],\"type\":\"scatter\",\"xaxis\":\"x\",\"yaxis\":\"y\"},{\"error_y\":{\"array\":[0.027626802245800608,0.02840553494525544,0.03814229015633508,0.03676271148406718],\"arrayminus\":[0.02455836190355043,0.026228234849976273,0.03272719949035219,0.03289912025187558],\"symmetric\":false,\"type\":\"data\",\"visible\":true},\"line\":{\"color\":\"red\"},\"showlegend\":false,\"x\":[\"with-oracle\",\"with-outcome-oracle\",\"with-ps-oracle\",\"without-oracle\"],\"y\":[1.009027413834101,1.0076127920188584,1.040539258914613,1.0437195403967703],\"type\":\"scatter\",\"xaxis\":\"x\",\"yaxis\":\"y\"},{\"error_y\":{\"array\":[0.021266682953931054,0.018783584402468162,0.1055702027677684,0.09833904593851084],\"arrayminus\":[0.023617528447782477,0.02184520939931711,0.10183143582815446,0.09873969577239272],\"symmetric\":false,\"type\":\"data\",\"visible\":true},\"line\":{\"color\":\"blue\"},\"name\":\"MCstd\",\"showlegend\":true,\"x\":[\"with-oracle\",\"with-outcome-oracle\",\"with-ps-oracle\",\"without-oracle\"],\"y\":[0.1669824868194342,0.16929556036164914,0.7095744554374819,0.7054810864913748],\"type\":\"scatter\",\"xaxis\":\"x2\",\"yaxis\":\"y2\"},{\"error_y\":{\"array\":[0.016126285830635023,0.017009071616397642,0.04056968323969934,0.04015757834830236],\"arrayminus\":[0.016099974374188974,0.016087556838245698,0.043852853099411115,0.044446402169388666],\"symmetric\":false,\"type\":\"data\",\"visible\":true},\"line\":{\"color\":\"red\"},\"name\":\"SE\",\"showlegend\":true,\"x\":[\"with-oracle\",\"with-outcome-oracle\",\"with-ps-oracle\",\"without-oracle\"],\"y\":[0.9847301341731411,0.9849799378560068,1.6145117968321596,1.624644030064324],\"type\":\"scatter\",\"xaxis\":\"x2\",\"yaxis\":\"y2\"}],                        {\"template\":{\"data\":{\"histogram2dcontour\":[{\"type\":\"histogram2dcontour\",\"colorbar\":{\"outlinewidth\":0,\"ticks\":\"\"},\"colorscale\":[[0.0,\"#0d0887\"],[0.1111111111111111,\"#46039f\"],[0.2222222222222222,\"#7201a8\"],[0.3333333333333333,\"#9c179e\"],[0.4444444444444444,\"#bd3786\"],[0.5555555555555556,\"#d8576b\"],[0.6666666666666666,\"#ed7953\"],[0.7777777777777778,\"#fb9f3a\"],[0.8888888888888888,\"#fdca26\"],[1.0,\"#f0f921\"]]}],\"choropleth\":[{\"type\":\"choropleth\",\"colorbar\":{\"outlinewidth\":0,\"ticks\":\"\"}}],\"histogram2d\":[{\"type\":\"histogram2d\",\"colorbar\":{\"outlinewidth\":0,\"ticks\":\"\"},\"colorscale\":[[0.0,\"#0d0887\"],[0.1111111111111111,\"#46039f\"],[0.2222222222222222,\"#7201a8\"],[0.3333333333333333,\"#9c179e\"],[0.4444444444444444,\"#bd3786\"],[0.5555555555555556,\"#d8576b\"],[0.6666666666666666,\"#ed7953\"],[0.7777777777777778,\"#fb9f3a\"],[0.8888888888888888,\"#fdca26\"],[1.0,\"#f0f921\"]]}],\"heatmap\":[{\"type\":\"heatmap\",\"colorbar\":{\"outlinewidth\":0,\"ticks\":\"\"},\"colorscale\":[[0.0,\"#0d0887\"],[0.1111111111111111,\"#46039f\"],[0.2222222222222222,\"#7201a8\"],[0.3333333333333333,\"#9c179e\"],[0.4444444444444444,\"#bd3786\"],[0.5555555555555556,\"#d8576b\"],[0.6666666666666666,\"#ed7953\"],[0.7777777777777778,\"#fb9f3a\"],[0.8888888888888888,\"#fdca26\"],[1.0,\"#f0f921\"]]}],\"heatmapgl\":[{\"type\":\"heatmapgl\",\"colorbar\":{\"outlinewidth\":0,\"ticks\":\"\"},\"colorscale\":[[0.0,\"#0d0887\"],[0.1111111111111111,\"#46039f\"],[0.2222222222222222,\"#7201a8\"],[0.3333333333333333,\"#9c179e\"],[0.4444444444444444,\"#bd3786\"],[0.5555555555555556,\"#d8576b\"],[0.6666666666666666,\"#ed7953\"],[0.7777777777777778,\"#fb9f3a\"],[0.8888888888888888,\"#fdca26\"],[1.0,\"#f0f921\"]]}],\"contourcarpet\":[{\"type\":\"contourcarpet\",\"colorbar\":{\"outlinewidth\":0,\"ticks\":\"\"}}],\"contour\":[{\"type\":\"contour\",\"colorbar\":{\"outlinewidth\":0,\"ticks\":\"\"},\"colorscale\":[[0.0,\"#0d0887\"],[0.1111111111111111,\"#46039f\"],[0.2222222222222222,\"#7201a8\"],[0.3333333333333333,\"#9c179e\"],[0.4444444444444444,\"#bd3786\"],[0.5555555555555556,\"#d8576b\"],[0.6666666666666666,\"#ed7953\"],[0.7777777777777778,\"#fb9f3a\"],[0.8888888888888888,\"#fdca26\"],[1.0,\"#f0f921\"]]}],\"surface\":[{\"type\":\"surface\",\"colorbar\":{\"outlinewidth\":0,\"ticks\":\"\"},\"colorscale\":[[0.0,\"#0d0887\"],[0.1111111111111111,\"#46039f\"],[0.2222222222222222,\"#7201a8\"],[0.3333333333333333,\"#9c179e\"],[0.4444444444444444,\"#bd3786\"],[0.5555555555555556,\"#d8576b\"],[0.6666666666666666,\"#ed7953\"],[0.7777777777777778,\"#fb9f3a\"],[0.8888888888888888,\"#fdca26\"],[1.0,\"#f0f921\"]]}],\"mesh3d\":[{\"type\":\"mesh3d\",\"colorbar\":{\"outlinewidth\":0,\"ticks\":\"\"}}],\"scatter\":[{\"fillpattern\":{\"fillmode\":\"overlay\",\"size\":10,\"solidity\":0.2},\"type\":\"scatter\"}],\"parcoords\":[{\"type\":\"parcoords\",\"line\":{\"colorbar\":{\"outlinewidth\":0,\"ticks\":\"\"}}}],\"scatterpolargl\":[{\"type\":\"scatterpolargl\",\"marker\":{\"colorbar\":{\"outlinewidth\":0,\"ticks\":\"\"}}}],\"bar\":[{\"error_x\":{\"color\":\"#2a3f5f\"},\"error_y\":{\"color\":\"#2a3f5f\"},\"marker\":{\"line\":{\"color\":\"#E5ECF6\",\"width\":0.5},\"pattern\":{\"fillmode\":\"overlay\",\"size\":10,\"solidity\":0.2}},\"type\":\"bar\"}],\"scattergeo\":[{\"type\":\"scattergeo\",\"marker\":{\"colorbar\":{\"outlinewidth\":0,\"ticks\":\"\"}}}],\"scatterpolar\":[{\"type\":\"scatterpolar\",\"marker\":{\"colorbar\":{\"outlinewidth\":0,\"ticks\":\"\"}}}],\"histogram\":[{\"marker\":{\"pattern\":{\"fillmode\":\"overlay\",\"size\":10,\"solidity\":0.2}},\"type\":\"histogram\"}],\"scattergl\":[{\"type\":\"scattergl\",\"marker\":{\"colorbar\":{\"outlinewidth\":0,\"ticks\":\"\"}}}],\"scatter3d\":[{\"type\":\"scatter3d\",\"line\":{\"colorbar\":{\"outlinewidth\":0,\"ticks\":\"\"}},\"marker\":{\"colorbar\":{\"outlinewidth\":0,\"ticks\":\"\"}}}],\"scattermapbox\":[{\"type\":\"scattermapbox\",\"marker\":{\"colorbar\":{\"outlinewidth\":0,\"ticks\":\"\"}}}],\"scatterternary\":[{\"type\":\"scatterternary\",\"marker\":{\"colorbar\":{\"outlinewidth\":0,\"ticks\":\"\"}}}],\"scattercarpet\":[{\"type\":\"scattercarpet\",\"marker\":{\"colorbar\":{\"outlinewidth\":0,\"ticks\":\"\"}}}],\"carpet\":[{\"aaxis\":{\"endlinecolor\":\"#2a3f5f\",\"gridcolor\":\"white\",\"linecolor\":\"white\",\"minorgridcolor\":\"white\",\"startlinecolor\":\"#2a3f5f\"},\"baxis\":{\"endlinecolor\":\"#2a3f5f\",\"gridcolor\":\"white\",\"linecolor\":\"white\",\"minorgridcolor\":\"white\",\"startlinecolor\":\"#2a3f5f\"},\"type\":\"carpet\"}],\"table\":[{\"cells\":{\"fill\":{\"color\":\"#EBF0F8\"},\"line\":{\"color\":\"white\"}},\"header\":{\"fill\":{\"color\":\"#C8D4E3\"},\"line\":{\"color\":\"white\"}},\"type\":\"table\"}],\"barpolar\":[{\"marker\":{\"line\":{\"color\":\"#E5ECF6\",\"width\":0.5},\"pattern\":{\"fillmode\":\"overlay\",\"size\":10,\"solidity\":0.2}},\"type\":\"barpolar\"}],\"pie\":[{\"automargin\":true,\"type\":\"pie\"}]},\"layout\":{\"autotypenumbers\":\"strict\",\"colorway\":[\"#636efa\",\"#EF553B\",\"#00cc96\",\"#ab63fa\",\"#FFA15A\",\"#19d3f3\",\"#FF6692\",\"#B6E880\",\"#FF97FF\",\"#FECB52\"],\"font\":{\"color\":\"#2a3f5f\"},\"hovermode\":\"closest\",\"hoverlabel\":{\"align\":\"left\"},\"paper_bgcolor\":\"white\",\"plot_bgcolor\":\"#E5ECF6\",\"polar\":{\"bgcolor\":\"#E5ECF6\",\"angularaxis\":{\"gridcolor\":\"white\",\"linecolor\":\"white\",\"ticks\":\"\"},\"radialaxis\":{\"gridcolor\":\"white\",\"linecolor\":\"white\",\"ticks\":\"\"}},\"ternary\":{\"bgcolor\":\"#E5ECF6\",\"aaxis\":{\"gridcolor\":\"white\",\"linecolor\":\"white\",\"ticks\":\"\"},\"baxis\":{\"gridcolor\":\"white\",\"linecolor\":\"white\",\"ticks\":\"\"},\"caxis\":{\"gridcolor\":\"white\",\"linecolor\":\"white\",\"ticks\":\"\"}},\"coloraxis\":{\"colorbar\":{\"outlinewidth\":0,\"ticks\":\"\"}},\"colorscale\":{\"sequential\":[[0.0,\"#0d0887\"],[0.1111111111111111,\"#46039f\"],[0.2222222222222222,\"#7201a8\"],[0.3333333333333333,\"#9c179e\"],[0.4444444444444444,\"#bd3786\"],[0.5555555555555556,\"#d8576b\"],[0.6666666666666666,\"#ed7953\"],[0.7777777777777778,\"#fb9f3a\"],[0.8888888888888888,\"#fdca26\"],[1.0,\"#f0f921\"]],\"sequentialminus\":[[0.0,\"#0d0887\"],[0.1111111111111111,\"#46039f\"],[0.2222222222222222,\"#7201a8\"],[0.3333333333333333,\"#9c179e\"],[0.4444444444444444,\"#bd3786\"],[0.5555555555555556,\"#d8576b\"],[0.6666666666666666,\"#ed7953\"],[0.7777777777777778,\"#fb9f3a\"],[0.8888888888888888,\"#fdca26\"],[1.0,\"#f0f921\"]],\"diverging\":[[0,\"#8e0152\"],[0.1,\"#c51b7d\"],[0.2,\"#de77ae\"],[0.3,\"#f1b6da\"],[0.4,\"#fde0ef\"],[0.5,\"#f7f7f7\"],[0.6,\"#e6f5d0\"],[0.7,\"#b8e186\"],[0.8,\"#7fbc41\"],[0.9,\"#4d9221\"],[1,\"#276419\"]]},\"xaxis\":{\"gridcolor\":\"white\",\"linecolor\":\"white\",\"ticks\":\"\",\"title\":{\"standoff\":15},\"zerolinecolor\":\"white\",\"automargin\":true,\"zerolinewidth\":2},\"yaxis\":{\"gridcolor\":\"white\",\"linecolor\":\"white\",\"ticks\":\"\",\"title\":{\"standoff\":15},\"zerolinecolor\":\"white\",\"automargin\":true,\"zerolinewidth\":2},\"scene\":{\"xaxis\":{\"backgroundcolor\":\"#E5ECF6\",\"gridcolor\":\"white\",\"linecolor\":\"white\",\"showbackground\":true,\"ticks\":\"\",\"zerolinecolor\":\"white\",\"gridwidth\":2},\"yaxis\":{\"backgroundcolor\":\"#E5ECF6\",\"gridcolor\":\"white\",\"linecolor\":\"white\",\"showbackground\":true,\"ticks\":\"\",\"zerolinecolor\":\"white\",\"gridwidth\":2},\"zaxis\":{\"backgroundcolor\":\"#E5ECF6\",\"gridcolor\":\"white\",\"linecolor\":\"white\",\"showbackground\":true,\"ticks\":\"\",\"zerolinecolor\":\"white\",\"gridwidth\":2}},\"shapedefaults\":{\"line\":{\"color\":\"#2a3f5f\"}},\"annotationdefaults\":{\"arrowcolor\":\"#2a3f5f\",\"arrowhead\":0,\"arrowwidth\":1},\"geo\":{\"bgcolor\":\"white\",\"landcolor\":\"#E5ECF6\",\"subunitcolor\":\"white\",\"showland\":true,\"showlakes\":true,\"lakecolor\":\"white\"},\"title\":{\"x\":0.05},\"mapbox\":{\"style\":\"light\"}}},\"xaxis\":{\"anchor\":\"y\",\"domain\":[0.0,0.45],\"tickangle\":-30},\"yaxis\":{\"anchor\":\"x\",\"domain\":[0.0,1.0]},\"xaxis2\":{\"anchor\":\"y2\",\"domain\":[0.55,1.0],\"tickangle\":-30},\"yaxis2\":{\"anchor\":\"x2\",\"domain\":[0.0,1.0]},\"annotations\":[{\"font\":{\"size\":16},\"showarrow\":false,\"text\":\"n=750, p=32\",\"x\":0.225,\"xanchor\":\"center\",\"xref\":\"paper\",\"y\":1.0,\"yanchor\":\"bottom\",\"yref\":\"paper\"},{\"font\":{\"size\":16},\"showarrow\":false,\"text\":\"n=7500, p=300\",\"x\":0.775,\"xanchor\":\"center\",\"xref\":\"paper\",\"y\":1.0,\"yanchor\":\"bottom\",\"yref\":\"paper\"}],\"title\":{\"text\":\"\"},\"height\":400,\"width\":1000},                        {\"responsive\": true}                    ).then(function(){\n",
       "                            \n",
       "var gd = document.getElementById('b20b2f43-1b6f-4652-a9c9-c0e023931879');\n",
       "var x = new MutationObserver(function (mutations, observer) {{\n",
       "        var display = window.getComputedStyle(gd).display;\n",
       "        if (!display || display === 'none') {{\n",
       "            console.log([gd, 'removed!']);\n",
       "            Plotly.purge(gd);\n",
       "            observer.disconnect();\n",
       "        }}\n",
       "}});\n",
       "\n",
       "// Listen for the removal of the full notebook cells\n",
       "var notebookContainer = gd.closest('#notebook-container');\n",
       "if (notebookContainer) {{\n",
       "    x.observe(notebookContainer, {childList: true});\n",
       "}}\n",
       "\n",
       "// Listen for the clearing of the current output cell\n",
       "var outputEl = gd.closest('.output');\n",
       "if (outputEl) {{\n",
       "    x.observe(outputEl, {childList: true});\n",
       "}}\n",
       "\n",
       "                        })                };                });            </script>        </div>"
      ]
     },
     "metadata": {},
     "output_type": "display_data"
    }
   ],
   "source": [
    "from plotly.subplots import make_subplots\n",
    "import plotly.graph_objects as go\n",
    "\n",
    "fig = make_subplots(\n",
    "    rows=1, cols=2,\n",
    "    subplot_titles=('n=750, p=32', 'n=7500, p=300'\n",
    "                   ),\n",
    "    shared_xaxes=True,\n",
    "    vertical_spacing=0.06\n",
    ")\n",
    "\n",
    "\n",
    "\n",
    "temp1 = all_ests_CI5.copy()#[(all_ests_CI3['n']==7500)]\n",
    "temp1['MR'] = temp1['MR'].str.replace('mr_|_dNN_jNN', '', case=False, regex=True)\n",
    "temp1['MR'] = temp1['MR'].str.replace('_', '-', case=False, regex=True)\n",
    "\n",
    "\n",
    "fig.add_trace(\n",
    "    go.Scatter(\n",
    "                x=temp1[(temp1['n']==750)&(temp1['measure']=='MCstd')]['MR'],\n",
    "                y=temp1[(temp1['n']==750)&(temp1['measure']=='MCstd')][\"mr\"],\n",
    "                line_color='blue', showlegend=False,\n",
    "            error_y=dict(type='data', visible=True, \n",
    "                         symmetric=False,\n",
    "                         array=temp1[(temp1['n']==750)&(temp1['measure']=='MCstd')]['mr_upper_marginal'],\n",
    "                         arrayminus=temp1[(temp1['n']==750)&(temp1['measure']=='MCstd')]['mr_lower_marginal']\n",
    "                    )\n",
    "            ),\n",
    "    row=1, col=1)\n",
    "\n",
    "fig.add_trace(\n",
    "    go.Scatter(\n",
    "                x=temp1[(temp1['n']==750)&(temp1['measure']=='se')]['MR'],\n",
    "                y=temp1[(temp1['n']==750)&(temp1['measure']=='se')][\"mr\"],\n",
    "                line_color='red', showlegend=False, \n",
    "            error_y=dict(type='data', visible=True, \n",
    "                         symmetric=False,\n",
    "                         array=temp1[(temp1['n']==750)&(temp1['measure']=='se')]['mr_upper_marginal'],\n",
    "                         arrayminus=temp1[(temp1['n']==750)&(temp1['measure']=='se')]['mr_lower_marginal']\n",
    "                    )\n",
    "            ),\n",
    "    row=1, col=1)\n",
    "\n",
    "\n",
    "fig.add_trace(\n",
    "    go.Scatter(\n",
    "                x=temp1[(temp1['n']==7500)&(temp1['measure']=='MCstd')]['MR'],\n",
    "                y=temp1[(temp1['n']==7500)&(temp1['measure']=='MCstd')][\"mr\"],\n",
    "                line_color='blue', showlegend=True, name='MCstd',\n",
    "                error_y=dict(type='data', visible=True, \n",
    "                         symmetric=False,\n",
    "                         array=temp1[(temp1['n']==7500)&(temp1['measure']=='MCstd')]['mr_upper_marginal'],\n",
    "                         arrayminus=temp1[(temp1['n']==7500)&(temp1['measure']=='MCstd')]['mr_lower_marginal']\n",
    "                    )\n",
    "            ),\n",
    "    row=1, col=2)\n",
    "\n",
    "fig.add_trace(\n",
    "    go.Scatter(\n",
    "                x=temp1[(temp1['n']==7500)&(temp1['measure']=='se')]['MR'],\n",
    "                y=temp1[(temp1['n']==7500)&(temp1['measure']=='se')][\"mr\"],\n",
    "                line_color='red', showlegend=True, name='SE',\n",
    "            error_y=dict(type='data', visible=True, \n",
    "                         symmetric=False,\n",
    "                         array=temp1[(temp1['n']==7500)&(temp1['measure']=='se')]['mr_upper_marginal'],\n",
    "                         arrayminus=temp1[(temp1['n']==7500)&(temp1['measure']=='se')]['mr_lower_marginal']\n",
    "                    )\n",
    "            ),\n",
    "    row=1, col=2)\n",
    "\n",
    "\n",
    "fig.update_layout(height=400, width=1000,\n",
    "                  title_text=\"\",\n",
    "                 )\n",
    "\n",
    "# fig.update_yaxes(tickvals=[c for c in np.arange(0., 3, .3)],range=[0, 1.2])\n",
    "fig.update_xaxes(\n",
    "#     tickvals=['With PS & outcome oracle', 'With outcome oracle', 'With PS oracle', 'Without oracle',],\n",
    "                  tickangle = 330,\n",
    "                )\n",
    "\n",
    "# fig.write_image(\"/home/mr/Pictures/sims/variance-jan2023-jnn-dnn-r0.25.pdf\")\n",
    "\n",
    "fig.show()"
   ]
  },
  {
   "cell_type": "code",
   "execution_count": null,
   "metadata": {},
   "outputs": [],
   "source": []
  },
  {
   "cell_type": "code",
   "execution_count": null,
   "metadata": {},
   "outputs": [],
   "source": []
  },
  {
   "cell_type": "code",
   "execution_count": null,
   "metadata": {},
   "outputs": [],
   "source": []
  },
  {
   "cell_type": "code",
   "execution_count": 32,
   "metadata": {
    "scrolled": true
   },
   "outputs": [
    {
     "data": {
      "text/html": [
       "<div>\n",
       "<style scoped>\n",
       "    .dataframe tbody tr th:only-of-type {\n",
       "        vertical-align: middle;\n",
       "    }\n",
       "\n",
       "    .dataframe tbody tr th {\n",
       "        vertical-align: top;\n",
       "    }\n",
       "\n",
       "    .dataframe thead th {\n",
       "        text-align: right;\n",
       "    }\n",
       "</style>\n",
       "<table border=\"1\" class=\"dataframe\">\n",
       "  <thead>\n",
       "    <tr style=\"text-align: right;\">\n",
       "      <th></th>\n",
       "      <th>Car</th>\n",
       "      <th>Base price</th>\n",
       "      <th>price+tax</th>\n",
       "      <th>Million Toman</th>\n",
       "      <th>Fuel KM/hr</th>\n",
       "    </tr>\n",
       "  </thead>\n",
       "  <tbody>\n",
       "    <tr>\n",
       "      <th>0</th>\n",
       "      <td>2022 Chevrolet Spark</td>\n",
       "      <td>12198</td>\n",
       "      <td>13783</td>\n",
       "      <td>454</td>\n",
       "      <td>7.2</td>\n",
       "    </tr>\n",
       "    <tr>\n",
       "      <th>1</th>\n",
       "      <td>2022 Mitsubishi Mirage</td>\n",
       "      <td>15673</td>\n",
       "      <td>17710</td>\n",
       "      <td>584</td>\n",
       "      <td>6.5</td>\n",
       "    </tr>\n",
       "    <tr>\n",
       "      <th>2</th>\n",
       "      <td>2022 Nissan Versa</td>\n",
       "      <td>18608</td>\n",
       "      <td>21027</td>\n",
       "      <td>693</td>\n",
       "      <td>7.7</td>\n",
       "    </tr>\n",
       "    <tr>\n",
       "      <th>3</th>\n",
       "      <td>2022 Kia Rio 5-Door</td>\n",
       "      <td>19095</td>\n",
       "      <td>21577</td>\n",
       "      <td>712</td>\n",
       "      <td>7.0</td>\n",
       "    </tr>\n",
       "    <tr>\n",
       "      <th>4</th>\n",
       "      <td>2022 Hyundai Elantra</td>\n",
       "      <td>19824</td>\n",
       "      <td>22401</td>\n",
       "      <td>739</td>\n",
       "      <td>7.8</td>\n",
       "    </tr>\n",
       "    <tr>\n",
       "      <th>5</th>\n",
       "      <td>2022 Kia Forte</td>\n",
       "      <td>19995</td>\n",
       "      <td>22594</td>\n",
       "      <td>745</td>\n",
       "      <td>7.6</td>\n",
       "    </tr>\n",
       "    <tr>\n",
       "      <th>6</th>\n",
       "      <td>2022 Hyundai Venue</td>\n",
       "      <td>20124</td>\n",
       "      <td>22740</td>\n",
       "      <td>750</td>\n",
       "      <td>7.5</td>\n",
       "    </tr>\n",
       "    <tr>\n",
       "      <th>7</th>\n",
       "      <td>2022 Toyota Corolla Sedan</td>\n",
       "      <td>21170</td>\n",
       "      <td>23922</td>\n",
       "      <td>789</td>\n",
       "      <td>7.1</td>\n",
       "    </tr>\n",
       "    <tr>\n",
       "      <th>8</th>\n",
       "      <td>2022 Nissan Sentra</td>\n",
       "      <td>21308</td>\n",
       "      <td>24078</td>\n",
       "      <td>794</td>\n",
       "      <td>7.1</td>\n",
       "    </tr>\n",
       "    <tr>\n",
       "      <th>9</th>\n",
       "      <td>2022 Nissan Kicks</td>\n",
       "      <td>21928</td>\n",
       "      <td>24778</td>\n",
       "      <td>817</td>\n",
       "      <td>7.2</td>\n",
       "    </tr>\n",
       "  </tbody>\n",
       "</table>\n",
       "</div>"
      ],
      "text/plain": [
       "                         Car  Base price  price+tax  Million Toman Fuel KM/hr\n",
       "0  2022 Chevrolet Spark       12198       13783      454            7.2      \n",
       "1  2022 Mitsubishi Mirage     15673       17710      584            6.5      \n",
       "2  2022 Nissan Versa          18608       21027      693            7.7      \n",
       "3  2022 Kia Rio 5-Door        19095       21577      712            7.0      \n",
       "4  2022 Hyundai Elantra       19824       22401      739            7.8      \n",
       "5  2022 Kia Forte             19995       22594      745            7.6      \n",
       "6  2022 Hyundai Venue         20124       22740      750            7.5      \n",
       "7  2022 Toyota Corolla Sedan  21170       23922      789            7.1      \n",
       "8  2022 Nissan Sentra         21308       24078      794            7.1      \n",
       "9  2022 Nissan Kicks          21928       24778      817            7.2      "
      ]
     },
     "execution_count": 32,
     "metadata": {},
     "output_type": "execute_result"
    }
   ],
   "source": [
    "def car_price(lst, names, kms):\n",
    "    \n",
    "    lst = [int(re.sub('\\$|,', '', l)) for l in lst]\n",
    "    \n",
    "    out = [(c, l, int(l*1.13), int(l*1.13*33000/1000000), k) for c, l, k in zip(names, lst, kms)]\n",
    "    \n",
    "    out = pd.DataFrame(out, columns=['Car', 'Base price', 'price+tax', 'Million Toman', 'Fuel KM/hr'])\n",
    "    \n",
    "    return out\n",
    "\n",
    "car_price(lst=['$12,198',\n",
    "            '$15,673',\n",
    "            '$18,608',\n",
    "            '$19,095',\n",
    "            '$19,824',\n",
    "            '$19,995',\n",
    "            '$20,124',\n",
    "            '$21,170',\n",
    "            '$21,308',\n",
    "            '$21,928',\n",
    "          ], names=[\n",
    "            '2022 Chevrolet Spark',\n",
    "            '2022 Mitsubishi Mirage',\n",
    "            '2022 Nissan Versa',\n",
    "            '2022 Kia Rio 5-Door',\n",
    "            '2022 Hyundai Elantra',\n",
    "            '2022 Kia Forte',\n",
    "            '2022 Hyundai Venue',\n",
    "            '2022 Toyota Corolla Sedan',\n",
    "            '2022 Nissan Sentra',\n",
    "            '2022 Nissan Kicks',\n",
    "], kms = ['7.2',\n",
    "            '6.5',\n",
    "            '7.7',\n",
    "            '7.0',\n",
    "            '7.8',\n",
    "            '7.6',\n",
    "            '7.5',\n",
    "            '7.1',\n",
    "            '7.1',\n",
    "            '7.2',]\n",
    "         \n",
    "         )"
   ]
  },
  {
   "cell_type": "code",
   "execution_count": null,
   "metadata": {},
   "outputs": [],
   "source": []
  },
  {
   "cell_type": "code",
   "execution_count": null,
   "metadata": {},
   "outputs": [],
   "source": []
  },
  {
   "cell_type": "code",
   "execution_count": null,
   "metadata": {},
   "outputs": [],
   "source": []
  },
  {
   "cell_type": "code",
   "execution_count": null,
   "metadata": {},
   "outputs": [],
   "source": []
  },
  {
   "cell_type": "code",
   "execution_count": null,
   "metadata": {},
   "outputs": [],
   "source": []
  },
  {
   "cell_type": "code",
   "execution_count": null,
   "metadata": {},
   "outputs": [],
   "source": []
  },
  {
   "cell_type": "code",
   "execution_count": null,
   "metadata": {},
   "outputs": [],
   "source": []
  },
  {
   "cell_type": "code",
   "execution_count": null,
   "metadata": {},
   "outputs": [],
   "source": []
  },
  {
   "cell_type": "code",
   "execution_count": null,
   "metadata": {},
   "outputs": [],
   "source": []
  },
  {
   "cell_type": "code",
   "execution_count": null,
   "metadata": {},
   "outputs": [],
   "source": []
  },
  {
   "cell_type": "code",
   "execution_count": null,
   "metadata": {},
   "outputs": [],
   "source": []
  },
  {
   "cell_type": "code",
   "execution_count": null,
   "metadata": {},
   "outputs": [],
   "source": []
  },
  {
   "cell_type": "code",
   "execution_count": null,
   "metadata": {},
   "outputs": [],
   "source": []
  },
  {
   "cell_type": "code",
   "execution_count": null,
   "metadata": {},
   "outputs": [],
   "source": []
  },
  {
   "cell_type": "code",
   "execution_count": null,
   "metadata": {},
   "outputs": [],
   "source": []
  },
  {
   "cell_type": "code",
   "execution_count": 2,
   "metadata": {},
   "outputs": [],
   "source": [
    "import numpy as np\n",
    "from scipy.stats import multivariate_normal, norm"
   ]
  },
  {
   "cell_type": "code",
   "execution_count": 3,
   "metadata": {},
   "outputs": [],
   "source": [
    "def AR_corr(dim, rho):\n",
    "\n",
    "    d = np.identity(dim)\n",
    "    for i in range(dim-1):\n",
    "        for j in range(i+1, dim):\n",
    "            d[i, j] = rho**(np.abs(i-j))\n",
    "            d[j, i] = d[i, j]\n",
    "    return(d)"
   ]
  },
  {
   "cell_type": "code",
   "execution_count": 4,
   "metadata": {},
   "outputs": [],
   "source": [
    "def similate_x(n, p, rho, mean, sd, seed):\n",
    "    \n",
    "    np.random.seed(seed)\n",
    "    \n",
    "    cov = (sd ** 2) * AR_corr(p, rho = rho)\n",
    "    cov_sqrt = np.linalg.cholesky(cov)\n",
    "    means = np.repeat(mean, p)\n",
    "    \n",
    "    x = means + np.dot(np.random.normal(0., .5, size = (n, p)), cov_sqrt)\n",
    "    \n",
    "    return x"
   ]
  },
  {
   "cell_type": "code",
   "execution_count": null,
   "metadata": {},
   "outputs": [],
   "source": []
  },
  {
   "cell_type": "code",
   "execution_count": 5,
   "metadata": {},
   "outputs": [],
   "source": [
    "def simulate_y(n, p, rho, mean, sd, mu, sigma, seed):\n",
    "    \n",
    "    np.random.seed(seed)\n",
    "        \n",
    "    x = similate_x(n, p, rho, mean, sd, seed)\n",
    "    \n",
    "    xbeta = np.dot(x, beta1_v) #np.repeat(mu, n).reshape(-1, 1) + np.dot(x, beta) \n",
    "    xalpha = np.dot(x, beta2_v) #np.repeat(mu, n).reshape(-1, 1) + np.dot(x, beta) \n",
    "    \n",
    "    pr = 1/(1+np.exp(-xalpha))\n",
    "    A = np.random.binomial(1, pr, size=(n, 1))\n",
    "#     print(xbeta.shape, xalpha.shape, pr.shape, A.shape)\n",
    "    \n",
    "    e = sigma * np.random.normal(size=(n, 1))\n",
    "    y = -.2 + mu * A + xbeta + e\n",
    "    \n",
    "    y1 = -.2 + mu + xbeta + e\n",
    "    y0 = -.2 + 0  + xbeta + e\n",
    "        \n",
    "    true_effect = mu\n",
    "    \n",
    "    return true_effect, y1, y0, A, y, x, pr"
   ]
  },
  {
   "cell_type": "code",
   "execution_count": 7,
   "metadata": {
    "scrolled": true
   },
   "outputs": [
    {
     "data": {
      "text/plain": [
       "(100, 6)"
      ]
     },
     "execution_count": 7,
     "metadata": {},
     "output_type": "execute_result"
    }
   ],
   "source": [
    "n = 1000\n",
    "p = 20\n",
    "rho = .5\n",
    "mean_x = 0\n",
    "sd_x = 1\n",
    "mu_y = -0.5\n",
    "sigma_y = .4\n",
    "\n",
    "beta1_v = np.random.uniform(0, 1, size=(p,1))\n",
    "beta2_v = np.random.uniform(0, 1, size=(p,1))\n",
    "\n",
    "results = []\n",
    "\n",
    "for i in range(100):\n",
    "    \n",
    "    true_effect, y1, y0, A, observed_y, W, g = simulate_y(n, p, rho, mean_x, sd_x, mu_y, sigma_y, seed=i*1000)\n",
    "\n",
    "    n1 = A.sum()\n",
    "    n = A.shape[0]\n",
    "    n0 = n - n1\n",
    "    \n",
    "    obs_y1 = observed_y[A.flatten()==1] \n",
    "    obs_y0 = observed_y[A.flatten()==0]\n",
    "    \n",
    "    ####     Method 1: direct\n",
    "    joint_W = multivariate_normal.pdf(W, mean=np.zeros((p, )), cov=np.cov(W.T), allow_singular=False)\n",
    "    marginal_dist_y1 = norm.pdf(y1, loc=y1.mean(), scale=y1.std())\n",
    "    marginal_dist_y0 = norm.pdf(y0, loc=y0.mean(), scale=y0.std())\n",
    "    \n",
    "    u = marginal_dist_y1 * joint_W.reshape(-1, 1) # P(Y^1, W=w)\n",
    "    u = u/u.sum()\n",
    "    v = marginal_dist_y0 * joint_W.reshape(-1, 1) # P(Y^0, W=w)\n",
    "    v = v/v.sum()\n",
    "    \n",
    "    u = u[A.flatten()==1]\n",
    "    v = v[A.flatten()==0]\n",
    "#     u = np.ones((A.sum(), 1))/n1\n",
    "#     v = np.ones(((1-A).sum(), 1))/n0\n",
    "\n",
    "    beta1 = np.dot(u.T, obs_y1)[0, 0]\n",
    "    beta0 = np.dot(v.T, obs_y0)[0, 0]\n",
    "    \n",
    "###################################################\n",
    "\n",
    "####     Method 2: IPW\n",
    "#     obs_y1 = observed_y[A==1] # P(Y|W, A=1)\n",
    "#     obs_y0 = observed_y[A==0]\n",
    "#     u = 1/n/g[A==1] # IPW\n",
    "#     v = 1/n/(1-g[A==0]) # IPW\n",
    "#     beta1 = np.dot(u.T, obs_y1)#[0, 0]\n",
    "#     beta0 = np.dot(v.T, obs_y0)#[0, 0]\n",
    "###################################################\n",
    "    true_beta = true_effect\n",
    "        \n",
    "    MR = beta1 - beta0\n",
    "    asym_var = (((u * (obs_y1 - beta1))**2).sum() + ((v * (obs_y0 - beta0) )**2).sum())\n",
    "    asym_std = np.sqrt(asym_var)\n",
    "    \n",
    "    asym_std_scaled = 2 * np.sqrt(p/n) * asym_std\n",
    "    \n",
    "    asym_std_alternative = y1.std()\n",
    "    \n",
    "    results += [[true_beta, MR, asym_std, asym_std_scaled, asym_std_alternative]]\n",
    "    \n",
    "results_df = pd.DataFrame(results, columns = ['true_beta', 'MR', 'asym_std', 'asym_std_scaled', 'Wang std'])\n",
    "results_df['MCstd'] = results_df['MR'].std()\n",
    "# results_df['MCmean'] = results_df['MR'].mean()\n",
    "results_df = results_df[['true_beta', 'MR', 'MCstd', 'asym_std', 'asym_std_scaled', 'Wang std']]\n",
    "results_df.shape"
   ]
  },
  {
   "cell_type": "code",
   "execution_count": 8,
   "metadata": {},
   "outputs": [
    {
     "data": {
      "text/html": [
       "<div>\n",
       "<style scoped>\n",
       "    .dataframe tbody tr th:only-of-type {\n",
       "        vertical-align: middle;\n",
       "    }\n",
       "\n",
       "    .dataframe tbody tr th {\n",
       "        vertical-align: top;\n",
       "    }\n",
       "\n",
       "    .dataframe thead th {\n",
       "        text-align: right;\n",
       "    }\n",
       "</style>\n",
       "<table border=\"1\" class=\"dataframe\">\n",
       "  <thead>\n",
       "    <tr style=\"text-align: right;\">\n",
       "      <th></th>\n",
       "      <th>true_beta</th>\n",
       "      <th>MR</th>\n",
       "      <th>MCstd</th>\n",
       "      <th>asym_std</th>\n",
       "      <th>asym_std_scaled</th>\n",
       "      <th>Wang std</th>\n",
       "    </tr>\n",
       "  </thead>\n",
       "  <tbody>\n",
       "    <tr>\n",
       "      <th>0</th>\n",
       "      <td>-0.5</td>\n",
       "      <td>0.258762</td>\n",
       "      <td>0.140398</td>\n",
       "      <td>0.178130</td>\n",
       "      <td>0.050383</td>\n",
       "      <td>2.119759</td>\n",
       "    </tr>\n",
       "    <tr>\n",
       "      <th>1</th>\n",
       "      <td>-0.5</td>\n",
       "      <td>0.265619</td>\n",
       "      <td>0.140398</td>\n",
       "      <td>0.098351</td>\n",
       "      <td>0.027818</td>\n",
       "      <td>2.173008</td>\n",
       "    </tr>\n",
       "    <tr>\n",
       "      <th>2</th>\n",
       "      <td>-0.5</td>\n",
       "      <td>0.299558</td>\n",
       "      <td>0.140398</td>\n",
       "      <td>0.115930</td>\n",
       "      <td>0.032790</td>\n",
       "      <td>2.205483</td>\n",
       "    </tr>\n",
       "    <tr>\n",
       "      <th>3</th>\n",
       "      <td>-0.5</td>\n",
       "      <td>-0.077857</td>\n",
       "      <td>0.140398</td>\n",
       "      <td>0.137855</td>\n",
       "      <td>0.038991</td>\n",
       "      <td>2.067053</td>\n",
       "    </tr>\n",
       "    <tr>\n",
       "      <th>4</th>\n",
       "      <td>-0.5</td>\n",
       "      <td>0.227244</td>\n",
       "      <td>0.140398</td>\n",
       "      <td>0.138591</td>\n",
       "      <td>0.039200</td>\n",
       "      <td>2.101156</td>\n",
       "    </tr>\n",
       "  </tbody>\n",
       "</table>\n",
       "</div>"
      ],
      "text/plain": [
       "   true_beta        MR     MCstd  asym_std  asym_std_scaled  Wang std\n",
       "0 -0.5        0.258762  0.140398  0.178130  0.050383         2.119759\n",
       "1 -0.5        0.265619  0.140398  0.098351  0.027818         2.173008\n",
       "2 -0.5        0.299558  0.140398  0.115930  0.032790         2.205483\n",
       "3 -0.5       -0.077857  0.140398  0.137855  0.038991         2.067053\n",
       "4 -0.5        0.227244  0.140398  0.138591  0.039200         2.101156"
      ]
     },
     "execution_count": 8,
     "metadata": {},
     "output_type": "execute_result"
    }
   ],
   "source": [
    "results_df.head()"
   ]
  },
  {
   "cell_type": "code",
   "execution_count": 343,
   "metadata": {
    "scrolled": false
   },
   "outputs": [
    {
     "data": {
      "application/vnd.plotly.v1+json": {
       "config": {
        "plotlyServerURL": "https://plot.ly"
       },
       "data": [
        {
         "line": {
          "color": "black"
         },
         "name": "True MR",
         "showlegend": true,
         "type": "scatter",
         "x": [
          "MR"
         ],
         "xaxis": "x",
         "y": [
          -0.5,
          -0.5,
          -0.5,
          -0.5,
          -0.5,
          -0.5,
          -0.5,
          -0.5,
          -0.5,
          -0.5,
          -0.5,
          -0.5,
          -0.5,
          -0.5,
          -0.5,
          -0.5,
          -0.5,
          -0.5,
          -0.5,
          -0.5,
          -0.5,
          -0.5,
          -0.5,
          -0.5,
          -0.5,
          -0.5,
          -0.5,
          -0.5,
          -0.5,
          -0.5,
          -0.5,
          -0.5,
          -0.5,
          -0.5,
          -0.5,
          -0.5,
          -0.5,
          -0.5,
          -0.5,
          -0.5,
          -0.5,
          -0.5,
          -0.5,
          -0.5,
          -0.5,
          -0.5,
          -0.5,
          -0.5,
          -0.5,
          -0.5,
          -0.5,
          -0.5,
          -0.5,
          -0.5,
          -0.5,
          -0.5,
          -0.5,
          -0.5,
          -0.5,
          -0.5,
          -0.5,
          -0.5,
          -0.5,
          -0.5,
          -0.5,
          -0.5,
          -0.5,
          -0.5,
          -0.5,
          -0.5,
          -0.5,
          -0.5,
          -0.5,
          -0.5,
          -0.5,
          -0.5,
          -0.5,
          -0.5,
          -0.5,
          -0.5,
          -0.5,
          -0.5,
          -0.5,
          -0.5,
          -0.5,
          -0.5,
          -0.5,
          -0.5,
          -0.5,
          -0.5,
          -0.5,
          -0.5,
          -0.5,
          -0.5,
          -0.5,
          -0.5,
          -0.5,
          -0.5,
          -0.5,
          -0.5
         ],
         "yaxis": "y"
        },
        {
         "marker": {
          "color": "cyan"
         },
         "name": "MR",
         "showlegend": true,
         "type": "box",
         "xaxis": "x",
         "y": [
          2.823020937893765,
          -18.89897956302848,
          1.1828942437298866,
          3.190393337430321,
          2.6202536435610706,
          3.3333758763519015,
          2.379485412026806,
          3.902941762416347,
          2.572578241947981,
          3.3183090641039854,
          2.27773716615957,
          -1.7292828458183345,
          3.2944293318394946,
          2.973438441402327,
          3.4467036790003256,
          1.5424217108734737,
          2.038899894855533,
          2.119610986683971,
          3.394402815810105,
          2.160583597294395,
          -2.6709564406502015,
          2.8781392502922447,
          3.340724526169498,
          2.3851328552217144,
          2.1971573375330964,
          1.9046408794860556,
          3.146500744944191,
          0.9695135540050952,
          3.8599169389179933,
          2.5347365751367037,
          2.930883342418224,
          0.1302181505188736,
          1.0268212011928468,
          3.1044295394672363,
          3.0989012381672163,
          2.3005494406911304,
          -7.776483883038555,
          3.2958006959707014,
          3.3643335522968627,
          3.3568220233279913,
          3.442140559257682,
          2.830104914437843,
          3.1298034698806347,
          2.557921812716096,
          3.6178744834620433,
          -6.160847521503489,
          0.9850210180220715,
          1.3603141135276597,
          2.0706033362261063,
          3.250552401668275,
          -3.070003954823609,
          3.6275133950244465,
          3.5019431861510752,
          1.024101914483742,
          3.7454005307545533,
          2.6337944951315544,
          3.0973739716540063,
          3.537670488971947,
          3.2343161782323104,
          2.8117979495928855,
          1.006772229948453,
          -1.690728623846762,
          0.47986609951261866,
          3.186728348184452,
          0.8075515566633797,
          2.283747345036256,
          2.4405727977887306,
          3.156991964405447,
          1.9221913311304053,
          3.601153164723262,
          -142.9881530247637,
          2.8331025833773227,
          2.7414650996787024,
          3.514128350769454,
          -1.4403804684840522,
          3.9389926347085495,
          -2.9079517871805987,
          1.8328429922143326,
          3.4454792252818356,
          3.610560487009254,
          2.488392159623762,
          0.8649862515229132,
          2.861581753107825,
          3.7151675522466787,
          0.7413178261454414,
          3.1756084316495006,
          -2.4750840935107297,
          3.980925762175621,
          3.815127816866167,
          2.9174956289747564,
          3.3682992399091427,
          0.6722995144669418,
          2.7419277524518093,
          3.4586745681400677,
          0.7924532314633419,
          1.7601322150435559,
          3.0295019560526004,
          2.199278895912272,
          3.239489380710089,
          1.4586784439772735
         ],
         "yaxis": "y"
        },
        {
         "line": {
          "color": "red"
         },
         "name": "MC std",
         "showlegend": true,
         "type": "scatter",
         "x": [
          "asymptotic std"
         ],
         "xaxis": "x2",
         "y": [
          14.7755282025068
         ],
         "yaxis": "y2"
        },
        {
         "marker": {
          "color": "royalblue"
         },
         "name": "asymptotic std",
         "showlegend": true,
         "type": "box",
         "xaxis": "x2",
         "y": [
          0.8494997245786619,
          11.363692893151697,
          2.3869921217481656,
          0.867446047724746,
          0.8292231687604914,
          0.5618315652962547,
          1.1506325194747844,
          0.3094514647240648,
          0.6698436742486613,
          0.3853832867748441,
          1.6840996803227366,
          2.0449994994198786,
          0.5431937391116077,
          1.2320284953579081,
          0.40339984654123623,
          1.0982938114513834,
          1.5020081816524438,
          1.560620688105503,
          0.8049347954881889,
          1.3412531728933266,
          1.0853980183107963,
          0.7235351003997611,
          0.6585194336263948,
          1.0306248527432609,
          0.7772147088189008,
          1.0797244472155454,
          0.446024259352973,
          2.0759677710648092,
          0.44801063933435725,
          0.7346651636966298,
          0.7792101180769401,
          1.8051751472617978,
          1.7375712600792295,
          0.5042631407807181,
          0.6748745166448772,
          0.9760047642416898,
          2.964704910926667,
          0.7171542525360866,
          0.5140778941586114,
          0.4613399467640331,
          0.35036533773322576,
          0.7216402526650542,
          0.46632335023906857,
          1.0894093214449105,
          0.3426046165912949,
          1.9026712110528579,
          2.3459422531726015,
          1.5536449402301897,
          1.2134461338057876,
          0.7928520290240464,
          1.7117884669262293,
          0.40707728645349267,
          0.42233961456327734,
          1.7468984616993137,
          0.3498347470279515,
          0.5612864359426597,
          0.452988273697903,
          0.4999090844857378,
          0.7889648024669422,
          1.1148343041383397,
          1.9553866136614995,
          1.933203303068734,
          1.4783987210058371,
          0.9406046074793709,
          1.4657739986977232,
          0.8816678788092243,
          1.149493626028242,
          0.45905936929881713,
          1.8641800331841758,
          0.39551890421576225,
          1294.8612746355846,
          0.6403596800795051,
          0.6317793970332771,
          0.4997394239446366,
          2.683021820697569,
          0.33387471965992255,
          2.6858417834881023,
          1.2061572858816572,
          0.4333858918744072,
          0.458435479777607,
          0.7700169933637977,
          2.4543434467813676,
          1.1631460666038564,
          0.3529690326603759,
          1.2692182615209988,
          0.5666490667611768,
          2.93200811080448,
          0.315609168665977,
          0.43187021464503006,
          0.6925635286251011,
          0.5358935396122382,
          1.7984681567703562,
          0.606788866743467,
          0.5166607931979513,
          1.809873812131622,
          1.134435576392087,
          0.6560272140798274,
          1.4622681658108592,
          0.4384198659544192,
          1.2624045499703573
         ],
         "yaxis": "y2"
        }
       ],
       "layout": {
        "height": 400,
        "template": {
         "data": {
          "bar": [
           {
            "error_x": {
             "color": "#2a3f5f"
            },
            "error_y": {
             "color": "#2a3f5f"
            },
            "marker": {
             "line": {
              "color": "#E5ECF6",
              "width": 0.5
             },
             "pattern": {
              "fillmode": "overlay",
              "size": 10,
              "solidity": 0.2
             }
            },
            "type": "bar"
           }
          ],
          "barpolar": [
           {
            "marker": {
             "line": {
              "color": "#E5ECF6",
              "width": 0.5
             },
             "pattern": {
              "fillmode": "overlay",
              "size": 10,
              "solidity": 0.2
             }
            },
            "type": "barpolar"
           }
          ],
          "carpet": [
           {
            "aaxis": {
             "endlinecolor": "#2a3f5f",
             "gridcolor": "white",
             "linecolor": "white",
             "minorgridcolor": "white",
             "startlinecolor": "#2a3f5f"
            },
            "baxis": {
             "endlinecolor": "#2a3f5f",
             "gridcolor": "white",
             "linecolor": "white",
             "minorgridcolor": "white",
             "startlinecolor": "#2a3f5f"
            },
            "type": "carpet"
           }
          ],
          "choropleth": [
           {
            "colorbar": {
             "outlinewidth": 0,
             "ticks": ""
            },
            "type": "choropleth"
           }
          ],
          "contour": [
           {
            "colorbar": {
             "outlinewidth": 0,
             "ticks": ""
            },
            "colorscale": [
             [
              0,
              "#0d0887"
             ],
             [
              0.1111111111111111,
              "#46039f"
             ],
             [
              0.2222222222222222,
              "#7201a8"
             ],
             [
              0.3333333333333333,
              "#9c179e"
             ],
             [
              0.4444444444444444,
              "#bd3786"
             ],
             [
              0.5555555555555556,
              "#d8576b"
             ],
             [
              0.6666666666666666,
              "#ed7953"
             ],
             [
              0.7777777777777778,
              "#fb9f3a"
             ],
             [
              0.8888888888888888,
              "#fdca26"
             ],
             [
              1,
              "#f0f921"
             ]
            ],
            "type": "contour"
           }
          ],
          "contourcarpet": [
           {
            "colorbar": {
             "outlinewidth": 0,
             "ticks": ""
            },
            "type": "contourcarpet"
           }
          ],
          "heatmap": [
           {
            "colorbar": {
             "outlinewidth": 0,
             "ticks": ""
            },
            "colorscale": [
             [
              0,
              "#0d0887"
             ],
             [
              0.1111111111111111,
              "#46039f"
             ],
             [
              0.2222222222222222,
              "#7201a8"
             ],
             [
              0.3333333333333333,
              "#9c179e"
             ],
             [
              0.4444444444444444,
              "#bd3786"
             ],
             [
              0.5555555555555556,
              "#d8576b"
             ],
             [
              0.6666666666666666,
              "#ed7953"
             ],
             [
              0.7777777777777778,
              "#fb9f3a"
             ],
             [
              0.8888888888888888,
              "#fdca26"
             ],
             [
              1,
              "#f0f921"
             ]
            ],
            "type": "heatmap"
           }
          ],
          "heatmapgl": [
           {
            "colorbar": {
             "outlinewidth": 0,
             "ticks": ""
            },
            "colorscale": [
             [
              0,
              "#0d0887"
             ],
             [
              0.1111111111111111,
              "#46039f"
             ],
             [
              0.2222222222222222,
              "#7201a8"
             ],
             [
              0.3333333333333333,
              "#9c179e"
             ],
             [
              0.4444444444444444,
              "#bd3786"
             ],
             [
              0.5555555555555556,
              "#d8576b"
             ],
             [
              0.6666666666666666,
              "#ed7953"
             ],
             [
              0.7777777777777778,
              "#fb9f3a"
             ],
             [
              0.8888888888888888,
              "#fdca26"
             ],
             [
              1,
              "#f0f921"
             ]
            ],
            "type": "heatmapgl"
           }
          ],
          "histogram": [
           {
            "marker": {
             "pattern": {
              "fillmode": "overlay",
              "size": 10,
              "solidity": 0.2
             }
            },
            "type": "histogram"
           }
          ],
          "histogram2d": [
           {
            "colorbar": {
             "outlinewidth": 0,
             "ticks": ""
            },
            "colorscale": [
             [
              0,
              "#0d0887"
             ],
             [
              0.1111111111111111,
              "#46039f"
             ],
             [
              0.2222222222222222,
              "#7201a8"
             ],
             [
              0.3333333333333333,
              "#9c179e"
             ],
             [
              0.4444444444444444,
              "#bd3786"
             ],
             [
              0.5555555555555556,
              "#d8576b"
             ],
             [
              0.6666666666666666,
              "#ed7953"
             ],
             [
              0.7777777777777778,
              "#fb9f3a"
             ],
             [
              0.8888888888888888,
              "#fdca26"
             ],
             [
              1,
              "#f0f921"
             ]
            ],
            "type": "histogram2d"
           }
          ],
          "histogram2dcontour": [
           {
            "colorbar": {
             "outlinewidth": 0,
             "ticks": ""
            },
            "colorscale": [
             [
              0,
              "#0d0887"
             ],
             [
              0.1111111111111111,
              "#46039f"
             ],
             [
              0.2222222222222222,
              "#7201a8"
             ],
             [
              0.3333333333333333,
              "#9c179e"
             ],
             [
              0.4444444444444444,
              "#bd3786"
             ],
             [
              0.5555555555555556,
              "#d8576b"
             ],
             [
              0.6666666666666666,
              "#ed7953"
             ],
             [
              0.7777777777777778,
              "#fb9f3a"
             ],
             [
              0.8888888888888888,
              "#fdca26"
             ],
             [
              1,
              "#f0f921"
             ]
            ],
            "type": "histogram2dcontour"
           }
          ],
          "mesh3d": [
           {
            "colorbar": {
             "outlinewidth": 0,
             "ticks": ""
            },
            "type": "mesh3d"
           }
          ],
          "parcoords": [
           {
            "line": {
             "colorbar": {
              "outlinewidth": 0,
              "ticks": ""
             }
            },
            "type": "parcoords"
           }
          ],
          "pie": [
           {
            "automargin": true,
            "type": "pie"
           }
          ],
          "scatter": [
           {
            "fillpattern": {
             "fillmode": "overlay",
             "size": 10,
             "solidity": 0.2
            },
            "type": "scatter"
           }
          ],
          "scatter3d": [
           {
            "line": {
             "colorbar": {
              "outlinewidth": 0,
              "ticks": ""
             }
            },
            "marker": {
             "colorbar": {
              "outlinewidth": 0,
              "ticks": ""
             }
            },
            "type": "scatter3d"
           }
          ],
          "scattercarpet": [
           {
            "marker": {
             "colorbar": {
              "outlinewidth": 0,
              "ticks": ""
             }
            },
            "type": "scattercarpet"
           }
          ],
          "scattergeo": [
           {
            "marker": {
             "colorbar": {
              "outlinewidth": 0,
              "ticks": ""
             }
            },
            "type": "scattergeo"
           }
          ],
          "scattergl": [
           {
            "marker": {
             "colorbar": {
              "outlinewidth": 0,
              "ticks": ""
             }
            },
            "type": "scattergl"
           }
          ],
          "scattermapbox": [
           {
            "marker": {
             "colorbar": {
              "outlinewidth": 0,
              "ticks": ""
             }
            },
            "type": "scattermapbox"
           }
          ],
          "scatterpolar": [
           {
            "marker": {
             "colorbar": {
              "outlinewidth": 0,
              "ticks": ""
             }
            },
            "type": "scatterpolar"
           }
          ],
          "scatterpolargl": [
           {
            "marker": {
             "colorbar": {
              "outlinewidth": 0,
              "ticks": ""
             }
            },
            "type": "scatterpolargl"
           }
          ],
          "scatterternary": [
           {
            "marker": {
             "colorbar": {
              "outlinewidth": 0,
              "ticks": ""
             }
            },
            "type": "scatterternary"
           }
          ],
          "surface": [
           {
            "colorbar": {
             "outlinewidth": 0,
             "ticks": ""
            },
            "colorscale": [
             [
              0,
              "#0d0887"
             ],
             [
              0.1111111111111111,
              "#46039f"
             ],
             [
              0.2222222222222222,
              "#7201a8"
             ],
             [
              0.3333333333333333,
              "#9c179e"
             ],
             [
              0.4444444444444444,
              "#bd3786"
             ],
             [
              0.5555555555555556,
              "#d8576b"
             ],
             [
              0.6666666666666666,
              "#ed7953"
             ],
             [
              0.7777777777777778,
              "#fb9f3a"
             ],
             [
              0.8888888888888888,
              "#fdca26"
             ],
             [
              1,
              "#f0f921"
             ]
            ],
            "type": "surface"
           }
          ],
          "table": [
           {
            "cells": {
             "fill": {
              "color": "#EBF0F8"
             },
             "line": {
              "color": "white"
             }
            },
            "header": {
             "fill": {
              "color": "#C8D4E3"
             },
             "line": {
              "color": "white"
             }
            },
            "type": "table"
           }
          ]
         },
         "layout": {
          "annotationdefaults": {
           "arrowcolor": "#2a3f5f",
           "arrowhead": 0,
           "arrowwidth": 1
          },
          "autotypenumbers": "strict",
          "coloraxis": {
           "colorbar": {
            "outlinewidth": 0,
            "ticks": ""
           }
          },
          "colorscale": {
           "diverging": [
            [
             0,
             "#8e0152"
            ],
            [
             0.1,
             "#c51b7d"
            ],
            [
             0.2,
             "#de77ae"
            ],
            [
             0.3,
             "#f1b6da"
            ],
            [
             0.4,
             "#fde0ef"
            ],
            [
             0.5,
             "#f7f7f7"
            ],
            [
             0.6,
             "#e6f5d0"
            ],
            [
             0.7,
             "#b8e186"
            ],
            [
             0.8,
             "#7fbc41"
            ],
            [
             0.9,
             "#4d9221"
            ],
            [
             1,
             "#276419"
            ]
           ],
           "sequential": [
            [
             0,
             "#0d0887"
            ],
            [
             0.1111111111111111,
             "#46039f"
            ],
            [
             0.2222222222222222,
             "#7201a8"
            ],
            [
             0.3333333333333333,
             "#9c179e"
            ],
            [
             0.4444444444444444,
             "#bd3786"
            ],
            [
             0.5555555555555556,
             "#d8576b"
            ],
            [
             0.6666666666666666,
             "#ed7953"
            ],
            [
             0.7777777777777778,
             "#fb9f3a"
            ],
            [
             0.8888888888888888,
             "#fdca26"
            ],
            [
             1,
             "#f0f921"
            ]
           ],
           "sequentialminus": [
            [
             0,
             "#0d0887"
            ],
            [
             0.1111111111111111,
             "#46039f"
            ],
            [
             0.2222222222222222,
             "#7201a8"
            ],
            [
             0.3333333333333333,
             "#9c179e"
            ],
            [
             0.4444444444444444,
             "#bd3786"
            ],
            [
             0.5555555555555556,
             "#d8576b"
            ],
            [
             0.6666666666666666,
             "#ed7953"
            ],
            [
             0.7777777777777778,
             "#fb9f3a"
            ],
            [
             0.8888888888888888,
             "#fdca26"
            ],
            [
             1,
             "#f0f921"
            ]
           ]
          },
          "colorway": [
           "#636efa",
           "#EF553B",
           "#00cc96",
           "#ab63fa",
           "#FFA15A",
           "#19d3f3",
           "#FF6692",
           "#B6E880",
           "#FF97FF",
           "#FECB52"
          ],
          "font": {
           "color": "#2a3f5f"
          },
          "geo": {
           "bgcolor": "white",
           "lakecolor": "white",
           "landcolor": "#E5ECF6",
           "showlakes": true,
           "showland": true,
           "subunitcolor": "white"
          },
          "hoverlabel": {
           "align": "left"
          },
          "hovermode": "closest",
          "mapbox": {
           "style": "light"
          },
          "paper_bgcolor": "white",
          "plot_bgcolor": "#E5ECF6",
          "polar": {
           "angularaxis": {
            "gridcolor": "white",
            "linecolor": "white",
            "ticks": ""
           },
           "bgcolor": "#E5ECF6",
           "radialaxis": {
            "gridcolor": "white",
            "linecolor": "white",
            "ticks": ""
           }
          },
          "scene": {
           "xaxis": {
            "backgroundcolor": "#E5ECF6",
            "gridcolor": "white",
            "gridwidth": 2,
            "linecolor": "white",
            "showbackground": true,
            "ticks": "",
            "zerolinecolor": "white"
           },
           "yaxis": {
            "backgroundcolor": "#E5ECF6",
            "gridcolor": "white",
            "gridwidth": 2,
            "linecolor": "white",
            "showbackground": true,
            "ticks": "",
            "zerolinecolor": "white"
           },
           "zaxis": {
            "backgroundcolor": "#E5ECF6",
            "gridcolor": "white",
            "gridwidth": 2,
            "linecolor": "white",
            "showbackground": true,
            "ticks": "",
            "zerolinecolor": "white"
           }
          },
          "shapedefaults": {
           "line": {
            "color": "#2a3f5f"
           }
          },
          "ternary": {
           "aaxis": {
            "gridcolor": "white",
            "linecolor": "white",
            "ticks": ""
           },
           "baxis": {
            "gridcolor": "white",
            "linecolor": "white",
            "ticks": ""
           },
           "bgcolor": "#E5ECF6",
           "caxis": {
            "gridcolor": "white",
            "linecolor": "white",
            "ticks": ""
           }
          },
          "title": {
           "x": 0.05
          },
          "xaxis": {
           "automargin": true,
           "gridcolor": "white",
           "linecolor": "white",
           "ticks": "",
           "title": {
            "standoff": 15
           },
           "zerolinecolor": "white",
           "zerolinewidth": 2
          },
          "yaxis": {
           "automargin": true,
           "gridcolor": "white",
           "linecolor": "white",
           "ticks": "",
           "title": {
            "standoff": 15
           },
           "zerolinecolor": "white",
           "zerolinewidth": 2
          }
         }
        },
        "width": 750,
        "xaxis": {
         "anchor": "y",
         "domain": [
          0,
          0.45
         ]
        },
        "xaxis2": {
         "anchor": "y2",
         "domain": [
          0.55,
          1
         ]
        },
        "yaxis": {
         "anchor": "x",
         "domain": [
          0,
          1
         ]
        },
        "yaxis2": {
         "anchor": "x2",
         "domain": [
          0,
          1
         ]
        }
       }
      },
      "text/html": [
       "<div>                            <div id=\"852f3605-9537-488e-b8f8-f155d6f299a8\" class=\"plotly-graph-div\" style=\"height:400px; width:750px;\"></div>            <script type=\"text/javascript\">                require([\"plotly\"], function(Plotly) {                    window.PLOTLYENV=window.PLOTLYENV || {};                                    if (document.getElementById(\"852f3605-9537-488e-b8f8-f155d6f299a8\")) {                    Plotly.newPlot(                        \"852f3605-9537-488e-b8f8-f155d6f299a8\",                        [{\"line\":{\"color\":\"black\"},\"name\":\"True MR\",\"showlegend\":true,\"x\":[\"MR\"],\"y\":[-0.5,-0.5,-0.5,-0.5,-0.5,-0.5,-0.5,-0.5,-0.5,-0.5,-0.5,-0.5,-0.5,-0.5,-0.5,-0.5,-0.5,-0.5,-0.5,-0.5,-0.5,-0.5,-0.5,-0.5,-0.5,-0.5,-0.5,-0.5,-0.5,-0.5,-0.5,-0.5,-0.5,-0.5,-0.5,-0.5,-0.5,-0.5,-0.5,-0.5,-0.5,-0.5,-0.5,-0.5,-0.5,-0.5,-0.5,-0.5,-0.5,-0.5,-0.5,-0.5,-0.5,-0.5,-0.5,-0.5,-0.5,-0.5,-0.5,-0.5,-0.5,-0.5,-0.5,-0.5,-0.5,-0.5,-0.5,-0.5,-0.5,-0.5,-0.5,-0.5,-0.5,-0.5,-0.5,-0.5,-0.5,-0.5,-0.5,-0.5,-0.5,-0.5,-0.5,-0.5,-0.5,-0.5,-0.5,-0.5,-0.5,-0.5,-0.5,-0.5,-0.5,-0.5,-0.5,-0.5,-0.5,-0.5,-0.5,-0.5],\"type\":\"scatter\",\"xaxis\":\"x\",\"yaxis\":\"y\"},{\"marker\":{\"color\":\"cyan\"},\"name\":\"MR\",\"showlegend\":true,\"y\":[2.823020937893765,-18.89897956302848,1.1828942437298866,3.190393337430321,2.6202536435610706,3.3333758763519015,2.379485412026806,3.902941762416347,2.572578241947981,3.3183090641039854,2.27773716615957,-1.7292828458183345,3.2944293318394946,2.973438441402327,3.4467036790003256,1.5424217108734737,2.038899894855533,2.119610986683971,3.394402815810105,2.160583597294395,-2.6709564406502015,2.8781392502922447,3.340724526169498,2.3851328552217144,2.1971573375330964,1.9046408794860556,3.146500744944191,0.9695135540050952,3.8599169389179933,2.5347365751367037,2.930883342418224,0.1302181505188736,1.0268212011928468,3.1044295394672363,3.0989012381672163,2.3005494406911304,-7.776483883038555,3.2958006959707014,3.3643335522968627,3.3568220233279913,3.442140559257682,2.830104914437843,3.1298034698806347,2.557921812716096,3.6178744834620433,-6.160847521503489,0.9850210180220715,1.3603141135276597,2.0706033362261063,3.250552401668275,-3.070003954823609,3.6275133950244465,3.5019431861510752,1.024101914483742,3.7454005307545533,2.6337944951315544,3.0973739716540063,3.537670488971947,3.2343161782323104,2.8117979495928855,1.006772229948453,-1.690728623846762,0.47986609951261866,3.186728348184452,0.8075515566633797,2.283747345036256,2.4405727977887306,3.156991964405447,1.9221913311304053,3.601153164723262,-142.9881530247637,2.8331025833773227,2.7414650996787024,3.514128350769454,-1.4403804684840522,3.9389926347085495,-2.9079517871805987,1.8328429922143326,3.4454792252818356,3.610560487009254,2.488392159623762,0.8649862515229132,2.861581753107825,3.7151675522466787,0.7413178261454414,3.1756084316495006,-2.4750840935107297,3.980925762175621,3.815127816866167,2.9174956289747564,3.3682992399091427,0.6722995144669418,2.7419277524518093,3.4586745681400677,0.7924532314633419,1.7601322150435559,3.0295019560526004,2.199278895912272,3.239489380710089,1.4586784439772735],\"type\":\"box\",\"xaxis\":\"x\",\"yaxis\":\"y\"},{\"line\":{\"color\":\"red\"},\"name\":\"MC std\",\"showlegend\":true,\"x\":[\"asymptotic std\"],\"y\":[14.7755282025068],\"type\":\"scatter\",\"xaxis\":\"x2\",\"yaxis\":\"y2\"},{\"marker\":{\"color\":\"royalblue\"},\"name\":\"asymptotic std\",\"showlegend\":true,\"y\":[0.8494997245786619,11.363692893151697,2.3869921217481656,0.867446047724746,0.8292231687604914,0.5618315652962547,1.1506325194747844,0.3094514647240648,0.6698436742486613,0.3853832867748441,1.6840996803227366,2.0449994994198786,0.5431937391116077,1.2320284953579081,0.40339984654123623,1.0982938114513834,1.5020081816524438,1.560620688105503,0.8049347954881889,1.3412531728933266,1.0853980183107963,0.7235351003997611,0.6585194336263948,1.0306248527432609,0.7772147088189008,1.0797244472155454,0.446024259352973,2.0759677710648092,0.44801063933435725,0.7346651636966298,0.7792101180769401,1.8051751472617978,1.7375712600792295,0.5042631407807181,0.6748745166448772,0.9760047642416898,2.964704910926667,0.7171542525360866,0.5140778941586114,0.4613399467640331,0.35036533773322576,0.7216402526650542,0.46632335023906857,1.0894093214449105,0.3426046165912949,1.9026712110528579,2.3459422531726015,1.5536449402301897,1.2134461338057876,0.7928520290240464,1.7117884669262293,0.40707728645349267,0.42233961456327734,1.7468984616993137,0.3498347470279515,0.5612864359426597,0.452988273697903,0.4999090844857378,0.7889648024669422,1.1148343041383397,1.9553866136614995,1.933203303068734,1.4783987210058371,0.9406046074793709,1.4657739986977232,0.8816678788092243,1.149493626028242,0.45905936929881713,1.8641800331841758,0.39551890421576225,1294.8612746355846,0.6403596800795051,0.6317793970332771,0.4997394239446366,2.683021820697569,0.33387471965992255,2.6858417834881023,1.2061572858816572,0.4333858918744072,0.458435479777607,0.7700169933637977,2.4543434467813676,1.1631460666038564,0.3529690326603759,1.2692182615209988,0.5666490667611768,2.93200811080448,0.315609168665977,0.43187021464503006,0.6925635286251011,0.5358935396122382,1.7984681567703562,0.606788866743467,0.5166607931979513,1.809873812131622,1.134435576392087,0.6560272140798274,1.4622681658108592,0.4384198659544192,1.2624045499703573],\"type\":\"box\",\"xaxis\":\"x2\",\"yaxis\":\"y2\"}],                        {\"template\":{\"data\":{\"histogram2dcontour\":[{\"type\":\"histogram2dcontour\",\"colorbar\":{\"outlinewidth\":0,\"ticks\":\"\"},\"colorscale\":[[0.0,\"#0d0887\"],[0.1111111111111111,\"#46039f\"],[0.2222222222222222,\"#7201a8\"],[0.3333333333333333,\"#9c179e\"],[0.4444444444444444,\"#bd3786\"],[0.5555555555555556,\"#d8576b\"],[0.6666666666666666,\"#ed7953\"],[0.7777777777777778,\"#fb9f3a\"],[0.8888888888888888,\"#fdca26\"],[1.0,\"#f0f921\"]]}],\"choropleth\":[{\"type\":\"choropleth\",\"colorbar\":{\"outlinewidth\":0,\"ticks\":\"\"}}],\"histogram2d\":[{\"type\":\"histogram2d\",\"colorbar\":{\"outlinewidth\":0,\"ticks\":\"\"},\"colorscale\":[[0.0,\"#0d0887\"],[0.1111111111111111,\"#46039f\"],[0.2222222222222222,\"#7201a8\"],[0.3333333333333333,\"#9c179e\"],[0.4444444444444444,\"#bd3786\"],[0.5555555555555556,\"#d8576b\"],[0.6666666666666666,\"#ed7953\"],[0.7777777777777778,\"#fb9f3a\"],[0.8888888888888888,\"#fdca26\"],[1.0,\"#f0f921\"]]}],\"heatmap\":[{\"type\":\"heatmap\",\"colorbar\":{\"outlinewidth\":0,\"ticks\":\"\"},\"colorscale\":[[0.0,\"#0d0887\"],[0.1111111111111111,\"#46039f\"],[0.2222222222222222,\"#7201a8\"],[0.3333333333333333,\"#9c179e\"],[0.4444444444444444,\"#bd3786\"],[0.5555555555555556,\"#d8576b\"],[0.6666666666666666,\"#ed7953\"],[0.7777777777777778,\"#fb9f3a\"],[0.8888888888888888,\"#fdca26\"],[1.0,\"#f0f921\"]]}],\"heatmapgl\":[{\"type\":\"heatmapgl\",\"colorbar\":{\"outlinewidth\":0,\"ticks\":\"\"},\"colorscale\":[[0.0,\"#0d0887\"],[0.1111111111111111,\"#46039f\"],[0.2222222222222222,\"#7201a8\"],[0.3333333333333333,\"#9c179e\"],[0.4444444444444444,\"#bd3786\"],[0.5555555555555556,\"#d8576b\"],[0.6666666666666666,\"#ed7953\"],[0.7777777777777778,\"#fb9f3a\"],[0.8888888888888888,\"#fdca26\"],[1.0,\"#f0f921\"]]}],\"contourcarpet\":[{\"type\":\"contourcarpet\",\"colorbar\":{\"outlinewidth\":0,\"ticks\":\"\"}}],\"contour\":[{\"type\":\"contour\",\"colorbar\":{\"outlinewidth\":0,\"ticks\":\"\"},\"colorscale\":[[0.0,\"#0d0887\"],[0.1111111111111111,\"#46039f\"],[0.2222222222222222,\"#7201a8\"],[0.3333333333333333,\"#9c179e\"],[0.4444444444444444,\"#bd3786\"],[0.5555555555555556,\"#d8576b\"],[0.6666666666666666,\"#ed7953\"],[0.7777777777777778,\"#fb9f3a\"],[0.8888888888888888,\"#fdca26\"],[1.0,\"#f0f921\"]]}],\"surface\":[{\"type\":\"surface\",\"colorbar\":{\"outlinewidth\":0,\"ticks\":\"\"},\"colorscale\":[[0.0,\"#0d0887\"],[0.1111111111111111,\"#46039f\"],[0.2222222222222222,\"#7201a8\"],[0.3333333333333333,\"#9c179e\"],[0.4444444444444444,\"#bd3786\"],[0.5555555555555556,\"#d8576b\"],[0.6666666666666666,\"#ed7953\"],[0.7777777777777778,\"#fb9f3a\"],[0.8888888888888888,\"#fdca26\"],[1.0,\"#f0f921\"]]}],\"mesh3d\":[{\"type\":\"mesh3d\",\"colorbar\":{\"outlinewidth\":0,\"ticks\":\"\"}}],\"scatter\":[{\"fillpattern\":{\"fillmode\":\"overlay\",\"size\":10,\"solidity\":0.2},\"type\":\"scatter\"}],\"parcoords\":[{\"type\":\"parcoords\",\"line\":{\"colorbar\":{\"outlinewidth\":0,\"ticks\":\"\"}}}],\"scatterpolargl\":[{\"type\":\"scatterpolargl\",\"marker\":{\"colorbar\":{\"outlinewidth\":0,\"ticks\":\"\"}}}],\"bar\":[{\"error_x\":{\"color\":\"#2a3f5f\"},\"error_y\":{\"color\":\"#2a3f5f\"},\"marker\":{\"line\":{\"color\":\"#E5ECF6\",\"width\":0.5},\"pattern\":{\"fillmode\":\"overlay\",\"size\":10,\"solidity\":0.2}},\"type\":\"bar\"}],\"scattergeo\":[{\"type\":\"scattergeo\",\"marker\":{\"colorbar\":{\"outlinewidth\":0,\"ticks\":\"\"}}}],\"scatterpolar\":[{\"type\":\"scatterpolar\",\"marker\":{\"colorbar\":{\"outlinewidth\":0,\"ticks\":\"\"}}}],\"histogram\":[{\"marker\":{\"pattern\":{\"fillmode\":\"overlay\",\"size\":10,\"solidity\":0.2}},\"type\":\"histogram\"}],\"scattergl\":[{\"type\":\"scattergl\",\"marker\":{\"colorbar\":{\"outlinewidth\":0,\"ticks\":\"\"}}}],\"scatter3d\":[{\"type\":\"scatter3d\",\"line\":{\"colorbar\":{\"outlinewidth\":0,\"ticks\":\"\"}},\"marker\":{\"colorbar\":{\"outlinewidth\":0,\"ticks\":\"\"}}}],\"scattermapbox\":[{\"type\":\"scattermapbox\",\"marker\":{\"colorbar\":{\"outlinewidth\":0,\"ticks\":\"\"}}}],\"scatterternary\":[{\"type\":\"scatterternary\",\"marker\":{\"colorbar\":{\"outlinewidth\":0,\"ticks\":\"\"}}}],\"scattercarpet\":[{\"type\":\"scattercarpet\",\"marker\":{\"colorbar\":{\"outlinewidth\":0,\"ticks\":\"\"}}}],\"carpet\":[{\"aaxis\":{\"endlinecolor\":\"#2a3f5f\",\"gridcolor\":\"white\",\"linecolor\":\"white\",\"minorgridcolor\":\"white\",\"startlinecolor\":\"#2a3f5f\"},\"baxis\":{\"endlinecolor\":\"#2a3f5f\",\"gridcolor\":\"white\",\"linecolor\":\"white\",\"minorgridcolor\":\"white\",\"startlinecolor\":\"#2a3f5f\"},\"type\":\"carpet\"}],\"table\":[{\"cells\":{\"fill\":{\"color\":\"#EBF0F8\"},\"line\":{\"color\":\"white\"}},\"header\":{\"fill\":{\"color\":\"#C8D4E3\"},\"line\":{\"color\":\"white\"}},\"type\":\"table\"}],\"barpolar\":[{\"marker\":{\"line\":{\"color\":\"#E5ECF6\",\"width\":0.5},\"pattern\":{\"fillmode\":\"overlay\",\"size\":10,\"solidity\":0.2}},\"type\":\"barpolar\"}],\"pie\":[{\"automargin\":true,\"type\":\"pie\"}]},\"layout\":{\"autotypenumbers\":\"strict\",\"colorway\":[\"#636efa\",\"#EF553B\",\"#00cc96\",\"#ab63fa\",\"#FFA15A\",\"#19d3f3\",\"#FF6692\",\"#B6E880\",\"#FF97FF\",\"#FECB52\"],\"font\":{\"color\":\"#2a3f5f\"},\"hovermode\":\"closest\",\"hoverlabel\":{\"align\":\"left\"},\"paper_bgcolor\":\"white\",\"plot_bgcolor\":\"#E5ECF6\",\"polar\":{\"bgcolor\":\"#E5ECF6\",\"angularaxis\":{\"gridcolor\":\"white\",\"linecolor\":\"white\",\"ticks\":\"\"},\"radialaxis\":{\"gridcolor\":\"white\",\"linecolor\":\"white\",\"ticks\":\"\"}},\"ternary\":{\"bgcolor\":\"#E5ECF6\",\"aaxis\":{\"gridcolor\":\"white\",\"linecolor\":\"white\",\"ticks\":\"\"},\"baxis\":{\"gridcolor\":\"white\",\"linecolor\":\"white\",\"ticks\":\"\"},\"caxis\":{\"gridcolor\":\"white\",\"linecolor\":\"white\",\"ticks\":\"\"}},\"coloraxis\":{\"colorbar\":{\"outlinewidth\":0,\"ticks\":\"\"}},\"colorscale\":{\"sequential\":[[0.0,\"#0d0887\"],[0.1111111111111111,\"#46039f\"],[0.2222222222222222,\"#7201a8\"],[0.3333333333333333,\"#9c179e\"],[0.4444444444444444,\"#bd3786\"],[0.5555555555555556,\"#d8576b\"],[0.6666666666666666,\"#ed7953\"],[0.7777777777777778,\"#fb9f3a\"],[0.8888888888888888,\"#fdca26\"],[1.0,\"#f0f921\"]],\"sequentialminus\":[[0.0,\"#0d0887\"],[0.1111111111111111,\"#46039f\"],[0.2222222222222222,\"#7201a8\"],[0.3333333333333333,\"#9c179e\"],[0.4444444444444444,\"#bd3786\"],[0.5555555555555556,\"#d8576b\"],[0.6666666666666666,\"#ed7953\"],[0.7777777777777778,\"#fb9f3a\"],[0.8888888888888888,\"#fdca26\"],[1.0,\"#f0f921\"]],\"diverging\":[[0,\"#8e0152\"],[0.1,\"#c51b7d\"],[0.2,\"#de77ae\"],[0.3,\"#f1b6da\"],[0.4,\"#fde0ef\"],[0.5,\"#f7f7f7\"],[0.6,\"#e6f5d0\"],[0.7,\"#b8e186\"],[0.8,\"#7fbc41\"],[0.9,\"#4d9221\"],[1,\"#276419\"]]},\"xaxis\":{\"gridcolor\":\"white\",\"linecolor\":\"white\",\"ticks\":\"\",\"title\":{\"standoff\":15},\"zerolinecolor\":\"white\",\"automargin\":true,\"zerolinewidth\":2},\"yaxis\":{\"gridcolor\":\"white\",\"linecolor\":\"white\",\"ticks\":\"\",\"title\":{\"standoff\":15},\"zerolinecolor\":\"white\",\"automargin\":true,\"zerolinewidth\":2},\"scene\":{\"xaxis\":{\"backgroundcolor\":\"#E5ECF6\",\"gridcolor\":\"white\",\"linecolor\":\"white\",\"showbackground\":true,\"ticks\":\"\",\"zerolinecolor\":\"white\",\"gridwidth\":2},\"yaxis\":{\"backgroundcolor\":\"#E5ECF6\",\"gridcolor\":\"white\",\"linecolor\":\"white\",\"showbackground\":true,\"ticks\":\"\",\"zerolinecolor\":\"white\",\"gridwidth\":2},\"zaxis\":{\"backgroundcolor\":\"#E5ECF6\",\"gridcolor\":\"white\",\"linecolor\":\"white\",\"showbackground\":true,\"ticks\":\"\",\"zerolinecolor\":\"white\",\"gridwidth\":2}},\"shapedefaults\":{\"line\":{\"color\":\"#2a3f5f\"}},\"annotationdefaults\":{\"arrowcolor\":\"#2a3f5f\",\"arrowhead\":0,\"arrowwidth\":1},\"geo\":{\"bgcolor\":\"white\",\"landcolor\":\"#E5ECF6\",\"subunitcolor\":\"white\",\"showland\":true,\"showlakes\":true,\"lakecolor\":\"white\"},\"title\":{\"x\":0.05},\"mapbox\":{\"style\":\"light\"}}},\"xaxis\":{\"anchor\":\"y\",\"domain\":[0.0,0.45]},\"yaxis\":{\"anchor\":\"x\",\"domain\":[0.0,1.0]},\"xaxis2\":{\"anchor\":\"y2\",\"domain\":[0.55,1.0]},\"yaxis2\":{\"anchor\":\"x2\",\"domain\":[0.0,1.0]},\"height\":400,\"width\":750},                        {\"responsive\": true}                    ).then(function(){\n",
       "                            \n",
       "var gd = document.getElementById('852f3605-9537-488e-b8f8-f155d6f299a8');\n",
       "var x = new MutationObserver(function (mutations, observer) {{\n",
       "        var display = window.getComputedStyle(gd).display;\n",
       "        if (!display || display === 'none') {{\n",
       "            console.log([gd, 'removed!']);\n",
       "            Plotly.purge(gd);\n",
       "            observer.disconnect();\n",
       "        }}\n",
       "}});\n",
       "\n",
       "// Listen for the removal of the full notebook cells\n",
       "var notebookContainer = gd.closest('#notebook-container');\n",
       "if (notebookContainer) {{\n",
       "    x.observe(notebookContainer, {childList: true});\n",
       "}}\n",
       "\n",
       "// Listen for the clearing of the current output cell\n",
       "var outputEl = gd.closest('.output');\n",
       "if (outputEl) {{\n",
       "    x.observe(outputEl, {childList: true});\n",
       "}}\n",
       "\n",
       "                        })                };                });            </script>        </div>"
      ]
     },
     "metadata": {},
     "output_type": "display_data"
    }
   ],
   "source": [
    "import plotly.graph_objects as go\n",
    "from plotly.subplots import make_subplots\n",
    "\n",
    "fig = make_subplots(\n",
    "    rows=1, cols=2,\n",
    "    shared_xaxes=True,\n",
    "    vertical_spacing=0.06\n",
    ")\n",
    "\n",
    "fig.add_trace(\n",
    "    go.Scatter(\n",
    "                x=[r'MR'],\n",
    "                y=results_df['true_beta'],\n",
    "                line_color='black', showlegend=True, name=r'True MR'\n",
    "            ),\n",
    "    row=1, col=1,\n",
    ")\n",
    "#####\n",
    "fig.add_trace(\n",
    "    go.Box(\n",
    "                y=results_df['MR'],\n",
    "                name=r'MR',\n",
    "                marker_color='cyan',\n",
    "                showlegend=True\n",
    "),\n",
    "    row=1, col=1,\n",
    ")\n",
    "\n",
    "###################\n",
    "fig.add_trace(\n",
    "    go.Scatter(\n",
    "                x=[r'asymptotic std'],\n",
    "                y=[results_df['MR'].std()],\n",
    "                line_color='red', showlegend=True, name=r'MC std'\n",
    "            ),\n",
    "    row=1, col=2,\n",
    ")\n",
    "#####\n",
    "fig.add_trace(\n",
    "    go.Box(\n",
    "                y=results_df['asym_std'],#*np.sqrt(p/n),#asym_std_scaled, asym_std\n",
    "                name=r'asymptotic std',\n",
    "                marker_color='royalblue',\n",
    "                showlegend=True\n",
    "        ),\n",
    "    row=1, col=2,\n",
    ")\n",
    "\n",
    "# fig.update_xaxes(title='std')\n",
    "fig.update_layout(height=400, width=750)\n",
    "\n",
    "# fig.write_image(\"/home/mr/Pictures/sims/convex-combination-scaled-std.pdf\")\n",
    "\n",
    "fig.show()"
   ]
  },
  {
   "cell_type": "code",
   "execution_count": null,
   "metadata": {},
   "outputs": [],
   "source": []
  },
  {
   "cell_type": "code",
   "execution_count": null,
   "metadata": {},
   "outputs": [],
   "source": []
  },
  {
   "cell_type": "code",
   "execution_count": 124,
   "metadata": {},
   "outputs": [
    {
     "data": {
      "text/plain": [
       "tensor([[[[0.5115, 0.4795, 0.5429,  ..., 0.5127, 0.5043, 0.5273],\n",
       "          [0.5137, 0.4898, 0.5030,  ..., 0.5112, 0.5183, 0.4965],\n",
       "          [0.4664, 0.4778, 0.4844,  ..., 0.4893, 0.5155, 0.4929],\n",
       "          ...,\n",
       "          [0.4874, 0.4790, 0.5049,  ..., 0.5423, 0.4805, 0.5209],\n",
       "          [0.5167, 0.4898, 0.4749,  ..., 0.5161, 0.4886, 0.4725],\n",
       "          [0.4821, 0.5301, 0.4916,  ..., 0.5060, 0.5058, 0.4920]],\n",
       "\n",
       "         [[0.5050, 0.4969, 0.5077,  ..., 0.4984, 0.4755, 0.4759],\n",
       "          [0.4625, 0.4565, 0.5216,  ..., 0.4700, 0.4600, 0.4922],\n",
       "          [0.5044, 0.4326, 0.4806,  ..., 0.4382, 0.4200, 0.4792],\n",
       "          ...,\n",
       "          [0.5184, 0.4841, 0.4806,  ..., 0.5013, 0.4772, 0.4914],\n",
       "          [0.5112, 0.4844, 0.4526,  ..., 0.4878, 0.4750, 0.5128],\n",
       "          [0.5020, 0.4962, 0.4864,  ..., 0.4498, 0.4961, 0.4641]],\n",
       "\n",
       "         [[0.4849, 0.4987, 0.4886,  ..., 0.5120, 0.4943, 0.5055],\n",
       "          [0.4736, 0.5145, 0.5233,  ..., 0.4856, 0.4835, 0.4752],\n",
       "          [0.5228, 0.5347, 0.4938,  ..., 0.5219, 0.5252, 0.5114],\n",
       "          ...,\n",
       "          [0.5004, 0.5124, 0.5062,  ..., 0.4553, 0.4864, 0.4922],\n",
       "          [0.5103, 0.4856, 0.5383,  ..., 0.5370, 0.5155, 0.5275],\n",
       "          [0.5179, 0.5243, 0.5021,  ..., 0.5221, 0.4970, 0.5034]]]],\n",
       "       grad_fn=<SigmoidBackward>)"
      ]
     },
     "execution_count": 124,
     "metadata": {},
     "output_type": "execute_result"
    }
   ],
   "source": [
    "import torch\n",
    "import torch_enhance\n",
    "\n",
    "# increase resolution by factor of 2 (e.g. 128x128 -> 256x256)\n",
    "model = torch_enhance.models.SRResNet(scale_factor=2, channels=3)\n",
    "\n",
    "lr = torch.randn(1, 3, 128, 128)\n",
    "sr = model(lr) # [1, 3, 256, 256]\n",
    "sr"
   ]
  },
  {
   "cell_type": "code",
   "execution_count": 57,
   "metadata": {},
   "outputs": [
    {
     "data": {
      "text/plain": [
       "torch.Size([1, 3, 256, 256])"
      ]
     },
     "execution_count": 57,
     "metadata": {},
     "output_type": "execute_result"
    }
   ],
   "source": [
    "sr.shape"
   ]
  },
  {
   "cell_type": "code",
   "execution_count": null,
   "metadata": {},
   "outputs": [],
   "source": []
  },
  {
   "cell_type": "code",
   "execution_count": 147,
   "metadata": {},
   "outputs": [
    {
     "data": {
      "text/plain": [
       "(576, 1280)"
      ]
     },
     "execution_count": 147,
     "metadata": {},
     "output_type": "execute_result"
    }
   ],
   "source": [
    "from PIL import Image\n",
    "im = Image.open('/home/mr/Downloads/a.jpg')\n",
    "im.size"
   ]
  },
  {
   "cell_type": "code",
   "execution_count": 154,
   "metadata": {},
   "outputs": [],
   "source": [
    "from PIL import Image\n",
    "im = Image.open('/home/mr/Downloads/a.jpg')\n",
    "\n",
    "import torchvision.transforms as T\n",
    "\n",
    "im = T.Resize(size = (128, 128))(im)\n",
    "\n",
    "im = np.asarray(im).reshape((1, 3, 128, 128))\n",
    "im = torch.tensor(im)/255."
   ]
  },
  {
   "cell_type": "code",
   "execution_count": 155,
   "metadata": {
    "scrolled": true
   },
   "outputs": [],
   "source": [
    "sr1 = model(im)\n",
    "sr1 = sr1.detach().numpy().reshape(256, 256, 3)"
   ]
  },
  {
   "cell_type": "code",
   "execution_count": 156,
   "metadata": {},
   "outputs": [
    {
     "data": {
      "text/plain": [
       "<matplotlib.image.AxesImage at 0x7f4fde7ceb70>"
      ]
     },
     "execution_count": 156,
     "metadata": {},
     "output_type": "execute_result"
    },
    {
     "data": {
      "image/png": "[encoded data removed]",
      "text/plain": [
       "<Figure size 432x288 with 1 Axes>"
      ]
     },
     "metadata": {
      "needs_background": "light"
     },
     "output_type": "display_data"
    }
   ],
   "source": [
    "plt.imshow(sr1)"
   ]
  }
 ],
 "metadata": {
  "kernelspec": {
   "display_name": "Python 3",
   "language": "python",
   "name": "python3"
  },
  "language_info": {
   "codemirror_mode": {
    "name": "ipython",
    "version": 3
   },
   "file_extension": ".py",
   "mimetype": "text/x-python",
   "name": "python",
   "nbconvert_exporter": "python",
   "pygments_lexer": "ipython3",
   "version": "3.6.10"
  }
 },
 "nbformat": 4,
 "nbformat_minor": 4
}
